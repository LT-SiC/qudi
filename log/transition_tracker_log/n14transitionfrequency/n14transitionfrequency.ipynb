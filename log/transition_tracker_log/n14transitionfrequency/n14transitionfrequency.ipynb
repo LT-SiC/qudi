{
 "cells": [
  {
   "cell_type": "code",
   "execution_count": 3,
   "metadata": {},
   "outputs": [
    {
     "name": "stdout",
     "output_type": "stream",
     "text": [
      "mn: 1, ms: 1, transition_frequency: -9.15897935078\n",
      "mn: 1, ms: 0, transition_frequency: -6.99369946559\n",
      "mn: 1, ms: -1, transition_frequency: -4.8284195804\n",
      "mn: -1, ms: 1, transition_frequency: 0.732642806022\n",
      "mn: -1, ms: 0, transition_frequency: 2.89792269121\n",
      "mn: -1, ms: -1, transition_frequency: 5.0632025764\n"
     ]
    }
   ],
   "source": [
    "import itertools\n",
    "def f(mn, ms):\n",
    "#     q = pi3d.tt.qp['14n']\n",
    "#     gamma = pi3d.tt.g_factors['14n']\n",
    "#     B = pi3d.tt.current_magnetic_field\n",
    "#     Azz = pi3d.tt.get_f('14n_hf')\n",
    "    q=-4.9458110784\n",
    "    gamma=3.07620005146\n",
    "    B=0.66572015893966707\n",
    "    Azz=-2.16527988519\n",
    "    return mn*(q-mn*gamma*B+mn*ms*Azz)\n",
    "\n",
    "for mn, ms in itertools.product([+1, -1], [+1, 0, -1]):\n",
    "    print(\"mn: {}, ms: {}, transition_frequency: {}\".format(mn, ms, f(mn=mn, ms=ms)))"
   ]
  }
 ],
 "metadata": {
  "kernelspec": {
   "display_name": "Python [conda env:py27]",
   "language": "python",
   "name": "conda-env-py27-py"
  },
  "language_info": {
   "codemirror_mode": {
    "name": "ipython",
    "version": 2
   },
   "file_extension": ".py",
   "mimetype": "text/x-python",
   "name": "python",
   "nbconvert_exporter": "python",
   "pygments_lexer": "ipython2",
   "version": "2.7.14"
  }
 },
 "nbformat": 4,
 "nbformat_minor": 2
}
