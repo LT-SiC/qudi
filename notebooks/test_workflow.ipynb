{
 "cells": [
  {
   "cell_type": "code",
   "execution_count": 1,
   "metadata": {},
   "outputs": [
    {
     "data": {
      "text/plain": [
       "1"
      ]
     },
     "execution_count": 1,
     "metadata": {},
     "output_type": "execute_result"
    }
   ],
   "source": [
    "1"
   ]
  },
  {
   "cell_type": "code",
   "execution_count": 2,
   "metadata": {},
   "outputs": [
    {
     "name": "stderr",
     "output_type": "stream",
     "text": [
      "Traceback (most recent call last):\n",
      "  File \"C:\\src\\qudi\\logic\\jupyterkernel\\qzmqkernel.py\", line 679, in run_code\n",
      "    exec(code_obj, self.user_global_ns, self.user_ns)\n",
      "  File \"<ipython-input-2-63dba52cfe3a>\", line 1, in <module>\n",
      "    queuelogic\n",
      "NameError: name 'queuelogic' is not defined\n"
     ]
    }
   ],
   "source": [
    "queuelogic"
   ]
  },
  {
   "cell_type": "code",
   "execution_count": 3,
   "metadata": {},
   "outputs": [
    {
     "data": {
      "text/plain": [
       "<gui.confocal.confocalgui.ConfocalGui object at 0x000001AF60573558>"
      ]
     },
     "execution_count": 3,
     "metadata": {},
     "output_type": "execute_result"
    }
   ],
   "source": [
    "confocal"
   ]
  },
  {
   "cell_type": "code",
   "execution_count": 5,
   "metadata": {},
   "outputs": [],
   "source": [
    "import logic.Analysis as a"
   ]
  },
  {
   "cell_type": "code",
   "execution_count": 7,
   "metadata": {
    "scrolled": true
   },
   "outputs": [
    {
     "name": "stderr",
     "output_type": "stream",
     "text": [
      "Traceback (most recent call last):\n",
      "  File \"C:\\src\\qudi\\logic\\jupyterkernel\\qzmqkernel.py\", line 679, in run_code\n",
      "    exec(code_obj, self.user_global_ns, self.user_ns)\n",
      "  File \"<ipython-input-7-7bc8c0aeeaec>\", line 1, in <module>\n",
      "    a.Analysis\n",
      "AttributeError: module 'logic.Analysis' has no attribute 'Analysis'\n"
     ]
    }
   ],
   "source": []
  },
  {
   "cell_type": "code",
   "execution_count": 23,
   "metadata": {},
   "outputs": [],
   "source": [
    "setupcontrollogic.Repump_Button_Clicked(True)\n"
   ]
  },
  {
   "cell_type": "code",
   "execution_count": 62,
   "metadata": {},
   "outputs": [],
   "source": [
    "import time\n",
    "for i in range(2):\n",
    "    while optimizerlogic.module_state.current != 'idle':\n",
    "        time.sleep(0.1)\n",
    "    time.sleep(1.0)\n",
    "    optimizerlogic.start_refocus(caller_tag = 'NuclearOps')"
   ]
  },
  {
   "cell_type": "code",
   "execution_count": 48,
   "metadata": {},
   "outputs": [],
   "source": [
    "#optimizerlogic.module_state.current"
   ]
  },
  {
   "cell_type": "code",
   "execution_count": 72,
   "metadata": {},
   "outputs": [
    {
     "name": "stdout",
     "output_type": "stream",
     "text": [
      "recieved start signal\n",
      "Start PLE scan...\n",
      "passed time 1 0.002997159957885742\n",
      "0.0\n",
      "MCAS initialized\n"
     ]
    },
    {
     "data": {
      "text/plain": [
       "0"
      ]
     },
     "execution_count": 72,
     "metadata": {},
     "output_type": "execute_result"
    },
    {
     "name": "stdout",
     "output_type": "stream",
     "text": [
      "wait, {'2g': [1, 2]}\n",
      "green, {'2g': [1, 2], 'ps': [1]}\n",
      "repump, {'2g': [1, 2], 'ps': [1]}\n",
      "red_Ex, {'2g': [1, 2], 'ps': [1]}\n",
      "red_A1, {'2g': [1, 2], 'ps': [1]}\n",
      "Ex_RO, {'2g': [1, 2], 'ps': [1]}\n",
      "setupcontrol, {'2g': [1, 2], 'ps': [1]}\n",
      "PLE_trace, {'2g': [1, 2], 'ps': [1]}\n",
      "passed time 2 1.630988597869873\n",
      "passed time 3 1.6629693508148193\n",
      "passed time 4 1.6629693508148193\n",
      "passed time 5 1.6679651737213135\n"
     ]
    }
   ],
   "source": [
    "laserscannerlogic.start_scanning()"
   ]
  },
  {
   "cell_type": "code",
   "execution_count": 66,
   "metadata": {},
   "outputs": [
    {
     "name": "stdout",
     "output_type": "stream",
     "text": [
      "0.0\n",
      "MCAS initialized\n"
     ]
    }
   ],
   "source": [
    "setupcontrollogic.enable_A2 = True\n",
    "setupcontrollogic.enable_MW1 = True\n",
    "setupcontrollogic.enable_MW2 = True\n",
    "setupcontrollogic.run()\n"
   ]
  },
  {
   "cell_type": "code",
   "execution_count": 71,
   "metadata": {},
   "outputs": [],
   "source": [
    "powerstabilizationlogic.TargetPower = 4.0"
   ]
  },
  {
   "cell_type": "code",
   "execution_count": null,
   "metadata": {},
   "outputs": [],
   "source": []
  }
 ],
 "metadata": {
  "kernelspec": {
   "display_name": "Qudi",
   "language": "python",
   "name": "qudi"
  },
  "language_info": {
   "codemirror_mode": {
    "name": "ipython",
    "version": "3.6.5"
   },
   "file_extension": ".py",
   "mimetype": "text/x-python",
   "name": "python",
   "nbconvert_exporter": "python",
   "pygments_lexer": "ipython3",
   "version": "3.6.5"
  }
 },
 "nbformat": 4,
 "nbformat_minor": 2
}
