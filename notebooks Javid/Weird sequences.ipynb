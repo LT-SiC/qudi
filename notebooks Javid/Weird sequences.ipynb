{
 "cells": [
  {
   "cell_type": "code",
   "execution_count": 12,
   "metadata": {
    "ExecuteTime": {
     "end_time": "2020-10-05T17:18:57.967529+02:00",
     "start_time": "2020-10-05T17:18:57.967529Z"
    }
   },
   "outputs": [],
   "source": [
    "awg = AWG_M8190A_qudi\n",
    "import hardware.awg.multi_channel_awg_seq as mcas\n",
    "\n",
    "awg.awg._ch[1].sample_marker_low = 0\n",
    "awg.awg._ch[1].sample_marker_high = 1.5\n",
    "awg.awg._ch[2].sample_marker_low = 0\n",
    "awg.awg._ch[2].sample_marker_high = 1.75\n",
    "AWG_M8190A_qudi.awg._ch[1].output_amplitude = 0.5"
   ]
  },
  {
   "cell_type": "code",
   "execution_count": 13,
   "metadata": {
    "ExecuteTime": {
     "end_time": "2020-10-05T17:18:59.238971+02:00",
     "start_time": "2020-10-05T17:18:59.238971Z"
    }
   },
   "outputs": [],
   "source": [
    "awg.awg._ch[1].sync_marker_high=1.5\n",
    "awg.awg._ch[1].sample_marker_low = 0\n",
    "awg.awg._ch[1].sample_marker_high = 1.5\n",
    "AWG_M8190A_qudi.awg._ch[1].output_amplitude = 0.5\n",
    "\n"
   ]
  },
  {
   "cell_type": "code",
   "execution_count": 14,
   "metadata": {
    "ExecuteTime": {
     "end_time": "2020-10-05T17:19:00.294790+02:00",
     "start_time": "2020-10-05T17:19:00.294790Z"
    }
   },
   "outputs": [],
   "source": [
    "\n",
    "seq = mcas.MultiChSeq('Laser', ch_dict = {'awg':[1,2]})\n",
    "seq.awg = awg\n",
    "seq.start_new_segment('Starting segment')\n",
    "\n",
    "\n",
    "seq.asc(length_mus = 1, green=True)\n",
    "seq.asc(length_mus = 1)\n",
    "# seq.asc(pdawg1=dict(type='sine', frequencies=[2100], amplitudes=[0.3]),\n",
    "#         length_mus=10)\n",
    "# seq.asc(length_mus = 10, green=False, orange = True) #green on, AOM off\n",
    "# seq.asc(length_mus = 10, green=False, orange = False)\n",
    "\n",
    "\n",
    "# seq.sequences['awg'][1].print_info()"
   ]
  },
  {
   "cell_type": "code",
   "execution_count": 15,
   "metadata": {
    "ExecuteTime": {
     "end_time": "2020-10-05T17:19:01.097325+02:00",
     "start_time": "2020-10-05T17:19:01.097325Z"
    }
   },
   "outputs": [
    {
     "name": "stdout",
     "output_type": "stream",
     "text": [
      "MCAS 'Laser' has been generated.\n",
      "writing sequence Laser on AWG_M8190A_qudi ch 1 took 0.0110 seconds\n",
      "writing sequence Laser on AWG_M8190A_qudi ch 2 took 0.0110 seconds\n"
     ]
    }
   ],
   "source": [
    "seq.write_seq()\n",
    "seq.run_sequence()"
   ]
  },
  {
   "cell_type": "code",
   "execution_count": 11,
   "metadata": {
    "ExecuteTime": {
     "end_time": "2020-10-05T17:15:22.324181+02:00",
     "start_time": "2020-10-05T17:15:22.324181Z"
    }
   },
   "outputs": [
    {
     "name": "stdout",
     "output_type": "stream",
     "text": [
      "writing sequence wait on AWG_M8190A_qudi ch 1 took 0.0100 seconds\n",
      "writing sequence wait on AWG_M8190A_qudi ch 2 took 0.0090 seconds\n"
     ]
    }
   ],
   "source": [
    "seq.stop_awgs()"
   ]
  },
  {
   "cell_type": "code",
   "execution_count": null,
   "metadata": {
    "ExecuteTime": {
     "start_time": "2020-04-24T16:14:45.353Z"
    }
   },
   "outputs": [],
   "source": [
    "1/7e-10"
   ]
  },
  {
   "cell_type": "code",
   "execution_count": null,
   "metadata": {},
   "outputs": [],
   "source": []
  },
  {
   "cell_type": "code",
   "execution_count": 25,
   "metadata": {
    "ExecuteTime": {
     "end_time": "2020-04-24T15:30:19.940940+02:00",
     "start_time": "2020-04-24T15:30:19.940940Z"
    }
   },
   "outputs": [],
   "source": [
    "awg = AWG_M8190A_qudi\n",
    "import hardware.awg.multi_channel_awg_seq as mcas\n",
    "\n",
    "awg.awg._ch[1].sample_marker_low = 0\n",
    "awg.awg._ch[1].sample_marker_high = 1.5\n",
    "AWG_M8190A_qudi.awg._ch[1].output_amplitude = 0.5\n",
    "\n",
    "def awg_readout_test(taus):\n",
    "    seq = mcas.MultiChSeq('hahn_echo', ch_dict={'awg': [1, 2]})\n",
    "    phases = [0.,180.]\n",
    "    awg_freq = 2206.54 # in MHz\n",
    "    electron_amp = 0.2 # AU 300mV peak to peak\n",
    "    electron_pi = 1.352/2 # us\n",
    "    oscReadoutPhaseFreq = 0\n",
    "    nitrogen_transition = 14.0733\n",
    "    rf_safety = 1\n",
    "\n",
    "#     seq.start_new_segment('hahn')\n",
    "#     seq = awg_AddWait(seq, 3)\n",
    "#     seq = awg_AddReadout(seq)\n",
    "\n",
    "\n",
    "#     seq.start_new_segment('hahn')\n",
    "    \n",
    "#     seq.asc(length_mus = 3000, green=True, orange = True)\n",
    "\n",
    "#     seq = awg_AddWait(seq, 3)\n",
    "#     seq.asc(pdawg1=dict(type='sine', frequencies=[awg_freq], amplitudes=[electron_amp]),\n",
    "#             length_mus=electron_pi)\n",
    "#     seq = awg_AddWait(seq, 3)\n",
    "#     seq = awg_AddReadout(seq)\n",
    "\n",
    "\n",
    "    seq.start_new_segment('hahn')\n",
    "    \n",
    "    seq.asc(length_mus = 3000, green=True, orange = True)\n",
    "    seq.asc(length_mus=.5)  # 2nd step\n",
    "    \n",
    "#     seq = awg_AddWait(seq, 3)\n",
    "#     seq.asc(pdawg1=dict(type='sine', frequencies=[awg_freq], amplitudes=[electron_amp]),\n",
    "#             length_mus=electron_pi)\n",
    "#     seq = awg_AddWait(seq, 3)\n",
    "    seq = awg_AddReadout(seq)\n",
    "    \n",
    "    \n",
    "    return seq\n",
    "\n",
    "\n",
    "def awg_green_ramsey(taus):\n",
    "    seq = mcas.MultiChSeq('hahn_echo', ch_dict={'awg': [1, 2]})\n",
    "    phases = [0.,180.]\n",
    "    awg_freq = 2206.54 # in MHz\n",
    "    electron_amp = 0.2 # AU 300mV peak to peak\n",
    "    electron_pi = 1.352/2 # us\n",
    "    oscReadoutPhaseFreq = 0\n",
    "    nitrogen_transition = 14.0733\n",
    "    rf_safety = 1\n",
    "    \n",
    "    for tau in taus:\n",
    "        seq.start_new_segment('hahn')\n",
    "\n",
    "        \n",
    "        seq = awg_AddWait(seq, tau)\n",
    "\n",
    "        seq.asc(length_mus=0.1)\n",
    "        \n",
    "        seq = awg_AddReadout(seq)\n",
    "\n",
    "    \n",
    "    return seq\n",
    "\n",
    "\n",
    "\n",
    "def awg_AddReadout(seq):\n",
    "    length_laserreadout_ns = 3000\n",
    "    length_lasersafety_ns = 4000\n",
    "    AOMdelay_ns = 400\n",
    "    length_laserreadout_smpl = length_laserreadout_ns / 1e3 * 12e3\n",
    "    AOMdelay_sample = AOMdelay_ns  / 1e3 * 12e3\n",
    "    \n",
    "    while length_laserreadout_smpl % 64 != 0:\n",
    "        length_laserreadout_smpl += 1\n",
    "        \n",
    "    seq.asc(length_mus=0.5)  # 2nd step\n",
    "#     seq.asc(length_mus = 10, green=False, orange = True) #green on, AOM off\n",
    "\n",
    "    seq.asc(timetagger=False,green=True,orange=False, length_smpl=AOMdelay_sample)\n",
    "    seq.asc(timetagger=True,green=True,orange=True, length_smpl=length_laserreadout_smpl)    \n",
    "    seq.asc(timetagger=True,green=False,orange=True, length_smpl=AOMdelay_sample)\n",
    "\n",
    "    seq.asc(length_mus= length_lasersafety_ns / 1e3)\n",
    "    return seq\n",
    "\n",
    "\n",
    "\n",
    "\n",
    "\n",
    "def awg_AddWait(seq, time, orange=False, green=False):\n",
    "    enable_reuse_segments = False\n",
    "    if time < 0.:\n",
    "        for i in range(3): \n",
    "            print ('Negative time for sequence in AWG!!!')\n",
    "    elif time > 10.:\n",
    "        if int(time / (32 / 12.)) >= 1:\n",
    "            seq.start_new_segment('wait_loop', reuse_segment=enable_reuse_segments,\n",
    "                                  loop_count=int(time / (32 / 12.)))\n",
    "            seq.asc(length_smpl=32000, orange=orange, green=green)\n",
    "        seq.start_new_segment('wait_additional')\n",
    "        seq.asc(length_mus=time % (32 / 12.), orange=orange, green=green)\n",
    "    else:\n",
    "        seq.asc(length_mus=time, orange=orange, green=green)\n",
    "    return seq\n",
    "\n",
    "def AddRfSafety(seq):\n",
    "    rf_safety = 1\n",
    "    seq.asc(length_mus=rf_safety)\n",
    "    return seq\n",
    "\n",
    "# taus = np.linspace(100,1000,91)\n",
    "# taus = np.arange(0.01,130,1.)\n",
    "taus = np.arange(1., 10, .2)\n",
    "\n",
    "\n",
    "seqtest = awg_readout_test(taus)\n",
    "seqtest.awg = awg\n",
    "\n",
    "\n",
    "\n",
    "\n",
    "# pulsedmasterlogic.set_measurement_settings(invoke_settings=False, \n",
    "#                                            controlled_variable= taus,\n",
    "#                                            number_of_lasers=2*len(taus), \n",
    "#                                            laser_ignore_list=[], \n",
    "#                                            alternating=True, \n",
    "#                                            units=('s', 'arb. u.'))\n",
    "\n",
    "\n"
   ]
  },
  {
   "cell_type": "code",
   "execution_count": 26,
   "metadata": {
    "ExecuteTime": {
     "end_time": "2020-04-24T15:30:20.591628+02:00",
     "start_time": "2020-04-24T15:30:20.591628Z"
    }
   },
   "outputs": [],
   "source": [
    "\n",
    "pulsedmasterlogic.set_measurement_settings(invoke_settings=False, \n",
    "                                           controlled_variable= [1],\n",
    "                                           number_of_lasers=1, \n",
    "                                           laser_ignore_list=[], \n",
    "                                           alternating=False, \n",
    "                                           units=('s', 'arb. u.'))"
   ]
  },
  {
   "cell_type": "code",
   "execution_count": 27,
   "metadata": {
    "ExecuteTime": {
     "end_time": "2020-04-24T15:30:21.190342+02:00",
     "start_time": "2020-04-24T15:30:21.190342Z"
    }
   },
   "outputs": [
    {
     "name": "stdout",
     "output_type": "stream",
     "text": [
      "writing sequence wait on AWG_M8190A_qudi ch 1 took 0.0140 seconds\n",
      "writing sequence wait on AWG_M8190A_qudi ch 2 took 0.0100 seconds\n",
      "MCAS 'hahn_echo' has been generated.\n"
     ]
    }
   ],
   "source": [
    "seqtest.write_seq()"
   ]
  },
  {
   "cell_type": "code",
   "execution_count": 28,
   "metadata": {
    "ExecuteTime": {
     "end_time": "2020-04-24T15:30:25.172959+02:00",
     "start_time": "2020-04-24T15:30:25.172959Z"
    }
   },
   "outputs": [
    {
     "name": "stdout",
     "output_type": "stream",
     "text": [
      "writing sequence hahn_echo on AWG_M8190A_qudi ch 1 took 1.5476 seconds\n",
      "writing sequence hahn_echo on AWG_M8190A_qudi ch 2 took 1.5324 seconds\n"
     ]
    }
   ],
   "source": [
    "seqtest.run_sequence()"
   ]
  },
  {
   "cell_type": "code",
   "execution_count": null,
   "metadata": {
    "ExecuteTime": {
     "start_time": "2020-04-24T14:40:59.056Z"
    }
   },
   "outputs": [],
   "source": [
    "seqtest.stop_awgs()"
   ]
  },
  {
   "cell_type": "code",
   "execution_count": null,
   "metadata": {},
   "outputs": [],
   "source": []
  },
  {
   "cell_type": "code",
   "execution_count": null,
   "metadata": {},
   "outputs": [],
   "source": []
  }
 ],
 "metadata": {
  "kernelspec": {
   "display_name": "Qudi",
   "language": "python",
   "name": "qudi"
  },
  "language_info": {
   "codemirror_mode": {
    "name": "ipython",
    "version": "3.6.5"
   },
   "file_extension": ".py",
   "mimetype": "text/x-python",
   "name": "python",
   "nbconvert_exporter": "python",
   "pygments_lexer": "ipython3",
   "version": "3.6.5"
  }
 },
 "nbformat": 4,
 "nbformat_minor": 2
}
