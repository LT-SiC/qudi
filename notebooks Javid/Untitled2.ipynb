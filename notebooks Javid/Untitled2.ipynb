{
 "cells": [
  {
   "cell_type": "code",
   "execution_count": null,
   "metadata": {},
   "outputs": [],
   "source": [
    "# Confocal logic"
   ]
  },
  {
   "cell_type": "code",
   "execution_count": null,
   "metadata": {},
   "outputs": [],
   "source": [
    "    def _scan_line(self):\n",
    "        \"\"\"scanning an image in either depth or xy\n",
    "\n",
    "        \"\"\"\n",
    "        image = self.depth_image if self._zscan else self.xy_image\n",
    "        n_ch = len(self.get_scanner_axes())\n",
    "        s_ch = len(self.get_scanner_count_channels())\n",
    "\n",
    "\n",
    "        # stops scanning\n",
    "        if self.stopRequested:\n",
    "            with self.threadlock:\n",
    "                self.stopRequested = False\n",
    "                self.module_state.unlock()\n",
    "                self.signal_xy_image_updated.emit()\n",
    "                self.signal_depth_image_updated.emit()\n",
    "\n",
    "                # Used to be like this\n",
    "                # # FIXME RETURN IT BACK NORMALLY!\n",
    "                # self.set_position('scanner')\n",
    "\n",
    "                # Javid changed to this (29.02.2020)\n",
    "                # self._current_x, self._current_y, self._current_z, self._current_a\n",
    "\n",
    "                rs = self.return_slowness\n",
    "\n",
    "                lsx = np.linspace(image[self._scan_counter-1,-1,0],self._current_x, rs)\n",
    "                lsy = np.linspace(image[self._scan_counter-1,-1,1],self._current_y,  rs)\n",
    "                lsz = np.linspace(image[self._scan_counter-1,-1,2],self._current_z,  rs)\n",
    "\n",
    "\n",
    "\n",
    "\n",
    "                if n_ch <= 3:\n",
    "                    end_line = np.vstack([lsx, lsy, lsz][0:n_ch])\n",
    "                else:\n",
    "                    end_line = np.vstack(\n",
    "                        [lsx, lsy, lsz, np.ones(lsx.shape) * self._current_a])\n",
    "                # move to the coursor position, counts are thrown away\n",
    "                end_line_counts = self._scanning_device.scan_line(end_line)\n",
    "\n",
    "                self.kill_scanner()\n",
    "\n",
    "                if np.any(end_line_counts == -1):\n",
    "                    self.log.exception('Something wrong with end_line_counts')\n",
    "                    return\n",
    "\n",
    "\n",
    "                if self._zscan:\n",
    "                    self._depth_line_pos = self._scan_counter\n",
    "                else:\n",
    "                    self._xy_line_pos = self._scan_counter\n",
    "                # add new history entry\n",
    "                new_history = ConfocalHistoryEntry(self)\n",
    "                new_history.snapshot(self)\n",
    "                self.history.append(new_history)\n",
    "                if len(self.history) > self.max_history_length:\n",
    "                    self.history.pop(0)\n",
    "                self.history_index = len(self.history) - 1\n",
    "                return\n"
   ]
  },
  {
   "cell_type": "code",
   "execution_count": null,
   "metadata": {},
   "outputs": [],
   "source": [
    "# optimizer logic"
   ]
  },
  {
   "cell_type": "code",
   "execution_count": null,
   "metadata": {},
   "outputs": [],
   "source": [
    " def finish_refocus(self):\n",
    "        \"\"\" Finishes up and releases hardware after the optimizer scans.\"\"\"\n",
    "\n",
    "        image = self.xy_refocus_image\n",
    "        n_ch = len(self._scanning_device.get_scanner_axes())\n",
    "\n",
    "        # s_ch = len(self.get_scanner_count_channels())\n",
    "        #\n",
    "        rs = self.return_slowness\n",
    "        #\n",
    "        lsx = np.linspace(image[self._xy_scan_line_count - 1, -1, 0], self.optim_pos_x, rs)\n",
    "        lsy = np.linspace(image[self._xy_scan_line_count - 1, -1, 1],self.optim_pos_y,  rs)\n",
    "        lsz = np.linspace(image[self._xy_scan_line_count - 1, -1, 2],self.optim_pos_z,  rs)\n",
    "        #\n",
    "        if n_ch <= 3:\n",
    "            end_line = np.vstack([lsx, lsy, lsz][0:n_ch])\n",
    "        else:\n",
    "            end_line = np.vstack(\n",
    "                [lsx, lsy, lsz, np.ones(lsx.shape) * self._current_a])\n",
    "        # # move to the coursor position, counts are thrown away\n",
    "        # print('self.optim_pos_x ',self.optim_pos_x)\n",
    "        end_line_counts = self._scanning_device.scan_line(end_line)\n",
    "        # print('self._scanning_device. in opt log ',self._scanning_device.get_scanner_position())\n",
    "\n",
    "        print('===============')\n",
    "\n",
    "        self.kill_scanner()\n",
    "\n",
    "        self.log.info(\n",
    "                'Optimised from ({0:.3e},{1:.3e},{2:.3e}) to local '\n",
    "                'maximum at ({3:.3e},{4:.3e},{5:.3e}).'.format(\n",
    "                    self._initial_pos_x,\n",
    "                    self._initial_pos_y,\n",
    "                    self._initial_pos_z,\n",
    "                    self.optim_pos_x,\n",
    "                    self.optim_pos_y,\n",
    "                    self.optim_pos_z))\n",
    "\n",
    "        # Signal that the optimization has finished, and \"return\" the optimal position along with\n",
    "        # caller_tag\n",
    "        self.sigRefocusFinished.emit(\n",
    "            self._caller_tag,\n",
    "            [self.optim_pos_x, self.optim_pos_y, self.optim_pos_z, 0])\n"
   ]
  },
  {
   "cell_type": "code",
   "execution_count": 4,
   "metadata": {
    "ExecuteTime": {
     "end_time": "2020-03-02T14:40:20.839519Z",
     "start_time": "2020-03-02T14:40:20.832522Z"
    }
   },
   "outputs": [
    {
     "ename": "NameError",
     "evalue": "name 'optimizer' is not defined",
     "output_type": "error",
     "traceback": [
      "\u001b[1;31m---------------------------------------------------------------------------\u001b[0m",
      "\u001b[1;31mNameError\u001b[0m                                 Traceback (most recent call last)",
      "\u001b[1;32m<ipython-input-4-681ddd07e2b6>\u001b[0m in \u001b[0;36m<module>\u001b[1;34m()\u001b[0m\n\u001b[1;32m----> 1\u001b[1;33m \u001b[0moptimizer\u001b[0m\u001b[1;33m.\u001b[0m\u001b[0m_x_shift\u001b[0m\u001b[1;33m\u001b[0m\u001b[0m\n\u001b[0m",
      "\u001b[1;31mNameError\u001b[0m: name 'optimizer' is not defined"
     ]
    }
   ],
   "source": [
    "optimizer._x_shift"
   ]
  },
  {
   "cell_type": "code",
   "execution_count": 1,
   "metadata": {
    "ExecuteTime": {
     "end_time": "2020-03-02T14:39:22.058750Z",
     "start_time": "2020-03-02T14:39:22.047754Z"
    }
   },
   "outputs": [
    {
     "data": {
      "text/plain": [
       "7"
      ]
     },
     "execution_count": 1,
     "metadata": {},
     "output_type": "execute_result"
    }
   ],
   "source": [
    "7"
   ]
  },
  {
   "cell_type": "code",
   "execution_count": null,
   "metadata": {},
   "outputs": [],
   "source": []
  }
 ],
 "metadata": {
  "kernelspec": {
   "display_name": "Python 3",
   "language": "python",
   "name": "python3"
  },
  "language_info": {
   "codemirror_mode": {
    "name": "ipython",
    "version": 3
   },
   "file_extension": ".py",
   "mimetype": "text/x-python",
   "name": "python",
   "nbconvert_exporter": "python",
   "pygments_lexer": "ipython3",
   "version": "3.6.5"
  }
 },
 "nbformat": 4,
 "nbformat_minor": 2
}
