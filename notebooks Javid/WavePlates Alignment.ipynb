{
 "cells": [
  {
   "cell_type": "code",
   "execution_count": 57,
   "metadata": {
    "ExecuteTime": {
     "end_time": "2019-10-29T15:13:06.884572+01:00",
     "start_time": "2019-10-29T15:13:06.884572Z"
    }
   },
   "outputs": [],
   "source": [
    "\n",
    "import matplotlib.pyplot as plt\n",
    "import numpy as np\n"
   ]
  },
  {
   "cell_type": "code",
   "execution_count": 58,
   "metadata": {
    "ExecuteTime": {
     "end_time": "2019-10-29T15:13:07.905157+01:00",
     "start_time": "2019-10-29T15:13:07.905157Z"
    }
   },
   "outputs": [],
   "source": [
    "QWP = 15\n",
    "x15 = [0,0,-5,-5,-5,-5]\n",
    "y15=[48531.25,59843.75,36687.5,51843.75,44562.5,49000.0]\n",
    "plt.plot(x15,y15,'o')\n",
    "plt.show()"
   ]
  },
  {
   "cell_type": "code",
   "execution_count": 59,
   "metadata": {
    "ExecuteTime": {
     "end_time": "2019-10-29T15:13:09.490934+01:00",
     "start_time": "2019-10-29T15:13:09.490934Z"
    }
   },
   "outputs": [],
   "source": [
    "QWP = 20\n",
    "x20 = [20,0,5,-5,-5,-10,-10]\n",
    "y20 =[107906,45187.5,57375.0,43625.0,39406.25,43250.0,41562.5]\n",
    "plt.plot(x20,y20,'o',color='green')\n",
    "plt.plot(x15,y15,'o',color = 'red')\n",
    "\n",
    "plt.show()"
   ]
  },
  {
   "cell_type": "code",
   "execution_count": 64,
   "metadata": {
    "ExecuteTime": {
     "end_time": "2019-10-29T15:13:20.564897+01:00",
     "start_time": "2019-10-29T15:13:20.563898Z"
    }
   },
   "outputs": [],
   "source": [
    "QWP = 25\n",
    "x25 = [0,0,0,5,5,5,-5,-5,-10]\n",
    "y25=[34781.25,39968.75,41468.75,42093.75,51218.75,50843.75,37468.75,40500.0,41750.0]\n",
    "plt.plot(x25,y25,'o',color = 'black')\n",
    "plt.plot(x15,y15,'o',color = 'red')\n",
    "plt.plot(x20,y20,'o',color='green')\n",
    "\n",
    "plt.show()"
   ]
  },
  {
   "cell_type": "code",
   "execution_count": 65,
   "metadata": {
    "ExecuteTime": {
     "end_time": "2019-10-29T15:13:27.017090+01:00",
     "start_time": "2019-10-29T15:13:27.017090Z"
    }
   },
   "outputs": [],
   "source": [
    "QWP = 30\n",
    "x30 = [0,0,0,-5,-5,-5,-5,-5,-5,-5,5,5,5,-10,-10,-10]\n",
    "y30=[35687.5,35968.75,31750.0,37750.0,36500.0,34343.75,32156.25,33437.5,32593.75,36656.25,37937.5,38093.75,42531.25,39000.0,35593.75,40062.5]\n",
    "plt.plot(x30,y30,'o',color = 'orange')\n",
    "plt.show()"
   ]
  },
  {
   "cell_type": "code",
   "execution_count": 66,
   "metadata": {
    "ExecuteTime": {
     "end_time": "2019-10-29T15:13:28.506523+01:00",
     "start_time": "2019-10-29T15:13:28.506523Z"
    }
   },
   "outputs": [],
   "source": [
    "QWP = 35\n",
    "x35 = [-5,-5,-5,-5,-5,0,0,0,0]\n",
    "y35=[36750.0,36968.75,33937.5,33625.0,33375.0,33218.75,33875.0,33281.25,32625.0]\n",
    "plt.plot(x35,y35,'o',color = 'blue')\n",
    "plt.show()"
   ]
  },
  {
   "cell_type": "code",
   "execution_count": 67,
   "metadata": {
    "ExecuteTime": {
     "end_time": "2019-10-29T15:13:31.156433+01:00",
     "start_time": "2019-10-29T15:13:31.156433Z"
    }
   },
   "outputs": [],
   "source": [
    "\n",
    "plt.plot(x35,y35,'o',color = 'blue')\n",
    "plt.plot(x30,y30,'o',color = 'orange')\n",
    "# plt.plot(x25,y25,'o',color = 'black')\n",
    "# plt.plot(x15,y15,'o',color = 'red')\n",
    "# plt.plot(x20,y20,'o',color='green')\n",
    "plt.show()"
   ]
  },
  {
   "cell_type": "code",
   "execution_count": null,
   "metadata": {},
   "outputs": [],
   "source": []
  },
  {
   "cell_type": "code",
   "execution_count": null,
   "metadata": {},
   "outputs": [],
   "source": []
  },
  {
   "cell_type": "code",
   "execution_count": null,
   "metadata": {},
   "outputs": [],
   "source": []
  }
 ],
 "metadata": {
  "kernelspec": {
   "display_name": "Qudi",
   "language": "python",
   "name": "qudi"
  },
  "language_info": {
   "codemirror_mode": {
    "name": "ipython",
    "version": "3.6.5"
   },
   "file_extension": ".py",
   "mimetype": "text/x-python",
   "name": "python",
   "nbconvert_exporter": "python",
   "pygments_lexer": "ipython3",
   "version": "3.6.5"
  }
 },
 "nbformat": 4,
 "nbformat_minor": 2
}
