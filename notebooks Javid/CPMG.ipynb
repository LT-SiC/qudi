{
 "cells": [
  {
   "cell_type": "code",
   "execution_count": 1,
   "metadata": {
    "ExecuteTime": {
     "end_time": "2020-03-13T12:59:29.140127+01:00",
     "start_time": "2020-03-13T12:59:29.140127Z"
    }
   },
   "outputs": [],
   "source": [
    "awg = AWG_M8190A_qudi\n",
    "import hardware.awg.multi_channel_awg_seq as mcas\n"
   ]
  },
  {
   "cell_type": "code",
   "execution_count": 38,
   "metadata": {
    "ExecuteTime": {
     "end_time": "2020-03-18T15:58:47.977810+01:00",
     "start_time": "2020-03-18T15:58:47.977810Z"
    }
   },
   "outputs": [],
   "source": [
    "awg.awg._ch[1].sample_marker_low = 0\n",
    "awg.awg._ch[1].sample_marker_high = 1.5\n",
    "AWG_M8190A_qudi.awg._ch[1].output_amplitude = 0.5\n",
    "\n",
    "awg.awg._ch[1].sync_marker_high=1.5\n",
    "awg.awg._ch[1].sync_marker_low = 0\n",
    "\n",
    "awg.awg._ch[2].sample_marker_low = 0\n",
    "awg.awg._ch[2].sample_marker_high = 1.5\n",
    "AWG_M8190A_qudi.awg._ch[2].output_amplitude = 0.5\n",
    "\n",
    "awg.awg._ch[2].sync_marker_high=1.5\n",
    "awg.awg._ch[2].sync_marker_low = 0\n"
   ]
  },
  {
   "cell_type": "code",
   "execution_count": 37,
   "metadata": {
    "ExecuteTime": {
     "end_time": "2020-03-18T15:58:15.539462+01:00",
     "start_time": "2020-03-18T15:58:15.539462Z"
    }
   },
   "outputs": [
    {
     "data": {
      "text/plain": [
       "0.0"
      ]
     },
     "execution_count": 37,
     "metadata": {},
     "output_type": "execute_result"
    }
   ],
   "source": [
    "awg.awg._ch[1].sync_marker_offset"
   ]
  },
  {
   "cell_type": "code",
   "execution_count": 176,
   "metadata": {
    "ExecuteTime": {
     "end_time": "2020-03-23T10:57:00.310741+01:00",
     "start_time": "2020-03-23T10:57:00.310741Z"
    }
   },
   "outputs": [
    {
     "name": "stdout",
     "output_type": "stream",
     "text": [
      "0     Laser             10.000000\n",
      "   0     Starting segment  10.000000\n",
      "      0                       10.000000wait    1       0       \n",
      "      1     _missing_smpls_   0.000000wait    0       0       \n"
     ]
    }
   ],
   "source": [
    "awg.awg._ch[1].sample_marker_low = 0\n",
    "awg.awg._ch[1].sample_marker_high = 1.5\n",
    "AWG_M8190A_qudi.awg._ch[1].output_amplitude = 0.5\n",
    "\n",
    "\n",
    "seq = mcas.MultiChSeq('Laser', ch_dict = {'awg':[1,2]})\n",
    "seq.awg =awg\n",
    "seq.start_new_segment('Starting segment')\n",
    "\n",
    "\n",
    "seq.asc(length_mus = 10, green=True, orange = True)\n",
    "\n",
    "\n",
    "seq.sequences['awg'][1].print_info()"
   ]
  },
  {
   "cell_type": "code",
   "execution_count": 241,
   "metadata": {
    "ExecuteTime": {
     "end_time": "2020-03-23T16:44:09.171626+01:00",
     "start_time": "2020-03-23T16:44:09.171626Z"
    }
   },
   "outputs": [
    {
     "name": "stdout",
     "output_type": "stream",
     "text": [
      "MCAS 'Laser' has been generated.\n"
     ]
    }
   ],
   "source": [
    "seq.write_seq()"
   ]
  },
  {
   "cell_type": "code",
   "execution_count": 255,
   "metadata": {
    "ExecuteTime": {
     "end_time": "2020-03-24T15:04:04.645288+01:00",
     "start_time": "2020-03-24T15:04:04.645288Z"
    }
   },
   "outputs": [
    {
     "name": "stdout",
     "output_type": "stream",
     "text": [
      "writing sequence Laser on AWG_M8190A_qudi ch 1 took 0.0160 seconds\n",
      "writing sequence Laser on AWG_M8190A_qudi ch 2 took 0.0130 seconds\n"
     ]
    }
   ],
   "source": [
    "seq.run_sequence()"
   ]
  },
  {
   "cell_type": "code",
   "execution_count": 256,
   "metadata": {
    "ExecuteTime": {
     "end_time": "2020-03-24T15:08:50.334667+01:00",
     "start_time": "2020-03-24T15:08:50.334667Z"
    }
   },
   "outputs": [
    {
     "name": "stdout",
     "output_type": "stream",
     "text": [
      "writing sequence wait on AWG_M8190A_qudi ch 1 took 0.0160 seconds\n",
      "writing sequence wait on AWG_M8190A_qudi ch 2 took 0.0100 seconds\n"
     ]
    }
   ],
   "source": [
    "seq.stop_awgs()"
   ]
  },
  {
   "cell_type": "markdown",
   "metadata": {},
   "source": [
    "## CPMG"
   ]
  },
  {
   "cell_type": "code",
   "execution_count": 39,
   "metadata": {
    "ExecuteTime": {
     "end_time": "2020-03-18T15:59:11.787237+01:00",
     "start_time": "2020-03-18T15:59:11.787237Z"
    }
   },
   "outputs": [
    {
     "data": {
      "text/plain": [
       "(0.5, 0.2)"
      ]
     },
     "execution_count": 39,
     "metadata": {},
     "output_type": "execute_result"
    }
   ],
   "source": [
    "[1,400e-3]\n",
    "0.5,200e-3"
   ]
  },
  {
   "cell_type": "code",
   "execution_count": 40,
   "metadata": {
    "ExecuteTime": {
     "end_time": "2020-03-18T15:59:12.533202+01:00",
     "start_time": "2020-03-18T15:59:12.533202Z"
    }
   },
   "outputs": [
    {
     "data": {
      "text/plain": [
       "0.5"
      ]
     },
     "execution_count": 40,
     "metadata": {},
     "output_type": "execute_result"
    }
   ],
   "source": [
    "AWG_M8190A_qudi.awg._ch[1].output_amplitude"
   ]
  },
  {
   "cell_type": "code",
   "execution_count": 3,
   "metadata": {
    "ExecuteTime": {
     "end_time": "2020-03-31T15:20:29.007927+02:00",
     "start_time": "2020-03-31T15:20:29.007927Z"
    }
   },
   "outputs": [],
   "source": [
    "awg = AWG_M8190A_qudi\n",
    "import hardware.awg.multi_channel_awg_seq as mcas\n",
    "\n",
    "awg.awg._ch[1].sample_marker_low = 0\n",
    "awg.awg._ch[1].sample_marker_high = 1.5\n",
    "AWG_M8190A_qudi.awg._ch[1].output_amplitude = 0.5\n",
    "\n",
    "\n",
    "\n",
    "def awg_AddReadout(seq):\n",
    "    length_laserreadout_ns = 3000\n",
    "    length_lasersafety_ns = 1000\n",
    "    length_laserreadout_smpl = length_laserreadout_ns / 1e3 * 12e3\n",
    "    \n",
    "    while length_laserreadout_smpl % 64 != 0:\n",
    "        length_laserreadout_smpl += 1\n",
    "        \n",
    "    seq.asc(length_mus=0.5)  # 2nd step\n",
    "    seq.asc(timetagger=True,green=True,orange=True, length_smpl=length_laserreadout_smpl)\n",
    "    \n",
    "    seq.asc(length_mus= length_lasersafety_ns / 1e3)\n",
    "    return seq\n",
    "\n",
    "def awg_AddWait(seq, time, orange=False, green=False):\n",
    "    enable_reuse_segments = False\n",
    "    if time < 0.:\n",
    "        for i in range(3): \n",
    "            print ('Negative time for sequence in AWG!!!')\n",
    "    elif time > 10.:\n",
    "        if int(time / (32 / 12.)) >= 1:\n",
    "            seq.start_new_segment('wait_loop', reuse_segment=enable_reuse_segments,\n",
    "                                  loop_count=int(time / (32 / 12.)))\n",
    "            seq.asc(length_smpl=32000, orange=orange, green=green)\n",
    "        seq.start_new_segment('wait_additional')\n",
    "        seq.asc(length_mus=time % (32 / 12.), orange=orange, green=green)\n",
    "    else:\n",
    "        seq.asc(length_mus=time, orange=orange, green=green)\n",
    "    return seq\n",
    "\n",
    "def AddRfSafety(seq):\n",
    "    rf_safety = 1\n",
    "    seq.asc(length_mus=rf_safety)\n",
    "    return seq\n",
    "\n",
    "\n",
    "\n",
    "def AddPulseCh1( seq, freq, amp, phase, square=None, length_us=None, length_smpl=None):\n",
    "    electron_usegauss = False\n",
    "    if length_us is not None:\n",
    "        length_smpl = length_us / 0.0000833333333\n",
    "    if square is None:\n",
    "        square = not (electron_usegauss)\n",
    "    if square:\n",
    "        seq.asc(pdawg1=dict(type='sine', frequencies=[freq], amplitudes=[amp], phases=[phase]),\n",
    "                length_smpl=length_smpl)\n",
    "    else:\n",
    "        # seq.AddGaussianPulse_samples(length_smpl,freq,amp,phase,sigma_to_duration_ratio=1/4.)\n",
    "        seq.asc(pdawg1=dict(type='sinegauss', frequencies=[freq], amplitudes=[amp], phases=[phase]),\n",
    "                length_smpl=length_smpl)\n",
    "    return seq\n",
    "\n",
    "\n",
    "\n",
    "\n",
    "\n",
    "\n",
    "\n",
    "def awg_hahn_echo(taus):\n",
    "    seq = mcas.MultiChSeq('hahn_echo', ch_dict={'awg': [1, 2]})\n",
    "    phases = [0.,180.]\n",
    "    awg_freq = 2827.259  # in MHz\n",
    "    electron_amp = 0.2 # AU 300mV peak to peak\n",
    "    electron_pi = 1.4/2 # us\n",
    "    oscReadoutPhaseFreq = 0\n",
    "    nitrogen_transition = 14.0733\n",
    "    rf_safety = 1\n",
    "    \n",
    "    for tau in taus:\n",
    "        for phase in phases:\n",
    "\n",
    "            seq.start_new_segment('hahn')\n",
    "            seq.asc(pdawg1=dict(type='sine', frequencies=[awg_freq], amplitudes=[electron_amp]),\n",
    "                    length_mus=electron_pi / 2.)\n",
    "            seq = awg_AddWait(seq, tau / 2.)\n",
    "            seq.asc(pdawg1=dict(type='sine', frequencies=[awg_freq], amplitudes=[electron_amp]),\n",
    "                    length_mus=electron_pi)\n",
    "            seq = awg_AddWait(seq, tau / 2.)\n",
    "            seq.asc(pdawg1=dict(type='sine', frequencies=[awg_freq], amplitudes=[electron_amp],\n",
    "                                phases=[phase + (-360.) * oscReadoutPhaseFreq * tau]),\n",
    "                    length_mus=electron_pi / 2.)\n",
    "            seq.asc(length_mus=0.1)\n",
    "            \n",
    "#             seq = AddRfSafety(seq)\n",
    "            seq = awg_AddReadout(seq)\n",
    "    return seq\n",
    "\n",
    "\n",
    "\n",
    "\n",
    "# def awg_cpmg_detection( taus):\n",
    "#     angles = [90, 90]\n",
    "#     phases = [0.,180.]\n",
    "#     awg_freq = 2827.259  # in MHz\n",
    "#     electron_amp = 0.2 # AU 300mV peak to peak\n",
    "#     electron_pi = 1.4/2 # us\n",
    "#     oscReadoutPhaseFreq = 0\n",
    "#     nitrogen_transition = 14.0733\n",
    "#     rf_safety = 1\n",
    "#     tau_probe = 100.\n",
    "\n",
    "#     seq = mcas.MultiChSeq('cpmg', ch_dict={'awg': [1, 2]})\n",
    "\n",
    "#     for tau in taus:\n",
    "#         pi_samples = round(electron_pi * 1e-6 / (1. / 12e9))\n",
    "#         pi_half_samples = round(electron_pi / 2. * 1e-6 / (1. / 12e9))\n",
    "#         tau_samples =  round(tau * 1e-6 / (1. / 12e9))\n",
    "#         wait = tau_samples - pi_samples\n",
    "#         wait_half = wait / 2.\n",
    "\n",
    "#         if wait_half % 1 == 0:\n",
    "#             wait_half_2 = wait_half\n",
    "#         else:\n",
    "#             wait_half_2 = int(wait_half) + 1\n",
    "#             wait_half = int(wait_half)\n",
    "        \n",
    "#         # iterations=int(self.tau_probe/(20.*(tau/12e3)))\n",
    "#         iterations = int(tau_probe)\n",
    "\n",
    "#         wait_short = int(wait)\n",
    "#         wait_sample = wait - wait_short\n",
    "\n",
    "#         all_angles = []\n",
    "#         all_waits = []\n",
    "#         m = 0.\n",
    "\n",
    "#         for iteration in range(iterations):\n",
    "#             for angle in angles:\n",
    "#                 all_angles.append(float(angle))\n",
    "#                 m += wait_sample\n",
    "#                 if np.abs(m) <= 0.5:\n",
    "#                     all_waits.append(wait_short)\n",
    "#                 else:\n",
    "#                     all_waits.append(wait_short + 1)\n",
    "#                     m -= 1.\n",
    "\n",
    "#         for phase in phases:\n",
    "#             seq.start_new_segment('cpmg')\n",
    "\n",
    "#             seq = AddPulseCh1(seq, awg_freq, electron_amp, 0., length_smpl=pi_half_samples)\n",
    "#             seq.asc(length_smpl=wait_half)\n",
    "#             for i, angle in enumerate(all_angles):\n",
    "#                 if i < len(all_angles) - 1:\n",
    "#                     seq = AddPulseCh1(seq, awg_freq, electron_amp, angle,\n",
    "#                                            length_smpl=pi_samples)\n",
    "#                     seq.asc(length_smpl=all_waits[i])\n",
    "#                 else:\n",
    "#                     seq = AddPulseCh1(seq, awg_freq, electron_amp, angle,\n",
    "#                                            length_smpl=pi_samples)\n",
    "#             seq.asc(length_smpl=wait_half_2)\n",
    "#             # seq.asc(pdawg1=dict(type='sine',frequencies=[self.awg_freq],amplitudes=[self.electron_amp_fast]),\n",
    "#             # phases=[phase],length_smpl=pi_half_samples)\n",
    "#             seq = AddPulseCh1(seq, awg_freq, electron_amp, phase, length_smpl=pi_half_samples)\n",
    "#             seq.asc(length_mus=1)\n",
    "#             seq = awg_AddReadout(seq)\n",
    "\n",
    "# #             seq = self.AddNitrogenPi(seq)\n",
    "# #             seq = self.AddRfSafety(seq)\n",
    "# #             seq = self.awg_AddSsr(seq)\n",
    "\n",
    "#     return seq\n",
    "\n",
    "\n",
    "\n"
   ]
  },
  {
   "cell_type": "code",
   "execution_count": 12,
   "metadata": {
    "ExecuteTime": {
     "end_time": "2020-03-31T15:30:05.389588+02:00",
     "start_time": "2020-03-31T15:30:05.389588Z"
    }
   },
   "outputs": [],
   "source": [
    "\n",
    "def awg_cpmg( taus):\n",
    "    \n",
    "    seq = mcas.MultiChSeq('my_cpmg', ch_dict={'awg': [1, 2]})\n",
    "    phases = [0.,180.]\n",
    "    \n",
    "    \n",
    "    awg_freq = 2329.92 # in MHz\n",
    "    electron_amp = 0.2 # AU 300mV peak to peak\n",
    "    electron_pi = 1.436/2    \n",
    "    \n",
    "    oscReadoutPhaseFreq = 0\n",
    "    nitrogen_transition = 14.0733\n",
    "    rf_safety = 1\n",
    "    \n",
    "#     double check\n",
    "    \n",
    "    for tau in taus:\n",
    "        for phase in phases:\n",
    "\n",
    "            seq.start_new_segment('my_cpmg')\n",
    "            seq.asc(pdawg1=dict(type='sine', frequencies=[awg_freq], amplitudes=[electron_amp]),\n",
    "                    length_mus=electron_pi / 2.)\n",
    "# 1X\n",
    "            seq = awg_AddWait(seq, tau / 2.)\n",
    "            seq.asc(pdawg1=dict(type='sine', frequencies=[awg_freq], amplitudes=[electron_amp],phases = [0]),\n",
    "                    length_mus=electron_pi)\n",
    "            seq = awg_AddWait(seq, tau / 2.)\n",
    "# 2Y          \n",
    "            seq = awg_AddWait(seq, tau / 2.)\n",
    "            seq.asc(pdawg1=dict(type='sine', frequencies=[awg_freq], amplitudes=[electron_amp],phases = [90]),\n",
    "                    length_mus=electron_pi)\n",
    "            seq = awg_AddWait(seq, tau / 2.)\n",
    "# 3X            \n",
    "            seq = awg_AddWait(seq, tau / 2.)\n",
    "            seq.asc(pdawg1=dict(type='sine', frequencies=[awg_freq], amplitudes=[electron_amp],phases = [0]),\n",
    "                    length_mus=electron_pi)\n",
    "            seq = awg_AddWait(seq, tau / 2.)\n",
    "# 4Y            \n",
    "            seq = awg_AddWait(seq, tau / 2.)\n",
    "            seq.asc(pdawg1=dict(type='sine', frequencies=[awg_freq], amplitudes=[electron_amp],phases = [90]),\n",
    "                    length_mus=electron_pi)\n",
    "            seq = awg_AddWait(seq, tau / 2.)\n",
    "# 5X            \n",
    "\n",
    "            seq = awg_AddWait(seq, tau / 2.)\n",
    "            seq.asc(pdawg1=dict(type='sine', frequencies=[awg_freq], amplitudes=[electron_amp],phases = [90]),\n",
    "                    length_mus=electron_pi)\n",
    "            seq = awg_AddWait(seq, tau / 2.)                \n",
    "# 6Y \n",
    "            seq = awg_AddWait(seq, tau / 2.)\n",
    "            seq.asc(pdawg1=dict(type='sine', frequencies=[awg_freq], amplitudes=[electron_amp],phases = [0]),\n",
    "                    length_mus=electron_pi)\n",
    "            seq = awg_AddWait(seq, tau / 2.)            \n",
    "# 7X \n",
    "            seq = awg_AddWait(seq, tau / 2.)\n",
    "            seq.asc(pdawg1=dict(type='sine', frequencies=[awg_freq], amplitudes=[electron_amp],phases = [90]),\n",
    "                    length_mus=electron_pi)\n",
    "            seq = awg_AddWait(seq, tau / 2.)                \n",
    "# 8Y\n",
    "            seq = awg_AddWait(seq, tau / 2.)\n",
    "            seq.asc(pdawg1=dict(type='sine', frequencies=[awg_freq], amplitudes=[electron_amp],phases = [0]),\n",
    "                    length_mus=electron_pi)\n",
    "            seq = awg_AddWait(seq, tau / 2.)            \n",
    "#RO    \n",
    "            seq.asc(pdawg1=dict(type='sine', frequencies=[awg_freq], amplitudes=[electron_amp],\n",
    "                                phases=[phase]),\n",
    "                    length_mus=electron_pi / 2.)\n",
    "            seq.asc(length_mus=0.1)          \n",
    "            seq = awg_AddReadout(seq)\n",
    "    return seq\n"
   ]
  },
  {
   "cell_type": "code",
   "execution_count": 13,
   "metadata": {
    "ExecuteTime": {
     "end_time": "2020-03-31T15:30:07.411304+02:00",
     "start_time": "2020-03-31T15:30:07.411304Z"
    }
   },
   "outputs": [],
   "source": [
    "# taus = np.arange(45., 60, 0.05)\n",
    "taus = np.arange(1., 30, 1.5)\n",
    "\n",
    "seqCPMG = awg_cpmg(taus)\n",
    "# seqCPMG = awg_cpmg_detection(taus)\n",
    "\n",
    "seqCPMG.awg = awg\n",
    "\n",
    "pulsedmasterlogic.set_measurement_settings(invoke_settings=False, \n",
    "                                           controlled_variable= taus*1e-6,\n",
    "                                           number_of_lasers=2*len(taus), \n",
    "                                           laser_ignore_list=[], \n",
    "                                           alternating=True, \n",
    "                                           units=('s', 'arb. u.'))"
   ]
  },
  {
   "cell_type": "code",
   "execution_count": 14,
   "metadata": {
    "ExecuteTime": {
     "end_time": "2020-03-31T15:30:08.138545+02:00",
     "start_time": "2020-03-31T15:30:08.138545Z"
    }
   },
   "outputs": [
    {
     "data": {
      "text/plain": [
       "20"
      ]
     },
     "execution_count": 14,
     "metadata": {},
     "output_type": "execute_result"
    }
   ],
   "source": [
    "len(taus)"
   ]
  },
  {
   "cell_type": "code",
   "execution_count": 15,
   "metadata": {
    "ExecuteTime": {
     "end_time": "2020-03-31T15:30:09.035047+02:00",
     "start_time": "2020-03-31T15:30:09.035047Z"
    }
   },
   "outputs": [
    {
     "data": {
      "text/plain": [
       "array([ 1. ,  2.5,  4. ,  5.5,  7. ,  8.5, 10. , 11.5, 13. , 14.5, 16. , 17.5, 19. , 20.5, 22. , 23.5, 25. , 26.5, 28. , 29.5])"
      ]
     },
     "execution_count": 15,
     "metadata": {},
     "output_type": "execute_result"
    }
   ],
   "source": [
    "taus"
   ]
  },
  {
   "cell_type": "code",
   "execution_count": 16,
   "metadata": {
    "ExecuteTime": {
     "end_time": "2020-03-31T15:30:09.883623+02:00",
     "start_time": "2020-03-31T15:30:09.883623Z"
    }
   },
   "outputs": [],
   "source": [
    "# seqCPMG.sequences['awg'][1].print_info()"
   ]
  },
  {
   "cell_type": "code",
   "execution_count": 17,
   "metadata": {
    "ExecuteTime": {
     "end_time": "2020-03-31T15:30:10.514968+02:00",
     "start_time": "2020-03-31T15:30:10.514968Z"
    }
   },
   "outputs": [
    {
     "name": "stdout",
     "output_type": "stream",
     "text": [
      "MCAS 'my_cpmg' has been generated.\n"
     ]
    }
   ],
   "source": [
    "seqCPMG.write_seq()"
   ]
  },
  {
   "cell_type": "code",
   "execution_count": 18,
   "metadata": {
    "ExecuteTime": {
     "end_time": "2020-03-31T15:30:19.473740+02:00",
     "start_time": "2020-03-31T15:30:19.473740Z"
    }
   },
   "outputs": [
    {
     "name": "stdout",
     "output_type": "stream",
     "text": [
      "writing sequence my_cpmg on AWG_M8190A_qudi ch 1 took 3.8402 seconds\n",
      "writing sequence my_cpmg on AWG_M8190A_qudi ch 2 took 3.6399 seconds\n"
     ]
    }
   ],
   "source": [
    "seqCPMG.run_sequence()"
   ]
  },
  {
   "cell_type": "code",
   "execution_count": 22,
   "metadata": {
    "ExecuteTime": {
     "end_time": "2020-03-31T16:08:05.328489+02:00",
     "start_time": "2020-03-31T16:08:05.328489Z"
    }
   },
   "outputs": [],
   "source": [
    "seqCPMG.stop_awgs()"
   ]
  },
  {
   "cell_type": "code",
   "execution_count": 16,
   "metadata": {
    "ExecuteTime": {
     "end_time": "2020-03-11T18:57:46.889532+01:00",
     "start_time": "2020-03-11T18:57:46.889532Z"
    }
   },
   "outputs": [],
   "source": []
  },
  {
   "cell_type": "code",
   "execution_count": null,
   "metadata": {},
   "outputs": [],
   "source": []
  },
  {
   "cell_type": "code",
   "execution_count": 267,
   "metadata": {
    "ExecuteTime": {
     "end_time": "2020-03-25T15:32:14.303909+01:00",
     "start_time": "2020-03-25T15:32:14.303909Z"
    }
   },
   "outputs": [
    {
     "data": {
      "text/plain": [
       "<bound method MultiChSeq._awg of <hardware.awg.multi_channel_awg_seq.MultiChSeq object at 0x0000013CB86AD668>>"
      ]
     },
     "execution_count": 267,
     "metadata": {},
     "output_type": "execute_result"
    }
   ],
   "source": [
    "seqCPMG._awg\n"
   ]
  },
  {
   "cell_type": "code",
   "execution_count": null,
   "metadata": {},
   "outputs": [],
   "source": []
  },
  {
   "cell_type": "code",
   "execution_count": 17,
   "metadata": {
    "ExecuteTime": {
     "end_time": "2020-03-18T14:20:28.541205+01:00",
     "start_time": "2020-03-18T14:20:28.541205Z"
    }
   },
   "outputs": [
    {
     "name": "stdout",
     "output_type": "stream",
     "text": [
      "tau  1\n",
      "pi_samples  8400\n",
      "wait_half1  -4199.5\n",
      "wait_half1_2  -4199\n"
     ]
    }
   ],
   "source": [
    "electron_pi = 1.4/2\n",
    "tau = 1\n",
    "pi_samples = round(electron_pi * 1e-6 / (1. / 12e9))\n",
    "pi_half_samples = round(electron_pi / 2. * 1e-6 / (1. / 12e9))\n",
    "print('tau ',tau )\n",
    "print('pi_samples ',pi_samples)\n",
    "wait = tau - pi_samples\n",
    "wait_half = wait / 2.\n",
    "print('wait_half1 ',wait_half)\n",
    "\n",
    "if wait_half % 1 == 0:\n",
    "    wait_half_2 = wait_half\n",
    "else:\n",
    "    wait_half_2 = int(wait_half) + 1\n",
    "    wait_half = int(wait_half)\n",
    "\n",
    "print('wait_half1_2 ',wait_half)"
   ]
  },
  {
   "cell_type": "code",
   "execution_count": 19,
   "metadata": {
    "ExecuteTime": {
     "end_time": "2020-03-18T15:00:49.158495+01:00",
     "start_time": "2020-03-18T15:00:49.158495Z"
    }
   },
   "outputs": [
    {
     "data": {
      "text/plain": [
       "8400.0"
      ]
     },
     "execution_count": 19,
     "metadata": {},
     "output_type": "execute_result"
    }
   ],
   "source": [
    "\n",
    "(electron_pi * 1e-6 / (1. / 12e9))\n"
   ]
  },
  {
   "cell_type": "code",
   "execution_count": 20,
   "metadata": {
    "ExecuteTime": {
     "end_time": "2020-03-18T15:03:44.253704+01:00",
     "start_time": "2020-03-18T15:03:44.253704Z"
    }
   },
   "outputs": [
    {
     "data": {
      "text/plain": [
       "12000.0000048"
      ]
     },
     "execution_count": 20,
     "metadata": {},
     "output_type": "execute_result"
    }
   ],
   "source": [
    "1 / 0.0000833333333"
   ]
  },
  {
   "cell_type": "code",
   "execution_count": 19,
   "metadata": {
    "ExecuteTime": {
     "end_time": "2020-03-31T15:33:22.506472+02:00",
     "start_time": "2020-03-31T15:33:22.506472Z"
    }
   },
   "outputs": [
    {
     "data": {
      "text/plain": [
       "195.38571428571427"
      ]
     },
     "execution_count": 19,
     "metadata": {},
     "output_type": "execute_result"
    }
   ],
   "source": [
    "(2877 - 2329.92) / 2.8"
   ]
  },
  {
   "cell_type": "code",
   "execution_count": 20,
   "metadata": {
    "ExecuteTime": {
     "end_time": "2020-03-31T15:34:44.354595+02:00",
     "start_time": "2020-03-31T15:34:44.354595Z"
    }
   },
   "outputs": [
    {
     "data": {
      "text/plain": [
       "0.10344827586206895"
      ]
     },
     "execution_count": 20,
     "metadata": {},
     "output_type": "execute_result"
    }
   ],
   "source": [
    "1- (52/58)"
   ]
  },
  {
   "cell_type": "markdown",
   "metadata": {},
   "source": [
    "## TESTS"
   ]
  },
  {
   "cell_type": "code",
   "execution_count": 271,
   "metadata": {
    "ExecuteTime": {
     "end_time": "2020-03-25T17:49:01.717175+01:00",
     "start_time": "2020-03-25T17:49:01.717175Z"
    }
   },
   "outputs": [],
   "source": [
    "\n",
    "def awg_cpmg_test( tau):\n",
    "    \n",
    "    seq = mcas.MultiChSeq('my_cpmg', ch_dict={'awg': [1, 2]})\n",
    "    phases = [0.,180.]\n",
    "    \n",
    "    awg_freq = 2697.000  # in MHz\n",
    "    electron_amp = 0.2 # \n",
    "    electron_pi = 1.021/2 # us\n",
    "    \n",
    "    oscReadoutPhaseFreq = 0\n",
    "    nitrogen_transition = 14.0733\n",
    "    rf_safety = 1\n",
    "    \n",
    "#     double check\n",
    "    \n",
    "#     for tau in taus:\n",
    "    for phase in phases:\n",
    "\n",
    "        seq.start_new_segment('my_cpmg')\n",
    "        seq.asc(pdawg1=dict(type='sine', frequencies=[awg_freq], amplitudes=[electron_amp]),\n",
    "                length_mus=electron_pi / 2.)\n",
    "# 1X\n",
    "        seq = awg_AddWait(seq, tau / 2.)\n",
    "        seq.asc(pdawg1=dict(type='sine', frequencies=[awg_freq], amplitudes=[electron_amp],phases = [0]),\n",
    "                length_mus=electron_pi)\n",
    "        seq = awg_AddWait(seq, tau / 2.)\n",
    "# 2Y          \n",
    "        seq = awg_AddWait(seq, tau / 2.)\n",
    "        seq.asc(pdawg1=dict(type='sine', frequencies=[awg_freq], amplitudes=[electron_amp],phases = [90]),\n",
    "                length_mus=electron_pi)\n",
    "        seq = awg_AddWait(seq, tau / 2.)\n",
    "# 3X            \n",
    "        seq = awg_AddWait(seq, tau / 2.)\n",
    "        seq.asc(pdawg1=dict(type='sine', frequencies=[awg_freq], amplitudes=[electron_amp],phases = [0]),\n",
    "                length_mus=electron_pi)\n",
    "        seq = awg_AddWait(seq, tau / 2.)\n",
    "# 4Y            \n",
    "        seq = awg_AddWait(seq, tau / 2.)\n",
    "        seq.asc(pdawg1=dict(type='sine', frequencies=[awg_freq], amplitudes=[electron_amp],phases = [90]),\n",
    "                length_mus=electron_pi)\n",
    "        seq = awg_AddWait(seq, tau / 2.)\n",
    "# 5X            \n",
    "\n",
    "        seq = awg_AddWait(seq, tau / 2.)\n",
    "        seq.asc(pdawg1=dict(type='sine', frequencies=[awg_freq], amplitudes=[electron_amp],phases = [90]),\n",
    "                length_mus=electron_pi)\n",
    "        seq = awg_AddWait(seq, tau / 2.)                \n",
    "# 6Y \n",
    "        seq = awg_AddWait(seq, tau / 2.)\n",
    "        seq.asc(pdawg1=dict(type='sine', frequencies=[awg_freq], amplitudes=[electron_amp],phases = [0]),\n",
    "                length_mus=electron_pi)\n",
    "        seq = awg_AddWait(seq, tau / 2.)            \n",
    "# 7X \n",
    "        seq = awg_AddWait(seq, tau / 2.)\n",
    "        seq.asc(pdawg1=dict(type='sine', frequencies=[awg_freq], amplitudes=[electron_amp],phases = [90]),\n",
    "                length_mus=electron_pi)\n",
    "        seq = awg_AddWait(seq, tau / 2.)                \n",
    "# 8Y\n",
    "        seq = awg_AddWait(seq, tau / 2.)\n",
    "        seq.asc(pdawg1=dict(type='sine', frequencies=[awg_freq], amplitudes=[electron_amp],phases = [0]),\n",
    "                length_mus=electron_pi)\n",
    "        seq = awg_AddWait(seq, tau / 2.)            \n",
    "#RO    \n",
    "        seq.asc(pdawg1=dict(type='sine', frequencies=[awg_freq], amplitudes=[electron_amp],\n",
    "                            phases=[phase]),\n",
    "                length_mus=electron_pi / 2.)\n",
    "        seq.asc(length_mus=0.1)          \n",
    "        seq = awg_AddReadout(seq)\n",
    "    return seq\n",
    "\n",
    "\n",
    "\n"
   ]
  },
  {
   "cell_type": "code",
   "execution_count": 278,
   "metadata": {
    "ExecuteTime": {
     "end_time": "2020-03-25T17:54:49.655711+01:00",
     "start_time": "2020-03-25T17:54:49.655711Z"
    }
   },
   "outputs": [
    {
     "name": "stdout",
     "output_type": "stream",
     "text": [
      "MCAS 'my_cpmg' has been generated.\n",
      "-----\n",
      "writing sequence my_cpmg on AWG_M8190A_qudi ch 1 took 0.1309 seconds\n",
      "writing sequence my_cpmg on AWG_M8190A_qudi ch 2 took 0.1139 seconds\n",
      "writing sequence wait on AWG_M8190A_qudi ch 1 took 0.0090 seconds\n",
      "writing sequence wait on AWG_M8190A_qudi ch 2 took 0.0100 seconds\n",
      "0.2898592948913574\n"
     ]
    }
   ],
   "source": [
    "import time\n",
    "seqTest = awg_cpmg_test(10)\n",
    "seqTest.awg = awg\n",
    "seqTest.write_seq()\n",
    "print('-----')\n",
    "begin = time.time()\n",
    "\n",
    "seqTest.run_sequence()\n",
    "end = time.time()\n",
    "time.sleep (0.5)\n",
    "seqTest.stop_awgs()\n",
    "\n",
    "print(end-begin)"
   ]
  },
  {
   "cell_type": "code",
   "execution_count": 275,
   "metadata": {
    "ExecuteTime": {
     "end_time": "2020-03-25T17:49:44.908353+01:00",
     "start_time": "2020-03-25T17:49:44.907354Z"
    }
   },
   "outputs": [
    {
     "data": {
      "text/plain": [
       "1585154984.9073546"
      ]
     },
     "execution_count": 275,
     "metadata": {},
     "output_type": "execute_result"
    }
   ],
   "source": [
    "import time\n",
    "time.time()"
   ]
  },
  {
   "cell_type": "code",
   "execution_count": 295,
   "metadata": {
    "ExecuteTime": {
     "end_time": "2020-03-25T18:09:18.885558+01:00",
     "start_time": "2020-03-25T18:09:18.885558Z"
    }
   },
   "outputs": [
    {
     "name": "stdout",
     "output_type": "stream",
     "text": [
      "-----\n",
      "0.0009989738464355469\n"
     ]
    }
   ],
   "source": [
    "print('-----')\n",
    "begin = time.time()\n",
    "fastcounter.pulsed.getData()\n",
    "end = time.time()\n",
    "print(end-begin)"
   ]
  },
  {
   "cell_type": "code",
   "execution_count": null,
   "metadata": {},
   "outputs": [],
   "source": []
  }
 ],
 "metadata": {
  "kernelspec": {
   "display_name": "Qudi",
   "language": "python",
   "name": "qudi"
  },
  "language_info": {
   "codemirror_mode": {
    "name": "ipython",
    "version": "3.6.5"
   },
   "file_extension": ".py",
   "mimetype": "text/x-python",
   "name": "python",
   "nbconvert_exporter": "python",
   "pygments_lexer": "ipython3",
   "version": "3.6.5"
  }
 },
 "nbformat": 4,
 "nbformat_minor": 2
}
