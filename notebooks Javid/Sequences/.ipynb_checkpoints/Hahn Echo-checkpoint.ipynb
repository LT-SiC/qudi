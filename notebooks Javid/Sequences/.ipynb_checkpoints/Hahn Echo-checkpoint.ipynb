{
 "cells": [
  {
   "cell_type": "code",
   "execution_count": 1,
   "metadata": {
    "ExecuteTime": {
     "end_time": "2020-02-18T10:07:08.582239+01:00",
     "start_time": "2020-02-18T10:07:08.582239Z"
    }
   },
   "outputs": [],
   "source": [
    "from collections import OrderedDict\n",
    "import datetime\n",
    "import numpy as np\n",
    "import time\n",
    "import os\n",
    "import winsound\n"
   ]
  },
  {
   "cell_type": "code",
   "execution_count": null,
   "metadata": {
    "ExecuteTime": {
     "end_time": "2020-02-12T11:08:49.864857+01:00",
     "start_time": "2020-02-12T11:08:49.864857Z"
    }
   },
   "outputs": [],
   "source": []
  },
  {
   "cell_type": "code",
   "execution_count": 2,
   "metadata": {
    "ExecuteTime": {
     "end_time": "2020-02-18T10:07:13.430976+01:00",
     "start_time": "2020-02-18T10:07:13.430976Z"
    }
   },
   "outputs": [],
   "source": [
    "import telegram\n",
    "bot = telegram.Bot(token='968560013:AAGSzyvq3SEnHpo-o4WPeXM8_sywoKDYZH0')\n",
    "# print(bot.get_me())\n",
    "# chat_id = bot.get_updates()[-1].message.chat_id\n",
    "chat_id = 111963322"
   ]
  },
  {
   "cell_type": "code",
   "execution_count": null,
   "metadata": {
    "ExecuteTime": {
     "end_time": "2020-02-18T10:07:14.738603+01:00",
     "start_time": "2020-02-18T10:07:14.738603Z"
    }
   },
   "outputs": [],
   "source": []
  },
  {
   "cell_type": "code",
   "execution_count": 4,
   "metadata": {
    "ExecuteTime": {
     "end_time": "2020-02-18T10:08:38.063764+01:00",
     "start_time": "2020-02-18T10:08:38.063764Z"
    }
   },
   "outputs": [],
   "source": [
    "generate_params=OrderedDict()\n",
    "generate_params['name'] = 'Hahn_echo_long_y'\n",
    "generate_params['tau_start'] = 0.10e-6\n",
    "generate_params['tau_step'] = 0.150e-6\n",
    "generate_params['num_of_points'] = 3\n",
    "generate_params['alternating'] = False\n",
    "\n",
    "# Call the actual generation method using a wrapper method and pass the parameter set\n",
    "pulsedmasterlogic.generate_predefined_sequence('Hahn_echo_long_y', generate_params)\n",
    "# Give it a moment to generate\n",
    "time.sleep(0.5)\n"
   ]
  },
  {
   "cell_type": "code",
   "execution_count": 5,
   "metadata": {
    "ExecuteTime": {
     "end_time": "2020-02-18T10:09:00.466514+01:00",
     "start_time": "2020-02-18T10:09:00.466514Z"
    }
   },
   "outputs": [],
   "source": [
    "pulsedmasterlogic.sample_sequence('Hahn_echo_long_y', with_load=True)\n"
   ]
  },
  {
   "cell_type": "code",
   "execution_count": 6,
   "metadata": {
    "ExecuteTime": {
     "end_time": "2020-02-18T10:09:01.738755+01:00",
     "start_time": "2020-02-18T10:09:01.738755Z"
    }
   },
   "outputs": [
    {
     "data": {
      "text/plain": [
       "True"
      ]
     },
     "execution_count": 6,
     "metadata": {},
     "output_type": "execute_result"
    }
   ],
   "source": [
    "pulsedmasterlogic.status_dict['sampload_busy']"
   ]
  },
  {
   "cell_type": "code",
   "execution_count": null,
   "metadata": {
    "ExecuteTime": {
     "start_time": "2020-02-18T09:09:03.071Z"
    }
   },
   "outputs": [],
   "source": [
    "while pulsedmasterlogic.status_dict['sampload_busy']:\n",
    "    time.sleep(0.1)\n"
   ]
  },
  {
   "cell_type": "code",
   "execution_count": null,
   "metadata": {},
   "outputs": [],
   "source": []
  },
  {
   "cell_type": "code",
   "execution_count": null,
   "metadata": {
    "ExecuteTime": {
     "start_time": "2020-02-18T09:09:03.999Z"
    }
   },
   "outputs": [],
   "source": [
    "\n",
    "bot.sendMessage(chat_id=chat_id, text=\"Hi, Javid. I have finished\")\n"
   ]
  },
  {
   "cell_type": "code",
   "execution_count": null,
   "metadata": {},
   "outputs": [],
   "source": []
  },
  {
   "cell_type": "code",
   "execution_count": 13,
   "metadata": {
    "ExecuteTime": {
     "end_time": "2020-02-13T13:43:16.679866+01:00",
     "start_time": "2020-02-13T13:43:16.679866Z"
    }
   },
   "outputs": [],
   "source": [
    "\n",
    "pulsedmasterlogic.set_measurement_settings(invoke_settings=False, \n",
    "                                           controlled_variable= generate_params['tau_start'] + \n",
    "                                           np.arange(generate_params['num_of_points'])*generate_params['tau_step'],\n",
    "                                           number_of_lasers=(generate_params['alternating']+1)*generate_params['num_of_points'], \n",
    "                                           laser_ignore_list=[], \n",
    "                                           alternating=generate_params['alternating'], \n",
    "                                           units=('s', 'arb. u.'))\n",
    "time.sleep(0.5)\n",
    "\n",
    "pulsedmasterlogic.set_fast_counter_settings(record_length=4.0e-6, number_of_gates=generate_params['num_of_points'])\n",
    "time.sleep(0.5)\n",
    "\n",
    "import winsound\n",
    "frequency = 300  # Set Frequency To 2500 Hertz\n",
    "duration = 1000  # Set Duration To 1000 ms == 1 second\n",
    "winsound.Beep(frequency, duration)\n",
    "# You can get a read-only view of the current measurement settings by using this property:\n",
    "# for setting, value in pulsedmasterlogic.measurement_settings.items():\n",
    "#     print('{0}:\\n  {1}'.format(setting, value))"
   ]
  },
  {
   "cell_type": "code",
   "execution_count": 14,
   "metadata": {
    "ExecuteTime": {
     "end_time": "2020-02-13T13:43:40.196490+01:00",
     "start_time": "2020-02-13T13:43:40.196490Z"
    }
   },
   "outputs": [],
   "source": [
    "pulsedmasterlogic.toggle_pulsed_measurement(True,'')\n"
   ]
  },
  {
   "cell_type": "code",
   "execution_count": 21,
   "metadata": {
    "ExecuteTime": {
     "end_time": "2020-02-13T11:40:21.244948+01:00",
     "start_time": "2020-02-13T11:40:21.244948Z"
    }
   },
   "outputs": [
    {
     "data": {
      "text/plain": [
       "<telegram.message.Message object at 0x000001AD8C64A7B8>"
      ]
     },
     "execution_count": 21,
     "metadata": {},
     "output_type": "execute_result"
    }
   ],
   "source": [
    "bot.sendMessage(chat_id=chat_id, text=\"Hi, Javid. I have started the measurement\")\n"
   ]
  },
  {
   "cell_type": "code",
   "execution_count": 15,
   "metadata": {
    "ExecuteTime": {
     "end_time": "2020-02-13T13:43:51.277111+01:00",
     "start_time": "2020-02-13T13:43:51.277111Z"
    }
   },
   "outputs": [],
   "source": [
    "pulsedmasterlogic.toggle_pulsed_measurement(False,'')\n"
   ]
  },
  {
   "cell_type": "code",
   "execution_count": 37,
   "metadata": {
    "ExecuteTime": {
     "end_time": "2020-02-11T18:35:23.949313+01:00",
     "start_time": "2020-02-11T18:35:23.949313Z"
    }
   },
   "outputs": [],
   "source": [
    "pulsedmasterlogic.toggle_pulsed_measurement_pause(True)"
   ]
  },
  {
   "cell_type": "code",
   "execution_count": null,
   "metadata": {},
   "outputs": [],
   "source": []
  },
  {
   "cell_type": "code",
   "execution_count": null,
   "metadata": {
    "ExecuteTime": {
     "start_time": "2020-02-11T17:48:06.660Z"
    }
   },
   "outputs": [],
   "source": [
    "pulsedmeasurementlogic.stop_pulsed_measurement('')"
   ]
  },
  {
   "cell_type": "code",
   "execution_count": null,
   "metadata": {
    "ExecuteTime": {
     "end_time": "2020-02-12T13:59:12.187708+01:00",
     "start_time": "2020-02-12T13:59:12.187708Z"
    }
   },
   "outputs": [],
   "source": []
  },
  {
   "cell_type": "code",
   "execution_count": null,
   "metadata": {},
   "outputs": [],
   "source": []
  },
  {
   "cell_type": "code",
   "execution_count": null,
   "metadata": {},
   "outputs": [],
   "source": [
    "measurement_status_updated"
   ]
  },
  {
   "cell_type": "code",
   "execution_count": 20,
   "metadata": {
    "ExecuteTime": {
     "end_time": "2019-12-19T14:34:27.927008+01:00",
     "start_time": "2019-12-19T14:34:27.927008Z"
    }
   },
   "outputs": [],
   "source": [
    "pulsedmeasurement.measurement_status_updated(is_running = False,is_paused = False)"
   ]
  },
  {
   "cell_type": "code",
   "execution_count": null,
   "metadata": {},
   "outputs": [],
   "source": []
  },
  {
   "cell_type": "code",
   "execution_count": null,
   "metadata": {},
   "outputs": [],
   "source": []
  },
  {
   "cell_type": "code",
   "execution_count": null,
   "metadata": {},
   "outputs": [],
   "source": []
  },
  {
   "cell_type": "code",
   "execution_count": null,
   "metadata": {},
   "outputs": [],
   "source": []
  },
  {
   "cell_type": "code",
   "execution_count": null,
   "metadata": {},
   "outputs": [],
   "source": []
  },
  {
   "cell_type": "code",
   "execution_count": 7,
   "metadata": {
    "ExecuteTime": {
     "end_time": "2019-12-19T13:56:04.474730+01:00",
     "start_time": "2019-12-19T13:56:04.474730Z"
    }
   },
   "outputs": [],
   "source": [
    "frequency = 300  # Set Frequency To 2500 Hertz\n",
    "duration = 1000  # Set Duration To 1000 ms == 1 second\n",
    "winsound.Beep(frequency, duration)"
   ]
  },
  {
   "cell_type": "code",
   "execution_count": 11,
   "metadata": {
    "ExecuteTime": {
     "end_time": "2019-12-19T13:40:27.035696+01:00",
     "start_time": "2019-12-19T13:40:27.035696Z"
    }
   },
   "outputs": [
    {
     "data": {
      "text/plain": [
       "{'a_ch1': True, 'a_ch2': True, 'a_ch3': False, 'a_ch4': False, 'd_ch1': True, 'd_ch2': True, 'd_ch3': True, 'd_ch4': True, 'd_ch5': True, 'd_ch6': True, 'd_ch7': True, 'd_ch8': True}"
      ]
     },
     "execution_count": 11,
     "metadata": {},
     "output_type": "execute_result"
    }
   ],
   "source": [
    "AWG5014C.set_active_channels({'a_ch1': True, 'a_ch2': True,'a_ch3': True, 'a_ch4': True})"
   ]
  },
  {
   "cell_type": "code",
   "execution_count": null,
   "metadata": {
    "ExecuteTime": {
     "start_time": "2019-12-19T11:34:29.415Z"
    }
   },
   "outputs": [],
   "source": [
    "\n",
    "# # The \"with_load\" flag can be used to also load the waveform into the channels after creating it\n",
    "# pulsedmasterlogic.sample_sequence('Hahn_echo_long', with_load=True)\n",
    "# # Wait for the sampling to finish. There is a status dictionary that can be used to check for process status.\n",
    "# while pulsedmasterlogic.status_dict['sampload_busy']:\n",
    "#     time.sleep(0.1)\n",
    "\n",
    "\n",
    "# pulsedmasterlogic.set_measurement_settings(invoke_settings=False, \n",
    "#                                            controlled_variable= generate_params['tau_start'] + \n",
    "#                                            np.arange(generate_params['num_of_points'])*generate_params['tau_step'],\n",
    "#                                            number_of_lasers=2*generate_params['num_of_points'], \n",
    "#                                            laser_ignore_list=[], \n",
    "#                                            alternating=True, \n",
    "#                                            units=('s', 'arb. u.'))\n",
    "# time.sleep(0.5)\n",
    "\n",
    "# pulsedmasterlogic.set_fast_counter_settings(record_length=4.0e-6, number_of_gates=generate_params['num_of_points'])\n",
    "# time.sleep(0.5)\n",
    "\n",
    "# import winsound\n",
    "# frequency = 300  # Set Frequency To 2500 Hertz\n",
    "# duration = 1000  # Set Duration To 1000 ms == 1 second\n",
    "# winsound.Beep(frequency, duration)\n",
    "# # You can get a read-only view of the current measurement settings by using this property:\n",
    "# # for setting, value in pulsedmasterlogic.measurement_settings.items():\n",
    "# #     print('{0}:\\n  {1}'.format(setting, value))"
   ]
  },
  {
   "cell_type": "code",
   "execution_count": null,
   "metadata": {
    "ExecuteTime": {
     "start_time": "2019-12-19T11:34:32.575Z"
    }
   },
   "outputs": [],
   "source": [
    "import telegram\n",
    "bot = telegram.Bot(token='968560013:AAGSzyvq3SEnHpo-o4WPeXM8_sywoKDYZH0')\n",
    "# print(bot.get_me())\n",
    "# chat_id = bot.get_updates()[-1].message.chat_id\n",
    "chat_id = 111963322\n",
    "bot.sendMessage(chat_id=chat_id, text=\"Hi, Javid. I have assembled and downloaded everyhing\")"
   ]
  },
  {
   "cell_type": "code",
   "execution_count": 7,
   "metadata": {
    "ExecuteTime": {
     "end_time": "2019-12-17T14:25:35.692951+01:00",
     "start_time": "2019-12-17T14:25:35.692951Z"
    }
   },
   "outputs": [
    {
     "name": "stderr",
     "output_type": "stream",
     "text": [
      "Traceback (most recent call last):\n",
      "  File \"C:\\Program Files (x86)\\Qudi\\logic\\jupyterkernel\\qzmqkernel.py\", line 795, in run_code\n",
      "    exec(code_obj, self.user_global_ns, self.user_ns)\n",
      "  File \"<ipython-input-7-b44f8cd5cb75>\", line 2, in <module>\n",
      "    PredefinedGeneratorBase()\n",
      "TypeError: __init__() missing 1 required positional argument: 'sequencegeneratorlogic'\n"
     ]
    }
   ],
   "source": [
    "from logic.pulsed.pulse_objects import PredefinedGeneratorBase\n",
    "PredefinedGeneratorBase()"
   ]
  },
  {
   "cell_type": "code",
   "execution_count": null,
   "metadata": {},
   "outputs": [],
   "source": []
  },
  {
   "cell_type": "code",
   "execution_count": null,
   "metadata": {
    "ExecuteTime": {
     "start_time": "2019-12-19T10:14:15.112Z"
    }
   },
   "outputs": [],
   "source": [
    "# generate_params=OrderedDict()\n",
    "# generate_params['name'] = 'XY16_seq'\n",
    "# generate_params['tau_start'] = 250.0e-9\n",
    "# generate_params['tau_step'] = 1.0e-9\n",
    "# generate_params['num_of_points'] = 40\n",
    "# generate_params['xy16_order'] = 10\n",
    "# generate_params['alternating'] = True\n",
    "\n",
    "# # Call the actual generation method using a wrapper method and pass the parameter set\n",
    "# pulsedmasterlogic.generate_predefined_sequence('XY16_seq', generate_params)\n",
    "# # Give it a moment to generate\n",
    "# time.sleep(0.5)\n",
    "\n",
    "# # The created object is a PulseBlockEnsemble instance, a recipe to create a waveform.\n",
    "# # You can get all created PulseBlockEnsembles using this property (keys are ensemble names, values are the object instances):\n",
    "# #for ensemble_name in pulsedmasterlogic.saved_pulse_block_ensembles.keys():\n",
    "# #    print(ensemble_name)\n",
    "\n",
    "# # The \"with_load\" flag can be used to also load the waveform into the channels after creating it\n",
    "# pulsedmasterlogic.sample_sequence('XY16_seq', with_load=True)\n",
    "# # Wait for the sampling to finish. There is a status dictionary that can be used to check for process status.\n",
    "# while pulsedmasterlogic.status_dict['sampload_busy']:\n",
    "#     time.sleep(0.1)\n",
    "    \n",
    "# pulsedmasterlogic.set_measurement_settings(invoke_settings=False, \n",
    "#                                            controlled_variable= generate_params['tau_start'] + \n",
    "#                                            np.arange(generate_params['num_of_points'])*generate_params['tau_step'],\n",
    "#                                            number_of_lasers=2*generate_params['num_of_points'], \n",
    "#                                            laser_ignore_list=[], \n",
    "#                                            alternating=True, \n",
    "#                                            units=('s', 'arb. u.'))\n",
    "# time.sleep(0.5)\n"
   ]
  },
  {
   "cell_type": "code",
   "execution_count": 11,
   "metadata": {
    "ExecuteTime": {
     "end_time": "2020-02-11T16:53:28.674117+01:00",
     "start_time": "2020-02-11T16:53:28.674117Z"
    }
   },
   "outputs": [
    {
     "data": {
      "text/plain": [
       "{'invoke_settings': False, 'controlled_variable': array([1.00e-07, 1.30e-07, 1.60e-07, 1.90e-07, 2.20e-07, 2.50e-07,\n",
       "       2.80e-07, 3.10e-07, 3.40e-07, 3.70e-07, 4.00e-07, 4.30e-07,\n",
       "       4.60e-07, 4.90e-07, 5.20e-07, 5.50e-07, 5.80e-07, 6.10e-07,\n",
       "       6.40e-07, 6.70e-07, 7.00e-07, 7.30e-07, 7.60e-07, 7.90e-07,\n",
       "       8.20e-07, 8.50e-07, 8.80e-07, 9.10e-07, 9.40e-07, 9.70e-07,\n",
       "       1.00e-06, 1.03e-06, 1.06e-06, 1.09e-06, 1.12e-06, 1.15e-06,\n",
       "       1.18e-06, 1.21e-06, 1.24e-06, 1.27e-06, 1.30e-06, 1.33e-06,\n",
       "       1.36e-06, 1.39e-06, 1.42e-06, 1.45e-06, 1.48e-06, 1.51e-06,\n",
       "       1.54e-06, 1.57e-06, 1.60e-06, 1.63e-06, 1.66e-06, 1.69e-06,\n",
       "       1.72e-06, 1.75e-06, 1.78e-06, 1.81e-06, 1.84e-06, 1.87e-06,\n",
       "       1.90e-06, 1.93e-06, 1.96e-06, 1.99e-06, 2.02e-06, 2.05e-06,\n",
       "       2.08e-06, 2.11e-06, 2.14e-06, 2.17e-06, 2.20e-06, 2.23e-06,\n",
       "       2.26e-06, 2.29e-06, 2.32e-06, 2.35e-06, 2.38e-06, 2.41e-06,\n",
       "       2.44e-06, 2.47e-06, 2.50e-06, 2.53e-06, 2.56e-06, 2.59e-06,\n",
       "       2.62e-06, 2.65e-06, 2.68e-06, 2.71e-06, 2.74e-06, 2.77e-06,\n",
       "       2.80e-06, 2.83e-06, 2.86e-06, 2.89e-06, 2.92e-06, 2.95e-06,\n",
       "       2.98e-06, 3.01e-06, 3.04e-06]), 'number_of_lasers': 198, 'laser_ignore_list': [], 'alternating': True, 'units': ['s', 'arb. u.']}"
      ]
     },
     "execution_count": 11,
     "metadata": {},
     "output_type": "execute_result"
    }
   ],
   "source": [
    "pulsedmeasurementlogic.measurement_settings"
   ]
  },
  {
   "cell_type": "code",
   "execution_count": 17,
   "metadata": {
    "ExecuteTime": {
     "end_time": "2020-02-11T16:54:32.119979+01:00",
     "start_time": "2020-02-11T16:54:32.119979Z"
    }
   },
   "outputs": [
    {
     "data": {
      "text/plain": [
       "99"
      ]
     },
     "execution_count": 17,
     "metadata": {},
     "output_type": "execute_result"
    }
   ],
   "source": [
    "len(pulsedmeasurementlogic.measurement_settings['controlled_variable'])"
   ]
  },
  {
   "cell_type": "code",
   "execution_count": 36,
   "metadata": {
    "ExecuteTime": {
     "end_time": "2020-02-11T17:12:04.842908+01:00",
     "start_time": "2020-02-11T17:12:04.842908Z"
    }
   },
   "outputs": [
    {
     "data": {
      "text/plain": [
       "{'invoke_settings': False, 'controlled_variable': array([1.00e-07, 1.30e-07, 1.60e-07, 1.90e-07, 2.20e-07, 2.50e-07,\n",
       "       2.80e-07, 3.10e-07, 3.40e-07, 3.70e-07, 4.00e-07, 4.30e-07,\n",
       "       4.60e-07, 4.90e-07, 5.20e-07, 5.50e-07, 5.80e-07, 6.10e-07,\n",
       "       6.40e-07, 6.70e-07, 7.00e-07, 7.30e-07, 7.60e-07, 7.90e-07,\n",
       "       8.20e-07, 8.50e-07, 8.80e-07, 9.10e-07, 9.40e-07, 9.70e-07,\n",
       "       1.00e-06, 1.03e-06, 1.06e-06, 1.09e-06, 1.12e-06, 1.15e-06,\n",
       "       1.18e-06, 1.21e-06, 1.24e-06, 1.27e-06, 1.30e-06, 1.33e-06,\n",
       "       1.36e-06, 1.39e-06, 1.42e-06, 1.45e-06, 1.48e-06, 1.51e-06,\n",
       "       1.54e-06, 1.57e-06, 1.60e-06, 1.63e-06, 1.66e-06, 1.69e-06,\n",
       "       1.72e-06, 1.75e-06, 1.78e-06, 1.81e-06, 1.84e-06, 1.87e-06,\n",
       "       1.90e-06, 1.93e-06, 1.96e-06, 1.99e-06, 2.02e-06, 2.05e-06,\n",
       "       2.08e-06, 2.11e-06, 2.14e-06, 2.17e-06, 2.20e-06, 2.23e-06,\n",
       "       2.26e-06, 2.29e-06, 2.32e-06, 2.35e-06, 2.38e-06, 2.41e-06,\n",
       "       2.44e-06, 2.47e-06, 2.50e-06, 2.53e-06, 2.56e-06, 2.59e-06,\n",
       "       2.62e-06, 2.65e-06, 2.68e-06, 2.71e-06, 2.74e-06, 2.77e-06,\n",
       "       2.80e-06, 2.83e-06, 2.86e-06, 2.89e-06, 2.92e-06, 2.95e-06,\n",
       "       2.98e-06, 3.01e-06, 3.04e-06]), 'number_of_lasers': 198, 'laser_ignore_list': [], 'alternating': True, 'units': ['s', 'arb. u.']}"
      ]
     },
     "execution_count": 36,
     "metadata": {},
     "output_type": "execute_result"
    }
   ],
   "source": [
    "pulsedmeasurementlogic.measurement_settings"
   ]
  },
  {
   "cell_type": "code",
   "execution_count": 39,
   "metadata": {
    "ExecuteTime": {
     "end_time": "2020-02-11T17:14:34.762173+01:00",
     "start_time": "2020-02-11T17:14:34.762173Z"
    }
   },
   "outputs": [
    {
     "data": {
      "text/plain": [
       "99"
      ]
     },
     "execution_count": 39,
     "metadata": {},
     "output_type": "execute_result"
    }
   ],
   "source": [
    "len(pulsedmeasurementlogic.measurement_settings['controlled_variable'])"
   ]
  },
  {
   "cell_type": "code",
   "execution_count": 14,
   "metadata": {
    "ExecuteTime": {
     "end_time": "2020-02-12T09:30:10.146970+01:00",
     "start_time": "2020-02-12T09:30:10.146970Z"
    }
   },
   "outputs": [
    {
     "name": "stdout",
     "output_type": "stream",
     "text": [
      "1\n",
      "0\n"
     ]
    }
   ],
   "source": [
    "\n",
    "a= 100\n",
    "b=100\n",
    "print(a//b)\n",
    "print(a%b)"
   ]
  },
  {
   "cell_type": "code",
   "execution_count": null,
   "metadata": {
    "ExecuteTime": {
     "end_time": "2020-02-12T09:57:51.876959+01:00",
     "start_time": "2020-02-12T09:57:51.876959Z"
    }
   },
   "outputs": [],
   "source": []
  },
  {
   "cell_type": "code",
   "execution_count": null,
   "metadata": {},
   "outputs": [],
   "source": []
  }
 ],
 "metadata": {
  "kernelspec": {
   "display_name": "Qudi",
   "language": "python",
   "name": "qudi"
  },
  "language_info": {
   "codemirror_mode": {
    "name": "ipython",
    "version": "3.6.5"
   },
   "file_extension": ".py",
   "mimetype": "text/x-python",
   "name": "python",
   "nbconvert_exporter": "python",
   "pygments_lexer": "ipython3",
   "version": "3.6.5"
  }
 },
 "nbformat": 4,
 "nbformat_minor": 2
}
