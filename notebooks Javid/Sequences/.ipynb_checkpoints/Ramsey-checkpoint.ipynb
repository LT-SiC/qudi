{
 "cells": [
  {
   "cell_type": "code",
   "execution_count": 1,
   "metadata": {
    "ExecuteTime": {
     "end_time": "2019-12-11T12:42:36.375538+01:00",
     "start_time": "2019-12-11T12:42:36.375538Z"
    }
   },
   "outputs": [],
   "source": [
    "from collections import OrderedDict\n",
    "import datetime\n",
    "import numpy as np\n",
    "import time\n",
    "import os\n",
    "\n",
    "try: \n",
    "    pulsedmasterlogic\n",
    "except NameError:\n",
    "    manager.startModule('logic', 'pulsedmasterlogic')\n",
    "try: \n",
    "    optimizer\n",
    "except NameError:\n",
    "    manager.startModule('logic', 'optimizerlogic')\n",
    "try:\n",
    "    sequencegenerator\n",
    "except NameError:\n",
    "    manager.startModule('logic', 'sequencegenerator')\n",
    "try:\n",
    "    pulsedmeasurement\n",
    "except NameError:\n",
    "    manager.startModule('gui', 'pulsedmeasurement')  "
   ]
  },
  {
   "cell_type": "code",
   "execution_count": 69,
   "metadata": {
    "ExecuteTime": {
     "end_time": "2019-12-11T14:21:09.269323+01:00",
     "start_time": "2019-12-11T14:21:09.269323Z"
    }
   },
   "outputs": [],
   "source": [
    "mw_freq = 2858650.0 # in MHz\n",
    "mw_power = -3\n",
    "\n",
    "# Set new values\n",
    "pulsedmasterlogic.set_ext_microwave_settings(power=mw_power, frequency=mw_freq-100.0e+6, use_ext_microwave=True)\n",
    "time.sleep(0.5)"
   ]
  },
  {
   "cell_type": "code",
   "execution_count": 78,
   "metadata": {
    "ExecuteTime": {
     "end_time": "2019-12-11T14:25:24.652540+01:00",
     "start_time": "2019-12-11T14:25:24.652540Z"
    }
   },
   "outputs": [],
   "source": [
    "# Get the dictionary containing the default parameters for the desired sequence and alter the values as needed.\n",
    "# generate_params = pulsedmasterlogic.generate_method_params['rabi']\n",
    "generate_params=OrderedDict()\n",
    "generate_params['name'] = 'rabi'\n",
    "generate_params['microwave_amplitude'] = 0.25\n",
    "generate_params['number_of_taus'] = 1000\n",
    "generate_params['tau_start'] = 10.0e-9\n",
    "generate_params['tau_step'] = 10.0e-9\n",
    "\n",
    "# get the current settings with the following property:\n",
    "# for setting, value in pulsedmasterlogic.ext_microwave_settings.items():\n",
    "#     print('{0}: {1}'.format(setting, value))\n",
    "\n",
    "# Call the actual generation method using a wrapper method and pass the parameter set\n",
    "pulsedmasterlogic.generate_predefined_sequence('rabi', generate_params)\n",
    "# # Give it a moment to generate\n",
    "time.sleep(0.5)\n",
    "\n",
    "# The created object is a PulseBlockEnsemble instance, a recipe to create a waveform.\n",
    "# You can get all created PulseBlockEnsembles using this property (keys are ensemble names, values are the object instances):\n",
    "# for ensemble_name in pulsedmasterlogic.saved_pulse_block_ensembles.keys():\n",
    "#     print(ensemble_name)\n",
    "\n",
    "# The \"with_load\" flag can be used to also load the waveform into the channels after creating it\n",
    "# pulsedmasterlogic.sample_ensemble('rabi', with_load=True)\n",
    "\n",
    "# Wait for the sampling to finish. There is a status dictionary that can be used to check for process status.\n",
    "while pulsedmasterlogic.status_dict['sampload_busy']:\n",
    "    time.sleep(0.1)\n",
    "    \n",
    "pulsedmasterlogic.set_measurement_settings(invoke_settings=False, \n",
    "                                           controlled_variable= generate_params['tau_start'] + \n",
    "                                           np.arange(generate_params['number_of_taus'])*generate_params['tau_step'],\n",
    "                                           number_of_lasers=generate_params['number_of_taus'], \n",
    "                                           laser_ignore_list=[], \n",
    "                                           alternating=False, \n",
    "                                           units=('s', 'arb. u.'))\n",
    "time.sleep(0.5)\n",
    "\n",
    "pulsedmasterlogic.set_fast_counter_settings(record_length=4.0e-6, number_of_gates=generate_params['number_of_taus'])\n",
    "time.sleep(0.5)\n",
    "\n",
    "# You can get a read-only view of the current measurement settings by using this property:\n",
    "\n",
    "# for setting, value in pulsedmasterlogic.measurement_settings.items():\n",
    "#     print('{0}:\\n  {1}'.format(setting, value))\n",
    "\n",
    "\n",
    "# import winsound\n",
    "# frequency = 300  # Set Frequency To 2500 Hertz\n",
    "# duration = 1000  # Set Duration To 1000 ms == 1 second\n",
    "# winsound.Beep(frequency, duration)\n",
    "# You can get a read-only view of the current measurement settings by using this property:\n",
    "#for setting, value in pulsedmasterlogic.measurement_settings.items():\n",
    "#    print('{0}:\\n  {1}'.format(setting, value))"
   ]
  },
  {
   "cell_type": "code",
   "execution_count": 82,
   "metadata": {
    "ExecuteTime": {
     "end_time": "2019-12-11T14:31:01.425674+01:00",
     "start_time": "2019-12-11T14:31:01.425674Z"
    }
   },
   "outputs": [
    {
     "name": "stdout",
     "output_type": "stream",
     "text": [
      "fffff\n"
     ]
    }
   ],
   "source": [
    "pulsedmasterlogic.sample_ensemble('rabi', with_load=True)\n",
    "while pulsedmasterlogic.status_dict['sampling_ensemble_busy'] or pulsedmasterlogic.status_dict['sampling_ensemble_busy'] or pulsedmasterlogic.status_dict[\n",
    "            'sampling_sequence_busy'] or pulsedmasterlogic.sequencegeneratorlogic().module_state() == 'locked':\n",
    "    time.sleep(0.1)\n",
    "    "
   ]
  },
  {
   "cell_type": "code",
   "execution_count": 83,
   "metadata": {
    "ExecuteTime": {
     "end_time": "2019-12-11T14:32:27.255045+01:00",
     "start_time": "2019-12-11T14:32:27.255045Z"
    }
   },
   "outputs": [],
   "source": [
    "# If everything is properly set, we can start a measurement simply by calling:\n",
    "pulsedmasterlogic.toggle_pulsed_measurement(True)\n",
    "# Wait until the pulsedmeasurementlogic is actually busy and the measurement is running\n",
    "while pulsedmeasurementlogic.module_state() != 'locked':\n",
    "    time.sleep(0.2)"
   ]
  },
  {
   "cell_type": "code",
   "execution_count": 84,
   "metadata": {
    "ExecuteTime": {
     "end_time": "2019-12-11T14:34:04.426005+01:00",
     "start_time": "2019-12-11T14:34:04.426005Z"
    }
   },
   "outputs": [],
   "source": [
    "pulsedmasterlogic.toggle_pulsed_measurement(False)\n",
    "# Wait until the pulsedmeasurementlogic is actually idle and the measurement is stopped\n",
    "while pulsedmeasurementlogic.module_state() == 'locked':\n",
    "    time.sleep(0.2)"
   ]
  },
  {
   "cell_type": "code",
   "execution_count": 81,
   "metadata": {
    "ExecuteTime": {
     "end_time": "2019-12-11T14:29:52.758017+01:00",
     "start_time": "2019-12-11T14:29:52.758017Z"
    }
   },
   "outputs": [
    {
     "data": {
      "text/plain": [
       "False"
      ]
     },
     "execution_count": 81,
     "metadata": {},
     "output_type": "execute_result"
    }
   ],
   "source": []
  },
  {
   "cell_type": "code",
   "execution_count": null,
   "metadata": {},
   "outputs": [],
   "source": []
  },
  {
   "cell_type": "code",
   "execution_count": null,
   "metadata": {},
   "outputs": [],
   "source": []
  },
  {
   "cell_type": "code",
   "execution_count": null,
   "metadata": {},
   "outputs": [],
   "source": []
  },
  {
   "cell_type": "markdown",
   "metadata": {},
   "source": [
    "#### Tests\n"
   ]
  },
  {
   "cell_type": "code",
   "execution_count": 2,
   "metadata": {
    "ExecuteTime": {
     "end_time": "2019-12-11T12:43:21.841051+01:00",
     "start_time": "2019-12-11T12:43:21.841051Z"
    }
   },
   "outputs": [
    {
     "name": "stderr",
     "output_type": "stream",
     "text": [
      "Traceback (most recent call last):\n",
      "  File \"C:\\Program Files (x86)\\Qudi\\logic\\jupyterkernel\\qzmqkernel.py\", line 795, in run_code\n",
      "    exec(code_obj, self.user_global_ns, self.user_ns)\n",
      "  File \"<ipython-input-2-4bdc791bb18e>\", line 1, in <module>\n",
      "    def refocus_poi(poi=None, max_drift=0.5, min_counts=setup[\"min_counts\"]):\n",
      "NameError: name 'setup' is not defined\n"
     ]
    }
   ],
   "source": [
    "def refocus_poi(poi=None, max_drift=0.5, min_counts=setup[\"min_counts\"]):\n",
    "    if poi==None:\n",
    "        return False\n",
    "    scannerlogic.stop_scanning()\n",
    "    poimanagerlogic.go_to_poi(poi)\n",
    "    pos_start = scannerlogic.get_position()\n",
    "    setup['NV_name']=poimanagerlogic.poi_list[poi]._name\n",
    "    poimanagerlogic.optimise_poi(poi)\n",
    "    while optimizerlogic.getState() == 'idle':\n",
    "        time.sleep(0.2)\n",
    "    while optimizerlogic.getState() != 'idle':\n",
    "        time.sleep(0.2)\n",
    "        \n",
    "    time.sleep(5)\n",
    "    pos_end=scannerlogic.get_position()\n",
    "    \n",
    "    print(counterlogic.countdata.mean(),abs(pos_end[0]-pos_start[0]))\n",
    "    if (abs(pos_end[0]-pos_start[0])>max_drift or abs(pos_end[1]-pos_start[1])>max_drift or \n",
    "       abs(pos_end[2]-pos_start[2])>max_drift or counterlogic.countdata.mean()<min_counts):\n",
    "        scannerlogic.set_position('',x=pos_start[0],y=pos_start[1],z=pos_start[2])\n",
    "        poimanagerlogic.set_new_position(poi,pos_start)\n",
    "        print(abs(pos_end[0]-pos_start[0])>max_drift or abs(pos_end[1]-pos_start[1])>max_drift or \n",
    "       abs(pos_end[2]-pos_start[2])>max_drift or counterlogic.countdata.mean()<min_counts)\n",
    "        return False\n",
    "        write_to_logfile('PositionRefocus_log', str(datetime.datetime.now()),name= setup['NV_name'], \n",
    "                     x_pos=pos_start[0], y_pos=pos_start[1], z_pos=pos_start[2],sucess=0)\n",
    "    write_to_logfile('PositionRefocus_log', str(datetime.datetime.now()),name= setup['NV_name'], \n",
    "                     x_pos=pos_end[0], y_pos=pos_end[1], z_pos=pos_end[2],sucess=1)\n",
    "    return True\n",
    "\n"
   ]
  },
  {
   "cell_type": "code",
   "execution_count": 12,
   "metadata": {
    "ExecuteTime": {
     "end_time": "2019-12-11T12:50:33.949899+01:00",
     "start_time": "2019-12-11T12:50:33.949899Z"
    }
   },
   "outputs": [],
   "source": [
    "poi = poimanager.get_all_pois()[1]\n"
   ]
  },
  {
   "cell_type": "code",
   "execution_count": 14,
   "metadata": {
    "ExecuteTime": {
     "end_time": "2019-12-11T12:50:45.057723+01:00",
     "start_time": "2019-12-11T12:50:45.057723Z"
    }
   },
   "outputs": [],
   "source": [
    "poimanager.go_to_poi(poi)\n"
   ]
  },
  {
   "cell_type": "code",
   "execution_count": 20,
   "metadata": {
    "ExecuteTime": {
     "end_time": "2019-12-11T12:55:19.786631+01:00",
     "start_time": "2019-12-11T12:55:19.786631Z"
    }
   },
   "outputs": [
    {
     "data": {
      "text/plain": [
       "0"
      ]
     },
     "execution_count": 20,
     "metadata": {},
     "output_type": "execute_result"
    }
   ],
   "source": [
    "poimanager.optimise_poi(poi)\n"
   ]
  },
  {
   "cell_type": "code",
   "execution_count": 29,
   "metadata": {
    "ExecuteTime": {
     "end_time": "2019-12-11T12:56:03.357602+01:00",
     "start_time": "2019-12-11T12:56:03.357602Z"
    }
   },
   "outputs": [
    {
     "data": {
      "text/plain": [
       "'idle'"
      ]
     },
     "execution_count": 29,
     "metadata": {},
     "output_type": "execute_result"
    }
   ],
   "source": [
    "optimizer.module_state()"
   ]
  },
  {
   "cell_type": "code",
   "execution_count": 30,
   "metadata": {
    "ExecuteTime": {
     "end_time": "2019-12-11T12:56:22.134454+01:00",
     "start_time": "2019-12-11T12:56:22.134454Z"
    }
   },
   "outputs": [
    {
     "data": {
      "text/plain": [
       "[4.509890905999203e-05, 2.6380426341527666e-05, -7.295884307171811e-06, 0.0]"
      ]
     },
     "execution_count": 30,
     "metadata": {},
     "output_type": "execute_result"
    }
   ],
   "source": [
    "scannerlogic.get_position()\n"
   ]
  },
  {
   "cell_type": "code",
   "execution_count": 31,
   "metadata": {
    "ExecuteTime": {
     "end_time": "2019-12-11T12:56:41.215309+01:00",
     "start_time": "2019-12-11T12:56:41.215309Z"
    }
   },
   "outputs": [
    {
     "name": "stderr",
     "output_type": "stream",
     "text": [
      "Traceback (most recent call last):\n",
      "  File \"C:\\Program Files (x86)\\Qudi\\logic\\jupyterkernel\\qzmqkernel.py\", line 795, in run_code\n",
      "    exec(code_obj, self.user_global_ns, self.user_ns)\n",
      "  File \"<ipython-input-31-065b9be82d01>\", line 1, in <module>\n",
      "    print(counterlogic.countdata.mean(),abs(pos_end[0]-pos_start[0]))\n",
      "NameError: name 'pos_end' is not defined\n"
     ]
    }
   ],
   "source": [
    "if (abs(pos_end[0]-pos_start[0])>max_drift or abs(pos_end[1]-pos_start[1])>max_drift or \n",
    "       abs(pos_end[2]-pos_start[2])>max_drift or counterlogic.countdata.mean()<min_counts):\n",
    "    \n",
    "        scannerlogic.set_position('',x=pos_start[0],y=pos_start[1],z=pos_start[2])\n",
    "        poimanagerlogic.set_new_position(poi,pos_start)\n",
    "        \n",
    "        print(abs(pos_end[0]-pos_start[0])>max_drift or abs(pos_end[1]-pos_start[1])>max_drift or \n",
    "       abs(pos_end[2]-pos_start[2])>max_drift or counterlogic.countdata.mean()<min_counts)\n",
    "        \n",
    "        return False\n",
    "    \n",
    "        write_to_logfile('PositionRefocus_log', str(datetime.datetime.now()),name= setup['NV_name'], \n",
    "                     x_pos=pos_start[0], y_pos=pos_start[1], z_pos=pos_start[2],sucess=0)"
   ]
  },
  {
   "cell_type": "code",
   "execution_count": null,
   "metadata": {},
   "outputs": [],
   "source": [
    "def do_rabi(generate_new=True, save_tag='', load_tag=''):\n",
    "    \n",
    "    length = rabi['number_of_taus'] * rabi['tau_step']\n",
    "            \n",
    "    # sanity check for long sequences:\n",
    "    if length > 3e-3:\n",
    "        print(\"Rabi exceeds 3 ms too long for AWG5014C\")\n",
    "        return True,0,0,0,0\n",
    "    # generate ensemble object\n",
    "#     rabi['tau_res'] = rabi['length'] / (rabi['points'] - 1)\n",
    "    tau_arr = np.arange(rabi['number_of_taus']) * rabi['tau_step']+rabi['tau_start']\n",
    "    if generate_new:\n",
    "        sequencegeneratorlogic.delete_ensemble('Rabi')\n",
    "        sequencegeneratorlogic.generate_rabi('Rabi', rabi['tau_start'], rabi['tau_step'], rabi['number_of_taus'], rabi['mw_freq'], \n",
    "                                        rabi['mw_amp'], 'a_ch1', setup['laser_length'] , 1.0, setup['aom_delay'], \n",
    "                                        setup['wait_length'], setup['seq_trig'], setup['gate'])\n",
    "        \n",
    "        if 'Rabi' not in sequencegeneratorlogic.saved_pulse_block_ensembles:\n",
    "            sequencegeneratorlogic.log.error('Ensemble generation of Rabi in notebook timed out.')\n",
    "            return\n",
    "        \n",
    "        pulsedmasterlogic.sample_block_ensemble('Rabi', True)\n",
    "        \n",
    "    else:\n",
    "        pulsedmasterlogic.load_asset_into_channels('Rabi')\n",
    "    while pulsedmasterlogic.status_dict['sauplo_ensemble_busy'] or pulsedmasterlogic.status_dict['loading_busy']:\n",
    "        time.sleep(0.2)\n",
    "    pulsedmasterlogic.do_fit('No Fit')\n",
    "    # set parameters in analysis tab\n",
    "    pulsedmasterlogic.measurement_sequence_settings_changed(tau_arr, rabi['number_of_taus'], 100e-6, [], False)\n",
    "    pulsedmasterlogic.fast_counter_settings_changed(setup['fc_binwidth'], setup['laser_length']+1e-6, rabi['number_of_taus'])\n",
    "    pulsedmasterlogic.analysis_interval_changed(1)\n",
    "    pulsedmeasurementlogic.measurement_tag = save_tag\n",
    "    # perform measurement\n",
    "    pulsedmasterlogic.start_measurement(load_tag)\n",
    "    while not pulsedmasterlogic.status_dict['measurement_running']:\n",
    "        time.sleep(0.2)\n",
    "    user_terminated = False\n",
    "    start_time = time.time()\n",
    "    while time.time() - start_time < rabi['measurement_time']:\n",
    "        if not pulsedmasterlogic.status_dict['measurement_running']:\n",
    "            user_terminated = True\n",
    "            break\n",
    "        time.sleep(0.5)\n",
    "    pulsedmasterlogic.manually_pull_data() \n",
    "    time.sleep(1)\n",
    "    pulsedmasterlogic.stop_measurement(save_tag)\n",
    "    while pulsedmasterlogic.status_dict['measurement_running']:\n",
    "        time.sleep(0.2)\n",
    "        time.sleep(2)\n",
    "    # do fit\n",
    "    x, y, param_dict = pulsedmeasurementlogic.do_fit('Rabi')\n",
    "    new_freq = param_dict.params['frequency'].value\n",
    "    contrast = 2.*param_dict.params['amplitude'].value\n",
    "    offset = param_dict.params['offset'].value\n",
    "    period = 1./new_freq\n",
    "    \n",
    "#     # save data\n",
    "#     if save_tag is None:\n",
    "#         pulsedmasterlogic.save_measurement_data('s','Rabi_'+setup['NV_name']+'_'+str(rabi['mw_amp'])+'V',True)\n",
    "#     else:\n",
    "#         pulsedmasterlogic.save_measurement_data('s','Rabi_'+setup['NV_name']+'_'+str(rabi['mw_amp'])+'V',True)\n",
    "    \n",
    "    # write logfile\n",
    "    write_to_logfile('Rabi_log', str(datetime.datetime.now()),name= setup['NV_name'], amplitude=rabi['mw_amp'], period=period,\n",
    "                     frequency=new_freq, contrast=contrast, offset= offset)\n",
    "    return user_terminated, period, contrast*100, new_freq, offset"
   ]
  },
  {
   "cell_type": "code",
   "execution_count": 32,
   "metadata": {
    "ExecuteTime": {
     "end_time": "2019-12-11T13:54:02.196877+01:00",
     "start_time": "2019-12-11T13:54:02.196877Z"
    }
   },
   "outputs": [],
   "source": [
    "pulsedmasterlogic.toggle_pulsed_measurement(True)\n"
   ]
  },
  {
   "cell_type": "code",
   "execution_count": null,
   "metadata": {},
   "outputs": [],
   "source": [
    ".pulser_on()"
   ]
  },
  {
   "cell_type": "code",
   "execution_count": 33,
   "metadata": {
    "ExecuteTime": {
     "end_time": "2019-12-11T13:54:39.339647+01:00",
     "start_time": "2019-12-11T13:54:39.339647Z"
    }
   },
   "outputs": [
    {
     "name": "stderr",
     "output_type": "stream",
     "text": [
      "Traceback (most recent call last):\n",
      "  File \"C:\\Program Files (x86)\\Qudi\\logic\\jupyterkernel\\qzmqkernel.py\", line 795, in run_code\n",
      "    exec(code_obj, self.user_global_ns, self.user_ns)\n",
      "  File \"<ipython-input-33-d92184a8732d>\", line 1, in <module>\n",
      "    pulsedmasterlogic._pulse_generator_device\n",
      "AttributeError: 'PulsedMasterLogic' object has no attribute '_pulse_generator_device'\n"
     ]
    }
   ],
   "source": [
    "\n",
    "pulsedmasterlogic._pulse_generator_device"
   ]
  },
  {
   "cell_type": "code",
   "execution_count": 35,
   "metadata": {
    "ExecuteTime": {
     "end_time": "2019-12-11T13:57:12.384504+01:00",
     "start_time": "2019-12-11T13:57:12.384504Z"
    }
   },
   "outputs": [
    {
     "data": {
      "text/plain": [
       "False"
      ]
     },
     "execution_count": 35,
     "metadata": {},
     "output_type": "execute_result"
    }
   ],
   "source": [
    "pulsedmeasurementlogic._invoke_settings_from_sequence"
   ]
  },
  {
   "cell_type": "code",
   "execution_count": 55,
   "metadata": {
    "ExecuteTime": {
     "end_time": "2019-12-11T14:06:45.122270+01:00",
     "start_time": "2019-12-11T14:06:45.122270Z"
    }
   },
   "outputs": [
    {
     "data": {
      "text/plain": [
       "(0, {-1: 'Failed Request or Communication', 0: 'Device has stopped, but can receive commands', 1: 'Device is active and running', 2: 'Device is waiting for trigger.'})"
      ]
     },
     "execution_count": 55,
     "metadata": {},
     "output_type": "execute_result"
    }
   ],
   "source": [
    "pulsedmeasurementlogic.pulse_generator_on()"
   ]
  },
  {
   "cell_type": "code",
   "execution_count": 68,
   "metadata": {
    "ExecuteTime": {
     "end_time": "2019-12-11T14:10:00.392215+01:00",
     "start_time": "2019-12-11T14:10:00.392215Z"
    }
   },
   "outputs": [
    {
     "data": {
      "text/plain": [
       "(0, {-1: 'Failed Request or Communication', 0: 'Device has stopped, but can receive commands', 1: 'Device is active and running', 2: 'Device is waiting for trigger.'})"
      ]
     },
     "execution_count": 68,
     "metadata": {},
     "output_type": "execute_result"
    }
   ],
   "source": [
    "pulsedmeasurementlogic.pulse_generator_off()"
   ]
  },
  {
   "cell_type": "code",
   "execution_count": 53,
   "metadata": {
    "ExecuteTime": {
     "end_time": "2019-12-11T14:06:34.512729+01:00",
     "start_time": "2019-12-11T14:06:34.512729Z"
    }
   },
   "outputs": [
    {
     "data": {
      "text/plain": [
       "False"
      ]
     },
     "execution_count": 53,
     "metadata": {},
     "output_type": "execute_result"
    }
   ],
   "source": [
    "pulsedmeasurementlogic.pulsegenerator()._is_output_on()"
   ]
  },
  {
   "cell_type": "code",
   "execution_count": 64,
   "metadata": {
    "ExecuteTime": {
     "end_time": "2019-12-11T14:09:42.190614+01:00",
     "start_time": "2019-12-11T14:09:42.190614Z"
    }
   },
   "outputs": [
    {
     "data": {
      "text/plain": [
       "(2, {-1: 'Failed Request or Communication', 0: 'Device has stopped, but can receive commands', 1: 'Device is active and running', 2: 'Device is waiting for trigger.'})"
      ]
     },
     "execution_count": 64,
     "metadata": {},
     "output_type": "execute_result"
    }
   ],
   "source": [
    "pulsedmeasurementlogic.pulsegenerator().pulser_on()"
   ]
  },
  {
   "cell_type": "code",
   "execution_count": 67,
   "metadata": {
    "ExecuteTime": {
     "end_time": "2019-12-11T14:09:51.704371+01:00",
     "start_time": "2019-12-11T14:09:51.704371Z"
    }
   },
   "outputs": [
    {
     "data": {
      "text/plain": [
       "(0, {-1: 'Failed Request or Communication', 0: 'Device has stopped, but can receive commands', 1: 'Device is active and running', 2: 'Device is waiting for trigger.'})"
      ]
     },
     "execution_count": 67,
     "metadata": {},
     "output_type": "execute_result"
    }
   ],
   "source": [
    "pulsedmeasurementlogic.pulsegenerator().pulser_off()"
   ]
  },
  {
   "cell_type": "code",
   "execution_count": 56,
   "metadata": {
    "ExecuteTime": {
     "end_time": "2019-12-11T14:07:40.042508+01:00",
     "start_time": "2019-12-11T14:07:40.042508Z"
    }
   },
   "outputs": [
    {
     "data": {
      "text/plain": [
       "0"
      ]
     },
     "execution_count": 56,
     "metadata": {},
     "output_type": "execute_result"
    }
   ],
   "source": [
    "pulsedmeasurementlogic.pulsegenerator().write('AWGC:RUN')"
   ]
  },
  {
   "cell_type": "code",
   "execution_count": null,
   "metadata": {},
   "outputs": [],
   "source": []
  },
  {
   "cell_type": "code",
   "execution_count": null,
   "metadata": {},
   "outputs": [],
   "source": []
  },
  {
   "cell_type": "code",
   "execution_count": 63,
   "metadata": {
    "ExecuteTime": {
     "end_time": "2019-12-11T14:08:52.800458+01:00",
     "start_time": "2019-12-11T14:08:52.800458Z"
    }
   },
   "outputs": [
    {
     "data": {
      "text/plain": [
       "<hardware.awg.tektronix_awg5014c.AWG5014C object at 0x000001BF309EE558>"
      ]
     },
     "execution_count": 63,
     "metadata": {},
     "output_type": "execute_result"
    }
   ],
   "source": [
    "pulsedmeasurementlogic.pulsegenerator()"
   ]
  },
  {
   "cell_type": "code",
   "execution_count": null,
   "metadata": {},
   "outputs": [],
   "source": []
  }
 ],
 "metadata": {
  "kernelspec": {
   "display_name": "Qudi",
   "language": "python",
   "name": "qudi"
  },
  "language_info": {
   "codemirror_mode": {
    "name": "ipython",
    "version": "3.6.5"
   },
   "file_extension": ".py",
   "mimetype": "text/x-python",
   "name": "python",
   "nbconvert_exporter": "python",
   "pygments_lexer": "ipython3",
   "version": "3.6.5"
  }
 },
 "nbformat": 4,
 "nbformat_minor": 2
}
