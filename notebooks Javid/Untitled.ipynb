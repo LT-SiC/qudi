{
 "cells": [
  {
   "cell_type": "code",
   "execution_count": 14,
   "metadata": {
    "ExecuteTime": {
     "end_time": "2020-03-31T12:59:23.998567+02:00",
     "start_time": "2020-03-31T12:59:23.998567Z"
    }
   },
   "outputs": [],
   "source": [
    "import TimeTagger as tt\n",
    "import numpy as np"
   ]
  },
  {
   "cell_type": "code",
   "execution_count": 49,
   "metadata": {
    "ExecuteTime": {
     "end_time": "2020-03-31T13:05:05.022141+02:00",
     "start_time": "2020-03-31T13:05:05.022141Z"
    }
   },
   "outputs": [
    {
     "name": "stdout",
     "output_type": "stream",
     "text": [
      "[[0]]\n"
     ]
    }
   ],
   "source": [
    "count = tt.Counter(\n",
    "    tagger=fastcounter._tagger,\n",
    "    channels = [fastcounter._channel_apd],\n",
    "#     channels = [1],\n",
    "\n",
    "#     binwidth=1000000000000,\n",
    "    binwidth=int(1e12/50),\n",
    "    n_values = 1)\n",
    "\n",
    "print(count.getData())"
   ]
  },
  {
   "cell_type": "code",
   "execution_count": 46,
   "metadata": {
    "ExecuteTime": {
     "end_time": "2020-03-31T13:03:08.941621+02:00",
     "start_time": "2020-03-31T13:03:08.941621Z"
    }
   },
   "outputs": [
    {
     "data": {
      "text/plain": [
       "array([            0, 1000000000000, 2000000000000, 3000000000000, 4000000000000, 5000000000000, 6000000000000, 7000000000000, 8000000000000, 9000000000000], dtype=int64)"
      ]
     },
     "execution_count": 46,
     "metadata": {},
     "output_type": "execute_result"
    }
   ],
   "source": [
    "count.getIndex()\n"
   ]
  },
  {
   "cell_type": "code",
   "execution_count": 15,
   "metadata": {
    "ExecuteTime": {
     "end_time": "2020-03-31T12:59:27.454415+02:00",
     "start_time": "2020-03-31T12:59:27.454415Z"
    }
   },
   "outputs": [
    {
     "data": {
      "text/plain": [
       "1000"
      ]
     },
     "execution_count": 15,
     "metadata": {},
     "output_type": "execute_result"
    }
   ],
   "source": [
    "int(np.round(fastcounter._bin_width * 1000))"
   ]
  },
  {
   "cell_type": "code",
   "execution_count": null,
   "metadata": {},
   "outputs": [],
   "source": [
    "self.pulsed = tt.TimeDifferences(\n",
    "    tagger=self._tagger,\n",
    "    click_channel=self._channel_apd,\n",
    "    start_channel=self._channel_detect,\n",
    "    # click_channel=self._channel_apd[0],\n",
    "    # start_channel=self._channel_apd[1],\n",
    "    next_channel=self._channel_sequence,\n",
    "    sync_channel=tt.CHANNEL_UNUSED,\n",
    "    binwidth=int(np.round(self._bin_width * 1000)),\n",
    "    n_bins=int(self._record_length),\n",
    "    n_histograms=number_of_gates)"
   ]
  },
  {
   "cell_type": "code",
   "execution_count": null,
   "metadata": {},
   "outputs": [],
   "source": []
  },
  {
   "cell_type": "code",
   "execution_count": 52,
   "metadata": {
    "ExecuteTime": {
     "end_time": "2020-03-31T13:07:43.862486+02:00",
     "start_time": "2020-03-31T13:07:43.862486Z"
    }
   },
   "outputs": [
    {
     "data": {
      "text/plain": [
       "0.001"
      ]
     },
     "execution_count": 52,
     "metadata": {},
     "output_type": "execute_result"
    }
   ],
   "source": [
    "counterlogic.get_hardware_constraints().min_count_frequency"
   ]
  },
  {
   "cell_type": "code",
   "execution_count": null,
   "metadata": {},
   "outputs": [],
   "source": []
  },
  {
   "cell_type": "code",
   "execution_count": null,
   "metadata": {},
   "outputs": [],
   "source": [
    "counterlogic.set_count_frequency()"
   ]
  },
  {
   "cell_type": "code",
   "execution_count": null,
   "metadata": {},
   "outputs": [],
   "source": []
  },
  {
   "cell_type": "code",
   "execution_count": null,
   "metadata": {},
   "outputs": [],
   "source": []
  }
 ],
 "metadata": {
  "kernelspec": {
   "display_name": "Qudi",
   "language": "python",
   "name": "qudi"
  },
  "language_info": {
   "codemirror_mode": {
    "name": "ipython",
    "version": "3.6.5"
   },
   "file_extension": ".py",
   "mimetype": "text/x-python",
   "name": "python",
   "nbconvert_exporter": "python",
   "pygments_lexer": "ipython3",
   "version": "3.6.5"
  }
 },
 "nbformat": 4,
 "nbformat_minor": 2
}
