{
 "cells": [
  {
   "cell_type": "code",
   "execution_count": 1,
   "metadata": {
    "ExecuteTime": {
     "end_time": "2020-04-08T13:11:20.867986+02:00",
     "start_time": "2020-04-08T13:11:20.867986Z"
    },
    "collapsed": false,
    "deletable": true,
    "editable": true
   },
   "outputs": [
    {
     "name": "stderr",
     "output_type": "stream",
     "text": [
      "Traceback (most recent call last):\n",
      "  File \"C:\\src\\qudi\\logic\\jupyterkernel\\qzmqkernel.py\", line 679, in run_code\n",
      "    exec(code_obj, self.user_global_ns, self.user_ns)\n",
      "  File \"<ipython-input-1-dd746ab76dde>\", line 4, in <module>\n",
      "    awg.awg._ch[1].sample_marker_low = 0\n",
      "AttributeError: module 'hardware.awg.AWG_M8190A_qudi' has no attribute 'awg'\n"
     ]
    }
   ],
   "source": [
    "awg = AWG_M8190A_qudi\n",
    "import hardware.awg.multi_channel_awg_seq as mcas\n",
    "\n",
    "awg.awg._ch[1].sample_marker_low = 0\n",
    "awg.awg._ch[1].sample_marker_high = 1.5\n",
    "AWG_M8190A_qudi.awg._ch[1].output_amplitude = 0.5"
   ]
  },
  {
   "cell_type": "code",
   "execution_count": 6,
   "metadata": {
    "ExecuteTime": {
     "end_time": "2020-04-08T13:11:21.210108+02:00",
     "start_time": "2020-04-08T13:11:21.210108Z"
    },
    "collapsed": true,
    "deletable": true,
    "editable": true
   },
   "outputs": [],
   "source": [
    "awg.awg._ch[1].sync_marker_high=1.5"
   ]
  },
  {
   "cell_type": "code",
   "execution_count": 7,
   "metadata": {
    "ExecuteTime": {
     "end_time": "2020-04-08T13:11:21.783932+02:00",
     "start_time": "2020-04-08T13:11:21.783932Z"
    },
    "collapsed": false,
    "deletable": true,
    "editable": true
   },
   "outputs": [
    {
     "name": "stdout",
     "output_type": "stream",
     "text": [
      "0     Laser             10.000000\n",
      "   0     Starting segment  10.000000\n",
      "      0                       10.000000wait    1       0       \n",
      "      1     _missing_smpls_   0.000000wait    0       0       \n"
     ]
    }
   ],
   "source": [
    "awg.awg._ch[1].sample_marker_low = 0\n",
    "awg.awg._ch[1].sample_marker_high = 1.5\n",
    "AWG_M8190A_qudi.awg._ch[1].output_amplitude = 0.5\n",
    "\n",
    "\n",
    "seq = mcas.MultiChSeq('Laser', ch_dict = {'awg':[1,2]})\n",
    "seq.awg =awg\n",
    "seq.start_new_segment('Starting segment')\n",
    "\n",
    "\n",
    "seq.asc(length_mus = 10, green=True, orange = True)\n",
    "\n",
    "\n",
    "seq.sequences['awg'][1].print_info()"
   ]
  },
  {
   "cell_type": "code",
   "execution_count": 8,
   "metadata": {
    "ExecuteTime": {
     "end_time": "2020-04-08T13:11:22.885157+02:00",
     "start_time": "2020-04-08T13:11:22.885157Z"
    },
    "collapsed": false,
    "deletable": true,
    "editable": true
   },
   "outputs": [
    {
     "name": "stdout",
     "output_type": "stream",
     "text": [
      "MCAS 'Laser' has been generated.\n"
     ]
    }
   ],
   "source": [
    "seq.write_seq()"
   ]
  },
  {
   "cell_type": "code",
   "execution_count": 9,
   "metadata": {
    "ExecuteTime": {
     "end_time": "2020-04-08T13:11:23.486901+02:00",
     "start_time": "2020-04-08T13:11:23.486901Z"
    },
    "collapsed": false,
    "deletable": true,
    "editable": true
   },
   "outputs": [
    {
     "name": "stdout",
     "output_type": "stream",
     "text": [
      "writing sequence Laser on AWG_M8190A_qudi ch 1 took 0.0260 seconds\n",
      "writing sequence Laser on AWG_M8190A_qudi ch 2 took 0.0220 seconds\n"
     ]
    }
   ],
   "source": [
    "seq.run_sequence()"
   ]
  },
  {
   "cell_type": "code",
   "execution_count": 591,
   "metadata": {
    "ExecuteTime": {
     "end_time": "2020-04-07T18:49:56.798986+02:00",
     "start_time": "2020-04-07T18:49:56.798986Z"
    },
    "collapsed": false,
    "deletable": true,
    "editable": true
   },
   "outputs": [
    {
     "name": "stdout",
     "output_type": "stream",
     "text": [
      "writing sequence wait on AWG_M8190A_qudi ch 1 took 0.0130 seconds\n",
      "writing sequence wait on AWG_M8190A_qudi ch 2 took 0.0090 seconds\n"
     ]
    }
   ],
   "source": [
    "seq.stop_awgs()"
   ]
  },
  {
   "cell_type": "markdown",
   "metadata": {
    "deletable": true,
    "editable": true
   },
   "source": [
    "## Nuclear ODMR"
   ]
  },
  {
   "cell_type": "code",
   "execution_count": 9,
   "metadata": {
    "ExecuteTime": {
     "end_time": "2020-03-27T18:45:51.938834+01:00",
     "start_time": "2020-03-27T18:45:51.938834Z"
    },
    "collapsed": false,
    "deletable": true,
    "editable": true
   },
   "outputs": [
    {
     "data": {
      "text/plain": [
       "0.5"
      ]
     },
     "execution_count": 9,
     "metadata": {},
     "output_type": "execute_result"
    }
   ],
   "source": [
    "AWG_M8190A_qudi.awg._ch[1].output_amplitude"
   ]
  },
  {
   "cell_type": "code",
   "execution_count": null,
   "metadata": {
    "ExecuteTime": {
     "end_time": "2020-04-09T10:35:29.592392+02:00",
     "start_time": "2020-04-09T10:35:29.592392Z"
    },
    "collapsed": true,
    "deletable": true,
    "editable": true
   },
   "outputs": [],
   "source": []
  },
  {
   "cell_type": "code",
   "execution_count": 99,
   "metadata": {
    "ExecuteTime": {
     "end_time": "2020-04-08T16:33:08.995951+02:00",
     "start_time": "2020-04-08T16:33:08.995951Z"
    },
    "collapsed": true,
    "deletable": true,
    "editable": true
   },
   "outputs": [],
   "source": [
    "awg = AWG_M8190A_qudi\n",
    "import hardware.awg.multi_channel_awg_seq as mcas\n",
    "\n",
    "awg.awg._ch[1].sample_marker_low = 0\n",
    "awg.awg._ch[1].sample_marker_high = 1.5\n",
    "AWG_M8190A_qudi.awg._ch[1].output_amplitude = 0.5\n",
    "\n",
    "\n",
    "def awg_nitrogen_odmr(rf_freqs):\n",
    "    seq = mcas.MultiChSeq('nitrogen_odmr', ch_dict={'awg': [1, 2]})\n",
    "    awg_freq = 2203.955 # in MHz\n",
    "    electron_amp = 0.2\n",
    "    electron_pi = 3.520/2 # us\n",
    "\n",
    "    \n",
    "    for freq in rf_freqs:\n",
    "        \n",
    "        seq.start_new_segment('nitrogen_odmr')\n",
    "        seq.asc(length_mus = 1, green=True, orange = True)\n",
    "        \n",
    "        seq = awg_AddWait(seq, 1)\n",
    "        \n",
    "        seq.asc(pdawg1=dict(type='sine', frequencies=[awg_freq], amplitudes=[electron_amp]),\n",
    "                length_mus=electron_pi)\n",
    "        \n",
    "        seq = awg_AddWait(seq, 1)\n",
    "        \n",
    "        seq.asc(pdawg1=dict(type='sine', frequencies=[freq], amplitudes=[2*electron_amp]),\n",
    "                length_mus=200)        \n",
    "        \n",
    "        seq = awg_AddWait(seq, 1)\n",
    "        \n",
    "        seq.asc(pdawg1=dict(type='sine', frequencies=[awg_freq], amplitudes=[electron_amp]),\n",
    "                length_mus=electron_pi)    \n",
    "        \n",
    "        seq = awg_AddWait(seq, 1)\n",
    "        seq = awg_AddReadout(seq)\n",
    "        seq = awg_AddWait(seq, 350)\n",
    "#         ===================\n",
    "        seq.asc(length_mus = 1, green=True, orange = True)\n",
    "        seq = awg_AddWait(seq, 1)\n",
    "        seq.asc(pdawg1=dict(type='sine', frequencies=[awg_freq], amplitudes=[electron_amp]),\n",
    "                length_mus=electron_pi)\n",
    "        seq = awg_AddWait(seq, 1)\n",
    "        \n",
    "#         seq.asc(pdawg1=dict(type='sine', frequencies=[freq], amplitudes=[2*electron_amp]),\n",
    "#                 length_mus=100)        \n",
    "        \n",
    "        seq = awg_AddWait(seq, 1)\n",
    "#         seq.asc(pdawg1=dict(type='sine', frequencies=[awg_freq], amplitudes=[electron_amp]),\n",
    "#                 length_mus=electron_pi)        \n",
    "        seq = awg_AddWait(seq, 1)\n",
    "        seq = awg_AddReadout(seq)\n",
    "        seq = awg_AddWait(seq, 100)\n",
    "\n",
    "    return seq\n",
    "\n",
    "\n",
    "\n",
    "\n",
    "\n",
    "def awg_AddReadout(seq):\n",
    "    length_laserreadout_ns = 3000\n",
    "    length_lasersafety_ns = 4000\n",
    "    AOMdelay_ns = 400\n",
    "    length_laserreadout_smpl = length_laserreadout_ns / 1e3 * 12e3\n",
    "    AOMdelay_sample = AOMdelay_ns  / 1e3 * 12e3\n",
    "    \n",
    "    while length_laserreadout_smpl % 64 != 0:\n",
    "        length_laserreadout_smpl += 1\n",
    "        \n",
    "    seq.asc(length_mus=0.5)  # 2nd step\n",
    "#     seq.asc(length_mus = 10, green=False, orange = True) #green on, AOM off\n",
    "\n",
    "    seq.asc(timetagger=False,green=True,orange=False, length_smpl=AOMdelay_sample)\n",
    "    seq.asc(timetagger=True,green=True,orange=True, length_smpl=length_laserreadout_smpl)    \n",
    "    seq.asc(timetagger=True,green=False,orange=True, length_smpl=AOMdelay_sample)\n",
    "\n",
    "    seq.asc(length_mus= length_lasersafety_ns / 1e3)\n",
    "    return seq\n",
    "\n",
    "def awg_AddWait(seq, time, orange=False, green=False):\n",
    "    enable_reuse_segments = False\n",
    "    if time < 0.:\n",
    "        for i in range(3): \n",
    "            print ('Negative time for sequence in AWG!!!')\n",
    "    elif time > 10.:\n",
    "        if int(time / (32 / 12.)) >= 1:\n",
    "            seq.start_new_segment('wait_loop', reuse_segment=enable_reuse_segments,\n",
    "                                  loop_count=int(time / (32 / 12.)))\n",
    "            seq.asc(length_smpl=32000, orange=orange, green=green)\n",
    "        seq.start_new_segment('wait_additional')\n",
    "        seq.asc(length_mus=time % (32 / 12.), orange=orange, green=green)\n",
    "    else:\n",
    "        seq.asc(length_mus=time, orange=orange, green=green)\n",
    "    return seq\n",
    "\n",
    "def AddRfSafety(seq):\n",
    "    rf_safety = 1\n",
    "    seq.asc(length_mus=rf_safety)\n",
    "    return seq\n",
    "\n",
    "rf_freqs = np.arange(7.00, 7.25, 0.001)\n",
    "\n",
    "seqNitrogenOdmr = awg_nitrogen_odmr(rf_freqs)\n",
    "seqNitrogenOdmr.awg = awg\n"
   ]
  },
  {
   "cell_type": "code",
   "execution_count": 100,
   "metadata": {
    "ExecuteTime": {
     "end_time": "2020-04-08T16:33:09.017941+02:00",
     "start_time": "2020-04-08T16:33:09.017941Z"
    },
    "collapsed": true,
    "deletable": true,
    "editable": true
   },
   "outputs": [],
   "source": [
    "\n",
    "pulsedmasterlogic.set_measurement_settings(invoke_settings=False, \n",
    "                                           controlled_variable= rf_freqs,\n",
    "                                           number_of_lasers=2*len(rf_freqs), \n",
    "                                           laser_ignore_list=[], \n",
    "                                           alternating=True, \n",
    "                                           units=('MHz', 'arb. u.'))"
   ]
  },
  {
   "cell_type": "code",
   "execution_count": 101,
   "metadata": {
    "ExecuteTime": {
     "end_time": "2020-04-08T16:33:10.182978+02:00",
     "start_time": "2020-04-08T16:33:10.182978Z"
    },
    "collapsed": false,
    "deletable": true,
    "editable": true
   },
   "outputs": [
    {
     "name": "stdout",
     "output_type": "stream",
     "text": [
      "MCAS 'nitrogen_odmr' has been generated.\n"
     ]
    }
   ],
   "source": [
    "seqNitrogenOdmr.write_seq()"
   ]
  },
  {
   "cell_type": "code",
   "execution_count": 102,
   "metadata": {
    "ExecuteTime": {
     "end_time": "2020-04-08T16:34:41.664845+02:00",
     "start_time": "2020-04-08T16:34:41.664845Z"
    },
    "collapsed": false,
    "deletable": true,
    "editable": true
   },
   "outputs": [
    {
     "name": "stdout",
     "output_type": "stream",
     "text": [
      "writing sequence nitrogen_odmr on AWG_M8190A_qudi ch 1 took 53.9894 seconds\n",
      "writing sequence nitrogen_odmr on AWG_M8190A_qudi ch 2 took 35.9347 seconds\n"
     ]
    }
   ],
   "source": [
    "seqNitrogenOdmr.run_sequence()"
   ]
  },
  {
   "cell_type": "code",
   "execution_count": 104,
   "metadata": {
    "ExecuteTime": {
     "end_time": "2020-04-14T13:36:18.831595+02:00",
     "start_time": "2020-04-14T13:36:18.831595Z"
    },
    "collapsed": false,
    "deletable": true,
    "editable": true
   },
   "outputs": [
    {
     "name": "stdout",
     "output_type": "stream",
     "text": [
      "writing sequence wait on AWG_M8190A_qudi ch 1 took 0.0190 seconds\n",
      "writing sequence wait on AWG_M8190A_qudi ch 2 took 0.0200 seconds\n"
     ]
    }
   ],
   "source": [
    "seqNitrogenOdmr.stop_awgs()"
   ]
  },
  {
   "cell_type": "code",
   "execution_count": 105,
   "metadata": {
    "ExecuteTime": {
     "end_time": "2020-04-14T13:36:21.423567+02:00",
     "start_time": "2020-04-14T13:36:21.423567Z"
    },
    "collapsed": false,
    "deletable": true,
    "editable": true
   },
   "outputs": [
    {
     "name": "stdout",
     "output_type": "stream",
     "text": [
      "writing sequence Laser on AWG_M8190A_qudi ch 1 took 0.0180 seconds\n",
      "writing sequence Laser on AWG_M8190A_qudi ch 2 took 0.0180 seconds\n"
     ]
    }
   ],
   "source": [
    "seq.run_sequence()"
   ]
  },
  {
   "cell_type": "code",
   "execution_count": 19,
   "metadata": {
    "ExecuteTime": {
     "end_time": "2020-04-08T13:15:22.278596+02:00",
     "start_time": "2020-04-08T13:15:22.278596Z"
    },
    "collapsed": false,
    "deletable": true,
    "editable": true
   },
   "outputs": [
    {
     "name": "stdout",
     "output_type": "stream",
     "text": [
      "writing sequence wait on AWG_M8190A_qudi ch 1 took 0.0120 seconds\n",
      "writing sequence wait on AWG_M8190A_qudi ch 2 took 0.0150 seconds\n"
     ]
    }
   ],
   "source": [
    "seq.stop_awgs()"
   ]
  },
  {
   "cell_type": "code",
   "execution_count": null,
   "metadata": {
    "ExecuteTime": {
     "end_time": "2020-04-08T13:27:14.598575+02:00",
     "start_time": "2020-04-08T13:27:14.598575Z"
    },
    "collapsed": true,
    "deletable": true,
    "editable": true
   },
   "outputs": [],
   "source": []
  },
  {
   "cell_type": "code",
   "execution_count": null,
   "metadata": {
    "collapsed": true,
    "deletable": true,
    "editable": true
   },
   "outputs": [],
   "source": []
  }
 ],
 "metadata": {
  "kernelspec": {
   "display_name": "Qudi",
   "language": "python",
   "name": "qudi"
  },
  "language_info": {
   "codemirror_mode": {
    "name": "ipython",
    "version": "3.6.5"
   },
   "file_extension": ".py",
   "mimetype": "text/x-python",
   "name": "python",
   "nbconvert_exporter": "python",
   "pygments_lexer": "ipython3",
   "version": "3.6.5"
  }
 },
 "nbformat": 4,
 "nbformat_minor": 2
}
