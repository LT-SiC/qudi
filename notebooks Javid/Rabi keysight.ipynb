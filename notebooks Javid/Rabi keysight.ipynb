{
 "cells": [
  {
   "cell_type": "code",
   "execution_count": 1,
   "metadata": {
    "ExecuteTime": {
     "end_time": "2020-05-19T17:00:25.759400+02:00",
     "start_time": "2020-05-19T17:00:25.759400Z"
    }
   },
   "outputs": [
    {
     "data": {
      "text/plain": [
       "2.5"
      ]
     },
     "execution_count": 1,
     "metadata": {},
     "output_type": "execute_result"
    }
   ],
   "source": [
    "1e-6/400e-9"
   ]
  },
  {
   "cell_type": "code",
   "execution_count": 3,
   "metadata": {
    "ExecuteTime": {
     "end_time": "2020-05-19T17:00:40.015721+02:00",
     "start_time": "2020-05-19T17:00:40.015721Z"
    }
   },
   "outputs": [],
   "source": [
    "awg = AWG_M8190A_qudi\n",
    "import hardware.awg.multi_channel_awg_seq as mcas\n",
    "\n",
    "awg.awg._ch[1].sample_marker_low = 0\n",
    "awg.awg._ch[1].sample_marker_high = 1.5\n",
    "AWG_M8190A_qudi.awg._ch[1].output_amplitude = 0.5"
   ]
  },
  {
   "cell_type": "code",
   "execution_count": 4,
   "metadata": {
    "ExecuteTime": {
     "end_time": "2020-05-19T17:00:40.676894+02:00",
     "start_time": "2020-05-19T17:00:40.676894Z"
    }
   },
   "outputs": [],
   "source": [
    "awg.awg._ch[1].sync_marker_high=1.5"
   ]
  },
  {
   "cell_type": "code",
   "execution_count": 5,
   "metadata": {
    "ExecuteTime": {
     "end_time": "2020-05-19T17:00:41.039789+02:00",
     "start_time": "2020-05-19T17:00:41.039789Z"
    }
   },
   "outputs": [
    {
     "name": "stdout",
     "output_type": "stream",
     "text": [
      "0     Laser             10.000000\n",
      "   0     Starting segment  10.000000\n",
      "      0                       10.000000wait    1       0       \n",
      "      1     _missing_smpls_   0.000000wait    0       0       \n"
     ]
    }
   ],
   "source": [
    "awg.awg._ch[1].sample_marker_low = 0\n",
    "awg.awg._ch[1].sample_marker_high = 1.5\n",
    "AWG_M8190A_qudi.awg._ch[1].output_amplitude = 0.7\n",
    "\n",
    "\n",
    "seq = mcas.MultiChSeq('Laser', ch_dict = {'awg':[1,2]})\n",
    "seq.awg =awg\n",
    "seq.start_new_segment('Starting segment')\n",
    "\n",
    "\n",
    "seq.asc(length_mus = 10, green=True, orange = True)\n",
    "# seq.asc(pdawg1=dict(type='sine', frequencies=[1700], amplitudes=[0.99]),\n",
    "#                 length_mus=10)\n",
    "\n",
    "seq.sequences['awg'][1].print_info()"
   ]
  },
  {
   "cell_type": "code",
   "execution_count": 6,
   "metadata": {
    "ExecuteTime": {
     "end_time": "2020-05-19T17:00:41.573714+02:00",
     "start_time": "2020-05-19T17:00:41.573714Z"
    }
   },
   "outputs": [
    {
     "name": "stdout",
     "output_type": "stream",
     "text": [
      "MCAS 'Laser' has been generated.\n"
     ]
    }
   ],
   "source": [
    "seq.write_seq()"
   ]
  },
  {
   "cell_type": "code",
   "execution_count": 56,
   "metadata": {
    "ExecuteTime": {
     "end_time": "2020-05-20T14:09:18.630438+02:00",
     "start_time": "2020-05-20T14:09:18.630438Z"
    }
   },
   "outputs": [
    {
     "name": "stdout",
     "output_type": "stream",
     "text": [
      "writing sequence Laser on AWG_M8190A_qudi ch 1 took 0.0410 seconds\n",
      "writing sequence Laser on AWG_M8190A_qudi ch 2 took 0.0270 seconds\n"
     ]
    }
   ],
   "source": [
    "seq.run_sequence()"
   ]
  },
  {
   "cell_type": "code",
   "execution_count": 57,
   "metadata": {
    "ExecuteTime": {
     "end_time": "2020-05-20T14:09:27.892008+02:00",
     "start_time": "2020-05-20T14:09:27.892008Z"
    }
   },
   "outputs": [
    {
     "name": "stdout",
     "output_type": "stream",
     "text": [
      "writing sequence wait on AWG_M8190A_qudi ch 1 took 0.0100 seconds\n",
      "writing sequence wait on AWG_M8190A_qudi ch 2 took 0.0160 seconds\n"
     ]
    }
   ],
   "source": [
    "seq.stop_awgs()"
   ]
  },
  {
   "cell_type": "markdown",
   "metadata": {},
   "source": [
    "## Rabi"
   ]
  },
  {
   "cell_type": "code",
   "execution_count": 9,
   "metadata": {
    "ExecuteTime": {
     "end_time": "2020-05-19T17:00:44.821732+02:00",
     "start_time": "2020-05-19T17:00:44.821732Z"
    }
   },
   "outputs": [
    {
     "data": {
      "text/plain": [
       "(0.5, 0.2)"
      ]
     },
     "execution_count": 9,
     "metadata": {},
     "output_type": "execute_result"
    }
   ],
   "source": [
    "[1,400e-3]\n",
    "0.5,200e-3"
   ]
  },
  {
   "cell_type": "code",
   "execution_count": 10,
   "metadata": {
    "ExecuteTime": {
     "end_time": "2020-05-19T17:00:45.294578+02:00",
     "start_time": "2020-05-19T17:00:45.294578Z"
    }
   },
   "outputs": [
    {
     "data": {
      "text/plain": [
       "0.7"
      ]
     },
     "execution_count": 10,
     "metadata": {},
     "output_type": "execute_result"
    }
   ],
   "source": [
    "AWG_M8190A_qudi.awg._ch[1].output_amplitude"
   ]
  },
  {
   "cell_type": "code",
   "execution_count": null,
   "metadata": {
    "ExecuteTime": {
     "end_time": "2020-05-19T12:26:16.065053+02:00",
     "start_time": "2020-05-19T12:26:16.065053Z"
    }
   },
   "outputs": [],
   "source": []
  },
  {
   "cell_type": "code",
   "execution_count": 52,
   "metadata": {
    "ExecuteTime": {
     "end_time": "2020-05-20T12:25:32.386414+02:00",
     "start_time": "2020-05-20T12:25:32.386414Z"
    }
   },
   "outputs": [],
   "source": [
    "awg = AWG_M8190A_qudi\n",
    "import hardware.awg.multi_channel_awg_seq as mcas\n",
    "\n",
    "awg.awg._ch[1].sample_marker_low = 0\n",
    "awg.awg._ch[1].sample_marker_high = 1.5\n",
    "AWG_M8190A_qudi.awg._ch[1].output_amplitude = 0.7\n",
    "\n",
    "electron_amp = 0.03 # AU 300mV peak to peak\n",
    "def awg_electronrabi(taus):\n",
    "    \n",
    "    global electron_amp\n",
    "    \n",
    "    seq = mcas.MultiChSeq('rabi', ch_dict={'awg': [1, 2]})\n",
    "#     phases = [0.,180.]\n",
    "    awg_freq = 1840. # in MHz\n",
    "#     electron_amp = 0.1 # AU 300mV peak to peak\n",
    "    oscReadoutPhaseFreq = 0\n",
    "    nitrogen_transition = 14.0733\n",
    "    rf_safety = 1\n",
    "    \n",
    "    for tau in taus:\n",
    "        \n",
    "        seq.start_new_segment('rabi')\n",
    "        \n",
    "        seq.asc(pdawg1=dict(type='sine', frequencies=[awg_freq], amplitudes=[electron_amp]),\n",
    "                length_mus=tau)\n",
    "        seq = awg_AddWait(seq,5)\n",
    "        seq = awg_AddReadout(seq)\n",
    "        seq = awg_AddWait(seq,30) # safety\n",
    "\n",
    "        \n",
    "    return seq\n",
    "\n",
    "def awg_AddReadout(seq):\n",
    "    length_laserreadout_ns = 3000\n",
    "    length_lasersafety_ns = 4000\n",
    "    AOMdelay_ns = 400\n",
    "    length_laserreadout_smpl = length_laserreadout_ns / 1e3 * 12e3\n",
    "    AOMdelay_sample = AOMdelay_ns  / 1e3 * 12e3\n",
    "    \n",
    "    while length_laserreadout_smpl % 64 != 0:\n",
    "        length_laserreadout_smpl += 1\n",
    "        \n",
    "    seq.asc(length_mus=0.5)  # 2nd step\n",
    "#     seq.asc(length_mus = 10, green=False, orange = True) #green on, AOM off\n",
    "\n",
    "    seq.asc(timetagger=False,green=True,orange=False, length_smpl=AOMdelay_sample)\n",
    "    seq.asc(timetagger=True,green=True,orange=True, length_smpl=length_laserreadout_smpl)    \n",
    "    seq.asc(timetagger=True,green=False,orange=True, length_smpl=AOMdelay_sample)\n",
    "\n",
    "    seq.asc(length_mus= length_lasersafety_ns / 1e3)\n",
    "    return seq\n",
    "\n",
    "def awg_AddWait(seq, time, orange=False, green=False):\n",
    "    enable_reuse_segments = False\n",
    "    if time < 0.:\n",
    "        for i in range(3): \n",
    "            print ('Negative time for sequence in AWG!!!')\n",
    "    elif time > 10.:\n",
    "        if int(time / (32 / 12.)) >= 1:\n",
    "            seq.start_new_segment('wait_loop', reuse_segment=enable_reuse_segments,\n",
    "                                  loop_count=int(time / (32 / 12.)))\n",
    "            seq.asc(length_smpl=32000, orange=orange, green=green)\n",
    "        seq.start_new_segment('wait_additional')\n",
    "        seq.asc(length_mus=time % (32 / 12.), orange=orange, green=green)\n",
    "    else:\n",
    "        seq.asc(length_mus=time, orange=orange, green=green)\n",
    "    return seq\n",
    "\n",
    "def AddRfSafety(seq):\n",
    "    rf_safety = 1\n",
    "    seq.asc(length_mus=rf_safety)\n",
    "    return seq\n",
    "\n",
    "# taus = np.linspace(100,1000,91)\n",
    "taus = np.arange(0.01,5, 0.02)\n",
    "# taus = np.arange(.01, 1/electron_amp, 0.015)\n",
    "# taus = np.linspace(.01, 0.5/electron_amp, 100)\n",
    "# taus = np.linspace(.01, 1.5, 300)\n",
    "\n",
    "seqRabi = awg_electronrabi(taus)\n",
    "seqRabi.awg = awg\n",
    "\n",
    "\n",
    "\n",
    "\n",
    "# pulsedmasterlogic.set_measurement_settings(invoke_settings=False, \n",
    "#                                            controlled_variable= taus,\n",
    "#                                            number_of_lasers=2*len(taus), \n",
    "#                                            laser_ignore_list=[], \n",
    "#                                            alternating=True, \n",
    "#                                            units=('s', 'arb. u.'))\n",
    "\n",
    "\n"
   ]
  },
  {
   "cell_type": "code",
   "execution_count": null,
   "metadata": {
    "ExecuteTime": {
     "end_time": "2020-05-19T17:01:34.375377+02:00",
     "start_time": "2020-05-19T17:01:34.375377Z"
    }
   },
   "outputs": [],
   "source": []
  },
  {
   "cell_type": "code",
   "execution_count": 53,
   "metadata": {
    "ExecuteTime": {
     "end_time": "2020-05-20T12:25:33.093379+02:00",
     "start_time": "2020-05-20T12:25:33.093379Z"
    }
   },
   "outputs": [],
   "source": [
    "\n",
    "pulsedmasterlogic.set_measurement_settings(invoke_settings=False, \n",
    "                                           controlled_variable= taus*1e-6,\n",
    "                                           number_of_lasers=len(taus), \n",
    "                                           laser_ignore_list=[], \n",
    "                                           alternating=False, \n",
    "                                           units=('s', 'arb. u.'))"
   ]
  },
  {
   "cell_type": "code",
   "execution_count": 54,
   "metadata": {
    "ExecuteTime": {
     "end_time": "2020-05-20T12:25:33.529427+02:00",
     "start_time": "2020-05-20T12:25:33.529427Z"
    }
   },
   "outputs": [
    {
     "name": "stdout",
     "output_type": "stream",
     "text": [
      "writing sequence wait on AWG_M8190A_qudi ch 1 took 0.0130 seconds\n",
      "writing sequence wait on AWG_M8190A_qudi ch 2 took 0.0170 seconds\n",
      "MCAS 'rabi' has been generated.\n"
     ]
    }
   ],
   "source": [
    "seqRabi.write_seq()"
   ]
  },
  {
   "cell_type": "code",
   "execution_count": 55,
   "metadata": {
    "ExecuteTime": {
     "end_time": "2020-05-20T12:25:44.741754+02:00",
     "start_time": "2020-05-20T12:25:44.741754Z"
    }
   },
   "outputs": [
    {
     "name": "stdout",
     "output_type": "stream",
     "text": [
      "writing sequence rabi on AWG_M8190A_qudi ch 1 took 5.4354 seconds\n",
      "writing sequence rabi on AWG_M8190A_qudi ch 2 took 5.0586 seconds\n"
     ]
    }
   ],
   "source": [
    "seqRabi.run_sequence()"
   ]
  },
  {
   "cell_type": "code",
   "execution_count": 25,
   "metadata": {
    "ExecuteTime": {
     "end_time": "2020-05-19T17:11:14.740904+02:00",
     "start_time": "2020-05-19T17:11:14.740904Z"
    }
   },
   "outputs": [
    {
     "name": "stdout",
     "output_type": "stream",
     "text": [
      "writing sequence wait on AWG_M8190A_qudi ch 1 took 0.0110 seconds\n",
      "writing sequence wait on AWG_M8190A_qudi ch 2 took 0.0130 seconds\n"
     ]
    }
   ],
   "source": [
    "seqRabi.stop_awgs()"
   ]
  },
  {
   "cell_type": "code",
   "execution_count": 709,
   "metadata": {
    "ExecuteTime": {
     "end_time": "2020-04-08T15:07:56.111664+02:00",
     "start_time": "2020-04-08T15:07:56.111656Z"
    }
   },
   "outputs": [
    {
     "name": "stdout",
     "output_type": "stream",
     "text": [
      "writing sequence Laser on AWG_M8190A_qudi ch 1 took 0.0140 seconds\n",
      "writing sequence Laser on AWG_M8190A_qudi ch 2 took 0.0150 seconds\n"
     ]
    }
   ],
   "source": [
    "seq.run_sequence()"
   ]
  },
  {
   "cell_type": "code",
   "execution_count": 218,
   "metadata": {
    "ExecuteTime": {
     "end_time": "2020-05-05T18:38:51.630390+02:00",
     "start_time": "2020-05-05T18:38:51.630390Z"
    }
   },
   "outputs": [
    {
     "name": "stdout",
     "output_type": "stream",
     "text": [
      "writing sequence wait on AWG_M8190A_qudi ch 1 took 0.0120 seconds\n",
      "writing sequence wait on AWG_M8190A_qudi ch 2 took 0.0120 seconds\n"
     ]
    }
   ],
   "source": [
    "seq.stop_awgs()"
   ]
  },
  {
   "cell_type": "code",
   "execution_count": 22,
   "metadata": {
    "ExecuteTime": {
     "end_time": "2020-05-04T12:06:42.818646+02:00",
     "start_time": "2020-05-04T12:06:42.818646Z"
    }
   },
   "outputs": [
    {
     "name": "stderr",
     "output_type": "stream",
     "text": [
      "Traceback (most recent call last):\n",
      "  File \"C:\\Program Files (x86)\\Qudi\\logic\\jupyterkernel\\qzmqkernel.py\", line 795, in run_code\n",
      "    exec(code_obj, self.user_global_ns, self.user_ns)\n",
      "  File \"<ipython-input-22-6199190daa35>\", line 1, in <module>\n",
      "    awg.awg.write('*IDN?')\n",
      "  File \"C:\\Program Files (x86)\\Qudi\\hardware\\awg\\agilent_m8190a.py\", line 1096, in write\n",
      "    raise Exception('Errors occurred while writing to AWG:\\n' + errors)\n",
      "Exception: Errors occurred while writing to AWG:\n",
      "-410,\"Query INTERRUPTED\"\n",
      "\n"
     ]
    }
   ],
   "source": [
    "awg.awg.write('*IDN?')"
   ]
  },
  {
   "cell_type": "code",
   "execution_count": 217,
   "metadata": {
    "ExecuteTime": {
     "end_time": "2020-05-05T18:36:28.745786+02:00",
     "start_time": "2020-05-05T18:36:28.745786Z"
    }
   },
   "outputs": [
    {
     "data": {
      "text/plain": [
       "0.21428571428571427"
      ]
     },
     "execution_count": 217,
     "metadata": {},
     "output_type": "execute_result"
    }
   ],
   "source": [
    "12/56"
   ]
  },
  {
   "cell_type": "code",
   "execution_count": 56,
   "metadata": {
    "ExecuteTime": {
     "end_time": "2020-05-07T13:51:00.715841+02:00",
     "start_time": "2020-05-07T13:51:00.715841Z"
    }
   },
   "outputs": [
    {
     "data": {
      "text/plain": [
       "<logic.fit_logic.FitContainer object at 0x0000021D2B044A68>"
      ]
     },
     "execution_count": 56,
     "metadata": {},
     "output_type": "execute_result"
    }
   ],
   "source": [
    "pulsedmasterlogic.fit_container."
   ]
  },
  {
   "cell_type": "code",
   "execution_count": null,
   "metadata": {},
   "outputs": [],
   "source": []
  },
  {
   "cell_type": "code",
   "execution_count": 70,
   "metadata": {
    "ExecuteTime": {
     "end_time": "2020-05-20T14:29:50.722540+02:00",
     "start_time": "2020-05-20T14:29:50.722540Z"
    }
   },
   "outputs": [
    {
     "name": "stdout",
     "output_type": "stream",
     "text": [
      "0     Laser             10.000000\n",
      "   0     Starting segment  10.000000\n",
      "      0                       10.000000sine    [1840.] [0.05]  [0.]    0       0       \n",
      "      1     _missing_smpls_   0.000000wait    0       0       \n"
     ]
    }
   ],
   "source": [
    "awg.awg._ch[1].sample_marker_low = 0\n",
    "awg.awg._ch[1].sample_marker_high = 1.5\n",
    "AWG_M8190A_qudi.awg._ch[1].output_amplitude = 0.7\n",
    "\n",
    "\n",
    "seq = mcas.MultiChSeq('Laser', ch_dict = {'awg':[1,2]})\n",
    "seq.awg =awg\n",
    "seq.start_new_segment('Starting segment')\n",
    "\n",
    "\n",
    "# seq.asc(length_mus = 10, green=True, orange = True)\n",
    "seq.asc(pdawg1=dict(type='sine', frequencies=[1840], amplitudes=[0.05]),\n",
    "                length_mus=10)\n",
    "\n",
    "\n",
    "seq.sequences['awg'][1].print_info()"
   ]
  },
  {
   "cell_type": "code",
   "execution_count": 71,
   "metadata": {
    "ExecuteTime": {
     "end_time": "2020-05-20T14:29:51.470570+02:00",
     "start_time": "2020-05-20T14:29:51.470570Z"
    }
   },
   "outputs": [
    {
     "name": "stdout",
     "output_type": "stream",
     "text": [
      "MCAS 'Laser' has been generated.\n"
     ]
    }
   ],
   "source": [
    "seq.write_seq()"
   ]
  },
  {
   "cell_type": "code",
   "execution_count": 72,
   "metadata": {
    "ExecuteTime": {
     "end_time": "2020-05-20T14:29:52.015415+02:00",
     "start_time": "2020-05-20T14:29:52.015415Z"
    }
   },
   "outputs": [
    {
     "name": "stdout",
     "output_type": "stream",
     "text": [
      "writing sequence Laser on AWG_M8190A_qudi ch 1 took 0.0190 seconds\n",
      "writing sequence Laser on AWG_M8190A_qudi ch 2 took 0.0190 seconds\n"
     ]
    }
   ],
   "source": [
    "seq.run_sequence()"
   ]
  },
  {
   "cell_type": "code",
   "execution_count": 74,
   "metadata": {
    "ExecuteTime": {
     "end_time": "2020-05-20T14:35:56.640635+02:00",
     "start_time": "2020-05-20T14:35:56.640635Z"
    }
   },
   "outputs": [],
   "source": [
    "seq.stop_awgs()"
   ]
  },
  {
   "cell_type": "code",
   "execution_count": null,
   "metadata": {},
   "outputs": [],
   "source": []
  }
 ],
 "metadata": {
  "kernelspec": {
   "display_name": "Qudi",
   "language": "python",
   "name": "qudi"
  },
  "language_info": {
   "codemirror_mode": {
    "name": "ipython",
    "version": "3.6.5"
   },
   "file_extension": ".py",
   "mimetype": "text/x-python",
   "name": "python",
   "nbconvert_exporter": "python",
   "pygments_lexer": "ipython3",
   "version": "3.6.5"
  }
 },
 "nbformat": 4,
 "nbformat_minor": 2
}
