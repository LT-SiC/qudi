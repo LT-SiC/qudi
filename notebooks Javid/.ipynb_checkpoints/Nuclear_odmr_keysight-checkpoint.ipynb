{
 "cells": [
  {
   "cell_type": "code",
   "execution_count": 1,
   "metadata": {
    "ExecuteTime": {
     "end_time": "2020-03-27T18:45:35.331120+01:00",
     "start_time": "2020-03-27T18:45:35.331120Z"
    }
   },
   "outputs": [
    {
     "data": {
      "text/plain": [
       "6"
      ]
     },
     "execution_count": 1,
     "metadata": {},
     "output_type": "execute_result"
    }
   ],
   "source": [
    "6"
   ]
  },
  {
   "cell_type": "code",
   "execution_count": 592,
   "metadata": {
    "ExecuteTime": {
     "end_time": "2020-04-07T18:49:59.228567+02:00",
     "start_time": "2020-04-07T18:49:59.228567Z"
    }
   },
   "outputs": [],
   "source": [
    "awg = AWG_M8190A_qudi\n",
    "import hardware.awg.multi_channel_awg_seq as mcas\n",
    "\n",
    "awg.awg._ch[1].sample_marker_low = 0\n",
    "awg.awg._ch[1].sample_marker_high = 1.5\n",
    "AWG_M8190A_qudi.awg._ch[1].output_amplitude = 0.5"
   ]
  },
  {
   "cell_type": "code",
   "execution_count": 593,
   "metadata": {
    "ExecuteTime": {
     "end_time": "2020-04-07T18:49:59.731557+02:00",
     "start_time": "2020-04-07T18:49:59.731557Z"
    }
   },
   "outputs": [],
   "source": [
    "awg.awg._ch[1].sync_marker_high=1.5"
   ]
  },
  {
   "cell_type": "code",
   "execution_count": 628,
   "metadata": {
    "ExecuteTime": {
     "end_time": "2020-04-07T19:18:13.968414+02:00",
     "start_time": "2020-04-07T19:18:13.968414Z"
    }
   },
   "outputs": [
    {
     "name": "stdout",
     "output_type": "stream",
     "text": [
      "0     Laser             10.000000\n",
      "   0     Starting segment  10.000000\n",
      "      0                       10.000000wait    1       0       \n",
      "      1     _missing_smpls_   0.000000wait    0       0       \n"
     ]
    }
   ],
   "source": [
    "awg.awg._ch[1].sample_marker_low = 0\n",
    "awg.awg._ch[1].sample_marker_high = 1.5\n",
    "AWG_M8190A_qudi.awg._ch[1].output_amplitude = 0.5\n",
    "\n",
    "\n",
    "seq = mcas.MultiChSeq('Laser', ch_dict = {'awg':[1,2]})\n",
    "seq.awg =awg\n",
    "seq.start_new_segment('Starting segment')\n",
    "\n",
    "\n",
    "seq.asc(length_mus = 10, green=True, orange = True)\n",
    "\n",
    "\n",
    "seq.sequences['awg'][1].print_info()"
   ]
  },
  {
   "cell_type": "code",
   "execution_count": 629,
   "metadata": {
    "ExecuteTime": {
     "end_time": "2020-04-07T19:18:15.026415+02:00",
     "start_time": "2020-04-07T19:18:15.026415Z"
    }
   },
   "outputs": [
    {
     "name": "stdout",
     "output_type": "stream",
     "text": [
      "MCAS 'Laser' has been generated.\n"
     ]
    }
   ],
   "source": [
    "seq.write_seq()"
   ]
  },
  {
   "cell_type": "code",
   "execution_count": 630,
   "metadata": {
    "ExecuteTime": {
     "end_time": "2020-04-07T19:18:16.693365+02:00",
     "start_time": "2020-04-07T19:18:16.693365Z"
    }
   },
   "outputs": [
    {
     "name": "stdout",
     "output_type": "stream",
     "text": [
      "writing sequence Laser on AWG_M8190A_qudi ch 1 took 0.0240 seconds\n",
      "writing sequence Laser on AWG_M8190A_qudi ch 2 took 0.0170 seconds\n"
     ]
    }
   ],
   "source": [
    "seq.run_sequence()"
   ]
  },
  {
   "cell_type": "code",
   "execution_count": 591,
   "metadata": {
    "ExecuteTime": {
     "end_time": "2020-04-07T18:49:56.798986+02:00",
     "start_time": "2020-04-07T18:49:56.798986Z"
    }
   },
   "outputs": [
    {
     "name": "stdout",
     "output_type": "stream",
     "text": [
      "writing sequence wait on AWG_M8190A_qudi ch 1 took 0.0130 seconds\n",
      "writing sequence wait on AWG_M8190A_qudi ch 2 took 0.0090 seconds\n"
     ]
    }
   ],
   "source": [
    "seq.stop_awgs()"
   ]
  },
  {
   "cell_type": "markdown",
   "metadata": {},
   "source": [
    "## Rabi"
   ]
  },
  {
   "cell_type": "code",
   "execution_count": 8,
   "metadata": {
    "ExecuteTime": {
     "end_time": "2020-03-27T18:45:49.602052+01:00",
     "start_time": "2020-03-27T18:45:49.602052Z"
    }
   },
   "outputs": [
    {
     "data": {
      "text/plain": [
       "(0.5, 0.2)"
      ]
     },
     "execution_count": 8,
     "metadata": {},
     "output_type": "execute_result"
    }
   ],
   "source": [
    "[1,400e-3]\n",
    "0.5,200e-3"
   ]
  },
  {
   "cell_type": "code",
   "execution_count": 9,
   "metadata": {
    "ExecuteTime": {
     "end_time": "2020-03-27T18:45:51.938834+01:00",
     "start_time": "2020-03-27T18:45:51.938834Z"
    }
   },
   "outputs": [
    {
     "data": {
      "text/plain": [
       "0.5"
      ]
     },
     "execution_count": 9,
     "metadata": {},
     "output_type": "execute_result"
    }
   ],
   "source": [
    "AWG_M8190A_qudi.awg._ch[1].output_amplitude"
   ]
  },
  {
   "cell_type": "code",
   "execution_count": 662,
   "metadata": {
    "ExecuteTime": {
     "end_time": "2020-04-08T12:35:46.323757+02:00",
     "start_time": "2020-04-08T12:35:46.323757Z"
    }
   },
   "outputs": [],
   "source": [
    "awg = AWG_M8190A_qudi\n",
    "import hardware.awg.multi_channel_awg_seq as mcas\n",
    "\n",
    "awg.awg._ch[1].sample_marker_low = 0\n",
    "awg.awg._ch[1].sample_marker_high = 1.5\n",
    "AWG_M8190A_qudi.awg._ch[1].output_amplitude = 0.5\n",
    "\n",
    "\n",
    "def awg_electronrabi(taus):\n",
    "    seq = mcas.MultiChSeq('rabi', ch_dict={'awg': [1, 2]})\n",
    "#     phases = [0.,180.]\n",
    "    awg_freq = 2204.785 #2205.45  # in MHz\n",
    "    electron_amp = 0.15 # AU 300mV peak to peak\n",
    "#     electron_pi = 1.4/2 # us\n",
    "    oscReadoutPhaseFreq = 0\n",
    "    nitrogen_transition = 14.0733\n",
    "    rf_safety = 1\n",
    "    \n",
    "    for tau in taus:\n",
    "        \n",
    "        seq.start_new_segment('rabi')\n",
    "        \n",
    "        seq.asc(pdawg1=dict(type='sine', frequencies=[awg_freq], amplitudes=[electron_amp]),\n",
    "                length_mus=tau)\n",
    "        seq = awg_AddWait(seq, 1)\n",
    "        seq = awg_AddReadout(seq)\n",
    "        \n",
    "    return seq\n",
    "\n",
    "def awg_AddReadout(seq):\n",
    "    length_laserreadout_ns = 3000\n",
    "    length_lasersafety_ns = 4000\n",
    "    AOMdelay_ns = 400\n",
    "    length_laserreadout_smpl = length_laserreadout_ns / 1e3 * 12e3\n",
    "    AOMdelay_sample = AOMdelay_ns  / 1e3 * 12e3\n",
    "    \n",
    "    while length_laserreadout_smpl % 64 != 0:\n",
    "        length_laserreadout_smpl += 1\n",
    "        \n",
    "    seq.asc(length_mus=0.5)  # 2nd step\n",
    "#     seq.asc(length_mus = 10, green=False, orange = True) #green on, AOM off\n",
    "\n",
    "    seq.asc(timetagger=False,green=True,orange=False, length_smpl=AOMdelay_sample)\n",
    "    seq.asc(timetagger=True,green=True,orange=True, length_smpl=length_laserreadout_smpl)    \n",
    "    seq.asc(timetagger=True,green=False,orange=True, length_smpl=AOMdelay_sample)\n",
    "\n",
    "    seq.asc(length_mus= length_lasersafety_ns / 1e3)\n",
    "    return seq\n",
    "\n",
    "def awg_AddWait(seq, time, orange=False, green=False):\n",
    "    enable_reuse_segments = False\n",
    "    if time < 0.:\n",
    "        for i in range(3): \n",
    "            print ('Negative time for sequence in AWG!!!')\n",
    "    elif time > 10.:\n",
    "        if int(time / (32 / 12.)) >= 1:\n",
    "            seq.start_new_segment('wait_loop', reuse_segment=enable_reuse_segments,\n",
    "                                  loop_count=int(time / (32 / 12.)))\n",
    "            seq.asc(length_smpl=32000, orange=orange, green=green)\n",
    "        seq.start_new_segment('wait_additional')\n",
    "        seq.asc(length_mus=time % (32 / 12.), orange=orange, green=green)\n",
    "    else:\n",
    "        seq.asc(length_mus=time, orange=orange, green=green)\n",
    "    return seq\n",
    "\n",
    "def AddRfSafety(seq):\n",
    "    rf_safety = 1\n",
    "    seq.asc(length_mus=rf_safety)\n",
    "    return seq\n",
    "\n",
    "# taus = np.linspace(100,1000,91)\n",
    "# taus = np.arange(0.01,130,1.)\n",
    "taus = np.arange(.01, 8, 0.05)\n",
    "\n",
    "seqRabi = awg_electronrabi(taus)\n",
    "seqRabi.awg = awg\n",
    "\n",
    "\n",
    "\n",
    "\n",
    "# pulsedmasterlogic.set_measurement_settings(invoke_settings=False, \n",
    "#                                            controlled_variable= taus,\n",
    "#                                            number_of_lasers=2*len(taus), \n",
    "#                                            laser_ignore_list=[], \n",
    "#                                            alternating=True, \n",
    "#                                            units=('s', 'arb. u.'))\n",
    "\n",
    "\n"
   ]
  },
  {
   "cell_type": "code",
   "execution_count": 663,
   "metadata": {
    "ExecuteTime": {
     "end_time": "2020-04-08T12:35:46.700145+02:00",
     "start_time": "2020-04-08T12:35:46.700145Z"
    }
   },
   "outputs": [],
   "source": [
    "\n",
    "pulsedmasterlogic.set_measurement_settings(invoke_settings=False, \n",
    "                                           controlled_variable= taus*1e-6,\n",
    "                                           number_of_lasers=len(taus), \n",
    "                                           laser_ignore_list=[], \n",
    "                                           alternating=False, \n",
    "                                           units=('s', 'arb. u.'))"
   ]
  },
  {
   "cell_type": "code",
   "execution_count": 664,
   "metadata": {
    "ExecuteTime": {
     "end_time": "2020-04-08T12:35:47.209808+02:00",
     "start_time": "2020-04-08T12:35:47.209808Z"
    }
   },
   "outputs": [
    {
     "name": "stdout",
     "output_type": "stream",
     "text": [
      "MCAS 'rabi' has been generated.\n"
     ]
    }
   ],
   "source": [
    "seqRabi.write_seq()"
   ]
  },
  {
   "cell_type": "code",
   "execution_count": 665,
   "metadata": {
    "ExecuteTime": {
     "end_time": "2020-04-08T12:35:51.995735+02:00",
     "start_time": "2020-04-08T12:35:51.995735Z"
    }
   },
   "outputs": [
    {
     "name": "stdout",
     "output_type": "stream",
     "text": [
      "writing sequence rabi on AWG_M8190A_qudi ch 1 took 2.2379 seconds\n",
      "writing sequence rabi on AWG_M8190A_qudi ch 2 took 1.8311 seconds\n"
     ]
    }
   ],
   "source": [
    "seqRabi.run_sequence()"
   ]
  },
  {
   "cell_type": "code",
   "execution_count": 651,
   "metadata": {
    "ExecuteTime": {
     "end_time": "2020-04-07T19:31:31.973713+02:00",
     "start_time": "2020-04-07T19:31:31.972714Z"
    }
   },
   "outputs": [
    {
     "name": "stdout",
     "output_type": "stream",
     "text": [
      "writing sequence wait on AWG_M8190A_qudi ch 1 took 0.0150 seconds\n",
      "writing sequence wait on AWG_M8190A_qudi ch 2 took 0.0090 seconds\n"
     ]
    }
   ],
   "source": [
    "seqRabi.stop_awgs()"
   ]
  },
  {
   "cell_type": "code",
   "execution_count": 658,
   "metadata": {
    "ExecuteTime": {
     "end_time": "2020-04-08T12:23:20.212251+02:00",
     "start_time": "2020-04-08T12:23:20.212251Z"
    }
   },
   "outputs": [
    {
     "name": "stdout",
     "output_type": "stream",
     "text": [
      "writing sequence Laser on AWG_M8190A_qudi ch 1 took 0.0210 seconds\n",
      "writing sequence Laser on AWG_M8190A_qudi ch 2 took 0.0210 seconds\n"
     ]
    }
   ],
   "source": [
    "seq.run_sequence()"
   ]
  },
  {
   "cell_type": "code",
   "execution_count": 659,
   "metadata": {
    "ExecuteTime": {
     "end_time": "2020-04-08T12:35:07.138912+02:00",
     "start_time": "2020-04-08T12:35:07.138912Z"
    }
   },
   "outputs": [
    {
     "name": "stdout",
     "output_type": "stream",
     "text": [
      "writing sequence wait on AWG_M8190A_qudi ch 1 took 0.0100 seconds\n",
      "writing sequence wait on AWG_M8190A_qudi ch 2 took 0.0160 seconds\n"
     ]
    }
   ],
   "source": [
    "seq.stop_awgs()"
   ]
  },
  {
   "cell_type": "code",
   "execution_count": null,
   "metadata": {},
   "outputs": [],
   "source": []
  }
 ],
 "metadata": {
  "kernelspec": {
   "display_name": "Qudi",
   "language": "python",
   "name": "qudi"
  },
  "language_info": {
   "codemirror_mode": {
    "name": "ipython",
    "version": "3.6.5"
   },
   "file_extension": ".py",
   "mimetype": "text/x-python",
   "name": "python",
   "nbconvert_exporter": "python",
   "pygments_lexer": "ipython3",
   "version": "3.6.5"
  }
 },
 "nbformat": 4,
 "nbformat_minor": 2
}
