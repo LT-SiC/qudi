{
 "cells": [
  {
   "cell_type": "markdown",
   "metadata": {
    "heading_collapsed": true
   },
   "source": [
    "# Problems\n"
   ]
  },
  {
   "cell_type": "markdown",
   "metadata": {
    "hidden": true
   },
   "source": [
    "### CountBetweenMarkers WORKS ONLY WITH 1 Channel"
   ]
  },
  {
   "cell_type": "markdown",
   "metadata": {},
   "source": [
    "# Definitions"
   ]
  },
  {
   "cell_type": "code",
   "execution_count": 17,
   "metadata": {
    "ExecuteTime": {
     "end_time": "2019-10-31T09:41:20.484361+01:00",
     "start_time": "2019-10-31T09:41:20.484361Z"
    }
   },
   "outputs": [],
   "source": [
    "from collections import OrderedDict\n",
    "import datetime\n",
    "import matplotlib.pyplot as plt\n",
    "import numpy as np\n",
    "import time\n",
    "import traceback\n",
    "from core.module import Connector, StatusVar\n",
    "from core.util.mutex import Mutex\n",
    "from logic.generic_logic import GenericLogic\n",
    "from qtpy import QtCore\n",
    "from PyDAQmx import Task\n",
    "import TimeTagger as tt\n",
    "import PyDAQmx\n",
    "import datetime\n"
   ]
  },
  {
   "cell_type": "code",
   "execution_count": 15,
   "metadata": {
    "ExecuteTime": {
     "end_time": "2019-10-30T18:09:46.837409+01:00",
     "start_time": "2019-10-30T18:09:46.837409Z"
    }
   },
   "outputs": [],
   "source": [
    "\"\"\" Simple example of digital output\n",
    "\n",
    "    This example outputs the values of data on line 0 to 7\n",
    "\"\"\"\n",
    "\n",
    "off = np.array([0,0,0,0,0,0,0,0], dtype=np.uint8)\n",
    "green = np.array([0,1,0,0,0,0,0,0], dtype=np.uint8)\n",
    "markers = np.array([0,0,1,0,0,0,0,0], dtype=np.uint8)\n",
    "redAOM = np.array([0,0,0,1,0,0,0,0], dtype=np.uint8)\n",
    "redAOM2 = np.array([0,0,0,0,1,0,0,0], dtype=np.uint8)\n",
    "\n",
    "task = Task()\n",
    "task.CreateDOChan(\"/Dev4/port1/line0:7\",\"\",PyDAQmx.DAQmx_Val_ChanForAllLines)\n",
    "\n",
    "\n",
    "def greenFunc():\n",
    "    task.StartTask()\n",
    "    task.WriteDigitalLines(1,1,10.0,PyDAQmx.DAQmx_Val_GroupByChannel,green,None,None)\n",
    "    task.StopTask()\n",
    "    \n",
    "def redExFunc():\n",
    "    task.StartTask()\n",
    "    task.WriteDigitalLines(1,1,10.0,PyDAQmx.DAQmx_Val_GroupByChannel,redAOM,None,None)\n",
    "    task.StopTask()\n",
    "    \n",
    "def redA1Func():\n",
    "    task.StartTask()\n",
    "    task.WriteDigitalLines(1,1,10.0,PyDAQmx.DAQmx_Val_GroupByChannel,redAOM2,None,None)\n",
    "    task.StopTask()\n",
    "\n",
    "def offFunc():\n",
    "    task.StartTask()\n",
    "    task.WriteDigitalLines(1,1,10.0,PyDAQmx.DAQmx_Val_GroupByChannel,off,None,None)\n",
    "    task.StopTask()\n",
    "\n",
    "    \n",
    "countBM = tt.CountBetweenMarkers(\n",
    "    tagger=fastcounter._tagger,\n",
    "    click_channel=1,\n",
    "    begin_channel=4,\n",
    "    n_values=1)\n",
    "    \n",
    "def readoutFunc(readouttime):\n",
    "    countBM.clear() # Clear the buffer\n",
    "    \n",
    "    task.StartTask()\n",
    "    task.WriteDigitalLines(1,1,10.0,PyDAQmx.DAQmx_Val_GroupByChannel,markers,None,None)\n",
    "    time.sleep(readouttime)\n",
    "    task.StopTask()\n",
    "    offFunc()\n",
    "    \n",
    "    return countBM.getData()[0]\n",
    "    \n"
   ]
  },
  {
   "cell_type": "code",
   "execution_count": 20,
   "metadata": {
    "ExecuteTime": {
     "end_time": "2019-10-31T09:48:00.706342+01:00",
     "start_time": "2019-10-31T09:48:00.706342Z"
    }
   },
   "outputs": [
    {
     "data": {
      "text/plain": [
       "[0.0, 0.0, 0.0, 0.0]"
      ]
     },
     "execution_count": 20,
     "metadata": {},
     "output_type": "execute_result"
    }
   ],
   "source": [
    "laserscannerlogic._scanning_device.get_scanner_position()"
   ]
  },
  {
   "cell_type": "code",
   "execution_count": null,
   "metadata": {},
   "outputs": [],
   "source": []
  },
  {
   "cell_type": "code",
   "execution_count": null,
   "metadata": {},
   "outputs": [],
   "source": []
  },
  {
   "cell_type": "code",
   "execution_count": 21,
   "metadata": {
    "ExecuteTime": {
     "end_time": "2019-10-31T09:49:43.764453+01:00",
     "start_time": "2019-10-31T09:49:43.764453Z"
    }
   },
   "outputs": [],
   "source": [
    "def init_scanner(v_min=None, v_max=None, speed = None):\n",
    "#     greenFunc()\n",
    "#     time.sleep(0.1)\n",
    "#     redFunc()\n",
    "\n",
    "    if speed is not None:\n",
    "        laserscannerlogic.set_scan_speed(speed)    \n",
    "    else:\n",
    "        laserscannerlogic.set_scan_speed(0.1)\n",
    "\n",
    "    try:\n",
    "        if laserscannerlogic._pulse_generator_device.get_loaded_assets()[0][1]=='PLE':\n",
    "            laserscannerlogic._pulse_generator_device.set_active_channels({'a_ch1': True, 'a_ch2': True})\n",
    "            time.sleep(0.5)\n",
    "            laserscannerlogic._pulse_generator_device.pulser_on()\n",
    "            laserscannerlogic.odmrlogic().mw_cw_on()\n",
    "        else:\n",
    "            laserscannerlogic.log.error('load PLE sequence on AWG')\n",
    "            laserscannerlogic._pulse_generator_device.pulser_off()\n",
    "            laserscannerlogic._pulse_generator_device.set_active_channels({'a_ch1': False, 'a_ch2': False})\n",
    "            laserscannerlogic.odmrlogic().mw_off()\n",
    "            laserscannerlogic.stop_scanning()\n",
    "    #         return -1\n",
    "\n",
    "\n",
    "        if v_min is not None:\n",
    "            laserscannerlogic.scan_range[0] = v_min\n",
    "        else:\n",
    "            v_min = laserscannerlogic.scan_range[0]\n",
    "        if v_max is not None:\n",
    "            laserscannerlogic.scan_range[1] = v_max\n",
    "        else:\n",
    "            v_max = laserscannerlogic.scan_range[1]\n",
    "\n",
    "        laserscannerlogic._scan_counter_up = 0\n",
    "        laserscannerlogic._scan_counter_down = 0\n",
    "        laserscannerlogic.upwards_scan = True\n",
    "\n",
    "        # TODO: Generate Ramps\n",
    "        laserscannerlogic._upwards_ramp = laserscannerlogic._generate_ramp(v_min, v_max, laserscannerlogic._scan_speed)\n",
    "\n",
    "\n",
    "        laserscannerlogic._downwards_ramp = laserscannerlogic._generate_ramp(v_max, v_min, laserscannerlogic._scan_speed)\n",
    "\n",
    "        laserscannerlogic._initialise_data_matrix(len(laserscannerlogic._upwards_ramp))\n",
    "\n",
    "        # Lock and set up scanner\n",
    "        returnvalue = laserscannerlogic._initialise_scanner()\n",
    "        if returnvalue < 0:\n",
    "            print('error in scanner init')\n",
    "            # TODO: error message\n",
    "            return -1\n",
    "        laserscannerlogic.sigScanStarted.emit()\n",
    "\n",
    "    except Exception as e:\n",
    "        laserscannerlogic.log.error('The scan went wrong, killing the scanner.')\n",
    "        laserscannerlogic.stop_scanning()\n",
    "        raise e\n",
    "\n",
    "def kill_scanner():\n",
    "    laserscannerlogic.stop_scanning()\n",
    "    laserscannerlogic._close_scanner()"
   ]
  },
  {
   "cell_type": "code",
   "execution_count": 4,
   "metadata": {
    "ExecuteTime": {
     "end_time": "2019-10-30T15:17:54.148237+01:00",
     "start_time": "2019-10-30T15:17:54.148237Z"
    }
   },
   "outputs": [],
   "source": [
    "kill_scanner()"
   ]
  },
  {
   "cell_type": "markdown",
   "metadata": {
    "ExecuteTime": {
     "end_time": "2019-10-29T11:07:12.211530+01:00",
     "start_time": "2019-10-29T11:07:12.211530Z"
    }
   },
   "source": [
    "# SingleShotReadout CODE"
   ]
  },
  {
   "cell_type": "code",
   "execution_count": 5,
   "metadata": {
    "ExecuteTime": {
     "end_time": "2019-10-30T15:17:58.305867+01:00",
     "start_time": "2019-10-30T15:17:58.305867Z"
    }
   },
   "outputs": [],
   "source": [
    "repumpTime = 0.001\n",
    "ssr = []\n",
    "scan_counts=[]\n",
    "counts = []\n",
    "isStop = False\n",
    "    \n",
    "    \n",
    "def scan():\n",
    "    inf = 1/min(np.array([0,1]))\n",
    "    laserscannerlogic.odmrlogic().mw_cw_on()\n",
    "    time.sleep(0.02)\n",
    "    try:\n",
    "        global counts,upwards_ramp,downwards_ramp\n",
    "        laserscannerlogic._upwards_ramp = upwards_ramp\n",
    "        laserscannerlogic._downwards_ramp = downwards_ramp        \n",
    "        greenFunc()        \n",
    "        time.sleep(repumpTime)\n",
    "        index = 0\n",
    "        for j in range(5):\n",
    "            index+=1\n",
    "            redFunc()\n",
    "            counts =  laserscannerlogic._do_next_one_line()\n",
    "            if counts is None:\n",
    "                print('COUNTS are NONE in scan!!!')\n",
    "                laserscannerlogic.odmrlogic().mw_off()\n",
    "                time.sleep(0.02)\n",
    "                break;\n",
    "            else:\n",
    "                scan_counts.append(counts)\n",
    "#                 print('index: ',index)\n",
    "                tempcounts = [ee for ee in counts if ee!=0]\n",
    "                ratio = max(tempcounts)/min(tempcounts)\n",
    "#                 print('ratio ',ratio )\n",
    "                if ratio<70:\n",
    "                    greenFunc()\n",
    "                    time.sleep(repumpTime)\n",
    "                else:\n",
    "                    laserscannerlogic.odmrlogic().mw_off()\n",
    "                    time.sleep(0.02)\n",
    "                    break;\n",
    "                    return 0\n",
    "                \n",
    "        if index ==10:\n",
    "            isStop  = True\n",
    "            print('STOPPED repump index == 10')\n",
    "            laserscannerlogic.odmrlogic().mw_off()  \n",
    "            time.sleep(0.02)\n",
    "            return 1\n",
    "        \n",
    "    except Exception as e:\n",
    "        print('exception!')\n",
    "        print('counts ',counts)\n",
    "        print('laserscannerlogic._upwards_ramp ',laserscannerlogic._upwards_ramp )\n",
    "        print('laserscannerlogic._downwards_ramp ',laserscannerlogic._downwards_ramp )\n",
    "                    \n",
    "# SHOULD BE SCANNING WITH SWEEPED TIME\n"
   ]
  },
  {
   "cell_type": "code",
   "execution_count": 7,
   "metadata": {
    "ExecuteTime": {
     "end_time": "2019-10-30T15:18:06.185993+01:00",
     "start_time": "2019-10-30T15:18:06.185993Z"
    }
   },
   "outputs": [],
   "source": [
    "kill_scanner()"
   ]
  },
  {
   "cell_type": "code",
   "execution_count": null,
   "metadata": {},
   "outputs": [],
   "source": [
    "# v0= -0.895\n",
    "# v1= -0.875\n",
    "# laserscannerlogic.set_clock_frequency(150)\n",
    "# init_scanner(v_min = v0,v_max = v1,speed= 0.01)"
   ]
  },
  {
   "cell_type": "code",
   "execution_count": 6,
   "metadata": {
    "ExecuteTime": {
     "end_time": "2019-10-30T15:18:03.682404+01:00",
     "start_time": "2019-10-30T15:18:03.682404Z"
    }
   },
   "outputs": [],
   "source": [
    "_v_min = -0.95\n",
    "_v_max = -0.75\n",
    "laserscannerlogic.set_clock_frequency(150)\n",
    "speed = 0.01\n",
    "\n",
    "upwards_ramp = laserscannerlogic._generate_ramp(_v_min, _v_max, speed)\n",
    "downwards_ramp = laserscannerlogic._generate_ramp(_v_max, _v_min, speed)\n",
    "\n",
    "init_scanner(v_min = _v_min,v_max = _v_max,speed= speed)"
   ]
  },
  {
   "cell_type": "code",
   "execution_count": null,
   "metadata": {
    "ExecuteTime": {
     "end_time": "2019-10-30T13:08:56.656678+01:00",
     "start_time": "2019-10-30T13:08:56.656678Z"
    }
   },
   "outputs": [],
   "source": []
  },
  {
   "cell_type": "code",
   "execution_count": 458,
   "metadata": {
    "ExecuteTime": {
     "end_time": "2019-10-30T13:12:38.136432+01:00",
     "start_time": "2019-10-30T13:12:38.136432Z"
    }
   },
   "outputs": [
    {
     "data": {
      "image/png": "[encoded data removed]"
     },
     "metadata": {
      "image/png": {
       "height": 361,
       "width": 558
      }
     },
     "output_type": "display_data"
    }
   ],
   "source": [
    "scan()\n",
    "plt.plot(np.linspace(_v_min,_v_max,len(counts)),counts,'-')\n",
    "# plt.savefig('nice PLE single scan.png')\n",
    "plt.show()"
   ]
  },
  {
   "cell_type": "code",
   "execution_count": 117,
   "metadata": {
    "ExecuteTime": {
     "end_time": "2019-10-30T11:02:13.845822+01:00",
     "start_time": "2019-10-30T11:02:13.845822Z"
    }
   },
   "outputs": [
    {
     "data": {
      "text/plain": [
       "('cw', False)"
      ]
     },
     "execution_count": 117,
     "metadata": {},
     "output_type": "execute_result"
    }
   ],
   "source": [
    "laserscannerlogic.odmrlogic().mw_off()\n"
   ]
  },
  {
   "cell_type": "code",
   "execution_count": 52,
   "metadata": {
    "ExecuteTime": {
     "end_time": "2019-10-30T17:18:25.077095+01:00",
     "start_time": "2019-10-30T17:18:25.077095Z"
    }
   },
   "outputs": [],
   "source": [
    "kill_scanner()"
   ]
  },
  {
   "cell_type": "code",
   "execution_count": 30,
   "metadata": {
    "ExecuteTime": {
     "end_time": "2019-10-30T15:25:31.132084+01:00",
     "start_time": "2019-10-30T15:25:31.132084Z"
    }
   },
   "outputs": [],
   "source": [
    "_v_min = -0.825\n",
    "_v_max = -0.805\n",
    "laserscannerlogic.set_clock_frequency(150)\n",
    "speed = 0.05\n",
    "\n",
    "upwards_ramp = laserscannerlogic._generate_ramp(_v_min, _v_max, speed)\n",
    "downwards_ramp = laserscannerlogic._generate_ramp(_v_max, _v_min, speed)\n",
    "\n",
    "init_scanner(v_min = _v_min,v_max = _v_max,speed= speed)"
   ]
  },
  {
   "cell_type": "code",
   "execution_count": 31,
   "metadata": {
    "ExecuteTime": {
     "end_time": "2019-10-30T15:25:37.832194+01:00",
     "start_time": "2019-10-30T15:25:37.832194Z"
    }
   },
   "outputs": [],
   "source": [
    "task.StartTask()\n",
    "task.WriteDigitalLines(1,1,10.0,PyDAQmx.DAQmx_Val_GroupByChannel,green,None,None)\n",
    "task.StopTask()\n",
    "\n",
    "time.sleep(0.01)\n",
    "\n",
    "task.StartTask()\n",
    "task.WriteDigitalLines(1,1,10.0,PyDAQmx.DAQmx_Val_GroupByChannel,redAOM,None,None)\n",
    "task.StopTask()\n",
    "\n",
    "counts = laserscannerlogic._do_next_one_line()\n"
   ]
  },
  {
   "cell_type": "code",
   "execution_count": 32,
   "metadata": {
    "ExecuteTime": {
     "end_time": "2019-10-30T15:25:42.165189+01:00",
     "start_time": "2019-10-30T15:25:42.165189Z"
    }
   },
   "outputs": [
    {
     "data": {
      "image/png": "[encoded data removed]"
     },
     "metadata": {
      "image/png": {
       "height": 361,
       "width": 564
      }
     },
     "output_type": "display_data"
    }
   ],
   "source": [
    "plt.plot(np.linspace(_v_min,_v_max,len(counts)),counts,'-')\n",
    "# plt.savefig('nice PLE single scan.png')\n",
    "plt.show()\n",
    "\n"
   ]
  },
  {
   "cell_type": "code",
   "execution_count": 33,
   "metadata": {
    "ExecuteTime": {
     "end_time": "2019-10-30T15:25:44.340198+01:00",
     "start_time": "2019-10-30T15:25:44.340198Z"
    }
   },
   "outputs": [
    {
     "name": "stdout",
     "output_type": "stream",
     "text": [
      "-0.813135593220339\n"
     ]
    },
    {
     "data": {
      "text/plain": [
       "0"
      ]
     },
     "execution_count": 33,
     "metadata": {},
     "output_type": "execute_result"
    }
   ],
   "source": [
    "offFunc()\n",
    "\n",
    "resonance = np.linspace(_v_min,_v_max ,len(counts))[np.argmax(counts)]\n",
    "print(resonance)\n",
    "\n",
    "laserscannerlogic._goto_during_scan(resonance)"
   ]
  },
  {
   "cell_type": "code",
   "execution_count": 38,
   "metadata": {
    "ExecuteTime": {
     "end_time": "2019-10-30T15:26:01.115255+01:00",
     "start_time": "2019-10-30T15:26:01.115255Z"
    }
   },
   "outputs": [
    {
     "name": "stdout",
     "output_type": "stream",
     "text": [
      "cteset  689\n"
     ]
    }
   ],
   "source": [
    "cteset = readoutFunc(1e-1)\n",
    "print('cteset ',cteset)"
   ]
  },
  {
   "cell_type": "code",
   "execution_count": 107,
   "metadata": {
    "ExecuteTime": {
     "end_time": "2019-10-30T15:04:41.179701+01:00",
     "start_time": "2019-10-30T15:04:41.179701Z"
    }
   },
   "outputs": [],
   "source": [
    "greenFunc()"
   ]
  },
  {
   "cell_type": "code",
   "execution_count": 39,
   "metadata": {
    "ExecuteTime": {
     "end_time": "2019-10-30T15:26:07.254077+01:00",
     "start_time": "2019-10-30T15:26:07.254077Z"
    }
   },
   "outputs": [
    {
     "data": {
      "text/plain": [
       "('cw', False)"
      ]
     },
     "execution_count": 39,
     "metadata": {},
     "output_type": "execute_result"
    }
   ],
   "source": [
    "laserscannerlogic.odmrlogic().mw_off()\n"
   ]
  },
  {
   "cell_type": "code",
   "execution_count": 479,
   "metadata": {
    "ExecuteTime": {
     "end_time": "2019-10-30T13:13:42.831919+01:00",
     "start_time": "2019-10-30T13:13:42.831919Z"
    }
   },
   "outputs": [
    {
     "data": {
      "text/plain": [
       "('cw', True)"
      ]
     },
     "execution_count": 479,
     "metadata": {},
     "output_type": "execute_result"
    }
   ],
   "source": [
    "laserscannerlogic.odmrlogic().mw_cw_on()"
   ]
  },
  {
   "cell_type": "code",
   "execution_count": null,
   "metadata": {},
   "outputs": [],
   "source": []
  },
  {
   "cell_type": "code",
   "execution_count": 57,
   "metadata": {
    "ExecuteTime": {
     "end_time": "2019-10-29T20:42:53.395444+01:00",
     "start_time": "2019-10-29T20:42:53.395444Z"
    }
   },
   "outputs": [
    {
     "data": {
      "text/plain": [
       "True"
      ]
     },
     "execution_count": 57,
     "metadata": {},
     "output_type": "execute_result"
    }
   ],
   "source": [
    "inf = 1/min(np.array([0,1]))\n",
    "1/min(counts)==inf"
   ]
  },
  {
   "cell_type": "code",
   "execution_count": 40,
   "metadata": {
    "ExecuteTime": {
     "end_time": "2019-10-30T15:35:48.042419+01:00",
     "start_time": "2019-10-30T15:35:48.042419Z"
    }
   },
   "outputs": [],
   "source": [
    "start = 1e-6\n",
    "stop =30e-6\n",
    "n = 50 # amount of points\n",
    "step = (stop-start) / n\n",
    "readouttime = 1e-1\n",
    "m = 50# how much times should code measure every point\n",
    "data = np.zeros((n,m))\n",
    "offFunc()\n",
    "times = np.linspace(start,stop,n)\n",
    "\n",
    "scan()\n",
    "\n",
    "offFunc()\n",
    "resonance = np.linspace(_v_min,_v_max,len(counts))[np.argmax(counts)]\n",
    "laserscannerlogic._goto_during_scan(resonance)\n",
    "laserscannerlogic.odmrlogic().mw_off()\n",
    "time.sleep(0.02)\n",
    "\n",
    "for t in range(len(times)):\n",
    "    \n",
    "    scan()\n",
    "    offFunc()\n",
    "    resonance = np.linspace(_v_min,_v_max,len(counts))[np.argmax(counts)]\n",
    "    laserscannerlogic._goto_during_scan(resonance)\n",
    "    laserscannerlogic.odmrlogic().mw_off()\n",
    "    time.sleep(0.02)\n",
    "    \n",
    "    for i in range(m):   \n",
    "        redFunc()\n",
    "        time.sleep(times[t])   \n",
    "        ccc = readoutFunc(readouttime)\n",
    "        data[t][i] = ccc\n",
    "        \n",
    "        greenFunc()\n",
    "        time.sleep(0.1)"
   ]
  },
  {
   "cell_type": "code",
   "execution_count": 44,
   "metadata": {
    "ExecuteTime": {
     "end_time": "2019-10-30T15:52:03.299900+01:00",
     "start_time": "2019-10-30T15:52:03.299900Z"
    }
   },
   "outputs": [
    {
     "data": {
      "text/plain": [
       "array([[  0.,  54.,  52., ...,  13.,   7.,  65.],\n",
       "       [ 51.,  26.,   3., ...,  81.,  91.,  56.],\n",
       "       [  4.,  79.,  66., ...,  61.,  23.,  20.],\n",
       "       ...,\n",
       "       [ 84.,  55.,  27., ..., 108.,  27.,  39.],\n",
       "       [ 36.,  31.,  14., ...,  79.,  25.,  18.],\n",
       "       [ 26.,   9.,  95., ...,  30.,   4.,  60.]])"
      ]
     },
     "execution_count": 44,
     "metadata": {},
     "output_type": "execute_result"
    }
   ],
   "source": [
    "data"
   ]
  },
  {
   "cell_type": "code",
   "execution_count": 41,
   "metadata": {
    "ExecuteTime": {
     "end_time": "2019-10-30T15:35:48.044418+01:00",
     "start_time": "2019-10-30T15:35:48.044418Z"
    }
   },
   "outputs": [],
   "source": [
    "datatemp = data.copy()\n",
    "y=[]\n",
    "for it in range(len(datatemp)):\n",
    "    y.append(sum(datatemp[it]))\n",
    "    "
   ]
  },
  {
   "cell_type": "code",
   "execution_count": null,
   "metadata": {},
   "outputs": [],
   "source": [
    "\n"
   ]
  },
  {
   "cell_type": "code",
   "execution_count": 42,
   "metadata": {
    "ExecuteTime": {
     "end_time": "2019-10-30T15:35:48.261591+01:00",
     "start_time": "2019-10-30T15:35:48.261591Z"
    }
   },
   "outputs": [
    {
     "data": {
      "image/png": "[encoded data removed]"
     },
     "metadata": {
      "image/png": {
       "height": 361,
       "width": 539
      }
     },
     "output_type": "display_data"
    }
   ],
   "source": [
    "\n",
    "plt.imshow(data,interpolation='nearest', aspect='auto')\n",
    "plt.show()\n",
    "\n"
   ]
  },
  {
   "cell_type": "code",
   "execution_count": 43,
   "metadata": {
    "ExecuteTime": {
     "end_time": "2019-10-30T15:35:48.454499+01:00",
     "start_time": "2019-10-30T15:35:48.454499Z"
    }
   },
   "outputs": [
    {
     "data": {
      "image/png": "[encoded data removed]"
     },
     "metadata": {
      "image/png": {
       "height": 361,
       "width": 552
      }
     },
     "output_type": "display_data"
    }
   ],
   "source": [
    "plt.plot(y)\n",
    "plt.show()"
   ]
  },
  {
   "cell_type": "code",
   "execution_count": null,
   "metadata": {},
   "outputs": [],
   "source": []
  },
  {
   "cell_type": "code",
   "execution_count": 49,
   "metadata": {
    "ExecuteTime": {
     "end_time": "2019-10-30T15:57:53.111843+01:00",
     "start_time": "2019-10-30T15:57:53.111843Z"
    }
   },
   "outputs": [],
   "source": [
    "# tempcounts = [ee for ee in counts if ee!=0]\n",
    "x = []\n",
    "z = []\n",
    "datatemp = data.copy()\n",
    "for it in range(len(datatemp)):\n",
    "#     ter = [ees for ees in datatemp[it] if ees>20]\n",
    "    z.append(np.average(datatemp[it]))\n",
    "#     for r in ter:\n",
    "#         x.append(it)\n",
    "#         z.append(r)\n"
   ]
  },
  {
   "cell_type": "code",
   "execution_count": 50,
   "metadata": {
    "ExecuteTime": {
     "end_time": "2019-10-30T15:57:53.981426+01:00",
     "start_time": "2019-10-30T15:57:53.981426Z"
    }
   },
   "outputs": [
    {
     "data": {
      "image/png": "[encoded data removed]"
     },
     "metadata": {
      "image/png": {
       "height": 361,
       "width": 549
      }
     },
     "output_type": "display_data"
    }
   ],
   "source": [
    "plt.plot(z,'o')\n",
    "plt.show()"
   ]
  },
  {
   "cell_type": "code",
   "execution_count": null,
   "metadata": {},
   "outputs": [],
   "source": []
  },
  {
   "cell_type": "code",
   "execution_count": 50,
   "metadata": {
    "ExecuteTime": {
     "end_time": "2019-10-30T14:52:39.725752+01:00",
     "start_time": "2019-10-30T14:52:39.725752Z"
    }
   },
   "outputs": [],
   "source": [
    "start = 1e-6\n",
    "stop =30e-6\n",
    "n = 20 # amount of points\n",
    "step = (stop-start) / n\n",
    "readouttime = 1e-1\n",
    "m = 5 # how much times should code measure every point\n",
    "data = np.zeros((n,m))\n",
    "offFunc()\n",
    "times = np.linspace(start,stop,n)\n",
    "\n"
   ]
  },
  {
   "cell_type": "code",
   "execution_count": 51,
   "metadata": {
    "ExecuteTime": {
     "end_time": "2019-10-30T14:52:50.611616+01:00",
     "start_time": "2019-10-30T14:52:50.611616Z"
    }
   },
   "outputs": [
    {
     "data": {
      "text/plain": [
       "20"
      ]
     },
     "execution_count": 51,
     "metadata": {},
     "output_type": "execute_result"
    }
   ],
   "source": [
    "len(times)"
   ]
  },
  {
   "cell_type": "code",
   "execution_count": null,
   "metadata": {},
   "outputs": [],
   "source": []
  },
  {
   "cell_type": "code",
   "execution_count": null,
   "metadata": {},
   "outputs": [],
   "source": []
  },
  {
   "cell_type": "code",
   "execution_count": null,
   "metadata": {},
   "outputs": [],
   "source": []
  },
  {
   "cell_type": "code",
   "execution_count": null,
   "metadata": {},
   "outputs": [],
   "source": []
  },
  {
   "cell_type": "code",
   "execution_count": null,
   "metadata": {
    "ExecuteTime": {
     "start_time": "2019-10-30T12:14:54.252Z"
    }
   },
   "outputs": [],
   "source": [
    "start = 1e-6\n",
    "stop =30e-6\n",
    "n = 20 # amount of points\n",
    "step = (stop-start) / n\n",
    "readouttime = 1e-1\n",
    "m = 5 # how much times should code measure every point\n",
    "data = np.zeros((n,m))\n",
    "offFunc()\n",
    "times = np.linspace(start,stop,n)\n",
    "\n",
    "scan()\n",
    "\n",
    "\n",
    "offFunc()\n",
    "resonance = np.linspace(_v_min,_v_max,len(counts))[np.argmax(counts)]\n",
    "laserscannerlogic._goto_during_scan(resonance)\n",
    "\n",
    "\n",
    "for t in range(len(times)):\n",
    "    \n",
    "    for i in range(m):   \n",
    "        laserscannerlogic.odmrlogic().mw_off()\n",
    "        time.sleep(0.02)\n",
    "\n",
    "        ind = 0\n",
    "        while ind<10:\n",
    "            ind+=1\n",
    "            \n",
    "            redFunc()\n",
    "            time.sleep(times[t])\n",
    "            \n",
    "            ccc = readoutFunc(readouttime)\n",
    "            \n",
    "            if ccc<20:\n",
    "                scan()\n",
    "                offFunc()\n",
    "                resonance = np.linspace(_v_min,_v_max,len(counts))[np.argmax(counts)]\n",
    "                laserscannerlogic._goto_during_scan(resonance)\n",
    "            else:\n",
    "                ind = 10\n",
    "            data[t][i] = ccc\n",
    "            greenFunc()\n",
    "            time.sleep(repumpTime)\n",
    "\n",
    "\n",
    "    \n",
    "\n"
   ]
  },
  {
   "cell_type": "code",
   "execution_count": null,
   "metadata": {
    "ExecuteTime": {
     "start_time": "2019-10-30T12:15:11.022Z"
    }
   },
   "outputs": [],
   "source": [
    "data"
   ]
  },
  {
   "cell_type": "code",
   "execution_count": null,
   "metadata": {},
   "outputs": [],
   "source": []
  },
  {
   "cell_type": "code",
   "execution_count": null,
   "metadata": {
    "ExecuteTime": {
     "start_time": "2019-10-30T12:23:08.894Z"
    }
   },
   "outputs": [],
   "source": [
    "import telegram\n",
    "bot = telegram.Bot(token='968560013:AAGSzyvq3SEnHpo-o4WPeXM8_sywoKDYZH0')\n",
    "# bot = telegram.Bot(token='TOKEN')\n",
    "\n",
    "print(bot.get_me())\n",
    "chat_id = bot.get_updates()[-1].message.chat_id\n",
    "chat_id\n",
    "bot.sendMessage(chat_id=chat_id, text=\"Hi, Javid. I have finished\")"
   ]
  },
  {
   "cell_type": "code",
   "execution_count": null,
   "metadata": {},
   "outputs": [],
   "source": []
  },
  {
   "cell_type": "code",
   "execution_count": null,
   "metadata": {},
   "outputs": [],
   "source": []
  },
  {
   "cell_type": "code",
   "execution_count": 482,
   "metadata": {
    "ExecuteTime": {
     "end_time": "2019-10-30T13:14:40.689040+01:00",
     "start_time": "2019-10-30T13:14:40.689040Z"
    }
   },
   "outputs": [
    {
     "data": {
      "text/plain": [
       "10000"
      ]
     },
     "execution_count": 482,
     "metadata": {},
     "output_type": "execute_result"
    }
   ],
   "source": [
    "laserscannerlogic.number_of_repeats = 10000\n",
    "laserscannerlogic.number_of_repeats "
   ]
  },
  {
   "cell_type": "code",
   "execution_count": 185,
   "metadata": {
    "ExecuteTime": {
     "end_time": "2019-10-29T20:15:22.170744+01:00",
     "start_time": "2019-10-29T20:15:22.170744Z"
    }
   },
   "outputs": [
    {
     "data": {
      "text/plain": [
       "array([[322., 379.,   0.,   0.,   0.,   0.,   0.,   0.,   0.,   0.],\n",
       "       [ 34.,   0.,   0.,   0.,   0., 589.,   0.,   0.,   0.,   0.],\n",
       "       [  0., 144., 261.,   0.,   0.,   0., 722.,   0., 486.,   0.],\n",
       "       [370., 247., 128.,  45.,   0.,   0.,   0.,   1., 256.,   0.],\n",
       "       [153.,   0.,   0., 462., 199.,   0.,   0.,   0.,   0.,   0.],\n",
       "       [  0., 703.,   0.,   0.,   0.,   0., 555.,   0., 119.,  59.],\n",
       "       [528., 153.,   0., 513.,   0.,  79.,  42.,  65., 264.,   0.],\n",
       "       [  0.,  63.,   0.,   0.,   0.,   0., 513.,   0.,   0.,   3.],\n",
       "       [  0.,   0.,   0., 303.,   0.,   0., 398.,  50.,   0.,   0.],\n",
       "       [296.,   0.,   0.,   3., 592.,   0.,   0.,   0.,   0., 362.]])"
      ]
     },
     "execution_count": 185,
     "metadata": {},
     "output_type": "execute_result"
    }
   ],
   "source": [
    "data"
   ]
  },
  {
   "cell_type": "code",
   "execution_count": 168,
   "metadata": {
    "ExecuteTime": {
     "end_time": "2019-10-29T19:43:43.213126+01:00",
     "start_time": "2019-10-29T19:43:43.213126Z"
    }
   },
   "outputs": [
    {
     "data": {
      "text/plain": [
       "array([[  0.,   0.,   0.],\n",
       "       [  0.,   0.,   0.],\n",
       "       [  0.,   0.,   0.],\n",
       "       [  0.,  58.,   0.],\n",
       "       [  0., 210., 435.],\n",
       "       [  0.,   0.,   0.],\n",
       "       [  0.,   0.,  75.],\n",
       "       [460.,   0.,   0.],\n",
       "       [265.,   0.,   0.],\n",
       "       [  0., 521.,   0.]])"
      ]
     },
     "execution_count": 168,
     "metadata": {},
     "output_type": "execute_result"
    }
   ],
   "source": [
    "data"
   ]
  },
  {
   "cell_type": "code",
   "execution_count": null,
   "metadata": {},
   "outputs": [],
   "source": []
  },
  {
   "cell_type": "code",
   "execution_count": 146,
   "metadata": {
    "ExecuteTime": {
     "end_time": "2019-10-29T17:46:52.058030+01:00",
     "start_time": "2019-10-29T17:46:52.058030Z"
    }
   },
   "outputs": [],
   "source": [
    "greenFunc()\n"
   ]
  },
  {
   "cell_type": "code",
   "execution_count": 147,
   "metadata": {
    "ExecuteTime": {
     "end_time": "2019-10-29T17:46:54.761532+01:00",
     "start_time": "2019-10-29T17:46:54.761532Z"
    }
   },
   "outputs": [],
   "source": [
    "redFunc()\n"
   ]
  },
  {
   "cell_type": "code",
   "execution_count": 77,
   "metadata": {
    "ExecuteTime": {
     "end_time": "2019-10-29T18:45:50.389115+01:00",
     "start_time": "2019-10-29T18:45:50.389115Z"
    }
   },
   "outputs": [
    {
     "name": "stdout",
     "output_type": "stream",
     "text": [
      "0\n",
      "0\n",
      "0\n",
      "0\n",
      "0\n",
      "0\n",
      "0\n",
      "0\n",
      "0\n",
      "0\n",
      "0\n",
      "94\n",
      "0\n",
      "0\n",
      "0\n",
      "0\n",
      "0\n",
      "0\n",
      "0\n",
      "0\n"
     ]
    }
   ],
   "source": [
    "start = 1e-6\n",
    "stop =10e-6\n",
    "n = 10 # amount of points\n",
    "step = (stop-start) / n\n",
    "readouttime = 1e-3\n",
    "\n",
    "m = 2 # how much times should code measure every point\n",
    "\n",
    "\n",
    "data = np.zeros((n,m))\n",
    "\n",
    "offFunc()\n",
    "times = np.linspace(start,stop,n)\n",
    "for t in range(len(times)):\n",
    "    for i in range(m):\n",
    "#         time.sleep(readouttime)\n",
    "        redFunc()\n",
    "        time.sleep(times[t])\n",
    "        ccc = readoutFunc(readouttime)\n",
    "        print(ccc)\n",
    "        data[t][i] = ccc\n",
    "        greenFunc()\n",
    "\n",
    "    \n",
    "\n"
   ]
  },
  {
   "cell_type": "code",
   "execution_count": 115,
   "metadata": {
    "ExecuteTime": {
     "end_time": "2019-10-29T18:51:10.573223+01:00",
     "start_time": "2019-10-29T18:51:10.573223Z"
    }
   },
   "outputs": [
    {
     "data": {
      "text/plain": [
       "array([[0., 0.],\n",
       "       [0., 0.],\n",
       "       [4., 0.],\n",
       "       [0., 0.],\n",
       "       [0., 0.],\n",
       "       [0., 0.],\n",
       "       [0., 0.],\n",
       "       [0., 0.],\n",
       "       [0., 0.],\n",
       "       [0., 0.]])"
      ]
     },
     "execution_count": 115,
     "metadata": {},
     "output_type": "execute_result"
    }
   ],
   "source": [
    "data = np.zeros((n,m))\n",
    "data[2][0] = 4\n",
    "data\n"
   ]
  },
  {
   "cell_type": "code",
   "execution_count": 108,
   "metadata": {
    "ExecuteTime": {
     "end_time": "2019-10-29T18:49:56.380139+01:00",
     "start_time": "2019-10-29T18:49:56.379140Z"
    }
   },
   "outputs": [
    {
     "data": {
      "text/plain": [
       "[[0, 1], [0, 1], [0, 1], [0, 1], [0, 1], [0, 1], [0, 1], [0, 1], [0, 1], [0, 1]]"
      ]
     },
     "execution_count": 108,
     "metadata": {},
     "output_type": "execute_result"
    }
   ],
   "source": []
  },
  {
   "cell_type": "code",
   "execution_count": 145,
   "metadata": {
    "ExecuteTime": {
     "end_time": "2019-10-29T17:46:30.867047+01:00",
     "start_time": "2019-10-29T17:46:30.867047Z"
    }
   },
   "outputs": [
    {
     "data": {
      "text/plain": [
       "10"
      ]
     },
     "execution_count": 145,
     "metadata": {},
     "output_type": "execute_result"
    }
   ],
   "source": [
    "len(times)"
   ]
  },
  {
   "cell_type": "code",
   "execution_count": 1,
   "metadata": {
    "ExecuteTime": {
     "end_time": "2019-10-29T14:24:03.832751+01:00",
     "start_time": "2019-10-29T14:24:03.832751Z"
    }
   },
   "outputs": [
    {
     "data": {
      "image/png": "[encoded data removed]"
     },
     "metadata": {
      "image/png": {
       "height": 361,
       "width": 564
      }
     },
     "output_type": "display_data"
    }
   ],
   "source": [
    "plt.plot(np.linspace(v0,v1,len(counts)),counts,'-')\n",
    "# plt.savefig('nice PLE single scan.png')\n",
    "plt.show()"
   ]
  },
  {
   "cell_type": "code",
   "execution_count": null,
   "metadata": {},
   "outputs": [],
   "source": []
  },
  {
   "cell_type": "code",
   "execution_count": null,
   "metadata": {},
   "outputs": [],
   "source": []
  },
  {
   "cell_type": "code",
   "execution_count": null,
   "metadata": {},
   "outputs": [],
   "source": []
  },
  {
   "cell_type": "code",
   "execution_count": null,
   "metadata": {},
   "outputs": [],
   "source": []
  },
  {
   "cell_type": "markdown",
   "metadata": {},
   "source": [
    "# TESTS"
   ]
  },
  {
   "cell_type": "code",
   "execution_count": 95,
   "metadata": {
    "ExecuteTime": {
     "end_time": "2019-10-29T18:18:52.917399+01:00",
     "start_time": "2019-10-29T18:18:52.917399Z"
    }
   },
   "outputs": [],
   "source": [
    "    \n",
    "countBM = tt.CountBetweenMarkers(\n",
    "    tagger=fastcounter._tagger,\n",
    "    click_channel=1,\n",
    "    begin_channel=4,\n",
    "    n_values=1)\n",
    "    \n",
    "def readoutFunc(readouttime):\n",
    "    countBM.clear() # Clear the buffer\n",
    "    \n",
    "    task.StartTask()\n",
    "    task.WriteDigitalLines(1,1,10.0,PyDAQmx.DAQmx_Val_GroupByChannel,markers,None,None)\n",
    "    time.sleep(readouttime)\n",
    "    task.StopTask()\n",
    "    offFunc()\n",
    "    \n",
    "    return countBM.getData()[0]\n",
    "    "
   ]
  },
  {
   "cell_type": "code",
   "execution_count": 98,
   "metadata": {
    "ExecuteTime": {
     "end_time": "2019-10-29T18:18:58.185135+01:00",
     "start_time": "2019-10-29T18:18:58.185135Z"
    }
   },
   "outputs": [
    {
     "data": {
      "text/plain": [
       "27"
      ]
     },
     "execution_count": 98,
     "metadata": {},
     "output_type": "execute_result"
    }
   ],
   "source": [
    "readoutFunc(1e-1)"
   ]
  },
  {
   "cell_type": "code",
   "execution_count": null,
   "metadata": {},
   "outputs": [],
   "source": []
  },
  {
   "cell_type": "code",
   "execution_count": null,
   "metadata": {},
   "outputs": [],
   "source": []
  },
  {
   "cell_type": "code",
   "execution_count": 30,
   "metadata": {
    "ExecuteTime": {
     "end_time": "2019-10-29T11:09:35.880333+01:00",
     "start_time": "2019-10-29T11:09:35.880333Z"
    }
   },
   "outputs": [
    {
     "name": "stdout",
     "output_type": "stream",
     "text": [
      "[38.440000000000005, 43.4, 50.56, 60.879999999999995, 66.62, 75.7, 80.6, 92.12, 100.53999999999999, 108.72, 120.05999999999999]\n"
     ]
    },
    {
     "data": {
      "image/png": "[encoded data removed]"
     },
     "metadata": {
      "image/png": {
       "height": 361,
       "width": 549
      }
     },
     "output_type": "display_data"
    }
   ],
   "source": [
    "data = []\n",
    "times = np.linspace(1,3,11)\n",
    "for k in times:\n",
    "    s = 0\n",
    "    for t in range(5):\n",
    "        countBM.clear()\n",
    "        task.StartTask()\n",
    "        task.WriteDigitalLines(1,1,10.0,PyDAQmx.DAQmx_Val_GroupByChannel,markers,None,None)\n",
    "        time.sleep(k)\n",
    "        task.StopTask()\n",
    "        offFunc()\n",
    "        s+=np.average(countBM.getData())\n",
    "        countBM.clear()\n",
    "    data.append(s/5)\n",
    "\n",
    "print(data)\n",
    "plt.hist(data)\n",
    "plt.show()"
   ]
  },
  {
   "cell_type": "code",
   "execution_count": 31,
   "metadata": {
    "ExecuteTime": {
     "end_time": "2019-10-29T11:09:40.282482+01:00",
     "start_time": "2019-10-29T11:09:40.282482Z"
    }
   },
   "outputs": [
    {
     "data": {
      "image/png": "[encoded data removed]"
     },
     "metadata": {
      "image/png": {
       "height": 361,
       "width": 546
      }
     },
     "output_type": "display_data"
    }
   ],
   "source": [
    "plt.plot(data,'o')\n",
    "plt.show()"
   ]
  },
  {
   "cell_type": "code",
   "execution_count": null,
   "metadata": {},
   "outputs": [],
   "source": []
  },
  {
   "cell_type": "code",
   "execution_count": null,
   "metadata": {},
   "outputs": [],
   "source": []
  },
  {
   "cell_type": "code",
   "execution_count": null,
   "metadata": {},
   "outputs": [],
   "source": []
  },
  {
   "cell_type": "code",
   "execution_count": null,
   "metadata": {},
   "outputs": [],
   "source": []
  },
  {
   "cell_type": "code",
   "execution_count": null,
   "metadata": {},
   "outputs": [],
   "source": []
  },
  {
   "cell_type": "code",
   "execution_count": 57,
   "metadata": {
    "ExecuteTime": {
     "end_time": "2019-10-29T14:34:17.181232+01:00",
     "start_time": "2019-10-29T14:34:17.181232Z"
    }
   },
   "outputs": [
    {
     "data": {
      "image/png": "[encoded data removed]"
     },
     "metadata": {
      "image/png": {
       "height": 361,
       "width": 564
      }
     },
     "output_type": "display_data"
    }
   ],
   "source": [
    "QWP = 0\n",
    "x = [0,5,10,30,20,20,20]\n",
    "y=[83781,121687.5,116468.75,116531.25,137937.5,107531.25,159625.0]\n",
    "plt.plot(x,y,'o')\n",
    "plt.show()"
   ]
  },
  {
   "cell_type": "code",
   "execution_count": 101,
   "metadata": {
    "ExecuteTime": {
     "end_time": "2019-10-29T14:39:58.362014+01:00",
     "start_time": "2019-10-29T14:39:58.362014Z"
    }
   },
   "outputs": [
    {
     "data": {
      "image/png": "[encoded data removed]"
     },
     "metadata": {
      "image/png": {
       "height": 361,
       "width": 564
      }
     },
     "output_type": "display_data"
    }
   ],
   "source": [
    "QWP = 10\n",
    "x = [0,10,10,10,20]\n",
    "y=[73593.75,120187.5,101343.75,59500.0,101750.0]\n",
    "plt.plot(x,y,'o')\n",
    "plt.show()"
   ]
  },
  {
   "cell_type": "code",
   "execution_count": 160,
   "metadata": {
    "ExecuteTime": {
     "end_time": "2019-10-29T14:45:04.983594+01:00",
     "start_time": "2019-10-29T14:45:04.983594Z"
    }
   },
   "outputs": [
    {
     "data": {
      "image/png": "[encoded data removed]"
     },
     "metadata": {
      "image/png": {
       "height": 361,
       "width": 564
      }
     },
     "output_type": "display_data"
    }
   ],
   "source": [
    "QWP = 20\n",
    "x = [20,0,5,-5,-5,-10,-10]\n",
    "y=[107906,45187.5,57375.0,43625.0,39406.25,43250.0,41562.5]\n",
    "plt.plot(x,y,'o')\n",
    "plt.show()"
   ]
  },
  {
   "cell_type": "code",
   "execution_count": 178,
   "metadata": {
    "ExecuteTime": {
     "end_time": "2019-10-29T14:47:34.431028+01:00",
     "start_time": "2019-10-29T14:47:34.431028Z"
    }
   },
   "outputs": [
    {
     "data": {
      "text/plain": [
       "<function show at 0x000002126E7A2AE8>"
      ]
     },
     "execution_count": 178,
     "metadata": {},
     "output_type": "execute_result"
    }
   ],
   "source": [
    "QWP = 25\n",
    "x = [0,0,0]\n",
    "y=[34781.25,39968.75,41468.75]\n",
    "plt.plot(x,y,'o')\n",
    "plt.show()"
   ]
  },
  {
   "cell_type": "code",
   "execution_count": 399,
   "metadata": {
    "ExecuteTime": {
     "end_time": "2019-10-29T15:24:28.317913+01:00",
     "start_time": "2019-10-29T15:24:28.317913Z"
    }
   },
   "outputs": [
    {
     "data": {
      "text/plain": [
       "0"
      ]
     },
     "execution_count": 399,
     "metadata": {},
     "output_type": "execute_result"
    }
   ],
   "source": [
    "laserscannerlogic._goto_speed = 1.0\n",
    "laserscannerlogic._goto_during_scan(-0.90)"
   ]
  },
  {
   "cell_type": "code",
   "execution_count": 7,
   "metadata": {
    "ExecuteTime": {
     "end_time": "2019-10-30T10:09:33.850799+01:00",
     "start_time": "2019-10-30T10:09:33.850799Z"
    }
   },
   "outputs": [],
   "source": [
    "# laserscannerlogic._upwards_ramp"
   ]
  },
  {
   "cell_type": "code",
   "execution_count": 134,
   "metadata": {
    "ExecuteTime": {
     "end_time": "2019-10-30T12:18:12.247939+01:00",
     "start_time": "2019-10-30T12:18:12.247939Z"
    }
   },
   "outputs": [],
   "source": [
    "    \n",
    "countBM = tt.CountBetweenMarkers(\n",
    "    tagger=fastcounter._tagger,\n",
    "    click_channel=1,\n",
    "    begin_channel=4,\n",
    "    n_values=1)\n",
    "    \n",
    "def readoutFunc(readouttime):\n",
    "    countBM.clear() # Clear the buffer\n",
    "    \n",
    "    task.StartTask()\n",
    "    task.WriteDigitalLines(1,1,10.0,PyDAQmx.DAQmx_Val_GroupByChannel,markers,None,None)\n",
    "    time.sleep(readouttime)\n",
    "    task.StopTask()\n",
    "    offFunc()\n",
    "    \n",
    "    return countBM.getData()[0]"
   ]
  },
  {
   "cell_type": "code",
   "execution_count": 170,
   "metadata": {
    "ExecuteTime": {
     "end_time": "2019-10-30T12:24:31.583123+01:00",
     "start_time": "2019-10-30T12:24:31.583123Z"
    }
   },
   "outputs": [],
   "source": [
    "kill_scanner()"
   ]
  },
  {
   "cell_type": "code",
   "execution_count": 171,
   "metadata": {
    "ExecuteTime": {
     "end_time": "2019-10-30T12:24:34.740016+01:00",
     "start_time": "2019-10-30T12:24:34.740016Z"
    }
   },
   "outputs": [],
   "source": [
    "v0= -0.895\n",
    "v1= -0.875\n",
    "laserscannerlogic.set_clock_frequency(150)\n",
    "init_scanner(v_min = v0,v_max = v1,speed= 0.01)"
   ]
  },
  {
   "cell_type": "code",
   "execution_count": 352,
   "metadata": {
    "ExecuteTime": {
     "end_time": "2019-10-30T12:50:45.022691+01:00",
     "start_time": "2019-10-30T12:50:45.022691Z"
    }
   },
   "outputs": [],
   "source": [
    "task.StartTask()\n",
    "task.WriteDigitalLines(1,1,10.0,PyDAQmx.DAQmx_Val_GroupByChannel,green,None,None)\n",
    "task.StopTask()\n",
    "\n",
    "time.sleep(0.01)\n",
    "\n",
    "task.StartTask()\n",
    "task.WriteDigitalLines(1,1,10.0,PyDAQmx.DAQmx_Val_GroupByChannel,redAOM,None,None)\n",
    "task.StopTask()\n",
    "\n",
    "counts = laserscannerlogic._do_next_one_line()\n"
   ]
  },
  {
   "cell_type": "code",
   "execution_count": 353,
   "metadata": {
    "ExecuteTime": {
     "end_time": "2019-10-30T12:50:45.183046+01:00",
     "start_time": "2019-10-30T12:50:45.183046Z"
    },
    "scrolled": true
   },
   "outputs": [
    {
     "data": {
      "image/png": "[encoded data removed]"
     },
     "metadata": {
      "image/png": {
       "height": 361,
       "width": 552
      }
     },
     "output_type": "display_data"
    }
   ],
   "source": [
    "plt.plot(np.linspace(v0,v1,len(counts)),counts,'-')\n",
    "# plt.savefig('nice PLE single scan.png')\n",
    "plt.show()"
   ]
  },
  {
   "cell_type": "code",
   "execution_count": 354,
   "metadata": {
    "ExecuteTime": {
     "end_time": "2019-10-30T12:50:50.128083+01:00",
     "start_time": "2019-10-30T12:50:50.128083Z"
    }
   },
   "outputs": [],
   "source": [
    "offFunc()\n",
    "\n",
    "resonance = np.linspace(v0,v1,len(counts))[np.argmax(counts)]\n"
   ]
  },
  {
   "cell_type": "code",
   "execution_count": 355,
   "metadata": {
    "ExecuteTime": {
     "end_time": "2019-10-30T12:50:53.919903+01:00",
     "start_time": "2019-10-30T12:50:53.919903Z"
    }
   },
   "outputs": [
    {
     "data": {
      "text/plain": [
       "-0.8828929765886288"
      ]
     },
     "execution_count": 355,
     "metadata": {},
     "output_type": "execute_result"
    }
   ],
   "source": [
    "resonance"
   ]
  },
  {
   "cell_type": "code",
   "execution_count": 356,
   "metadata": {
    "ExecuteTime": {
     "end_time": "2019-10-30T12:50:56.030469+01:00",
     "start_time": "2019-10-30T12:50:56.030469Z"
    }
   },
   "outputs": [
    {
     "data": {
      "text/plain": [
       "0"
      ]
     },
     "execution_count": 356,
     "metadata": {},
     "output_type": "execute_result"
    }
   ],
   "source": [
    "laserscannerlogic._goto_during_scan(resonance)"
   ]
  },
  {
   "cell_type": "code",
   "execution_count": 288,
   "metadata": {
    "ExecuteTime": {
     "end_time": "2019-10-30T12:33:08.213748+01:00",
     "start_time": "2019-10-30T12:33:08.213748Z"
    }
   },
   "outputs": [
    {
     "name": "stdout",
     "output_type": "stream",
     "text": [
      "cteset  265\n"
     ]
    }
   ],
   "source": [
    "cteset = readoutFunc(1e-1)\n",
    "print('cteset ',cteset)"
   ]
  },
  {
   "cell_type": "code",
   "execution_count": 358,
   "metadata": {
    "ExecuteTime": {
     "end_time": "2019-10-30T12:54:25.956322+01:00",
     "start_time": "2019-10-30T12:54:25.956322Z"
    }
   },
   "outputs": [
    {
     "name": "stdout",
     "output_type": "stream",
     "text": [
      "cteset  152\n",
      "cteset  229\n",
      "cteset  183\n",
      "cteset  111\n",
      "cteset  140\n",
      "cteset  168\n",
      "cteset  189\n",
      "cteset  143\n",
      "cteset  151\n",
      "cteset  172\n"
     ]
    }
   ],
   "source": [
    "for i in range(10):\n",
    "    cteset = readoutFunc(1e-1)\n",
    "    time.sleep(0.1)\n",
    "    print('cteset ',cteset)"
   ]
  },
  {
   "cell_type": "code",
   "execution_count": 362,
   "metadata": {
    "ExecuteTime": {
     "end_time": "2019-10-30T12:54:54.959442+01:00",
     "start_time": "2019-10-30T12:54:54.959442Z"
    }
   },
   "outputs": [
    {
     "name": "stdout",
     "output_type": "stream",
     "text": [
      "cteset  20\n",
      "cteset  229\n",
      "cteset  63\n",
      "cteset  6\n",
      "cteset  17\n",
      "cteset  12\n",
      "cteset  5\n",
      "cteset  0\n",
      "cteset  0\n",
      "cteset  83\n",
      "cteset  63\n",
      "cteset  79\n",
      "cteset  64\n",
      "cteset  53\n",
      "cteset  54\n",
      "cteset  54\n",
      "cteset  64\n",
      "cteset  45\n",
      "cteset  47\n",
      "cteset  45\n"
     ]
    }
   ],
   "source": [
    "for i in range(20):\n",
    "    cteset = readoutFunc(1e-1)\n",
    "    time.sleep(0.1)\n",
    "    print('cteset ',cteset)"
   ]
  },
  {
   "cell_type": "code",
   "execution_count": 361,
   "metadata": {
    "ExecuteTime": {
     "end_time": "2019-10-30T12:54:46.582273+01:00",
     "start_time": "2019-10-30T12:54:46.582273Z"
    }
   },
   "outputs": [
    {
     "name": "stdout",
     "output_type": "stream",
     "text": [
      "cteset  0\n",
      "cteset  0\n",
      "cteset  25\n",
      "cteset  0\n",
      "cteset  0\n",
      "cteset  0\n",
      "cteset  0\n",
      "cteset  0\n",
      "cteset  0\n",
      "cteset  0\n"
     ]
    }
   ],
   "source": [
    "for i in range(10):\n",
    "    cteset = readoutFunc(1e-2)\n",
    "#     time.sleep(0.1)\n",
    "    print('cteset ',cteset)"
   ]
  },
  {
   "cell_type": "code",
   "execution_count": 217,
   "metadata": {
    "ExecuteTime": {
     "end_time": "2019-10-30T12:28:57.990808+01:00",
     "start_time": "2019-10-30T12:28:57.990808Z"
    }
   },
   "outputs": [],
   "source": [
    "redFunc()"
   ]
  },
  {
   "cell_type": "code",
   "execution_count": 291,
   "metadata": {
    "ExecuteTime": {
     "end_time": "2019-10-30T12:35:46.033792+01:00",
     "start_time": "2019-10-30T12:35:46.033792Z"
    }
   },
   "outputs": [],
   "source": [
    "greenFunc()"
   ]
  },
  {
   "cell_type": "code",
   "execution_count": 29,
   "metadata": {
    "ExecuteTime": {
     "end_time": "2019-10-30T10:31:09.043003+01:00",
     "start_time": "2019-10-30T10:31:09.043003Z"
    }
   },
   "outputs": [
    {
     "data": {
      "image/png": "[encoded data removed]"
     },
     "metadata": {
      "image/png": {
       "height": 361,
       "width": 564
      }
     },
     "output_type": "display_data"
    }
   ],
   "source": [
    "plt.plot(np.linspace(v0,v1,len(counts)),counts,'-')\n",
    "# plt.savefig('nice PLE single scan.png')\n",
    "plt.show()"
   ]
  },
  {
   "cell_type": "code",
   "execution_count": 54,
   "metadata": {
    "ExecuteTime": {
     "end_time": "2019-10-29T18:42:32.755975+01:00",
     "start_time": "2019-10-29T18:42:32.755975Z"
    }
   },
   "outputs": [
    {
     "data": {
      "text/plain": [
       "17.56637168141593"
      ]
     },
     "execution_count": 54,
     "metadata": {},
     "output_type": "execute_result"
    }
   ],
   "source": [
    "max(counts)/min(counts)"
   ]
  },
  {
   "cell_type": "code",
   "execution_count": 55,
   "metadata": {
    "ExecuteTime": {
     "end_time": "2019-10-29T18:42:40.787152+01:00",
     "start_time": "2019-10-29T18:42:40.787152Z"
    }
   },
   "outputs": [
    {
     "name": "stdout",
     "output_type": "stream",
     "text": [
      "resonance=  -0.87225\n"
     ]
    },
    {
     "data": {
      "text/plain": [
       "0"
      ]
     },
     "execution_count": 55,
     "metadata": {},
     "output_type": "execute_result"
    }
   ],
   "source": [
    "\n",
    "resonance = np.linspace(v0,v1,len(counts))[np.argmax(counts)]\n",
    "print('resonance= ',resonance)\n",
    "laserscannerlogic._goto_during_scan(resonance)\n"
   ]
  },
  {
   "cell_type": "code",
   "execution_count": 56,
   "metadata": {
    "ExecuteTime": {
     "end_time": "2019-10-29T18:43:02.703470+01:00",
     "start_time": "2019-10-29T18:43:02.703470Z"
    }
   },
   "outputs": [
    {
     "name": "stdout",
     "output_type": "stream",
     "text": [
      "-0.87225\n"
     ]
    },
    {
     "data": {
      "text/plain": [
       "0"
      ]
     },
     "execution_count": 56,
     "metadata": {},
     "output_type": "execute_result"
    }
   ],
   "source": [
    "\n",
    "resonance = np.linspace(v0,v1,len(counts))[np.argmax(counts)]\n",
    "print(resonance)\n",
    "laserscannerlogic._goto_speed = 1.0\n",
    "# laserscannerlogic._static_v = resonance\n",
    "laserscannerlogic._goto_during_scan(resonance)\n"
   ]
  },
  {
   "cell_type": "code",
   "execution_count": 8,
   "metadata": {
    "ExecuteTime": {
     "end_time": "2019-10-29T16:42:43.969097+01:00",
     "start_time": "2019-10-29T16:42:43.969097Z"
    }
   },
   "outputs": [
    {
     "data": {
      "text/plain": [
       "0.05"
      ]
     },
     "execution_count": 8,
     "metadata": {},
     "output_type": "execute_result"
    }
   ],
   "source": [
    "laserscannerlogic._goto_speed\n"
   ]
  },
  {
   "cell_type": "code",
   "execution_count": 22,
   "metadata": {
    "ExecuteTime": {
     "end_time": "2019-10-29T17:00:15.545442+01:00",
     "start_time": "2019-10-29T17:00:15.545442Z"
    }
   },
   "outputs": [
    {
     "data": {
      "text/plain": [
       "-0.7114743162108073"
      ]
     },
     "execution_count": 22,
     "metadata": {},
     "output_type": "execute_result"
    }
   ],
   "source": [
    "resonance = np.linspace(v0,v1,len(counts))[np.argmax(counts)]\n",
    "resonance"
   ]
  },
  {
   "cell_type": "code",
   "execution_count": 11,
   "metadata": {
    "ExecuteTime": {
     "end_time": "2019-10-29T17:23:09.657424+01:00",
     "start_time": "2019-10-29T17:23:09.657424Z"
    }
   },
   "outputs": [
    {
     "data": {
      "text/plain": [
       "-0.8975983989326217"
      ]
     },
     "execution_count": 11,
     "metadata": {},
     "output_type": "execute_result"
    }
   ],
   "source": [
    "laserscannerlogic._static_v "
   ]
  },
  {
   "cell_type": "code",
   "execution_count": 455,
   "metadata": {
    "ExecuteTime": {
     "end_time": "2019-10-29T15:48:45.934659+01:00",
     "start_time": "2019-10-29T15:48:45.934659Z"
    }
   },
   "outputs": [
    {
     "data": {
      "text/plain": [
       "array([-0.83934426,  2.        ])"
      ]
     },
     "execution_count": 455,
     "metadata": {},
     "output_type": "execute_result"
    }
   ],
   "source": [
    "np.array([resonance,2])"
   ]
  },
  {
   "cell_type": "code",
   "execution_count": 12,
   "metadata": {
    "ExecuteTime": {
     "end_time": "2019-10-29T17:23:13.442356+01:00",
     "start_time": "2019-10-29T17:23:13.442356Z"
    }
   },
   "outputs": [
    {
     "data": {
      "text/plain": [
       "array([-0.9,  0. ])"
      ]
     },
     "execution_count": 12,
     "metadata": {},
     "output_type": "execute_result"
    }
   ],
   "source": [
    "laserscannerlogic._scanning_device._current_position_laser "
   ]
  },
  {
   "cell_type": "code",
   "execution_count": null,
   "metadata": {},
   "outputs": [],
   "source": []
  },
  {
   "cell_type": "code",
   "execution_count": 67,
   "metadata": {
    "ExecuteTime": {
     "end_time": "2019-10-29T18:43:51.788737+01:00",
     "start_time": "2019-10-29T18:43:51.788737Z"
    }
   },
   "outputs": [],
   "source": [
    "\n",
    "greenFunc()\n",
    "\n",
    "\n"
   ]
  },
  {
   "cell_type": "code",
   "execution_count": 70,
   "metadata": {
    "ExecuteTime": {
     "end_time": "2019-10-29T18:44:00.932269+01:00",
     "start_time": "2019-10-29T18:44:00.932269Z"
    }
   },
   "outputs": [],
   "source": [
    "offFunc()"
   ]
  },
  {
   "cell_type": "code",
   "execution_count": 69,
   "metadata": {
    "ExecuteTime": {
     "end_time": "2019-10-29T18:43:58.372968+01:00",
     "start_time": "2019-10-29T18:43:58.372968Z"
    }
   },
   "outputs": [],
   "source": [
    "redFunc()"
   ]
  },
  {
   "cell_type": "code",
   "execution_count": 364,
   "metadata": {
    "ExecuteTime": {
     "end_time": "2019-10-29T15:12:14.511968+01:00",
     "start_time": "2019-10-29T15:12:14.511968Z"
    }
   },
   "outputs": [
    {
     "name": "stdout",
     "output_type": "stream",
     "text": [
      "38218.75\n"
     ]
    }
   ],
   "source": [
    "s=0\n",
    "for t in range(len(counts)):\n",
    "    if (np.linspace(v0,v1,len(counts))[t]>-0.775):\n",
    "        s+=counts[t]\n",
    "print(s)"
   ]
  },
  {
   "cell_type": "code",
   "execution_count": 154,
   "metadata": {
    "ExecuteTime": {
     "end_time": "2019-10-29T17:49:31.012316+01:00",
     "start_time": "2019-10-29T17:49:31.012316Z"
    }
   },
   "outputs": [
    {
     "name": "stdout",
     "output_type": "stream",
     "text": [
      "0\n"
     ]
    }
   ],
   "source": [
    "for j in range(10):\n",
    "    print(j)\n",
    "    break;"
   ]
  },
  {
   "cell_type": "code",
   "execution_count": 91,
   "metadata": {
    "ExecuteTime": {
     "end_time": "2019-10-30T10:45:17.356984+01:00",
     "start_time": "2019-10-30T10:45:17.356984Z"
    }
   },
   "outputs": [
    {
     "data": {
      "text/plain": [
       "[1, 2]"
      ]
     },
     "execution_count": 91,
     "metadata": {},
     "output_type": "execute_result"
    }
   ],
   "source": [
    "test = np.array([0,1,0,0,2])\n",
    "test = [ee for ee in test if ee!=0]\n",
    "\n",
    "test"
   ]
  },
  {
   "cell_type": "code",
   "execution_count": null,
   "metadata": {},
   "outputs": [],
   "source": [
    "\n",
    "\n",
    "\n",
    "# def singleshot():\n",
    "#     global counts,readouttime\n",
    "#     offFunc()\n",
    "    \n",
    "#     resonance = np.linspace(_v_min,_v_max,len(counts))[np.argmax(counts)]\n",
    "#     laserscannerlogic._goto_during_scan(resonance)\n",
    "    \n",
    "    \n",
    "#     #!!!!!!!!!!!! CHANGE IT\n",
    "#     counts = readoutFunc(readouttime)\n",
    "#     #!!!!!!!!!!!!\n",
    "#     if counts is None:\n",
    "#         print('COUNTS are NONE in single shot!!!')\n",
    "#     else:\n",
    "#         ssr.append(counts)\n",
    "    \n",
    "    \n",
    "    \n"
   ]
  }
 ],
 "metadata": {
  "kernelspec": {
   "display_name": "Qudi",
   "language": "python",
   "name": "qudi"
  },
  "language_info": {
   "codemirror_mode": {
    "name": "ipython",
    "version": "3.6.5"
   },
   "file_extension": ".py",
   "mimetype": "text/x-python",
   "name": "python",
   "nbconvert_exporter": "python",
   "pygments_lexer": "ipython3",
   "version": "3.6.5"
  }
 },
 "nbformat": 4,
 "nbformat_minor": 2
}
