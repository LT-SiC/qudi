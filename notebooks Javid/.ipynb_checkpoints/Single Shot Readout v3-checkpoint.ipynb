{
 "cells": [
  {
   "cell_type": "markdown",
   "metadata": {},
   "source": [
    "# Problems\n"
   ]
  },
  {
   "cell_type": "markdown",
   "metadata": {
    "heading_collapsed": true
   },
   "source": [
    "### CountBetweenMarkers WORKS ONLY WITH 1 Channel"
   ]
  },
  {
   "cell_type": "markdown",
   "metadata": {},
   "source": [
    "# Definitions"
   ]
  },
  {
   "cell_type": "code",
   "execution_count": 1,
   "metadata": {
    "ExecuteTime": {
     "end_time": "2019-11-05T19:35:22.561794+01:00",
     "start_time": "2019-11-05T19:35:22.561794Z"
    }
   },
   "outputs": [],
   "source": [
    "from collections import OrderedDict\n",
    "import datetime\n",
    "import matplotlib.pyplot as plt\n",
    "import numpy as np\n",
    "import time\n",
    "import traceback\n",
    "from core.module import Connector, StatusVar\n",
    "from core.util.mutex import Mutex\n",
    "from logic.generic_logic import GenericLogic\n",
    "from qtpy import QtCore\n",
    "from PyDAQmx import Task\n",
    "import TimeTagger as tt\n",
    "import PyDAQmx\n",
    "import datetime\n"
   ]
  },
  {
   "cell_type": "code",
   "execution_count": 2,
   "metadata": {
    "ExecuteTime": {
     "end_time": "2019-11-05T19:35:25.938414+01:00",
     "start_time": "2019-11-05T19:35:25.938414Z"
    }
   },
   "outputs": [
    {
     "data": {
      "text/plain": [
       "<telegram.message.Message object at 0x00000246DFBC7828>"
      ]
     },
     "execution_count": 2,
     "metadata": {},
     "output_type": "execute_result"
    }
   ],
   "source": [
    "import telegram\n",
    "bot = telegram.Bot(token='968560013:AAGSzyvq3SEnHpo-o4WPeXM8_sywoKDYZH0')\n",
    "# print(bot.get_me())\n",
    "# chat_id = bot.get_updates()[-1].message.chat_id\n",
    "chat_id = 111963322\n",
    "bot.sendMessage(chat_id=chat_id, text=\"Hi, Javid. I am initialised and ready to serve you\")"
   ]
  },
  {
   "cell_type": "code",
   "execution_count": 393,
   "metadata": {
    "ExecuteTime": {
     "end_time": "2019-11-05T15:54:41.561883+01:00",
     "start_time": "2019-11-05T15:54:41.561883Z"
    }
   },
   "outputs": [],
   "source": [
    "task.ClearTask()"
   ]
  },
  {
   "cell_type": "code",
   "execution_count": null,
   "metadata": {},
   "outputs": [],
   "source": []
  },
  {
   "cell_type": "code",
   "execution_count": 3,
   "metadata": {
    "ExecuteTime": {
     "end_time": "2019-11-05T19:35:28.629160+01:00",
     "start_time": "2019-11-05T19:35:28.629160Z"
    }
   },
   "outputs": [],
   "source": [
    "\"\"\" Simple example of digital output\n",
    "\n",
    "    This example outputs the values of data on line 0 to 7\n",
    "\"\"\"\n",
    "\n",
    "off = np.array([0,0,0,0,0,0,0,0], dtype=np.uint8)\n",
    "green = np.array([0,1,0,0,0,0,0,0], dtype=np.uint8)\n",
    "markers = np.array([0,0,1,0,0,0,0,0], dtype=np.uint8)\n",
    "redAOM = np.array([0,0,0,1,0,0,0,0], dtype=np.uint8)\n",
    "redAOM2 = np.array([0,0,0,0,1,0,0,0], dtype=np.uint8)\n",
    "mw_trig = np.array([0,0,0,0,0,1,0,0], dtype=np.uint8)\n",
    "\n",
    "task = Task()\n",
    "task.CreateDOChan(\"/Dev4/port1/line0:7\",\"\",PyDAQmx.DAQmx_Val_ChanForAllLines)\n",
    "\n",
    "\n",
    "def greenFunc():\n",
    "    task.StartTask()\n",
    "    task.WriteDigitalLines(1,1,10.0,PyDAQmx.DAQmx_Val_GroupByChannel,green,None,None)\n",
    "    task.StopTask()\n",
    "    \n",
    "def redExFunc():\n",
    "    task.StartTask()\n",
    "    task.WriteDigitalLines(1,1,10.0,PyDAQmx.DAQmx_Val_GroupByChannel,redAOM,None,None)\n",
    "    task.StopTask()\n",
    "    \n",
    "def redA1Func():\n",
    "    task.StartTask()\n",
    "    task.WriteDigitalLines(1,1,10.0,PyDAQmx.DAQmx_Val_GroupByChannel,redAOM2,None,None)\n",
    "    task.StopTask()\n",
    "\n",
    "def offFunc():\n",
    "    task.StartTask()\n",
    "    task.WriteDigitalLines(1,1,10.0,PyDAQmx.DAQmx_Val_GroupByChannel,off,None,None)\n",
    "    task.StopTask()\n",
    "\n",
    "    \n",
    "def mw_odmr():\n",
    "    task.StartTask()\n",
    "    task.WriteDigitalLines(1,1,10.0,PyDAQmx.DAQmx_Val_GroupByChannel,mw_trig+green,None,None)\n",
    "    task.StopTask()\n",
    "    \n",
    "def mw_on():\n",
    "    task.StartTask()\n",
    "    task.WriteDigitalLines(1,1,10.0,PyDAQmx.DAQmx_Val_GroupByChannel,mw_trig,None,None)\n",
    "    task.StopTask()\n",
    "    \n",
    "\n",
    "def mw_pleEx():\n",
    "    task.StartTask()\n",
    "    task.WriteDigitalLines(1,1,10.0,PyDAQmx.DAQmx_Val_GroupByChannel,mw_trig+redAOM,None,None)\n",
    "    task.StopTask()\n",
    "    \n",
    "\n",
    "def mw_pleA1():\n",
    "    task.StartTask()\n",
    "    task.WriteDigitalLines(1,1,10.0,PyDAQmx.DAQmx_Val_GroupByChannel,mw_trig+redAOM2,None,None)\n",
    "    task.StopTask()\n",
    "        \n",
    "    \n",
    "def readoutFunc(readouttime):\n",
    "    countBM.clear() # Clear the buffer\n",
    "    task.StartTask()\n",
    "    task.WriteDigitalLines(1,1,10.0,PyDAQmx.DAQmx_Val_GroupByChannel,markers,None,None)\n",
    "    time.sleep(readouttime)\n",
    "    task.StopTask()\n",
    "    offFunc()\n",
    "    \n",
    "    return countBM.getData()[0]\n",
    "    \n",
    "def readoutEx(readouttime):\n",
    "    countBM.clear() # Clear the buffer\n",
    "    task.StartTask()\n",
    "    task.WriteDigitalLines(1,1,10.0,PyDAQmx.DAQmx_Val_GroupByChannel,markers+redAOM,None,None)\n",
    "    time.sleep(readouttime)\n",
    "    task.StopTask()\n",
    "    offFunc()\n",
    "    \n",
    "    return countBM.getData()[0]\n"
   ]
  },
  {
   "cell_type": "code",
   "execution_count": null,
   "metadata": {},
   "outputs": [],
   "source": []
  },
  {
   "cell_type": "code",
   "execution_count": 106,
   "metadata": {
    "ExecuteTime": {
     "end_time": "2019-11-06T12:58:21.855373+01:00",
     "start_time": "2019-11-06T12:58:21.855373Z"
    }
   },
   "outputs": [
    {
     "data": {
      "text/plain": [
       "array([0, 0, 1, 0, 0, 0, 0, 0], dtype=uint8)"
      ]
     },
     "execution_count": 106,
     "metadata": {},
     "output_type": "execute_result"
    }
   ],
   "source": [
    "markers"
   ]
  },
  {
   "cell_type": "code",
   "execution_count": 104,
   "metadata": {
    "ExecuteTime": {
     "end_time": "2019-11-06T12:58:10.864734+01:00",
     "start_time": "2019-11-06T12:58:10.864734Z"
    }
   },
   "outputs": [],
   "source": [
    "task.StartTask()\n",
    "task.WriteDigitalLines(1,1,10.0,PyDAQmx.DAQmx_Val_GroupByChannel,markers,None,None)\n",
    "task.StopTask()"
   ]
  },
  {
   "cell_type": "code",
   "execution_count": 105,
   "metadata": {
    "ExecuteTime": {
     "end_time": "2019-11-06T12:58:13.191159+01:00",
     "start_time": "2019-11-06T12:58:13.191159Z"
    }
   },
   "outputs": [],
   "source": [
    "offFunc()"
   ]
  },
  {
   "cell_type": "code",
   "execution_count": null,
   "metadata": {},
   "outputs": [],
   "source": []
  },
  {
   "cell_type": "code",
   "execution_count": 5,
   "metadata": {
    "ExecuteTime": {
     "end_time": "2019-11-05T19:35:31.624182+01:00",
     "start_time": "2019-11-05T19:35:31.624182Z"
    }
   },
   "outputs": [],
   "source": [
    "def start_scanning(v_min=None, v_max=None, speed = None):\n",
    "\n",
    "    if speed is not None:\n",
    "        laserscannerlogic.set_scan_speed(speed)    \n",
    "    else:\n",
    "        laserscannerlogic.set_scan_speed(0.1)\n",
    "\n",
    "    try:\n",
    "        if laserscannerlogic._pulse_generator_device.get_loaded_assets()[0][1]=='PLE':\n",
    "            laserscannerlogic._pulse_generator_device.set_active_channels({'a_ch1': True, 'a_ch2': True})\n",
    "            time.sleep(0.5)\n",
    "            laserscannerlogic._pulse_generator_device.pulser_on()\n",
    "            laserscannerlogic.odmrlogic().mw_cw_on()\n",
    "        else:\n",
    "            laserscannerlogic.log.error('load PLE sequence on AWG')\n",
    "            laserscannerlogic._pulse_generator_device.pulser_off()\n",
    "            laserscannerlogic._pulse_generator_device.set_active_channels({'a_ch1': False, 'a_ch2': False})\n",
    "            laserscannerlogic.odmrlogic().mw_off()\n",
    "            laserscannerlogic.stop_scanning()\n",
    "    #         return -1\n",
    "\n",
    "\n",
    "        if v_min is not None:\n",
    "            laserscannerlogic.scan_range[0] = v_min\n",
    "        else:\n",
    "            v_min = laserscannerlogic.scan_range[0]\n",
    "        if v_max is not None:\n",
    "            laserscannerlogic.scan_range[1] = v_max\n",
    "        else:\n",
    "            v_max = laserscannerlogic.scan_range[1]\n",
    "\n",
    "        laserscannerlogic._scan_counter_up = 0\n",
    "        laserscannerlogic._scan_counter_down = 0\n",
    "        laserscannerlogic.upwards_scan = [True,True]\n",
    "\n",
    "        # TODO: Generate Ramps\n",
    "        laserscannerlogic._upwards_ramp = laserscannerlogic._generate_ramp(v_min, v_max, laserscannerlogic._scan_speed)\n",
    "        laserscannerlogic._downwards_ramp = laserscannerlogic._generate_ramp(v_max, v_min, laserscannerlogic._scan_speed)\n",
    "\n",
    "        \n",
    "#         laserscannerlogic._initialise_data_matrix(len(laserscannerlogic._upwards_ramp))\n",
    "\n",
    "        # Lock and set up scanner\n",
    "        returnvalue = laserscannerlogic._initialise_scanner()\n",
    "        if returnvalue < 0:\n",
    "            print('error in scanner init')\n",
    "            # TODO: error message\n",
    "            return -1\n",
    "        laserscannerlogic.sigScanStarted.emit()\n",
    "\n",
    "    except Exception as e:\n",
    "        laserscannerlogic.log.error('The scan went wrong, killing the scanner.')\n",
    "        laserscannerlogic.stop_scanning()\n",
    "        raise e\n",
    "\n",
    "def kill_scanner():\n",
    "    laserscannerlogic.stop_scanning()\n",
    "    laserscannerlogic._close_scanner()\n",
    "    laserscannerlogic.sigScanFinished.emit()"
   ]
  },
  {
   "cell_type": "markdown",
   "metadata": {
    "ExecuteTime": {
     "end_time": "2019-10-29T11:07:12.211530+01:00",
     "start_time": "2019-10-29T11:07:12.211530Z"
    }
   },
   "source": [
    "# SingleShotReadout Help Functions"
   ]
  },
  {
   "cell_type": "code",
   "execution_count": 6,
   "metadata": {
    "ExecuteTime": {
     "end_time": "2019-11-05T19:35:33.262895+01:00",
     "start_time": "2019-11-05T19:35:33.262895Z"
    }
   },
   "outputs": [],
   "source": [
    "def PLE(laser_number, v_min, v_max, speed):\n",
    "    #   same function for both lasers\n",
    "    #  Should keep in memory 4 scanning ramps and call the one, which corresponds to particular laser\n",
    "    \n",
    "    laserscannerlogic.set_laser_number(laser_number)\n",
    "    \n",
    "    laserscannerlogic._upwards_ramp = laserscannerlogic._generate_ramp(v_min, v_max, speed)\n",
    "    laserscannerlogic._downwards_ramp = laserscannerlogic._generate_ramp(v_max, v_min, speed)\n",
    "    \n",
    "    counts = laserscannerlogic._do_next_one_line()\n",
    "    return counts\n",
    "\n",
    "\n",
    "def PLE_A1(laser_number, v_min, v_max, speed):\n",
    "\n",
    "    laserscannerlogic.set_laser_number(0)\n",
    "    laserscannerlogic._upwards_ramp = laserscannerlogic._generate_ramp(v_min, v_max, speed)\n",
    "    laserscannerlogic._downwards_ramp = laserscannerlogic._generate_ramp(v_max, v_min, speed)\n",
    "    mw_pleA1()\n",
    "    repumpTime = 0.1\n",
    "    for j in range(10):\n",
    "        greenFunc()\n",
    "        \n",
    "        time.sleep(repumpTime)\n",
    "        \n",
    "        mw_pleA1()\n",
    "        counts = laserscannerlogic._do_next_one_line()\n",
    "        if counts is None:\n",
    "            print('COUNTS are NONE in scan!!!')\n",
    "            offFunc()\n",
    "            return -1\n",
    "        else:\n",
    "            tempcounts = [ee for ee in counts if ee!=0]\n",
    "            ratio = max(tempcounts)/min(tempcounts)\n",
    "#             print(ratio)\n",
    "            if ratio<30:\n",
    "                greenFunc()\n",
    "                time.sleep(repumpTime)\n",
    "            else:\n",
    "                offFunc()\n",
    "                return counts\n",
    "    \n",
    "    #     return counts -> everything is good \n",
    "    #     return 0 -> didn't find PLE line\n",
    "    #     return -1 ->counts were equal None\n",
    "    \n",
    "    offFunc()\n",
    "    return 0\n",
    "    \n",
    "\n",
    "\n",
    "def PLE_Ex(laser_number, v_min, v_max, speed):\n",
    "\n",
    "    \n",
    "    laserscannerlogic.set_laser_number(1)\n",
    "    laserscannerlogic._upwards_ramp = laserscannerlogic._generate_ramp(v_min, v_max, speed)\n",
    "    laserscannerlogic._downwards_ramp = laserscannerlogic._generate_ramp(v_max, v_min, speed)\n",
    "    mw_pleEx()\n",
    "    repumpTime = 0.1\n",
    "    for j in range(5):\n",
    "        greenFunc()\n",
    "        \n",
    "        time.sleep(repumpTime)\n",
    "        \n",
    "        mw_pleEx()\n",
    "        counts = laserscannerlogic._do_next_one_line()\n",
    "        if counts is None:\n",
    "            print('COUNTS are NONE in scan!!!')\n",
    "            offFunc()\n",
    "            return -1\n",
    "        else:\n",
    "            tempcounts = [ee for ee in counts if ee!=0]\n",
    "            ratio = max(tempcounts)/min(tempcounts)\n",
    "            if ratio<40:\n",
    "                greenFunc()\n",
    "                time.sleep(repumpTime)\n",
    "            else:\n",
    "                offFunc()\n",
    "                return counts\n",
    "    \n",
    "    #     return counts -> everything is good \n",
    "    #     return 0 -> didn't find PLE line\n",
    "    #     return -1 ->counts were equal None\n",
    "    \n",
    "    offFunc()\n",
    "    return 0\n",
    "    \n",
    "\n"
   ]
  },
  {
   "cell_type": "code",
   "execution_count": 7,
   "metadata": {
    "ExecuteTime": {
     "end_time": "2019-11-05T19:35:34.143472+01:00",
     "start_time": "2019-11-05T19:35:34.143472Z"
    }
   },
   "outputs": [],
   "source": [
    "def check(readouttime):\n",
    "  \n",
    "    countBM.clear() # Clear the buffer\n",
    "    \n",
    "    task.StartTask()\n",
    "    task.WriteDigitalLines(1,1,10.0,PyDAQmx.DAQmx_Val_GroupByChannel,redAOM2+redAOM1+markers,None,None)\n",
    "    time.sleep(readouttime)\n",
    "    task.StopTask()\n",
    "    offFunc()\n",
    "\n",
    "    return countBM.getData()[0]\n",
    "\n",
    "def ssr(readouttimeEx,readouttimeCheck):\n",
    "\n",
    "    # ==== initialization\n",
    "    offFunc()\n",
    "    redA1Func()\n",
    "    time.sleep(15e-6)\n",
    "    offFunc()\n",
    "    time.sleep(1e-6)\n",
    "    \n",
    "    # ==== readout\n",
    "    counts = readoutEx(readouttimeEx)\n",
    "    \n",
    "    return counts\n",
    "    \n",
    "#     check_counts = check(readouttimeCheck)\n",
    "#     if check_counts>2:\n",
    "#         return counts\n",
    "#     else:\n",
    "#         PLEEx\n",
    "#         PLEA1\n",
    "#         move to resonances\n",
    "#         check()\n",
    "#         if ok:\n",
    "#             protocol\n",
    "#         else:\n",
    "#             greenrepump\n",
    "            \n",
    "    \n",
    "    "
   ]
  },
  {
   "cell_type": "markdown",
   "metadata": {},
   "source": [
    "# Initial PLE to find transitions"
   ]
  },
  {
   "cell_type": "code",
   "execution_count": 8,
   "metadata": {
    "ExecuteTime": {
     "end_time": "2019-11-05T19:35:36.686261+01:00",
     "start_time": "2019-11-05T19:35:36.686261Z"
    }
   },
   "outputs": [
    {
     "data": {
      "text/plain": [
       "0"
      ]
     },
     "execution_count": 8,
     "metadata": {},
     "output_type": "execute_result"
    }
   ],
   "source": [
    "laserscannerlogic.set_clock_frequency(150)"
   ]
  },
  {
   "cell_type": "markdown",
   "metadata": {
    "ExecuteTime": {
     "end_time": "2019-11-04T15:39:54.347286+01:00",
     "start_time": "2019-11-04T15:39:54.347286Z"
    }
   },
   "source": [
    "#### A1 PLE"
   ]
  },
  {
   "cell_type": "code",
   "execution_count": 942,
   "metadata": {
    "ExecuteTime": {
     "end_time": "2019-11-05T19:17:35.441430+01:00",
     "start_time": "2019-11-05T19:17:35.441430Z"
    }
   },
   "outputs": [],
   "source": [
    "kill_scanner()"
   ]
  },
  {
   "cell_type": "code",
   "execution_count": 943,
   "metadata": {
    "ExecuteTime": {
     "end_time": "2019-11-05T19:17:37.862073+01:00",
     "start_time": "2019-11-05T19:17:37.862073Z"
    }
   },
   "outputs": [],
   "source": [
    "_v_min = -0.79\n",
    "_v_max = -0.76\n",
    "speed = 0.02\n",
    "\n",
    "start_scanning(v_min = _v_min,v_max = _v_max,speed= speed)"
   ]
  },
  {
   "cell_type": "code",
   "execution_count": 944,
   "metadata": {
    "ExecuteTime": {
     "end_time": "2019-11-05T19:17:48.660897+01:00",
     "start_time": "2019-11-05T19:17:48.660897Z"
    }
   },
   "outputs": [],
   "source": [
    "greenFunc()\n",
    "time.sleep(0.1)\n",
    "mw_pleA1()\n",
    "c = PLE_A1(laser_number = 0, v_min = _v_min,v_max = _v_max,speed= speed)\n",
    "# if c==-1 or c==0:\n",
    "#     print (c)"
   ]
  },
  {
   "cell_type": "code",
   "execution_count": 945,
   "metadata": {
    "ExecuteTime": {
     "end_time": "2019-11-05T19:17:48.805825+01:00",
     "start_time": "2019-11-05T19:17:48.805825Z"
    }
   },
   "outputs": [
    {
     "name": "stdout",
     "output_type": "stream",
     "text": [
      "75.0\n"
     ]
    },
    {
     "data": {
      "image/png": "[encoded data removed]"
     },
     "metadata": {
      "image/png": {
       "height": 361,
       "width": 558
      }
     },
     "output_type": "display_data"
    }
   ],
   "source": [
    "\n",
    "tempcounts = [ee for ee in c if ee!=0]\n",
    "print( max(tempcounts)/min(tempcounts))\n",
    "      \n",
    "plt.plot(np.linspace(_v_min,_v_max,len(c)),c,'-')\n",
    "# plt.savefig('nice PLE single scan.png')\n",
    "plt.show()\n"
   ]
  },
  {
   "cell_type": "code",
   "execution_count": 946,
   "metadata": {
    "ExecuteTime": {
     "end_time": "2019-11-05T19:17:49.183645+01:00",
     "start_time": "2019-11-05T19:17:49.183645Z"
    }
   },
   "outputs": [
    {
     "name": "stdout",
     "output_type": "stream",
     "text": [
      "-0.7791517857142858\n"
     ]
    }
   ],
   "source": [
    "offFunc()\n",
    "resonanceA1 = np.linspace(_v_min,_v_max,len(c))[np.argmax(c)]\n",
    "laserscannerlogic._goto_speed = 0.03\n",
    "laserscannerlogic._goto_during_scan(resonanceA1)\n",
    "# _v_min = resonance -0.01\n",
    "# _v_max = resonance + 0.01\n",
    "print(resonanceA1)\n",
    "# print('_v_max ',_v_max)"
   ]
  },
  {
   "cell_type": "code",
   "execution_count": 73,
   "metadata": {
    "ExecuteTime": {
     "end_time": "2019-11-06T10:30:03.103939+01:00",
     "start_time": "2019-11-06T10:30:03.103939Z"
    }
   },
   "outputs": [],
   "source": [
    "test=[]"
   ]
  },
  {
   "cell_type": "code",
   "execution_count": 85,
   "metadata": {
    "ExecuteTime": {
     "end_time": "2019-11-06T11:01:11.779793+01:00",
     "start_time": "2019-11-06T11:01:11.779793Z"
    }
   },
   "outputs": [],
   "source": [
    "test=[]\n",
    "\n",
    "countBM = tt.CountBetweenMarkers(\n",
    "    tagger=fastcounter._tagger,\n",
    "    click_channel=1,\n",
    "    begin_channel=5,\n",
    "    n_values=1)\n",
    "\n",
    "\n",
    "for i in range(100):\n",
    "    countBM.clear()\n",
    "\n",
    "    time.sleep(0.5)  \n",
    "    # ======================== experiment======================\n",
    "    test.append(countBM.getData()[0])\n",
    "    time.sleep(0.5)  \n",
    "\n",
    "    "
   ]
  },
  {
   "cell_type": "code",
   "execution_count": 89,
   "metadata": {
    "ExecuteTime": {
     "end_time": "2019-11-06T11:01:48.106873+01:00",
     "start_time": "2019-11-06T11:01:48.106873Z"
    }
   },
   "outputs": [
    {
     "name": "stdout",
     "output_type": "stream",
     "text": [
      "0\n"
     ]
    },
    {
     "data": {
      "image/png": "[encoded data removed]"
     },
     "metadata": {
      "image/png": {
       "height": 374,
       "width": 545
      }
     },
     "output_type": "display_data"
    }
   ],
   "source": [
    "testzeroarray = [ee for ee in test if ee==0]\n",
    "print(len(testzeroarray))\n",
    "\n",
    "\n",
    "# plt.xlim(00)\n",
    "plt.hist(test)\n",
    "plt.show()\n"
   ]
  },
  {
   "cell_type": "code",
   "execution_count": 87,
   "metadata": {
    "ExecuteTime": {
     "end_time": "2019-11-06T11:01:11.919726+01:00",
     "start_time": "2019-11-06T11:01:11.919726Z"
    }
   },
   "outputs": [
    {
     "data": {
      "text/plain": [
       "[5000, 5000, 5000, 5000, 5000, 5000, 5000, 5000, 5000, 5000, 5000, 5000, 5000, 5000, 5000, 5000, 5000, 5000, 5000, 5000, 5000, 5000, 5000, 5000, 5000, 5000, 5000, 5000, 5000, 5000, 5000, 5000, 5000, 5000, 5000, 5000, 5000, 5000, 5000, 5000, 5000, 5000, 5000, 5000, 5000, 5000, 5000, 5000, 5000, 5000, 5000, 5000, 5000, 5000, 5000, 5000, 5000, 5000, 5000, 5000, 5000, 5000, 5000, 5000, 5000, 5000, 5000, 5000, 5000, 5000, 5000, 5000, 5000, 5000, 5000, 5000, 5000, 5000, 5000, 5000, 5000, 5000, 5000, 5000, 5000, 5000, 5000, 5000, 5000, 5000, 5000, 5000, 5000, 5000, 5000, 5000, 5000, 5000, 5000, 5000]"
      ]
     },
     "execution_count": 87,
     "metadata": {},
     "output_type": "execute_result"
    }
   ],
   "source": [
    "test"
   ]
  },
  {
   "cell_type": "code",
   "execution_count": 103,
   "metadata": {
    "ExecuteTime": {
     "end_time": "2019-11-06T11:04:35.137626+01:00",
     "start_time": "2019-11-06T11:04:35.137626Z"
    }
   },
   "outputs": [
    {
     "name": "stdout",
     "output_type": "stream",
     "text": [
      "0.0019986629486083984\n"
     ]
    }
   ],
   "source": [
    "begin = time.time()\n",
    "time.sleep(1e-6)\n",
    "end = time.time()\n",
    "print(end-begin)"
   ]
  },
  {
   "cell_type": "code",
   "execution_count": null,
   "metadata": {},
   "outputs": [],
   "source": []
  },
  {
   "cell_type": "code",
   "execution_count": null,
   "metadata": {},
   "outputs": [],
   "source": []
  },
  {
   "cell_type": "code",
   "execution_count": null,
   "metadata": {},
   "outputs": [],
   "source": []
  },
  {
   "cell_type": "code",
   "execution_count": 45,
   "metadata": {
    "ExecuteTime": {
     "end_time": "2019-11-06T10:25:43.065063+01:00",
     "start_time": "2019-11-06T10:25:43.065063Z"
    }
   },
   "outputs": [],
   "source": [
    "test=[]\n",
    "\n",
    "countBM = tt.CountBetweenMarkers(\n",
    "    tagger=fastcounter._tagger,\n",
    "    click_channel=1,\n",
    "    begin_channel=4,\n",
    "    end_channel =4,\n",
    "    n_values=1)\n",
    "\n",
    "\n",
    "for i in range(1000):\n",
    "\n",
    "\n",
    "    task.StartTask()\n",
    "    countBM.clear()\n",
    "#     task.WriteDigitalLines(1,1,10.0,PyDAQmx.DAQmx_Val_GroupByChannel, redAOM2 +mw_trig ,None,None)\n",
    "#     time.sleep(4e-7)\n",
    "    task.WriteDigitalLines(1,1,10.0,PyDAQmx.DAQmx_Val_GroupByChannel, green +mw_trig+ markers ,None,None)\n",
    "#     task.WriteDigitalLines(1,1,10.0,PyDAQmx.DAQmx_Val_GroupByChannel,  mw_trig+ markers ,None,None)\n",
    "\n",
    "    \n",
    "    time.sleep(0.0001)  \n",
    "    task.StopTask()\n",
    "\n",
    "    offFunc()\n",
    "    time.sleep(0.0001)  \n",
    "\n",
    "    # ======================== experiment======================\n",
    "    test.append(countBM.getData()[0])\n",
    "    time.sleep(0.0001)  \n",
    "\n",
    "    "
   ]
  },
  {
   "cell_type": "code",
   "execution_count": 46,
   "metadata": {
    "ExecuteTime": {
     "end_time": "2019-11-06T10:25:49.862866+01:00",
     "start_time": "2019-11-06T10:25:49.862866Z"
    }
   },
   "outputs": [
    {
     "data": {
      "text/plain": [
       "[0, 0, 0, 0, 0, 0, 0, 0, 0, 0, 0, 0, 0, 0, 0, 0, 0, 0, 0, 0, 0, 0, 0, 0, 0, 0, 0, 0, 0, 0, 0, 0, 0, 0, 0, 0, 0, 0, 0, 0, 0, 0, 0, 0, 0, 0, 0, 0, 0, 0, 0, 0, 0, 0, 0, 0, 0, 0, 0, 0, 0, 0, 0, 0, 0, 0, 0, 0, 0, 0, 0, 0, 0, 0, 0, 0, 0, 0, 0, 0, 0, 0, 0, 0, 0, 0, 0, 0, 0, 0, 0, 0, 0, 0, 0, 0, 0, 0, 0, 0]"
      ]
     },
     "execution_count": 46,
     "metadata": {},
     "output_type": "execute_result"
    }
   ],
   "source": [
    "test"
   ]
  },
  {
   "cell_type": "code",
   "execution_count": 40,
   "metadata": {
    "ExecuteTime": {
     "end_time": "2019-11-06T09:25:02.169197+01:00",
     "start_time": "2019-11-06T09:25:02.169197Z"
    }
   },
   "outputs": [
    {
     "data": {
      "text/plain": [
       "970"
      ]
     },
     "execution_count": 40,
     "metadata": {},
     "output_type": "execute_result"
    }
   ],
   "source": [
    "testzeroarray = [ee for ee in test if ee==0]\n",
    "len(testzeroarray)"
   ]
  },
  {
   "cell_type": "code",
   "execution_count": null,
   "metadata": {},
   "outputs": [],
   "source": []
  },
  {
   "cell_type": "code",
   "execution_count": null,
   "metadata": {},
   "outputs": [],
   "source": []
  },
  {
   "cell_type": "code",
   "execution_count": null,
   "metadata": {},
   "outputs": [],
   "source": []
  },
  {
   "cell_type": "code",
   "execution_count": 20,
   "metadata": {
    "ExecuteTime": {
     "end_time": "2019-11-05T19:39:33.916302+01:00",
     "start_time": "2019-11-05T19:39:33.916302Z"
    }
   },
   "outputs": [
    {
     "data": {
      "image/png": "[encoded data removed]"
     },
     "metadata": {
      "image/png": {
       "height": 361,
       "width": 545
      }
     },
     "output_type": "display_data"
    }
   ],
   "source": [
    "# test_y,test_x  = np.histogram(test)\n",
    "\n",
    "plt.hist(test)\n",
    "# plt.semilogy(test_x[0:-1] ,test_y,'o')\n",
    "# plt.xlim(20,600)\n",
    "# plt.ylim(0,20)\n",
    "\n",
    "plt.show()"
   ]
  },
  {
   "cell_type": "code",
   "execution_count": null,
   "metadata": {},
   "outputs": [],
   "source": []
  },
  {
   "cell_type": "code",
   "execution_count": null,
   "metadata": {},
   "outputs": [],
   "source": []
  },
  {
   "cell_type": "code",
   "execution_count": null,
   "metadata": {},
   "outputs": [],
   "source": []
  },
  {
   "cell_type": "code",
   "execution_count": 893,
   "metadata": {
    "ExecuteTime": {
     "end_time": "2019-11-05T19:09:57.157003+01:00",
     "start_time": "2019-11-05T19:09:57.157003Z"
    }
   },
   "outputs": [
    {
     "data": {
      "image/png": "[encoded data removed]"
     },
     "metadata": {
      "image/png": {
       "height": 361,
       "width": 549
      }
     },
     "output_type": "display_data"
    }
   ],
   "source": [
    "# test_y,test_x  = np.histogram(test)\n",
    "\n",
    "plt.hist(test,bins = 50)\n",
    "# plt.semilogy(test_x[0:-1] ,test_y,'o')\n",
    "# plt.xlim(20,600)\n",
    "plt.ylim(0,20)\n",
    "\n",
    "plt.show()"
   ]
  },
  {
   "cell_type": "code",
   "execution_count": null,
   "metadata": {},
   "outputs": [],
   "source": []
  },
  {
   "cell_type": "code",
   "execution_count": 858,
   "metadata": {
    "ExecuteTime": {
     "end_time": "2019-11-05T19:04:08.748524+01:00",
     "start_time": "2019-11-05T19:04:08.748524Z"
    }
   },
   "outputs": [
    {
     "data": {
      "text/plain": [
       "array([ 0. , 10.2, 20.4, 30.6, 40.8, 51. , 61.2, 71.4, 81.6, 91.8])"
      ]
     },
     "execution_count": 858,
     "metadata": {},
     "output_type": "execute_result"
    }
   ],
   "source": [
    "test_x [0:-1]"
   ]
  },
  {
   "cell_type": "code",
   "execution_count": 848,
   "metadata": {
    "ExecuteTime": {
     "end_time": "2019-11-05T19:01:13.715951+01:00",
     "start_time": "2019-11-05T19:01:13.715951Z"
    }
   },
   "outputs": [
    {
     "data": {
      "text/plain": [
       "array([  0. ,  10.2,  20.4,  30.6,  40.8,  51. ,  61.2,  71.4,  81.6,\n",
       "        91.8, 102. ])"
      ]
     },
     "execution_count": 848,
     "metadata": {},
     "output_type": "execute_result"
    }
   ],
   "source": [
    "test_y"
   ]
  },
  {
   "cell_type": "code",
   "execution_count": null,
   "metadata": {},
   "outputs": [],
   "source": []
  },
  {
   "cell_type": "code",
   "execution_count": 792,
   "metadata": {
    "ExecuteTime": {
     "end_time": "2019-11-05T18:33:58.514012+01:00",
     "start_time": "2019-11-05T18:33:58.514012Z"
    }
   },
   "outputs": [
    {
     "data": {
      "image/png": "[encoded data removed]"
     },
     "metadata": {
      "image/png": {
       "height": 361,
       "width": 553
      }
     },
     "output_type": "display_data"
    }
   ],
   "source": [
    "plt.hist(test,bins = 50)\n",
    "plt.xlim(0,20)\n",
    "plt.show()"
   ]
  },
  {
   "cell_type": "code",
   "execution_count": 794,
   "metadata": {
    "ExecuteTime": {
     "end_time": "2019-11-05T18:34:26.953815+01:00",
     "start_time": "2019-11-05T18:34:26.953815Z"
    }
   },
   "outputs": [],
   "source": [
    "# test"
   ]
  },
  {
   "cell_type": "code",
   "execution_count": 795,
   "metadata": {
    "ExecuteTime": {
     "end_time": "2019-11-05T18:34:39.608577+01:00",
     "start_time": "2019-11-05T18:34:39.608577Z"
    }
   },
   "outputs": [],
   "source": [
    "mw_pleA1()\n"
   ]
  },
  {
   "cell_type": "code",
   "execution_count": 796,
   "metadata": {
    "ExecuteTime": {
     "end_time": "2019-11-05T18:34:40.262843+01:00",
     "start_time": "2019-11-05T18:34:40.262843Z"
    }
   },
   "outputs": [],
   "source": [
    "offFunc()\n"
   ]
  },
  {
   "cell_type": "code",
   "execution_count": 755,
   "metadata": {
    "ExecuteTime": {
     "end_time": "2019-11-05T18:22:14.618033+01:00",
     "start_time": "2019-11-05T18:22:14.618033Z"
    }
   },
   "outputs": [],
   "source": [
    "greenFunc()\n"
   ]
  },
  {
   "cell_type": "code",
   "execution_count": 91,
   "metadata": {
    "ExecuteTime": {
     "end_time": "2019-11-04T22:50:49.862253+01:00",
     "start_time": "2019-11-04T22:50:49.862253Z"
    }
   },
   "outputs": [
    {
     "name": "stdout",
     "output_type": "stream",
     "text": [
      "0\n",
      "0\n",
      "0\n",
      "0\n",
      "0\n"
     ]
    },
    {
     "name": "stderr",
     "output_type": "stream",
     "text": [
      "\r",
      "  0%|          | 0/5 [00:00<?, ?it/s]\r",
      " 20%|##        | 1/5 [00:01<00:04,  1.00s/it]\r",
      " 40%|####      | 2/5 [00:02<00:03,  1.00s/it]\r",
      " 60%|######    | 3/5 [00:03<00:02,  1.00s/it]\r",
      " 80%|########  | 4/5 [00:04<00:01,  1.00s/it]\r",
      "100%|##########| 5/5 [00:05<00:00,  1.00s/it]\n"
     ]
    }
   ],
   "source": [
    "from tqdm import tqdm\n",
    "for yyyyy in tqdm(range(5)):\n",
    "    time.sleep(1)\n",
    "    print(0)"
   ]
  },
  {
   "cell_type": "markdown",
   "metadata": {},
   "source": [
    "#### Ex PLE"
   ]
  },
  {
   "cell_type": "code",
   "execution_count": 948,
   "metadata": {
    "ExecuteTime": {
     "end_time": "2019-11-05T19:17:50.074218+01:00",
     "start_time": "2019-11-05T19:17:50.074218Z"
    }
   },
   "outputs": [],
   "source": [
    "kill_scanner()"
   ]
  },
  {
   "cell_type": "code",
   "execution_count": 949,
   "metadata": {
    "ExecuteTime": {
     "end_time": "2019-11-05T19:17:52.456075+01:00",
     "start_time": "2019-11-05T19:17:52.455076Z"
    }
   },
   "outputs": [],
   "source": [
    "_v_min = 1.45\n",
    "_v_max = 1.55\n",
    "speed = 0.05\n",
    "\n",
    "laserscannerlogic.set_laser_number(1)\n",
    "\n",
    "start_scanning(v_min = _v_min,v_max = _v_max,speed= speed)"
   ]
  },
  {
   "cell_type": "code",
   "execution_count": 950,
   "metadata": {
    "ExecuteTime": {
     "end_time": "2019-11-05T19:17:57.497658+01:00",
     "start_time": "2019-11-05T19:17:57.497658Z"
    }
   },
   "outputs": [],
   "source": [
    "greenFunc()\n",
    "time.sleep(0.1)\n",
    "mw_pleEx()\n",
    "c = PLE_Ex(laser_number = 0, v_min = _v_min,v_max = _v_max,speed= speed)\n",
    "\n"
   ]
  },
  {
   "cell_type": "code",
   "execution_count": 951,
   "metadata": {
    "ExecuteTime": {
     "end_time": "2019-11-05T19:17:57.643588+01:00",
     "start_time": "2019-11-05T19:17:57.643588Z"
    },
    "scrolled": true
   },
   "outputs": [
    {
     "name": "stdout",
     "output_type": "stream",
     "text": [
      "789.0\n"
     ]
    },
    {
     "data": {
      "image/png": "[encoded data removed]"
     },
     "metadata": {
      "image/png": {
       "height": 361,
       "width": 564
      }
     },
     "output_type": "display_data"
    }
   ],
   "source": [
    "\n",
    "tempcounts = [ee for ee in c if ee!=0]\n",
    "print( max(tempcounts)/min(tempcounts))\n",
    "      \n",
    "plt.plot(np.linspace(_v_min,_v_max,len(c)),c,'-')\n",
    "# plt.savefig('nice PLE single scan.png')\n",
    "plt.show()\n"
   ]
  },
  {
   "cell_type": "code",
   "execution_count": 952,
   "metadata": {
    "ExecuteTime": {
     "end_time": "2019-11-05T19:17:58.013411+01:00",
     "start_time": "2019-11-05T19:17:58.013411Z"
    }
   },
   "outputs": [
    {
     "name": "stdout",
     "output_type": "stream",
     "text": [
      "1.4854515050167223\n"
     ]
    }
   ],
   "source": [
    "resonanceEx = np.linspace(_v_min,_v_max,len(c))[np.argmax(c)]\n",
    "print(resonanceEx)\n",
    "laserscannerlogic._goto_speed = 0.1\n",
    "laserscannerlogic._goto_during_scan(resonanceEx)\n",
    "_v_min =resonance -0.02\n",
    "_v_max = resonance + 0.02"
   ]
  },
  {
   "cell_type": "code",
   "execution_count": null,
   "metadata": {},
   "outputs": [],
   "source": []
  },
  {
   "cell_type": "code",
   "execution_count": null,
   "metadata": {},
   "outputs": [],
   "source": []
  },
  {
   "cell_type": "code",
   "execution_count": 1090,
   "metadata": {
    "ExecuteTime": {
     "end_time": "2019-11-04T16:07:39.806880+01:00",
     "start_time": "2019-11-04T16:07:39.806880Z"
    }
   },
   "outputs": [],
   "source": [
    "mw_pleEx()"
   ]
  },
  {
   "cell_type": "code",
   "execution_count": 1093,
   "metadata": {
    "ExecuteTime": {
     "end_time": "2019-11-04T16:07:46.024303+01:00",
     "start_time": "2019-11-04T16:07:46.024303Z"
    }
   },
   "outputs": [],
   "source": [
    "offFunc()"
   ]
  },
  {
   "cell_type": "code",
   "execution_count": 1092,
   "metadata": {
    "ExecuteTime": {
     "end_time": "2019-11-04T16:07:42.695495+01:00",
     "start_time": "2019-11-04T16:07:42.695495Z"
    }
   },
   "outputs": [],
   "source": [
    "greenFunc()"
   ]
  },
  {
   "cell_type": "markdown",
   "metadata": {},
   "source": [
    "# Check A1 duration"
   ]
  },
  {
   "cell_type": "code",
   "execution_count": 809,
   "metadata": {
    "ExecuteTime": {
     "end_time": "2019-11-05T18:43:52.720706+01:00",
     "start_time": "2019-11-05T18:43:52.720706Z"
    }
   },
   "outputs": [],
   "source": [
    "kill_scanner()"
   ]
  },
  {
   "cell_type": "code",
   "execution_count": 810,
   "metadata": {
    "ExecuteTime": {
     "end_time": "2019-11-05T18:53:05.126278+01:00",
     "start_time": "2019-11-05T18:53:05.126278Z"
    }
   },
   "outputs": [],
   "source": [
    "laserscannerlogic.set_scan_lines(1e6)\n",
    "\n",
    "start = 0.5e-6\n",
    "stop = 9.5e-6\n",
    "n = 3 # amount of points\n",
    "step = (stop-start) / n\n",
    "m = 2001# how much times should code measure every point\n",
    "# data = np.zeros((n,m))\n",
    "data = []\n",
    "\n",
    "rr =[]\n",
    "\n",
    "offFunc()\n",
    "times = np.linspace(start,stop,n)\n",
    "\n",
    "    \n",
    "countBM = tt.CountBetweenMarkers(\n",
    "    tagger=fastcounter._tagger,\n",
    "    click_channel=1,\n",
    "    begin_channel=4,\n",
    "    n_values=1)\n",
    "\n",
    "_v_min = -0.8\n",
    "_v_max = -0.75\n",
    "speed = 0.02\n",
    "\n",
    "start_scanning(v_min = _v_min,v_max = _v_max,speed= speed)\n",
    "greenFunc()\n",
    "time.sleep(0.1)\n",
    "\n",
    "\n",
    "for t in range(len(times)):\n",
    "    \n",
    "    mw_pleA1()\n",
    "    counts = PLE_A1(laser_number = 0, v_min = _v_min,v_max = _v_max,speed= speed)\n",
    "    \n",
    "    if len(counts)==1:\n",
    "        if counts == -1:\n",
    "            print('counts are None')\n",
    "            break;\n",
    "        if counts ==0:\n",
    "            print('cant find PLE line')\n",
    "            break;\n",
    "\n",
    "    offFunc()\n",
    "    resonance = np.linspace(_v_min,_v_max,len(counts))[np.argmax(counts)]\n",
    "    laserscannerlogic._goto_during_scan(resonance)\n",
    "#     _v_min = resonance -0.01\n",
    "#     _v_max = resonance + 0.01\n",
    "    \n",
    "    \n",
    "    \n",
    "    main_temp_data=[]\n",
    "    temp_data = []\n",
    "    \n",
    "    for i in range(m):    \n",
    "        \n",
    "        # ======================= check PLE after 100 scans=======================\n",
    "        if i%100==0 and i>0:\n",
    "           \n",
    "            task.StartTask()\n",
    "            countBM.clear()\n",
    "            \n",
    "            task.WriteDigitalLines(1,1,10.0,PyDAQmx.DAQmx_Val_GroupByChannel, redAOM2 +mw_trig+ markers ,None,None)\n",
    "            time.sleep(0.01)  \n",
    "            task.StopTask()\n",
    "            offFunc()\n",
    "            # ======================== experiment======================\n",
    "            ratio = countBM.getData()[0]\n",
    "            rr.append(ratio)\n",
    "            if ratio>6:\n",
    "                main_temp_data.append(temp_data)   \n",
    "                offFunc()\n",
    "            else:\n",
    "                mw_pleA1()\n",
    "                counts = PLE_A1(laser_number = 0, v_min = _v_min,v_max = _v_max,speed= speed)\n",
    "                    \n",
    "            resonance = np.linspace(_v_min,_v_max,len(counts))[np.argmax(counts)]\n",
    "#             _v_min = resonance -0.01\n",
    "#             _v_max = resonance + 0.01\n",
    "            offFunc()\n",
    "            laserscannerlogic._goto_during_scan(resonance)\n",
    "            temp_data = []\n",
    "            \n",
    "        # ======================= check PLE =======================\n",
    "        \n",
    "        # ======================== experiment======================\n",
    "        \n",
    "        mw_on()  #     MW to create random mixture\n",
    "        time.sleep(10e-6)\n",
    "        offFunc()\n",
    "\n",
    "#         time.sleep(0.001)\n",
    "\n",
    "        task.StartTask()\n",
    "        countBM.clear()\n",
    "        \n",
    "        task.WriteDigitalLines(1,1,10.0,PyDAQmx.DAQmx_Val_GroupByChannel, redAOM2 ,None,None)\n",
    "        time.sleep(3e-7)\n",
    "        task.WriteDigitalLines(1,1,10.0,PyDAQmx.DAQmx_Val_GroupByChannel, redAOM2+ markers ,None,None)\n",
    "        \n",
    "        time.sleep(times[t])  \n",
    "        task.StopTask()\n",
    "        offFunc()\n",
    "        # ======================== experiment======================\n",
    "        temp_data.append(countBM.getData()[0])\n",
    "    \n",
    "    data.append(main_temp_data)\n"
   ]
  },
  {
   "cell_type": "code",
   "execution_count": 811,
   "metadata": {
    "ExecuteTime": {
     "end_time": "2019-11-05T18:53:05.127277+01:00",
     "start_time": "2019-11-05T18:53:05.127277Z"
    }
   },
   "outputs": [
    {
     "data": {
      "text/plain": [
       "[0, 0, 0, 0, 0, 0, 0, 0, 0, 2, 0, 0, 0, 0, 0, 0, 0, 0, 0, 0, 0, 3, 3, 2, 0, 0, 0, 0, 0, 0, 0, 0, 0, 0, 3, 0, 0, 0, 0, 0, 0, 0, 0, 0, 0, 0, 0, 0, 0, 0, 0, 0, 0, 0, 0, 0, 0, 0, 0, 0]"
      ]
     },
     "execution_count": 811,
     "metadata": {},
     "output_type": "execute_result"
    }
   ],
   "source": [
    "rr"
   ]
  },
  {
   "cell_type": "code",
   "execution_count": 812,
   "metadata": {
    "ExecuteTime": {
     "end_time": "2019-11-05T18:53:05.128277+01:00",
     "start_time": "2019-11-05T18:53:05.128277Z"
    }
   },
   "outputs": [],
   "source": [
    "# data"
   ]
  },
  {
   "cell_type": "code",
   "execution_count": 813,
   "metadata": {
    "ExecuteTime": {
     "end_time": "2019-11-05T18:53:05.129276+01:00",
     "start_time": "2019-11-05T18:53:05.129276Z"
    }
   },
   "outputs": [],
   "source": [
    "tttt = []\n",
    "for d in data:\n",
    "#     if np.average(d)!=0:\n",
    "    tttt.append(np.sum(d))"
   ]
  },
  {
   "cell_type": "code",
   "execution_count": 814,
   "metadata": {
    "ExecuteTime": {
     "end_time": "2019-11-05T18:53:05.130275+01:00",
     "start_time": "2019-11-05T18:53:05.130275Z"
    }
   },
   "outputs": [
    {
     "data": {
      "text/plain": [
       "[0.0, 0.0, 0.0]"
      ]
     },
     "execution_count": 814,
     "metadata": {},
     "output_type": "execute_result"
    }
   ],
   "source": [
    "tttt"
   ]
  },
  {
   "cell_type": "code",
   "execution_count": 815,
   "metadata": {
    "ExecuteTime": {
     "end_time": "2019-11-05T18:53:05.262212+01:00",
     "start_time": "2019-11-05T18:53:05.262212Z"
    }
   },
   "outputs": [
    {
     "data": {
      "image/png": "[encoded data removed]"
     },
     "metadata": {
      "image/png": {
       "height": 375,
       "width": 571
      }
     },
     "output_type": "display_data"
    }
   ],
   "source": [
    "plt.plot(times[0:len(tttt)],tttt,'o', label = 'A1 data init')\n",
    "# plt.plot(times_noise,tttt_noise,'o', color = 'red', label = 'noise')\n",
    "plt.ylabel('average counts')\n",
    "plt.xlabel('time')\n",
    "plt.legend()\n",
    "# plt.savefig('for telegram to send.png')\n",
    "plt.show()"
   ]
  },
  {
   "cell_type": "code",
   "execution_count": 816,
   "metadata": {
    "ExecuteTime": {
     "end_time": "2019-11-05T18:53:05.488104+01:00",
     "start_time": "2019-11-05T18:53:05.488104Z"
    }
   },
   "outputs": [
    {
     "data": {
      "text/plain": [
       "<telegram.message.Message object at 0x00000286BA23BBE0>"
      ]
     },
     "execution_count": 816,
     "metadata": {},
     "output_type": "execute_result"
    }
   ],
   "source": [
    "bot.sendMessage(chat_id=chat_id, text=\"A1 check 1000 repetition each point\")\n",
    "bot.send_photo(chat_id=chat_id, photo=open('for telegram to send.png', 'rb'))"
   ]
  },
  {
   "cell_type": "code",
   "execution_count": null,
   "metadata": {},
   "outputs": [],
   "source": []
  },
  {
   "cell_type": "code",
   "execution_count": null,
   "metadata": {},
   "outputs": [],
   "source": []
  },
  {
   "cell_type": "code",
   "execution_count": null,
   "metadata": {},
   "outputs": [],
   "source": []
  },
  {
   "cell_type": "markdown",
   "metadata": {
    "heading_collapsed": true
   },
   "source": [
    "# Noise estimatio for A1 duration"
   ]
  },
  {
   "cell_type": "code",
   "execution_count": 955,
   "metadata": {
    "ExecuteTime": {
     "end_time": "2019-11-04T15:14:48.399817+01:00",
     "start_time": "2019-11-04T15:14:48.399817Z"
    },
    "hidden": true
   },
   "outputs": [],
   "source": [
    "\n",
    "times_noise = np.linspace(start,stop, 10) \n",
    "data_noise = []\n",
    "\n",
    "for t in range(len(times_noise)):\n",
    "    temp_data_noise =[]\n",
    "\n",
    "    for i in range(5):    \n",
    "        offFunc()\n",
    "\n",
    "        time.sleep(0.001)\n",
    "\n",
    "        task.StartTask()\n",
    "        countBM.clear()\n",
    "        task.WriteDigitalLines(1,1,10.0,PyDAQmx.DAQmx_Val_GroupByChannel, redAOM2 + markers ,None,None)\n",
    "        time.sleep(times_noise[t])  \n",
    "        task.StopTask()\n",
    "        offFunc()\n",
    "        \n",
    "        temp_data_noise.append(countBM.getData()[0])\n",
    "    \n",
    "    data_noise.append(temp_data_noise)\n",
    "        "
   ]
  },
  {
   "cell_type": "code",
   "execution_count": 959,
   "metadata": {
    "ExecuteTime": {
     "end_time": "2019-11-04T15:15:35.062783+01:00",
     "start_time": "2019-11-04T15:15:35.062783Z"
    },
    "hidden": true
   },
   "outputs": [
    {
     "data": {
      "text/plain": [
       "[[12, 5, 6, 8, 3], [173, 180, 164, 129, 179], [314, 290, 276, 270, 265], [396, 446, 463, 444, 469], [587, 567, 518, 560, 564], [713, 725, 717, 701, 664], [807, 793, 813, 809, 808], [985, 953, 971, 920, 961], [1158, 1068, 1111, 1110, 1126], [1207, 1258, 1250, 1272, 1208]]"
      ]
     },
     "execution_count": 959,
     "metadata": {},
     "output_type": "execute_result"
    }
   ],
   "source": [
    "data_noise"
   ]
  },
  {
   "cell_type": "code",
   "execution_count": 961,
   "metadata": {
    "ExecuteTime": {
     "end_time": "2019-11-04T15:16:14.192267+01:00",
     "start_time": "2019-11-04T15:16:14.192267Z"
    },
    "hidden": true
   },
   "outputs": [
    {
     "name": "stdout",
     "output_type": "stream",
     "text": [
      "[6.8, 165.0, 283.0, 443.6, 559.2, 704.0, 806.0, 958.0, 1114.6, 1239.0]\n"
     ]
    }
   ],
   "source": [
    "tttt_noise  = []\n",
    "for d in data_noise:\n",
    "#     print(d)\n",
    "    tttt_noise.append(np.average(d))\n",
    "\n",
    "print(tttt_noise)"
   ]
  },
  {
   "cell_type": "code",
   "execution_count": null,
   "metadata": {
    "hidden": true
   },
   "outputs": [],
   "source": []
  },
  {
   "cell_type": "markdown",
   "metadata": {
    "ExecuteTime": {
     "end_time": "2019-11-04T11:06:02.115144+01:00",
     "start_time": "2019-11-04T11:06:02.115144Z"
    },
    "heading_collapsed": true
   },
   "source": [
    "# Single Shot Readout"
   ]
  },
  {
   "cell_type": "code",
   "execution_count": null,
   "metadata": {
    "hidden": true
   },
   "outputs": [],
   "source": [
    "# def check(readouttime):\n",
    "  \n",
    "#     countBM.clear() # Clear the buffer\n",
    "    \n",
    "#     task.StartTask()\n",
    "#     task.WriteDigitalLines(1,1,10.0,PyDAQmx.DAQmx_Val_GroupByChannel,redAOM2+redAOM1+markers,None,None)\n",
    "#     time.sleep(readouttime)\n",
    "#     task.StopTask()\n",
    "#     offFunc()\n",
    "\n",
    "#     return countBM.getData()[0]\n",
    "\n",
    "# def ssr(readouttimeEx,readouttimeCheck):\n",
    "\n",
    "#     # ==== initialization\n",
    "#     offFunc()\n",
    "#     redA1Func()\n",
    "#     time.sleep(15e-6)\n",
    "#     offFunc()\n",
    "#     time.sleep(1e-6)\n",
    "    \n",
    "#     # ==== readout\n",
    "#     counts = readoutEx(readouttimeEx)\n",
    "    \n",
    "#     return counts\n"
   ]
  },
  {
   "cell_type": "code",
   "execution_count": null,
   "metadata": {
    "hidden": true
   },
   "outputs": [],
   "source": [
    "start = 1e-1\n",
    "stop = 3\n",
    "n = 100 # amount of points\n",
    "step = (stop-start) / n\n",
    "m = 11# how much times should code measure every point\n",
    "\n",
    "data = []\n",
    "offFunc()\n",
    "times = np.linspace(start,stop,n)\n",
    "    \n",
    "countBM = tt.CountBetweenMarkers(\n",
    "    tagger=fastcounter._tagger,\n",
    "    click_channel=1,\n",
    "    begin_channel=4,\n",
    "    n_values=1)\n",
    "\n",
    "_v_min_Ex = \n",
    "_v_max_Ex = \n",
    "speed_Ex = \n",
    "\n",
    "\n",
    "\n",
    "_v_min_A1 = \n",
    "_v_max_A1 = \n",
    "speed_A1 = \n",
    "\n",
    "\n",
    "start_scanning(v_min = _v_min,v_max = _v_max,speed= speed)\n",
    "greenFunc()\n",
    "time.sleep(0.1)\n",
    "\n",
    "\n",
    "\n",
    "for t in range(len(times)):\n",
    "    \n",
    "    mw_pleA1()\n",
    "    counts = PLE_A1(laser_number = 0, v_min = _v_min_A1,v_max = _v_max_A1,speed= speed_A1)\n",
    "\n",
    "        \n",
    "    if len(counts)==1:\n",
    "        if counts == -1:\n",
    "            print('counts are None')\n",
    "            break;\n",
    "        if counts ==0:\n",
    "            print('cant find PLE line')\n",
    "            break;\n",
    "    offFunc()\n",
    "    resonance_A1 = np.linspace(_v_min_A1,_v_max_A1,len(counts))[np.argmax(counts)]\n",
    "    laserscannerlogic._goto_during_scan(resonance_A1)\n",
    "    \n",
    "    \n",
    "    mw_pleEx()\n",
    "    counts = PLE_Ex(laser_number = 1, v_min = _v_min_Ex,v_max = _v_max_Ex,speed= speed_Ex)\n",
    "    if len(counts)==1:\n",
    "        if counts == -1:\n",
    "            print('counts are None')\n",
    "            break;\n",
    "        if counts ==0:\n",
    "            print('cant find PLE line')\n",
    "            break;\n",
    "    \n",
    "    offFunc()\n",
    "    resonance_Ex = np.linspace(_v_min_Ex,_v_max_Ex,len(counts))[np.argmax(counts)]\n",
    "    laserscannerlogic._goto_during_scan(resonance_Ex)    \n",
    "    \n",
    "    for i in range(m):    \n",
    "\n",
    "\n",
    "\n",
    "\n",
    "\n",
    "\n",
    "\n",
    "\n",
    "\n",
    "\n",
    "\n",
    "\n",
    "\n",
    "\n",
    "\n",
    "\n",
    "\n",
    "\n",
    "\n",
    "for t in range(len(times)):\n",
    "    mw_pleA1()\n",
    "    counts = PLE_A1(laser_number = 0, v_min = _v_min,v_max = _v_max,speed= speed)\n",
    "    \n",
    "    if len(counts)==1:\n",
    "        if counts == -1:\n",
    "            print('counts are None')\n",
    "            break;\n",
    "        if counts ==0:\n",
    "            print('cant find PLE line')\n",
    "            break;\n",
    "\n",
    "    offFunc()\n",
    "    resonance = np.linspace(_v_min,_v_max,len(counts))[np.argmax(counts)]\n",
    "    laserscannerlogic._goto_during_scan(resonance)\n",
    "    main_temp_data=[]\n",
    "    temp_data = []\n",
    "    \n",
    "    for i in range(m):    \n",
    "        \n",
    "        # ======================= check PLE after 10 scans=======================\n",
    "        if i%10==0 and i>0:\n",
    "            mw_pleA1() # 1 PLE check\n",
    "            counts = laserscannerlogic._do_next_one_line()             \n",
    "\n",
    "            \n",
    "            if counts is None:\n",
    "                print('COUNTS are NONE in scan!!!')\n",
    "                offFunc()\n",
    "                break;\n",
    "            else:\n",
    "                tempcounts = [ee for ee in counts if ee!=0]\n",
    "                ratio = max(tempcounts)/min(tempcounts)\n",
    "                if ratio>15:\n",
    "                    main_temp_data.append(temp_data)   \n",
    "                    offFunc()\n",
    "                else:\n",
    "                    mw_pleA1()\n",
    "                    counts = PLE_A1(laser_number = 0, v_min = _v_min,v_max = _v_max,speed= speed)\n",
    "                    \n",
    "            resonance = np.linspace(_v_min,_v_max,len(counts))[np.argmax(counts)]\n",
    "            offFunc()\n",
    "            laserscannerlogic._goto_during_scan(resonance)\n",
    "            temp_data = []\n",
    "            \n",
    "        # ======================= check PLE =======================\n",
    "        \n",
    "        # ======================== experiment======================\n",
    "        \n",
    "        mw_on()  #     MW to create random mixture\n",
    "        time.sleep(0.2)\n",
    "        offFunc()\n",
    "\n",
    "        time.sleep(0.001)\n",
    "\n",
    "        task.StartTask()\n",
    "        countBM.clear()\n",
    "        task.WriteDigitalLines(1,1,10.0,PyDAQmx.DAQmx_Val_GroupByChannel, redAOM2 + markers ,None,None)\n",
    "        time.sleep(times[t])  \n",
    "        task.StopTask()\n",
    "        offFunc()\n",
    "        # ======================== experiment======================\n",
    "        \n",
    "        temp_data.append(countBM.getData()[0])\n",
    "    \n",
    "    data.append(main_temp_data)\n"
   ]
  },
  {
   "cell_type": "code",
   "execution_count": null,
   "metadata": {
    "hidden": true
   },
   "outputs": [],
   "source": [
    "\n",
    "    check_counts = check(readouttimeCheck)\n",
    "    if check_counts>2:\n",
    "        return counts\n",
    "    else:\n",
    "        PLEEx\n",
    "        PLEA1\n",
    "        move to resonances\n",
    "        check()\n",
    "        if ok:\n",
    "            protocol\n",
    "        else:\n",
    "            greenrepump\n",
    "            \n",
    "    "
   ]
  },
  {
   "cell_type": "code",
   "execution_count": null,
   "metadata": {
    "hidden": true
   },
   "outputs": [],
   "source": []
  },
  {
   "cell_type": "markdown",
   "metadata": {
    "heading_collapsed": true
   },
   "source": [
    "# Delay tests"
   ]
  },
  {
   "cell_type": "markdown",
   "metadata": {
    "hidden": true
   },
   "source": [
    "#### Read AOM2 "
   ]
  },
  {
   "cell_type": "code",
   "execution_count": 239,
   "metadata": {
    "ExecuteTime": {
     "end_time": "2019-11-05T15:16:17.020296+01:00",
     "start_time": "2019-11-05T15:16:17.020296Z"
    },
    "hidden": true
   },
   "outputs": [],
   "source": [
    "from TimeTagger import Correlation\n",
    "\n",
    "\n",
    "# countBM = tt.CountBetweenMarkers(\n",
    "#     tagger=fastcounter._tagger,\n",
    "#     click_channel=1,\n",
    "#     begin_channel=4,\n",
    "#     n_values=1)"
   ]
  },
  {
   "cell_type": "code",
   "execution_count": 521,
   "metadata": {
    "ExecuteTime": {
     "end_time": "2019-11-05T16:48:52.486123+01:00",
     "start_time": "2019-11-05T16:48:52.486123Z"
    },
    "hidden": true
   },
   "outputs": [],
   "source": [
    "kill_scanner()"
   ]
  },
  {
   "cell_type": "code",
   "execution_count": 584,
   "metadata": {
    "ExecuteTime": {
     "end_time": "2019-11-05T17:09:46.253189+01:00",
     "start_time": "2019-11-05T17:09:46.253189Z"
    },
    "hidden": true
   },
   "outputs": [],
   "source": [
    "_v_min = -0.75\n",
    "_v_max = -0.73\n",
    "speed = 0.02\n",
    "\n",
    "start_scanning(v_min = _v_min,v_max = _v_max,speed= speed)"
   ]
  },
  {
   "cell_type": "code",
   "execution_count": 585,
   "metadata": {
    "ExecuteTime": {
     "end_time": "2019-11-05T17:10:00.708860+01:00",
     "start_time": "2019-11-05T17:10:00.708860Z"
    },
    "hidden": true
   },
   "outputs": [],
   "source": [
    "greenFunc()\n",
    "time.sleep(0.1)\n",
    "mw_pleA1()\n",
    "c = PLE_A1(laser_number = 0, v_min = _v_min,v_max = _v_max,speed= speed)\n",
    "# if c==-1 or c==0:\n",
    "#     print (c)"
   ]
  },
  {
   "cell_type": "code",
   "execution_count": 586,
   "metadata": {
    "ExecuteTime": {
     "end_time": "2019-11-05T17:10:02.563120+01:00",
     "start_time": "2019-11-05T17:10:02.563120Z"
    },
    "hidden": true
   },
   "outputs": [
    {
     "name": "stdout",
     "output_type": "stream",
     "text": [
      "882.0\n"
     ]
    },
    {
     "data": {
      "image/png": "[encoded data removed]"
     },
     "metadata": {
      "image/png": {
       "height": 361,
       "width": 564
      }
     },
     "output_type": "display_data"
    }
   ],
   "source": [
    "\n",
    "tempcounts = [ee for ee in c if ee!=0]\n",
    "print( max(tempcounts)/min(tempcounts))\n",
    "      \n",
    "plt.plot(np.linspace(_v_min,_v_max,len(c)),c,'-')\n",
    "# plt.savefig('nice PLE single scan.png')\n",
    "plt.show()\n"
   ]
  },
  {
   "cell_type": "code",
   "execution_count": 587,
   "metadata": {
    "ExecuteTime": {
     "end_time": "2019-11-05T17:10:05.823586+01:00",
     "start_time": "2019-11-05T17:10:05.823586Z"
    },
    "hidden": true
   },
   "outputs": [
    {
     "name": "stdout",
     "output_type": "stream",
     "text": [
      "_v_min  -0.7566442953020134\n",
      "_v_max  -0.7366442953020134\n"
     ]
    }
   ],
   "source": [
    "offFunc()\n",
    "resonance = np.linspace(_v_min,_v_max,len(c))[np.argmax(c)]\n",
    "laserscannerlogic._goto_speed = 0.03\n",
    "laserscannerlogic._goto_during_scan(resonance)\n",
    "_v_min = resonance -0.01\n",
    "_v_max = resonance + 0.01\n",
    "print('_v_min ',_v_min)\n",
    "print('_v_max ',_v_max)"
   ]
  },
  {
   "cell_type": "code",
   "execution_count": 588,
   "metadata": {
    "ExecuteTime": {
     "end_time": "2019-11-05T17:10:08.217644+01:00",
     "start_time": "2019-11-05T17:10:08.217644Z"
    },
    "hidden": true
   },
   "outputs": [],
   "source": [
    "mw_pleA1()\n"
   ]
  },
  {
   "cell_type": "code",
   "execution_count": 589,
   "metadata": {
    "ExecuteTime": {
     "end_time": "2019-11-05T17:10:08.456530+01:00",
     "start_time": "2019-11-05T17:10:08.456530Z"
    },
    "hidden": true
   },
   "outputs": [],
   "source": [
    "offFunc()\n"
   ]
  },
  {
   "cell_type": "code",
   "execution_count": 368,
   "metadata": {
    "ExecuteTime": {
     "end_time": "2019-11-05T15:39:09.306797+01:00",
     "start_time": "2019-11-05T15:39:09.306797Z"
    },
    "hidden": true
   },
   "outputs": [],
   "source": [
    "greenFunc()\n"
   ]
  },
  {
   "cell_type": "code",
   "execution_count": 590,
   "metadata": {
    "ExecuteTime": {
     "end_time": "2019-11-05T17:10:13.649345+01:00",
     "start_time": "2019-11-05T17:10:13.649345Z"
    },
    "hidden": true
   },
   "outputs": [],
   "source": [
    "corr.clear()\n"
   ]
  },
  {
   "cell_type": "code",
   "execution_count": 591,
   "metadata": {
    "ExecuteTime": {
     "end_time": "2019-11-05T17:10:16.209382+01:00",
     "start_time": "2019-11-05T17:10:16.209382Z"
    },
    "hidden": true
   },
   "outputs": [],
   "source": [
    "corr = Correlation(tagger=fastcounter._tagger,\n",
    "            channel_1=1, \n",
    "            channel_2=4,\n",
    "            binwidth=20000, \n",
    "            n_bins=200)\n"
   ]
  },
  {
   "cell_type": "code",
   "execution_count": 511,
   "metadata": {
    "ExecuteTime": {
     "end_time": "2019-11-05T16:39:46.587058+01:00",
     "start_time": "2019-11-05T16:39:46.587058Z"
    },
    "hidden": true
   },
   "outputs": [],
   "source": [
    "offFunc()"
   ]
  },
  {
   "cell_type": "code",
   "execution_count": 592,
   "metadata": {
    "ExecuteTime": {
     "end_time": "2019-11-05T17:13:19.333558+01:00",
     "start_time": "2019-11-05T17:13:19.333558Z"
    },
    "hidden": true
   },
   "outputs": [],
   "source": [
    "x=[]\n",
    "y=np.zeros(200)\n",
    "\n",
    "for j in range(25):\n",
    "    corr.clear()\n",
    "    greenFunc()\n",
    "    time.sleep(0.1)\n",
    "    mw_pleA1()\n",
    "    c = PLE_A1(laser_number = 1, v_min = _v_min,v_max = _v_max,speed= speed)\n",
    "\n",
    "    offFunc()\n",
    "    resonance = np.linspace(_v_min,_v_max,len(c))[np.argmax(c)]\n",
    "    laserscannerlogic._goto_speed = 0.03\n",
    "    laserscannerlogic._goto_during_scan(resonance)\n",
    "    \n",
    "    _v_min = resonance -0.01\n",
    "    _v_max = resonance + 0.01\n",
    "\n",
    "    for i in range(2000):\n",
    "\n",
    "        task.StartTask()\n",
    "        task.WriteDigitalLines(1,1,10.0,PyDAQmx.DAQmx_Val_GroupByChannel, redAOM2 + markers +mw_trig ,None,None)\n",
    "        time.sleep(1.23e-7)\n",
    "        task.StopTask()\n",
    "        offFunc()\n",
    "        \n",
    "        \n",
    "    x = corr.getIndex() / 1e3\n",
    "    y = y+corr.getDataNormalized()\n"
   ]
  },
  {
   "cell_type": "code",
   "execution_count": 598,
   "metadata": {
    "ExecuteTime": {
     "end_time": "2019-11-05T17:13:41.035285+01:00",
     "start_time": "2019-11-05T17:13:41.035285Z"
    },
    "hidden": true
   },
   "outputs": [
    {
     "data": {
      "image/png": "[encoded data removed]"
     },
     "metadata": {
      "image/png": {
       "height": 375,
       "width": 545
      }
     },
     "output_type": "display_data"
    }
   ],
   "source": [
    "# 1us\n",
    "plt.plot(x,y,'o',color = 'blue')\n",
    "plt.xlim(200,500)\n",
    "plt.xlabel('time, ns')\n",
    "\n",
    "plt.savefig('for telegram to send.png')\n",
    "\n",
    "plt.show()\n"
   ]
  },
  {
   "cell_type": "code",
   "execution_count": 599,
   "metadata": {
    "ExecuteTime": {
     "end_time": "2019-11-05T17:13:44.319290+01:00",
     "start_time": "2019-11-05T17:13:44.319290Z"
    },
    "hidden": true
   },
   "outputs": [
    {
     "data": {
      "text/plain": [
       "<telegram.message.Message object at 0x00000286B17B7588>"
      ]
     },
     "execution_count": 599,
     "metadata": {},
     "output_type": "execute_result"
    }
   ],
   "source": [
    "bot.sendMessage(chat_id=chat_id, text=\"Delay_check redAOM2\")\n",
    "bot.send_photo(chat_id=chat_id, photo=open('for telegram to send.png', 'rb'))"
   ]
  },
  {
   "cell_type": "code",
   "execution_count": 595,
   "metadata": {
    "ExecuteTime": {
     "end_time": "2019-11-05T17:13:19.923087+01:00",
     "start_time": "2019-11-05T17:13:19.923087Z"
    },
    "hidden": true
   },
   "outputs": [
    {
     "data": {
      "image/png": "[encoded data removed]"
     },
     "metadata": {
      "image/png": {
       "height": 375,
       "width": 539
      }
     },
     "output_type": "display_data"
    }
   ],
   "source": [
    "# 1us\n",
    "plt.plot(x,y,'o',color = 'blue')\n",
    "# plt.xlim(280,400)\n",
    "plt.xlabel('time, ns')\n",
    "\n",
    "plt.savefig('for telegram to send.png')\n",
    "\n",
    "plt.show()\n"
   ]
  },
  {
   "cell_type": "code",
   "execution_count": 596,
   "metadata": {
    "ExecuteTime": {
     "end_time": "2019-11-05T17:13:20.106133+01:00",
     "start_time": "2019-11-05T17:13:20.106133Z"
    },
    "hidden": true
   },
   "outputs": [
    {
     "data": {
      "text/plain": [
       "<telegram.message.Message object at 0x00000286B2D8D978>"
      ]
     },
     "execution_count": 596,
     "metadata": {},
     "output_type": "execute_result"
    }
   ],
   "source": [
    "bot.sendMessage(chat_id=chat_id, text=\"Delay_check redAOM2\")\n",
    "bot.send_photo(chat_id=chat_id, photo=open('for telegram to send.png', 'rb'))"
   ]
  },
  {
   "cell_type": "code",
   "execution_count": null,
   "metadata": {
    "hidden": true
   },
   "outputs": [],
   "source": []
  },
  {
   "cell_type": "markdown",
   "metadata": {
    "hidden": true
   },
   "source": [
    "#### ReadAOM"
   ]
  },
  {
   "cell_type": "code",
   "execution_count": 583,
   "metadata": {
    "ExecuteTime": {
     "end_time": "2019-11-05T17:09:11.120748+01:00",
     "start_time": "2019-11-05T17:09:11.120748Z"
    },
    "hidden": true
   },
   "outputs": [],
   "source": [
    "kill_scanner()"
   ]
  },
  {
   "cell_type": "code",
   "execution_count": 565,
   "metadata": {
    "ExecuteTime": {
     "end_time": "2019-11-05T17:04:36.012657+01:00",
     "start_time": "2019-11-05T17:04:36.012657Z"
    },
    "hidden": true
   },
   "outputs": [],
   "source": [
    "_v_min = 1.35\n",
    "_v_max = 1.5\n",
    "speed = 0.05\n",
    "\n",
    "laserscannerlogic.set_laser_number(1)\n",
    "\n",
    "start_scanning(v_min = _v_min,v_max = _v_max,speed= speed)"
   ]
  },
  {
   "cell_type": "code",
   "execution_count": 566,
   "metadata": {
    "ExecuteTime": {
     "end_time": "2019-11-05T17:04:42.469015+01:00",
     "start_time": "2019-11-05T17:04:42.469015Z"
    },
    "hidden": true
   },
   "outputs": [],
   "source": [
    "greenFunc()\n",
    "time.sleep(0.1)\n",
    "mw_pleEx()\n",
    "c = PLE_Ex(laser_number = 0, v_min = _v_min,v_max = _v_max,speed= speed)\n",
    "\n"
   ]
  },
  {
   "cell_type": "code",
   "execution_count": 567,
   "metadata": {
    "ExecuteTime": {
     "end_time": "2019-11-05T17:04:43.826969+01:00",
     "start_time": "2019-11-05T17:04:43.826969Z"
    },
    "hidden": true
   },
   "outputs": [
    {
     "name": "stdout",
     "output_type": "stream",
     "text": [
      "568.0\n"
     ]
    },
    {
     "data": {
      "image/png": "[encoded data removed]"
     },
     "metadata": {
      "image/png": {
       "height": 361,
       "width": 558
      }
     },
     "output_type": "display_data"
    }
   ],
   "source": [
    "\n",
    "tempcounts = [ee for ee in c if ee!=0]\n",
    "print( max(tempcounts)/min(tempcounts))\n",
    "      \n",
    "plt.plot(np.linspace(_v_min,_v_max,len(c)),c,'-')\n",
    "# plt.savefig('nice PLE single scan.png')\n",
    "plt.show()\n"
   ]
  },
  {
   "cell_type": "code",
   "execution_count": 568,
   "metadata": {
    "ExecuteTime": {
     "end_time": "2019-11-05T17:04:46.332365+01:00",
     "start_time": "2019-11-05T17:04:46.332365Z"
    },
    "hidden": true
   },
   "outputs": [
    {
     "name": "stdout",
     "output_type": "stream",
     "text": [
      "1.4582405345211582\n"
     ]
    }
   ],
   "source": [
    "resonance = np.linspace(_v_min,_v_max,len(c))[np.argmax(c)]\n",
    "print(resonance)\n",
    "laserscannerlogic._goto_speed = 0.1\n",
    "laserscannerlogic._goto_during_scan(resonance)\n",
    "_v_min =resonance -0.02\n",
    "_v_max = resonance + 0.02"
   ]
  },
  {
   "cell_type": "code",
   "execution_count": 569,
   "metadata": {
    "ExecuteTime": {
     "end_time": "2019-11-05T17:04:48.067206+01:00",
     "start_time": "2019-11-05T17:04:48.067206Z"
    },
    "hidden": true
   },
   "outputs": [],
   "source": [
    "mw_pleEx()\n"
   ]
  },
  {
   "cell_type": "code",
   "execution_count": 570,
   "metadata": {
    "ExecuteTime": {
     "end_time": "2019-11-05T17:04:48.329498+01:00",
     "start_time": "2019-11-05T17:04:48.329498Z"
    },
    "hidden": true
   },
   "outputs": [],
   "source": [
    "offFunc()\n"
   ]
  },
  {
   "cell_type": "code",
   "execution_count": null,
   "metadata": {
    "hidden": true
   },
   "outputs": [],
   "source": [
    "greenFunc()"
   ]
  },
  {
   "cell_type": "code",
   "execution_count": 571,
   "metadata": {
    "ExecuteTime": {
     "end_time": "2019-11-05T17:04:50.730612+01:00",
     "start_time": "2019-11-05T17:04:50.730612Z"
    },
    "hidden": true
   },
   "outputs": [],
   "source": [
    "corr = Correlation(tagger=fastcounter._tagger,\n",
    "            channel_1=1, \n",
    "            channel_2=4,\n",
    "            binwidth=20000, \n",
    "            n_bins=200)\n"
   ]
  },
  {
   "cell_type": "code",
   "execution_count": 572,
   "metadata": {
    "ExecuteTime": {
     "end_time": "2019-11-05T17:08:00.218071+01:00",
     "start_time": "2019-11-05T17:08:00.218071Z"
    },
    "hidden": true
   },
   "outputs": [],
   "source": [
    "x=[]\n",
    "y=np.zeros(200)\n",
    "\n",
    "for j in range(25):\n",
    "    \n",
    "    corr.clear()\n",
    "    greenFunc()\n",
    "    time.sleep(0.1)\n",
    "    mw_pleEx()\n",
    "\n",
    "    c = PLE_Ex(laser_number = 1, v_min = _v_min,v_max = _v_max,speed= speed)\n",
    "\n",
    "    offFunc()\n",
    "    resonance = np.linspace(_v_min,_v_max,len(c))[np.argmax(c)]\n",
    "    laserscannerlogic._goto_speed = 0.03\n",
    "    laserscannerlogic._goto_during_scan(resonance)\n",
    "    \n",
    "    _v_min = resonance -0.02\n",
    "    _v_max = resonance + 0.02\n",
    "\n",
    "    for i in range(2000):\n",
    "\n",
    "        task.StartTask()\n",
    "        task.WriteDigitalLines(1,1,10.0,PyDAQmx.DAQmx_Val_GroupByChannel, redAOM + markers +mw_trig ,None,None)\n",
    "        time.sleep(1.23e-7)\n",
    "        task.StopTask()\n",
    "        offFunc()\n",
    "        \n",
    "        \n",
    "    x = corr.getIndex() / 1e3\n",
    "    y = y+corr.getDataNormalized()\n"
   ]
  },
  {
   "cell_type": "code",
   "execution_count": 581,
   "metadata": {
    "ExecuteTime": {
     "end_time": "2019-11-05T17:09:01.585402+01:00",
     "start_time": "2019-11-05T17:09:01.585402Z"
    },
    "hidden": true
   },
   "outputs": [
    {
     "data": {
      "image/png": "[encoded data removed]"
     },
     "metadata": {
      "image/png": {
       "height": 375,
       "width": 539
      }
     },
     "output_type": "display_data"
    }
   ],
   "source": [
    "# 1us\n",
    "plt.plot(x,y,'o',color = 'blue')\n",
    "plt.xlim(200,850)\n",
    "plt.xlabel('time, ns')\n",
    "\n",
    "plt.savefig('for telegram to send.png')\n",
    "\n",
    "plt.show()\n"
   ]
  },
  {
   "cell_type": "code",
   "execution_count": 582,
   "metadata": {
    "ExecuteTime": {
     "end_time": "2019-11-05T17:09:04.390932+01:00",
     "start_time": "2019-11-05T17:09:04.390932Z"
    },
    "hidden": true
   },
   "outputs": [
    {
     "data": {
      "text/plain": [
       "<telegram.message.Message object at 0x00000286B158B2E8>"
      ]
     },
     "execution_count": 582,
     "metadata": {},
     "output_type": "execute_result"
    }
   ],
   "source": [
    "bot.sendMessage(chat_id=chat_id, text=\"Delay_check for redAOM\")\n",
    "bot.send_photo(chat_id=chat_id, photo=open('for telegram to send.png', 'rb'))"
   ]
  },
  {
   "cell_type": "code",
   "execution_count": null,
   "metadata": {
    "hidden": true
   },
   "outputs": [],
   "source": []
  },
  {
   "cell_type": "code",
   "execution_count": null,
   "metadata": {
    "hidden": true
   },
   "outputs": [],
   "source": []
  },
  {
   "cell_type": "code",
   "execution_count": null,
   "metadata": {
    "hidden": true
   },
   "outputs": [],
   "source": []
  },
  {
   "cell_type": "markdown",
   "metadata": {
    "heading_collapsed": true
   },
   "source": [
    "# Some Trash"
   ]
  },
  {
   "cell_type": "code",
   "execution_count": 6,
   "metadata": {
    "ExecuteTime": {
     "end_time": "2019-10-31T14:47:02.893494+01:00",
     "start_time": "2019-10-31T14:47:02.893494Z"
    },
    "hidden": true
   },
   "outputs": [
    {
     "name": "stdout",
     "output_type": "stream",
     "text": [
      "kernel updateModuleList\n"
     ]
    }
   ],
   "source": [
    "_v_min = 0\n",
    "_v_max = 0.3\n",
    "speed = 0.2\n",
    "start_scanning(v_min = _v_min,v_max = _v_max,speed= speed)"
   ]
  },
  {
   "cell_type": "code",
   "execution_count": 27,
   "metadata": {
    "ExecuteTime": {
     "end_time": "2019-10-31T15:22:06.670304+01:00",
     "start_time": "2019-10-31T15:22:06.670304Z"
    },
    "hidden": true
   },
   "outputs": [],
   "source": [
    "c = PLE(laser_number = 1, v_min = _v_min,v_max = _v_max,speed= speed)\n"
   ]
  },
  {
   "cell_type": "code",
   "execution_count": 11,
   "metadata": {
    "ExecuteTime": {
     "end_time": "2019-10-31T14:45:52.522427+01:00",
     "start_time": "2019-10-31T14:45:52.522427Z"
    },
    "hidden": true
   },
   "outputs": [
    {
     "data": {
      "text/plain": [
       "0.0"
      ]
     },
     "execution_count": 11,
     "metadata": {},
     "output_type": "execute_result"
    }
   ],
   "source": [
    "laserscannerlogic.current_position[laserscannerlogic.laser_number]"
   ]
  },
  {
   "cell_type": "code",
   "execution_count": 8,
   "metadata": {
    "ExecuteTime": {
     "end_time": "2019-10-31T14:45:12.650189+01:00",
     "start_time": "2019-10-31T14:45:12.650189Z"
    },
    "hidden": true
   },
   "outputs": [
    {
     "data": {
      "text/plain": [
       "0.0"
      ]
     },
     "execution_count": 8,
     "metadata": {},
     "output_type": "execute_result"
    }
   ],
   "source": [
    "laserscannerlogic._upwards_ramp[laserscannerlogic.laser_number][0]"
   ]
  },
  {
   "cell_type": "code",
   "execution_count": 21,
   "metadata": {
    "ExecuteTime": {
     "end_time": "2019-10-31T14:35:42.065951+01:00",
     "start_time": "2019-10-31T14:35:42.065951Z"
    },
    "hidden": true
   },
   "outputs": [
    {
     "data": {
      "text/plain": [
       "array([0.4, 0.4])"
      ]
     },
     "execution_count": 21,
     "metadata": {},
     "output_type": "execute_result"
    }
   ],
   "source": [
    "\n",
    "laserscannerlogic.current_position\n"
   ]
  },
  {
   "cell_type": "code",
   "execution_count": null,
   "metadata": {
    "hidden": true
   },
   "outputs": [],
   "source": [
    "# проблема в том, что после го ту он куда то переезжает и когда делаешь ПЛЕ, то делает неоттуда"
   ]
  },
  {
   "cell_type": "code",
   "execution_count": 28,
   "metadata": {
    "ExecuteTime": {
     "end_time": "2019-10-31T15:22:14.919408+01:00",
     "start_time": "2019-10-31T15:22:14.919408Z"
    },
    "hidden": true
   },
   "outputs": [
    {
     "data": {
      "text/plain": [
       "0"
      ]
     },
     "execution_count": 28,
     "metadata": {},
     "output_type": "execute_result"
    }
   ],
   "source": [
    "# laserscannerlogic.set_laser_number(0)\n",
    "\n",
    "laserscannerlogic._goto_during_scan(0.6)"
   ]
  },
  {
   "cell_type": "code",
   "execution_count": null,
   "metadata": {
    "hidden": true
   },
   "outputs": [],
   "source": []
  },
  {
   "cell_type": "code",
   "execution_count": null,
   "metadata": {
    "hidden": true
   },
   "outputs": [],
   "source": []
  },
  {
   "cell_type": "code",
   "execution_count": null,
   "metadata": {
    "hidden": true
   },
   "outputs": [],
   "source": []
  },
  {
   "cell_type": "code",
   "execution_count": 29,
   "metadata": {
    "ExecuteTime": {
     "end_time": "2019-10-31T14:22:19.226268+01:00",
     "start_time": "2019-10-31T14:22:19.226268Z"
    },
    "hidden": true
   },
   "outputs": [
    {
     "data": {
      "text/plain": [
       "array([0.3, 0.3])"
      ]
     },
     "execution_count": 29,
     "metadata": {},
     "output_type": "execute_result"
    }
   ],
   "source": [
    "laserscannerlogic._scanning_device._current_position_laser"
   ]
  },
  {
   "cell_type": "code",
   "execution_count": 25,
   "metadata": {
    "ExecuteTime": {
     "end_time": "2019-10-31T14:19:48.833383+01:00",
     "start_time": "2019-10-31T14:19:48.833383Z"
    },
    "hidden": true
   },
   "outputs": [
    {
     "data": {
      "text/plain": [
       "0.0"
      ]
     },
     "execution_count": 25,
     "metadata": {},
     "output_type": "execute_result"
    }
   ],
   "source": [
    "laserscannerlogic._upwards_ramp[1][-1]\n",
    "\n"
   ]
  },
  {
   "cell_type": "code",
   "execution_count": 8,
   "metadata": {
    "ExecuteTime": {
     "end_time": "2019-10-31T14:08:48.937141+01:00",
     "start_time": "2019-10-31T14:08:48.937141Z"
    },
    "hidden": true
   },
   "outputs": [],
   "source": [
    "repumpTime = 0.001\n",
    "ssr = []\n",
    "scan_counts=[]\n",
    "counts = []\n",
    "isStop = False\n",
    "    "
   ]
  },
  {
   "cell_type": "code",
   "execution_count": null,
   "metadata": {
    "hidden": true
   },
   "outputs": [],
   "source": []
  },
  {
   "cell_type": "code",
   "execution_count": 256,
   "metadata": {
    "ExecuteTime": {
     "end_time": "2019-11-03T13:18:42.388531+01:00",
     "start_time": "2019-11-03T13:18:42.388531Z"
    },
    "hidden": true
   },
   "outputs": [
    {
     "data": {
      "text/plain": [
       "('cw', False)"
      ]
     },
     "execution_count": 256,
     "metadata": {},
     "output_type": "execute_result"
    }
   ],
   "source": [
    "laserscannerlogic.odmrlogic().mw_off()\n"
   ]
  },
  {
   "cell_type": "code",
   "execution_count": 5,
   "metadata": {
    "ExecuteTime": {
     "end_time": "2019-10-30T15:17:58.305867+01:00",
     "start_time": "2019-10-30T15:17:58.305867Z"
    },
    "hidden": true
   },
   "outputs": [],
   "source": [
    "repumpTime = 0.001\n",
    "ssr = []\n",
    "scan_counts=[]\n",
    "counts = []\n",
    "isStop = False\n",
    "    \n",
    "    \n",
    "def scan():\n",
    "    inf = 1/min(np.array([0,1]))\n",
    "    laserscannerlogic.odmrlogic().mw_cw_on()\n",
    "    time.sleep(0.02)\n",
    "    try:\n",
    "        global counts,upwards_ramp,downwards_ramp\n",
    "        laserscannerlogic._upwards_ramp = upwards_ramp\n",
    "        laserscannerlogic._downwards_ramp = downwards_ramp        \n",
    "        greenFunc()        \n",
    "        time.sleep(repumpTime)\n",
    "        index = 0\n",
    "        for j in range(5):\n",
    "            index+=1\n",
    "            redFunc()\n",
    "            counts =  laserscannerlogic._do_next_one_line()\n",
    "            if counts is None:\n",
    "                print('COUNTS are NONE in scan!!!')\n",
    "                laserscannerlogic.odmrlogic().mw_off()\n",
    "                time.sleep(0.02)\n",
    "                break;\n",
    "            else:\n",
    "                scan_counts.append(counts)\n",
    "#                 print('index: ',index)\n",
    "                tempcounts = [ee for ee in counts if ee!=0]\n",
    "                ratio = max(tempcounts)/min(tempcounts)\n",
    "#                 print('ratio ',ratio )\n",
    "                if ratio<70:\n",
    "                    greenFunc()\n",
    "                    time.sleep(repumpTime)\n",
    "                else:\n",
    "                    laserscannerlogic.odmrlogic().mw_off()\n",
    "                    time.sleep(0.02)\n",
    "                    break;\n",
    "                    return 0\n",
    "                \n",
    "        if index ==10:\n",
    "            isStop  = True\n",
    "            print('STOPPED repump index == 10')\n",
    "            laserscannerlogic.odmrlogic().mw_off()  \n",
    "            time.sleep(0.02)\n",
    "            return 1\n",
    "        \n",
    "    except Exception as e:\n",
    "        print('exception!')\n",
    "        print('counts ',counts)\n",
    "        print('laserscannerlogic._upwards_ramp ',laserscannerlogic._upwards_ramp )\n",
    "        print('laserscannerlogic._downwards_ramp ',laserscannerlogic._downwards_ramp )\n",
    "                    \n",
    "# SHOULD BE SCANNING WITH SWEEPED TIME\n"
   ]
  },
  {
   "cell_type": "code",
   "execution_count": 7,
   "metadata": {
    "ExecuteTime": {
     "end_time": "2019-10-30T15:18:06.185993+01:00",
     "start_time": "2019-10-30T15:18:06.185993Z"
    },
    "hidden": true
   },
   "outputs": [],
   "source": [
    "kill_scanner()"
   ]
  },
  {
   "cell_type": "code",
   "execution_count": null,
   "metadata": {
    "hidden": true
   },
   "outputs": [],
   "source": [
    "# v0= -0.895\n",
    "# v1= -0.875\n",
    "# laserscannerlogic.set_clock_frequency(150)\n",
    "# init_scanner(v_min = v0,v_max = v1,speed= 0.01)"
   ]
  },
  {
   "cell_type": "code",
   "execution_count": 6,
   "metadata": {
    "ExecuteTime": {
     "end_time": "2019-10-30T15:18:03.682404+01:00",
     "start_time": "2019-10-30T15:18:03.682404Z"
    },
    "hidden": true
   },
   "outputs": [],
   "source": [
    "_v_min = -0.95\n",
    "_v_max = -0.75\n",
    "laserscannerlogic.set_clock_frequency(150)\n",
    "speed = 0.01\n",
    "\n",
    "upwards_ramp = laserscannerlogic._generate_ramp(_v_min, _v_max, speed)\n",
    "downwards_ramp = laserscannerlogic._generate_ramp(_v_max, _v_min, speed)\n",
    "\n",
    "init_scanner(v_min = _v_min,v_max = _v_max,speed= speed)"
   ]
  },
  {
   "cell_type": "code",
   "execution_count": null,
   "metadata": {
    "ExecuteTime": {
     "end_time": "2019-10-30T13:08:56.656678+01:00",
     "start_time": "2019-10-30T13:08:56.656678Z"
    },
    "hidden": true
   },
   "outputs": [],
   "source": []
  },
  {
   "cell_type": "code",
   "execution_count": 458,
   "metadata": {
    "ExecuteTime": {
     "end_time": "2019-10-30T13:12:38.136432+01:00",
     "start_time": "2019-10-30T13:12:38.136432Z"
    },
    "hidden": true
   },
   "outputs": [
    {
     "data": {
      "image/png": "[encoded data removed]"
     },
     "metadata": {
      "image/png": {
       "height": 361,
       "width": 558
      }
     },
     "output_type": "display_data"
    }
   ],
   "source": [
    "scan()\n",
    "plt.plot(np.linspace(_v_min,_v_max,len(counts)),counts,'-')\n",
    "# plt.savefig('nice PLE single scan.png')\n",
    "plt.show()"
   ]
  },
  {
   "cell_type": "code",
   "execution_count": 29,
   "metadata": {
    "ExecuteTime": {
     "end_time": "2019-10-31T15:32:42.229501+01:00",
     "start_time": "2019-10-31T15:32:42.229501Z"
    },
    "hidden": true
   },
   "outputs": [
    {
     "data": {
      "text/plain": [
       "('cw', False)"
      ]
     },
     "execution_count": 29,
     "metadata": {},
     "output_type": "execute_result"
    }
   ],
   "source": [
    "laserscannerlogic.odmrlogic().mw_off()\n"
   ]
  },
  {
   "cell_type": "code",
   "execution_count": null,
   "metadata": {
    "hidden": true
   },
   "outputs": [],
   "source": []
  },
  {
   "cell_type": "code",
   "execution_count": null,
   "metadata": {
    "hidden": true
   },
   "outputs": [],
   "source": []
  },
  {
   "cell_type": "code",
   "execution_count": null,
   "metadata": {
    "hidden": true
   },
   "outputs": [],
   "source": []
  },
  {
   "cell_type": "code",
   "execution_count": 64,
   "metadata": {
    "ExecuteTime": {
     "end_time": "2019-11-03T13:43:16.681445+01:00",
     "start_time": "2019-11-03T13:43:16.681445Z"
    },
    "hidden": true
   },
   "outputs": [],
   "source": [
    "kill_scanner()"
   ]
  },
  {
   "cell_type": "code",
   "execution_count": 78,
   "metadata": {
    "ExecuteTime": {
     "end_time": "2019-11-03T13:47:29.496616+01:00",
     "start_time": "2019-11-03T13:47:29.496616Z"
    },
    "hidden": true
   },
   "outputs": [
    {
     "data": {
      "text/plain": [
       "array([0, 1, 0, 0, 1, 1, 0, 0], dtype=uint8)"
      ]
     },
     "execution_count": 78,
     "metadata": {},
     "output_type": "execute_result"
    }
   ],
   "source": [
    "redAOM2+mw_trig"
   ]
  },
  {
   "cell_type": "code",
   "execution_count": 95,
   "metadata": {
    "ExecuteTime": {
     "end_time": "2019-11-03T13:54:02.350848+01:00",
     "start_time": "2019-11-03T13:54:02.350848Z"
    },
    "hidden": true
   },
   "outputs": [],
   "source": [
    "_v_min = -1.5\n",
    "_v_max = 0.5\n",
    "laserscannerlogic.set_clock_frequency(50)\n",
    "speed = 0.2\n",
    "\n",
    "upwards_ramp = laserscannerlogic._generate_ramp(_v_min, _v_max, speed)\n",
    "downwards_ramp = laserscannerlogic._generate_ramp(_v_max, _v_min, speed)\n",
    "\n",
    "start_scanning(v_min = _v_min,v_max = _v_max,speed= speed)"
   ]
  },
  {
   "cell_type": "code",
   "execution_count": null,
   "metadata": {
    "ExecuteTime": {
     "end_time": "2019-11-03T13:54:15.399874+01:00",
     "start_time": "2019-11-03T13:54:15.399874Z"
    },
    "hidden": true
   },
   "outputs": [],
   "source": []
  },
  {
   "cell_type": "code",
   "execution_count": 99,
   "metadata": {
    "ExecuteTime": {
     "end_time": "2019-11-03T13:54:40.574784+01:00",
     "start_time": "2019-11-03T13:54:40.574784Z"
    },
    "hidden": true
   },
   "outputs": [],
   "source": [
    "task.StartTask()\n",
    "task.WriteDigitalLines(1,1,10.0,PyDAQmx.DAQmx_Val_GroupByChannel,green,None,None)\n",
    "task.StopTask()\n",
    "\n",
    "time.sleep(0.01)\n",
    "\n",
    "# task.StartTask()\n",
    "# task.WriteDigitalLines(1,1,10.0,PyDAQmx.DAQmx_Val_GroupByChannel,redAOM2+mw_trig-green,None,None)\n",
    "# task.StopTask()\n",
    "# redA1Func()\n",
    "mw_pleA1()\n",
    "\n",
    "counts = laserscannerlogic._do_next_one_line()\n"
   ]
  },
  {
   "cell_type": "code",
   "execution_count": 100,
   "metadata": {
    "ExecuteTime": {
     "end_time": "2019-11-03T13:54:40.705717+01:00",
     "start_time": "2019-11-03T13:54:40.705717Z"
    },
    "hidden": true
   },
   "outputs": [
    {
     "data": {
      "image/png": "[encoded data removed]"
     },
     "metadata": {
      "image/png": {
       "height": 361,
       "width": 558
      }
     },
     "output_type": "display_data"
    }
   ],
   "source": [
    "plt.plot(np.linspace(_v_min,_v_max,len(counts)),counts,'-')\n",
    "# plt.savefig('nice PLE single scan.png')\n",
    "plt.show()"
   ]
  },
  {
   "cell_type": "code",
   "execution_count": null,
   "metadata": {
    "hidden": true
   },
   "outputs": [],
   "source": []
  },
  {
   "cell_type": "code",
   "execution_count": 86,
   "metadata": {
    "ExecuteTime": {
     "end_time": "2019-11-03T13:49:29.851579+01:00",
     "start_time": "2019-11-03T13:49:29.851579Z"
    },
    "hidden": true
   },
   "outputs": [
    {
     "data": {
      "image/png": "[encoded data removed]"
     },
     "metadata": {
      "image/png": {
       "height": 361,
       "width": 558
      }
     },
     "output_type": "display_data"
    }
   ],
   "source": [
    "plt.plot(np.linspace(_v_min,_v_max,len(counts)),counts,'-')\n",
    "# plt.savefig('nice PLE single scan.png')\n",
    "plt.show()\n",
    "\n"
   ]
  },
  {
   "cell_type": "code",
   "execution_count": null,
   "metadata": {
    "hidden": true
   },
   "outputs": [],
   "source": []
  },
  {
   "cell_type": "code",
   "execution_count": 33,
   "metadata": {
    "ExecuteTime": {
     "end_time": "2019-10-30T15:25:44.340198+01:00",
     "start_time": "2019-10-30T15:25:44.340198Z"
    },
    "hidden": true
   },
   "outputs": [
    {
     "name": "stdout",
     "output_type": "stream",
     "text": [
      "-0.813135593220339\n"
     ]
    },
    {
     "data": {
      "text/plain": [
       "0"
      ]
     },
     "execution_count": 33,
     "metadata": {},
     "output_type": "execute_result"
    }
   ],
   "source": [
    "offFunc()\n",
    "\n",
    "resonance = np.linspace(_v_min,_v_max ,len(counts))[np.argmax(counts)]\n",
    "print(resonance)\n",
    "\n",
    "laserscannerlogic._goto_during_scan(resonance)"
   ]
  },
  {
   "cell_type": "code",
   "execution_count": 38,
   "metadata": {
    "ExecuteTime": {
     "end_time": "2019-10-30T15:26:01.115255+01:00",
     "start_time": "2019-10-30T15:26:01.115255Z"
    },
    "hidden": true
   },
   "outputs": [
    {
     "name": "stdout",
     "output_type": "stream",
     "text": [
      "cteset  689\n"
     ]
    }
   ],
   "source": [
    "cteset = readoutFunc(1e-1)\n",
    "print('cteset ',cteset)"
   ]
  },
  {
   "cell_type": "code",
   "execution_count": 107,
   "metadata": {
    "ExecuteTime": {
     "end_time": "2019-10-30T15:04:41.179701+01:00",
     "start_time": "2019-10-30T15:04:41.179701Z"
    },
    "hidden": true
   },
   "outputs": [],
   "source": [
    "greenFunc()"
   ]
  },
  {
   "cell_type": "code",
   "execution_count": 31,
   "metadata": {
    "ExecuteTime": {
     "end_time": "2019-10-31T15:33:06.052844+01:00",
     "start_time": "2019-10-31T15:33:06.052844Z"
    },
    "hidden": true
   },
   "outputs": [
    {
     "data": {
      "text/plain": [
       "('cw', False)"
      ]
     },
     "execution_count": 31,
     "metadata": {},
     "output_type": "execute_result"
    }
   ],
   "source": [
    "laserscannerlogic.odmrlogic().mw_off()\n"
   ]
  },
  {
   "cell_type": "code",
   "execution_count": 30,
   "metadata": {
    "ExecuteTime": {
     "end_time": "2019-10-31T15:32:58.666626+01:00",
     "start_time": "2019-10-31T15:32:58.666626Z"
    },
    "hidden": true
   },
   "outputs": [
    {
     "data": {
      "text/plain": [
       "('cw', True)"
      ]
     },
     "execution_count": 30,
     "metadata": {},
     "output_type": "execute_result"
    }
   ],
   "source": [
    "laserscannerlogic.odmrlogic().mw_cw_on()"
   ]
  },
  {
   "cell_type": "code",
   "execution_count": null,
   "metadata": {
    "hidden": true
   },
   "outputs": [],
   "source": []
  },
  {
   "cell_type": "code",
   "execution_count": 57,
   "metadata": {
    "ExecuteTime": {
     "end_time": "2019-10-29T20:42:53.395444+01:00",
     "start_time": "2019-10-29T20:42:53.395444Z"
    },
    "hidden": true
   },
   "outputs": [
    {
     "data": {
      "text/plain": [
       "True"
      ]
     },
     "execution_count": 57,
     "metadata": {},
     "output_type": "execute_result"
    }
   ],
   "source": [
    "inf = 1/min(np.array([0,1]))\n",
    "1/min(counts)==inf"
   ]
  },
  {
   "cell_type": "code",
   "execution_count": 40,
   "metadata": {
    "ExecuteTime": {
     "end_time": "2019-10-30T15:35:48.042419+01:00",
     "start_time": "2019-10-30T15:35:48.042419Z"
    },
    "hidden": true
   },
   "outputs": [],
   "source": [
    "start = 1e-6\n",
    "stop =30e-6\n",
    "n = 50 # amount of points\n",
    "step = (stop-start) / n\n",
    "readouttime = 1e-1\n",
    "m = 50# how much times should code measure every point\n",
    "data = np.zeros((n,m))\n",
    "offFunc()\n",
    "times = np.linspace(start,stop,n)\n",
    "\n",
    "scan()\n",
    "\n",
    "offFunc()\n",
    "resonance = np.linspace(_v_min,_v_max,len(counts))[np.argmax(counts)]\n",
    "laserscannerlogic._goto_during_scan(resonance)\n",
    "laserscannerlogic.odmrlogic().mw_off()\n",
    "time.sleep(0.02)\n",
    "\n",
    "for t in range(len(times)):\n",
    "    \n",
    "    scan()\n",
    "    offFunc()\n",
    "    resonance = np.linspace(_v_min,_v_max,len(counts))[np.argmax(counts)]\n",
    "    laserscannerlogic._goto_during_scan(resonance)\n",
    "    laserscannerlogic.odmrlogic().mw_off()\n",
    "    time.sleep(0.02)\n",
    "    \n",
    "    for i in range(m):   \n",
    "        redFunc()\n",
    "        time.sleep(times[t])   \n",
    "        ccc = readoutFunc(readouttime)\n",
    "        data[t][i] = ccc\n",
    "        \n",
    "        greenFunc()\n",
    "        time.sleep(0.1)"
   ]
  },
  {
   "cell_type": "code",
   "execution_count": 44,
   "metadata": {
    "ExecuteTime": {
     "end_time": "2019-10-30T15:52:03.299900+01:00",
     "start_time": "2019-10-30T15:52:03.299900Z"
    },
    "hidden": true
   },
   "outputs": [
    {
     "data": {
      "text/plain": [
       "array([[  0.,  54.,  52., ...,  13.,   7.,  65.],\n",
       "       [ 51.,  26.,   3., ...,  81.,  91.,  56.],\n",
       "       [  4.,  79.,  66., ...,  61.,  23.,  20.],\n",
       "       ...,\n",
       "       [ 84.,  55.,  27., ..., 108.,  27.,  39.],\n",
       "       [ 36.,  31.,  14., ...,  79.,  25.,  18.],\n",
       "       [ 26.,   9.,  95., ...,  30.,   4.,  60.]])"
      ]
     },
     "execution_count": 44,
     "metadata": {},
     "output_type": "execute_result"
    }
   ],
   "source": [
    "data"
   ]
  },
  {
   "cell_type": "code",
   "execution_count": 41,
   "metadata": {
    "ExecuteTime": {
     "end_time": "2019-10-30T15:35:48.044418+01:00",
     "start_time": "2019-10-30T15:35:48.044418Z"
    },
    "hidden": true
   },
   "outputs": [],
   "source": [
    "datatemp = data.copy()\n",
    "y=[]\n",
    "for it in range(len(datatemp)):\n",
    "    y.append(sum(datatemp[it]))\n",
    "    "
   ]
  },
  {
   "cell_type": "code",
   "execution_count": null,
   "metadata": {
    "hidden": true
   },
   "outputs": [],
   "source": [
    "\n"
   ]
  },
  {
   "cell_type": "code",
   "execution_count": 42,
   "metadata": {
    "ExecuteTime": {
     "end_time": "2019-10-30T15:35:48.261591+01:00",
     "start_time": "2019-10-30T15:35:48.261591Z"
    },
    "hidden": true
   },
   "outputs": [
    {
     "data": {
      "image/png": "[encoded data removed]"
     },
     "metadata": {
      "image/png": {
       "height": 361,
       "width": 539
      }
     },
     "output_type": "display_data"
    }
   ],
   "source": [
    "\n",
    "plt.imshow(data,interpolation='nearest', aspect='auto')\n",
    "plt.show()\n",
    "\n"
   ]
  },
  {
   "cell_type": "code",
   "execution_count": 43,
   "metadata": {
    "ExecuteTime": {
     "end_time": "2019-10-30T15:35:48.454499+01:00",
     "start_time": "2019-10-30T15:35:48.454499Z"
    },
    "hidden": true
   },
   "outputs": [
    {
     "data": {
      "image/png": "[encoded data removed]"
     },
     "metadata": {
      "image/png": {
       "height": 361,
       "width": 552
      }
     },
     "output_type": "display_data"
    }
   ],
   "source": [
    "plt.plot(y)\n",
    "plt.show()"
   ]
  },
  {
   "cell_type": "code",
   "execution_count": null,
   "metadata": {
    "hidden": true
   },
   "outputs": [],
   "source": []
  },
  {
   "cell_type": "code",
   "execution_count": 49,
   "metadata": {
    "ExecuteTime": {
     "end_time": "2019-10-30T15:57:53.111843+01:00",
     "start_time": "2019-10-30T15:57:53.111843Z"
    },
    "hidden": true
   },
   "outputs": [],
   "source": [
    "# tempcounts = [ee for ee in counts if ee!=0]\n",
    "x = []\n",
    "z = []\n",
    "datatemp = data.copy()\n",
    "for it in range(len(datatemp)):\n",
    "#     ter = [ees for ees in datatemp[it] if ees>20]\n",
    "    z.append(np.average(datatemp[it]))\n",
    "#     for r in ter:\n",
    "#         x.append(it)\n",
    "#         z.append(r)\n"
   ]
  },
  {
   "cell_type": "code",
   "execution_count": 50,
   "metadata": {
    "ExecuteTime": {
     "end_time": "2019-10-30T15:57:53.981426+01:00",
     "start_time": "2019-10-30T15:57:53.981426Z"
    },
    "hidden": true
   },
   "outputs": [
    {
     "data": {
      "image/png": "[encoded data removed]"
     },
     "metadata": {
      "image/png": {
       "height": 361,
       "width": 549
      }
     },
     "output_type": "display_data"
    }
   ],
   "source": [
    "plt.plot(z,'o')\n",
    "plt.show()"
   ]
  },
  {
   "cell_type": "code",
   "execution_count": null,
   "metadata": {
    "hidden": true
   },
   "outputs": [],
   "source": []
  },
  {
   "cell_type": "code",
   "execution_count": 50,
   "metadata": {
    "ExecuteTime": {
     "end_time": "2019-10-30T14:52:39.725752+01:00",
     "start_time": "2019-10-30T14:52:39.725752Z"
    },
    "hidden": true
   },
   "outputs": [],
   "source": [
    "start = 1e-6\n",
    "stop =30e-6\n",
    "n = 20 # amount of points\n",
    "step = (stop-start) / n\n",
    "readouttime = 1e-1\n",
    "m = 5 # how much times should code measure every point\n",
    "data = np.zeros((n,m))\n",
    "offFunc()\n",
    "times = np.linspace(start,stop,n)\n",
    "\n"
   ]
  },
  {
   "cell_type": "code",
   "execution_count": 51,
   "metadata": {
    "ExecuteTime": {
     "end_time": "2019-10-30T14:52:50.611616+01:00",
     "start_time": "2019-10-30T14:52:50.611616Z"
    },
    "hidden": true
   },
   "outputs": [
    {
     "data": {
      "text/plain": [
       "20"
      ]
     },
     "execution_count": 51,
     "metadata": {},
     "output_type": "execute_result"
    }
   ],
   "source": [
    "len(times)"
   ]
  },
  {
   "cell_type": "code",
   "execution_count": null,
   "metadata": {
    "hidden": true
   },
   "outputs": [],
   "source": []
  },
  {
   "cell_type": "code",
   "execution_count": null,
   "metadata": {
    "hidden": true
   },
   "outputs": [],
   "source": []
  },
  {
   "cell_type": "code",
   "execution_count": null,
   "metadata": {
    "hidden": true
   },
   "outputs": [],
   "source": []
  },
  {
   "cell_type": "code",
   "execution_count": null,
   "metadata": {
    "hidden": true
   },
   "outputs": [],
   "source": []
  },
  {
   "cell_type": "code",
   "execution_count": null,
   "metadata": {
    "ExecuteTime": {
     "start_time": "2019-10-30T12:14:54.252Z"
    },
    "hidden": true
   },
   "outputs": [],
   "source": [
    "start = 1e-6\n",
    "stop =30e-6\n",
    "n = 20 # amount of points\n",
    "step = (stop-start) / n\n",
    "readouttime = 1e-1\n",
    "m = 5 # how much times should code measure every point\n",
    "data = np.zeros((n,m))\n",
    "offFunc()\n",
    "times = np.linspace(start,stop,n)\n",
    "\n",
    "scan()\n",
    "\n",
    "\n",
    "offFunc()\n",
    "resonance = np.linspace(_v_min,_v_max,len(counts))[np.argmax(counts)]\n",
    "laserscannerlogic._goto_during_scan(resonance)\n",
    "\n",
    "\n",
    "for t in range(len(times)):\n",
    "    \n",
    "    for i in range(m):   \n",
    "        laserscannerlogic.odmrlogic().mw_off()\n",
    "        time.sleep(0.02)\n",
    "\n",
    "        ind = 0\n",
    "        while ind<10:\n",
    "            ind+=1\n",
    "            \n",
    "            redFunc()\n",
    "            time.sleep(times[t])\n",
    "            \n",
    "            ccc = readoutFunc(readouttime)\n",
    "            \n",
    "            if ccc<20:\n",
    "                scan()\n",
    "                offFunc()\n",
    "                resonance = np.linspace(_v_min,_v_max,len(counts))[np.argmax(counts)]\n",
    "                laserscannerlogic._goto_during_scan(resonance)\n",
    "            else:\n",
    "                ind = 10\n",
    "            data[t][i] = ccc\n",
    "            greenFunc()\n",
    "            time.sleep(repumpTime)\n",
    "\n",
    "\n",
    "    \n",
    "\n"
   ]
  },
  {
   "cell_type": "code",
   "execution_count": null,
   "metadata": {
    "ExecuteTime": {
     "start_time": "2019-10-30T12:15:11.022Z"
    },
    "hidden": true
   },
   "outputs": [],
   "source": [
    "data"
   ]
  },
  {
   "cell_type": "code",
   "execution_count": null,
   "metadata": {
    "hidden": true
   },
   "outputs": [],
   "source": []
  },
  {
   "cell_type": "code",
   "execution_count": 210,
   "metadata": {
    "ExecuteTime": {
     "end_time": "2019-11-03T14:26:24.848245+01:00",
     "start_time": "2019-11-03T14:26:24.848245Z"
    },
    "hidden": true
   },
   "outputs": [
    {
     "data": {
      "text/plain": [
       "<telegram.message.Message object at 0x000001EF66C3D2E8>"
      ]
     },
     "execution_count": 210,
     "metadata": {},
     "output_type": "execute_result"
    }
   ],
   "source": [
    "import telegram\n",
    "bot = telegram.Bot(token='968560013:AAGSzyvq3SEnHpo-o4WPeXM8_sywoKDYZH0')\n",
    "# bot = telegram.Bot(token='TOKEN')\n",
    "\n",
    "# print(bot.get_me())\n",
    "chat_id = bot.get_updates()[-1].message.chat_id\n",
    "chat_id # 111963322\n",
    "\n",
    "# bot.sendMessage(chat_id=chat_id, text=\"Hi, Javid. Yours chat id for this session is \" + str(chat_id))\n",
    "bot.sendMessage(chat_id=chat_id, text=\"Hi, Javid. I have finished\")"
   ]
  },
  {
   "cell_type": "code",
   "execution_count": 203,
   "metadata": {
    "ExecuteTime": {
     "end_time": "2019-11-03T14:22:39.774292+01:00",
     "start_time": "2019-11-03T14:22:39.774292Z"
    },
    "hidden": true
   },
   "outputs": [
    {
     "name": "stdout",
     "output_type": "stream",
     "text": [
      "{'id': 968560013, 'first_name': 'Javid jupyter bot', 'is_bot': True, 'username': 'javid_jupyter_bot'}\n"
     ]
    }
   ],
   "source": [
    "print(bot.get_me())\n"
   ]
  },
  {
   "cell_type": "code",
   "execution_count": 205,
   "metadata": {
    "ExecuteTime": {
     "end_time": "2019-11-03T14:25:00.438835+01:00",
     "start_time": "2019-11-03T14:25:00.438835Z"
    },
    "hidden": true
   },
   "outputs": [
    {
     "data": {
      "text/plain": [
       "111963322"
      ]
     },
     "execution_count": 205,
     "metadata": {},
     "output_type": "execute_result"
    }
   ],
   "source": [
    "bot.get_updates()[-1].message.chat_id"
   ]
  },
  {
   "cell_type": "code",
   "execution_count": 482,
   "metadata": {
    "ExecuteTime": {
     "end_time": "2019-10-30T13:14:40.689040+01:00",
     "start_time": "2019-10-30T13:14:40.689040Z"
    },
    "hidden": true
   },
   "outputs": [
    {
     "data": {
      "text/plain": [
       "10000"
      ]
     },
     "execution_count": 482,
     "metadata": {},
     "output_type": "execute_result"
    }
   ],
   "source": [
    "laserscannerlogic.number_of_repeats = 10000\n",
    "laserscannerlogic.number_of_repeats "
   ]
  },
  {
   "cell_type": "code",
   "execution_count": 185,
   "metadata": {
    "ExecuteTime": {
     "end_time": "2019-10-29T20:15:22.170744+01:00",
     "start_time": "2019-10-29T20:15:22.170744Z"
    },
    "hidden": true
   },
   "outputs": [
    {
     "data": {
      "text/plain": [
       "array([[322., 379.,   0.,   0.,   0.,   0.,   0.,   0.,   0.,   0.],\n",
       "       [ 34.,   0.,   0.,   0.,   0., 589.,   0.,   0.,   0.,   0.],\n",
       "       [  0., 144., 261.,   0.,   0.,   0., 722.,   0., 486.,   0.],\n",
       "       [370., 247., 128.,  45.,   0.,   0.,   0.,   1., 256.,   0.],\n",
       "       [153.,   0.,   0., 462., 199.,   0.,   0.,   0.,   0.,   0.],\n",
       "       [  0., 703.,   0.,   0.,   0.,   0., 555.,   0., 119.,  59.],\n",
       "       [528., 153.,   0., 513.,   0.,  79.,  42.,  65., 264.,   0.],\n",
       "       [  0.,  63.,   0.,   0.,   0.,   0., 513.,   0.,   0.,   3.],\n",
       "       [  0.,   0.,   0., 303.,   0.,   0., 398.,  50.,   0.,   0.],\n",
       "       [296.,   0.,   0.,   3., 592.,   0.,   0.,   0.,   0., 362.]])"
      ]
     },
     "execution_count": 185,
     "metadata": {},
     "output_type": "execute_result"
    }
   ],
   "source": [
    "data"
   ]
  },
  {
   "cell_type": "code",
   "execution_count": 168,
   "metadata": {
    "ExecuteTime": {
     "end_time": "2019-10-29T19:43:43.213126+01:00",
     "start_time": "2019-10-29T19:43:43.213126Z"
    },
    "hidden": true
   },
   "outputs": [
    {
     "data": {
      "text/plain": [
       "array([[  0.,   0.,   0.],\n",
       "       [  0.,   0.,   0.],\n",
       "       [  0.,   0.,   0.],\n",
       "       [  0.,  58.,   0.],\n",
       "       [  0., 210., 435.],\n",
       "       [  0.,   0.,   0.],\n",
       "       [  0.,   0.,  75.],\n",
       "       [460.,   0.,   0.],\n",
       "       [265.,   0.,   0.],\n",
       "       [  0., 521.,   0.]])"
      ]
     },
     "execution_count": 168,
     "metadata": {},
     "output_type": "execute_result"
    }
   ],
   "source": [
    "data"
   ]
  },
  {
   "cell_type": "code",
   "execution_count": null,
   "metadata": {
    "hidden": true
   },
   "outputs": [],
   "source": []
  },
  {
   "cell_type": "code",
   "execution_count": 146,
   "metadata": {
    "ExecuteTime": {
     "end_time": "2019-10-29T17:46:52.058030+01:00",
     "start_time": "2019-10-29T17:46:52.058030Z"
    },
    "hidden": true
   },
   "outputs": [],
   "source": [
    "greenFunc()\n"
   ]
  },
  {
   "cell_type": "code",
   "execution_count": 147,
   "metadata": {
    "ExecuteTime": {
     "end_time": "2019-10-29T17:46:54.761532+01:00",
     "start_time": "2019-10-29T17:46:54.761532Z"
    },
    "hidden": true
   },
   "outputs": [],
   "source": [
    "redFunc()\n"
   ]
  },
  {
   "cell_type": "code",
   "execution_count": 77,
   "metadata": {
    "ExecuteTime": {
     "end_time": "2019-10-29T18:45:50.389115+01:00",
     "start_time": "2019-10-29T18:45:50.389115Z"
    },
    "hidden": true
   },
   "outputs": [
    {
     "name": "stdout",
     "output_type": "stream",
     "text": [
      "0\n",
      "0\n",
      "0\n",
      "0\n",
      "0\n",
      "0\n",
      "0\n",
      "0\n",
      "0\n",
      "0\n",
      "0\n",
      "94\n",
      "0\n",
      "0\n",
      "0\n",
      "0\n",
      "0\n",
      "0\n",
      "0\n",
      "0\n"
     ]
    }
   ],
   "source": [
    "start = 1e-6\n",
    "stop =10e-6\n",
    "n = 10 # amount of points\n",
    "step = (stop-start) / n\n",
    "readouttime = 1e-3\n",
    "\n",
    "m = 2 # how much times should code measure every point\n",
    "\n",
    "\n",
    "data = np.zeros((n,m))\n",
    "\n",
    "offFunc()\n",
    "times = np.linspace(start,stop,n)\n",
    "for t in range(len(times)):\n",
    "    for i in range(m):\n",
    "#         time.sleep(readouttime)\n",
    "        redFunc()\n",
    "        time.sleep(times[t])\n",
    "        ccc = readoutFunc(readouttime)\n",
    "        print(ccc)\n",
    "        data[t][i] = ccc\n",
    "        greenFunc()\n",
    "\n",
    "    \n",
    "\n"
   ]
  },
  {
   "cell_type": "code",
   "execution_count": 115,
   "metadata": {
    "ExecuteTime": {
     "end_time": "2019-10-29T18:51:10.573223+01:00",
     "start_time": "2019-10-29T18:51:10.573223Z"
    },
    "hidden": true
   },
   "outputs": [
    {
     "data": {
      "text/plain": [
       "array([[0., 0.],\n",
       "       [0., 0.],\n",
       "       [4., 0.],\n",
       "       [0., 0.],\n",
       "       [0., 0.],\n",
       "       [0., 0.],\n",
       "       [0., 0.],\n",
       "       [0., 0.],\n",
       "       [0., 0.],\n",
       "       [0., 0.]])"
      ]
     },
     "execution_count": 115,
     "metadata": {},
     "output_type": "execute_result"
    }
   ],
   "source": [
    "data = np.zeros((n,m))\n",
    "data[2][0] = 4\n",
    "data\n"
   ]
  },
  {
   "cell_type": "code",
   "execution_count": 108,
   "metadata": {
    "ExecuteTime": {
     "end_time": "2019-10-29T18:49:56.380139+01:00",
     "start_time": "2019-10-29T18:49:56.379140Z"
    },
    "hidden": true
   },
   "outputs": [
    {
     "data": {
      "text/plain": [
       "[[0, 1], [0, 1], [0, 1], [0, 1], [0, 1], [0, 1], [0, 1], [0, 1], [0, 1], [0, 1]]"
      ]
     },
     "execution_count": 108,
     "metadata": {},
     "output_type": "execute_result"
    }
   ],
   "source": []
  },
  {
   "cell_type": "code",
   "execution_count": 145,
   "metadata": {
    "ExecuteTime": {
     "end_time": "2019-10-29T17:46:30.867047+01:00",
     "start_time": "2019-10-29T17:46:30.867047Z"
    },
    "hidden": true
   },
   "outputs": [
    {
     "data": {
      "text/plain": [
       "10"
      ]
     },
     "execution_count": 145,
     "metadata": {},
     "output_type": "execute_result"
    }
   ],
   "source": [
    "len(times)"
   ]
  },
  {
   "cell_type": "code",
   "execution_count": 1,
   "metadata": {
    "ExecuteTime": {
     "end_time": "2019-10-29T14:24:03.832751+01:00",
     "start_time": "2019-10-29T14:24:03.832751Z"
    },
    "hidden": true
   },
   "outputs": [
    {
     "data": {
      "image/png": "[encoded data removed]"
     },
     "metadata": {
      "image/png": {
       "height": 361,
       "width": 564
      }
     },
     "output_type": "display_data"
    }
   ],
   "source": [
    "plt.plot(np.linspace(v0,v1,len(counts)),counts,'-')\n",
    "# plt.savefig('nice PLE single scan.png')\n",
    "plt.show()"
   ]
  },
  {
   "cell_type": "code",
   "execution_count": null,
   "metadata": {
    "hidden": true
   },
   "outputs": [],
   "source": [
    "mw_on()  #     MW to create random mixture\n",
    "time.sleep(0.1)\n",
    "offFunc()\n",
    "\n",
    "time.sleep(0.001)\n",
    "\n",
    "task.StartTask()\n",
    "countBM.clear()\n",
    "task.WriteDigitalLines(1,1,10.0,PyDAQmx.DAQmx_Val_GroupByChannel, redAOM2 + markers ,None,None)\n",
    "time.sleep(1)  \n",
    "task.StopTask()\n",
    "offFunc()\n",
    "countBM.getData()\n"
   ]
  },
  {
   "cell_type": "code",
   "execution_count": null,
   "metadata": {
    "hidden": true
   },
   "outputs": [],
   "source": [
    "\n",
    "plt.imshow(data,interpolation='nearest', aspect='auto')\n",
    "plt.show()"
   ]
  },
  {
   "cell_type": "code",
   "execution_count": null,
   "metadata": {
    "hidden": true
   },
   "outputs": [],
   "source": []
  },
  {
   "cell_type": "code",
   "execution_count": null,
   "metadata": {
    "hidden": true
   },
   "outputs": [],
   "source": []
  },
  {
   "cell_type": "markdown",
   "metadata": {
    "heading_collapsed": true
   },
   "source": [
    "# TESTS"
   ]
  },
  {
   "cell_type": "code",
   "execution_count": 95,
   "metadata": {
    "ExecuteTime": {
     "end_time": "2019-10-29T18:18:52.917399+01:00",
     "start_time": "2019-10-29T18:18:52.917399Z"
    },
    "hidden": true
   },
   "outputs": [],
   "source": [
    "    \n",
    "countBM = tt.CountBetweenMarkers(\n",
    "    tagger=fastcounter._tagger,\n",
    "    click_channel=1,\n",
    "    begin_channel=4,\n",
    "    n_values=1)\n",
    "    \n",
    "def readoutFunc(readouttime):\n",
    "    countBM.clear() # Clear the buffer\n",
    "    \n",
    "    task.StartTask()\n",
    "    task.WriteDigitalLines(1,1,10.0,PyDAQmx.DAQmx_Val_GroupByChannel,markers,None,None)\n",
    "    time.sleep(readouttime)\n",
    "    task.StopTask()\n",
    "    offFunc()\n",
    "    \n",
    "    return countBM.getData()[0]\n",
    "    "
   ]
  },
  {
   "cell_type": "code",
   "execution_count": 98,
   "metadata": {
    "ExecuteTime": {
     "end_time": "2019-10-29T18:18:58.185135+01:00",
     "start_time": "2019-10-29T18:18:58.185135Z"
    },
    "hidden": true
   },
   "outputs": [
    {
     "data": {
      "text/plain": [
       "27"
      ]
     },
     "execution_count": 98,
     "metadata": {},
     "output_type": "execute_result"
    }
   ],
   "source": [
    "readoutFunc(1e-1)"
   ]
  },
  {
   "cell_type": "code",
   "execution_count": null,
   "metadata": {
    "hidden": true
   },
   "outputs": [],
   "source": []
  },
  {
   "cell_type": "code",
   "execution_count": null,
   "metadata": {
    "hidden": true
   },
   "outputs": [],
   "source": []
  },
  {
   "cell_type": "code",
   "execution_count": 30,
   "metadata": {
    "ExecuteTime": {
     "end_time": "2019-10-29T11:09:35.880333+01:00",
     "start_time": "2019-10-29T11:09:35.880333Z"
    },
    "hidden": true
   },
   "outputs": [
    {
     "name": "stdout",
     "output_type": "stream",
     "text": [
      "[38.440000000000005, 43.4, 50.56, 60.879999999999995, 66.62, 75.7, 80.6, 92.12, 100.53999999999999, 108.72, 120.05999999999999]\n"
     ]
    },
    {
     "data": {
      "image/png": "[encoded data removed]"
     },
     "metadata": {
      "image/png": {
       "height": 361,
       "width": 549
      }
     },
     "output_type": "display_data"
    }
   ],
   "source": [
    "data = []\n",
    "times = np.linspace(1,3,11)\n",
    "for k in times:\n",
    "    s = 0\n",
    "    for t in range(5):\n",
    "        countBM.clear()\n",
    "        task.StartTask()\n",
    "        task.WriteDigitalLines(1,1,10.0,PyDAQmx.DAQmx_Val_GroupByChannel,markers,None,None)\n",
    "        time.sleep(k)\n",
    "        task.StopTask()\n",
    "        offFunc()\n",
    "        s+=np.average(countBM.getData())\n",
    "        countBM.clear()\n",
    "    data.append(s/5)\n",
    "\n",
    "print(data)\n",
    "plt.hist(data)\n",
    "plt.show()"
   ]
  },
  {
   "cell_type": "code",
   "execution_count": 31,
   "metadata": {
    "ExecuteTime": {
     "end_time": "2019-10-29T11:09:40.282482+01:00",
     "start_time": "2019-10-29T11:09:40.282482Z"
    },
    "hidden": true
   },
   "outputs": [
    {
     "data": {
      "image/png": "[encoded data removed]"
     },
     "metadata": {
      "image/png": {
       "height": 361,
       "width": 546
      }
     },
     "output_type": "display_data"
    }
   ],
   "source": [
    "plt.plot(data,'o')\n",
    "plt.show()"
   ]
  },
  {
   "cell_type": "code",
   "execution_count": null,
   "metadata": {
    "hidden": true
   },
   "outputs": [],
   "source": []
  },
  {
   "cell_type": "code",
   "execution_count": null,
   "metadata": {
    "hidden": true
   },
   "outputs": [],
   "source": []
  },
  {
   "cell_type": "code",
   "execution_count": null,
   "metadata": {
    "hidden": true
   },
   "outputs": [],
   "source": []
  },
  {
   "cell_type": "code",
   "execution_count": null,
   "metadata": {
    "hidden": true
   },
   "outputs": [],
   "source": []
  },
  {
   "cell_type": "code",
   "execution_count": null,
   "metadata": {
    "hidden": true
   },
   "outputs": [],
   "source": []
  },
  {
   "cell_type": "code",
   "execution_count": 57,
   "metadata": {
    "ExecuteTime": {
     "end_time": "2019-10-29T14:34:17.181232+01:00",
     "start_time": "2019-10-29T14:34:17.181232Z"
    },
    "hidden": true
   },
   "outputs": [
    {
     "data": {
      "image/png": "[encoded data removed]"
     },
     "metadata": {
      "image/png": {
       "height": 361,
       "width": 564
      }
     },
     "output_type": "display_data"
    }
   ],
   "source": [
    "QWP = 0\n",
    "x = [0,5,10,30,20,20,20]\n",
    "y=[83781,121687.5,116468.75,116531.25,137937.5,107531.25,159625.0]\n",
    "plt.plot(x,y,'o')\n",
    "plt.show()"
   ]
  },
  {
   "cell_type": "code",
   "execution_count": 101,
   "metadata": {
    "ExecuteTime": {
     "end_time": "2019-10-29T14:39:58.362014+01:00",
     "start_time": "2019-10-29T14:39:58.362014Z"
    },
    "hidden": true
   },
   "outputs": [
    {
     "data": {
      "image/png": "[encoded data removed]"
     },
     "metadata": {
      "image/png": {
       "height": 361,
       "width": 564
      }
     },
     "output_type": "display_data"
    }
   ],
   "source": [
    "QWP = 10\n",
    "x = [0,10,10,10,20]\n",
    "y=[73593.75,120187.5,101343.75,59500.0,101750.0]\n",
    "plt.plot(x,y,'o')\n",
    "plt.show()"
   ]
  },
  {
   "cell_type": "code",
   "execution_count": 160,
   "metadata": {
    "ExecuteTime": {
     "end_time": "2019-10-29T14:45:04.983594+01:00",
     "start_time": "2019-10-29T14:45:04.983594Z"
    },
    "hidden": true
   },
   "outputs": [
    {
     "data": {
      "image/png": "[encoded data removed]"
     },
     "metadata": {
      "image/png": {
       "height": 361,
       "width": 564
      }
     },
     "output_type": "display_data"
    }
   ],
   "source": [
    "QWP = 20\n",
    "x = [20,0,5,-5,-5,-10,-10]\n",
    "y=[107906,45187.5,57375.0,43625.0,39406.25,43250.0,41562.5]\n",
    "plt.plot(x,y,'o')\n",
    "plt.show()"
   ]
  },
  {
   "cell_type": "code",
   "execution_count": 178,
   "metadata": {
    "ExecuteTime": {
     "end_time": "2019-10-29T14:47:34.431028+01:00",
     "start_time": "2019-10-29T14:47:34.431028Z"
    },
    "hidden": true
   },
   "outputs": [
    {
     "data": {
      "text/plain": [
       "<function show at 0x000002126E7A2AE8>"
      ]
     },
     "execution_count": 178,
     "metadata": {},
     "output_type": "execute_result"
    }
   ],
   "source": [
    "QWP = 25\n",
    "x = [0,0,0]\n",
    "y=[34781.25,39968.75,41468.75]\n",
    "plt.plot(x,y,'o')\n",
    "plt.show()"
   ]
  },
  {
   "cell_type": "code",
   "execution_count": 399,
   "metadata": {
    "ExecuteTime": {
     "end_time": "2019-10-29T15:24:28.317913+01:00",
     "start_time": "2019-10-29T15:24:28.317913Z"
    },
    "hidden": true
   },
   "outputs": [
    {
     "data": {
      "text/plain": [
       "0"
      ]
     },
     "execution_count": 399,
     "metadata": {},
     "output_type": "execute_result"
    }
   ],
   "source": [
    "laserscannerlogic._goto_speed = 1.0\n",
    "laserscannerlogic._goto_during_scan(-0.90)"
   ]
  },
  {
   "cell_type": "code",
   "execution_count": 7,
   "metadata": {
    "ExecuteTime": {
     "end_time": "2019-10-30T10:09:33.850799+01:00",
     "start_time": "2019-10-30T10:09:33.850799Z"
    },
    "hidden": true
   },
   "outputs": [],
   "source": [
    "# laserscannerlogic._upwards_ramp"
   ]
  },
  {
   "cell_type": "code",
   "execution_count": 134,
   "metadata": {
    "ExecuteTime": {
     "end_time": "2019-10-30T12:18:12.247939+01:00",
     "start_time": "2019-10-30T12:18:12.247939Z"
    },
    "hidden": true
   },
   "outputs": [],
   "source": [
    "    \n",
    "countBM = tt.CountBetweenMarkers(\n",
    "    tagger=fastcounter._tagger,\n",
    "    click_channel=1,\n",
    "    begin_channel=4,\n",
    "    n_values=1)\n",
    "    \n",
    "def readoutFunc(readouttime):\n",
    "    countBM.clear() # Clear the buffer\n",
    "    \n",
    "    task.StartTask()\n",
    "    task.WriteDigitalLines(1,1,10.0,PyDAQmx.DAQmx_Val_GroupByChannel,markers,None,None)\n",
    "    time.sleep(readouttime)\n",
    "    task.StopTask()\n",
    "    offFunc()\n",
    "    \n",
    "    return countBM.getData()[0]"
   ]
  },
  {
   "cell_type": "code",
   "execution_count": 170,
   "metadata": {
    "ExecuteTime": {
     "end_time": "2019-10-30T12:24:31.583123+01:00",
     "start_time": "2019-10-30T12:24:31.583123Z"
    },
    "hidden": true
   },
   "outputs": [],
   "source": [
    "kill_scanner()"
   ]
  },
  {
   "cell_type": "code",
   "execution_count": 171,
   "metadata": {
    "ExecuteTime": {
     "end_time": "2019-10-30T12:24:34.740016+01:00",
     "start_time": "2019-10-30T12:24:34.740016Z"
    },
    "hidden": true
   },
   "outputs": [],
   "source": [
    "v0= -0.895\n",
    "v1= -0.875\n",
    "laserscannerlogic.set_clock_frequency(150)\n",
    "init_scanner(v_min = v0,v_max = v1,speed= 0.01)"
   ]
  },
  {
   "cell_type": "code",
   "execution_count": 352,
   "metadata": {
    "ExecuteTime": {
     "end_time": "2019-10-30T12:50:45.022691+01:00",
     "start_time": "2019-10-30T12:50:45.022691Z"
    },
    "hidden": true
   },
   "outputs": [],
   "source": [
    "task.StartTask()\n",
    "task.WriteDigitalLines(1,1,10.0,PyDAQmx.DAQmx_Val_GroupByChannel,green,None,None)\n",
    "task.StopTask()\n",
    "\n",
    "time.sleep(0.01)\n",
    "\n",
    "task.StartTask()\n",
    "task.WriteDigitalLines(1,1,10.0,PyDAQmx.DAQmx_Val_GroupByChannel,redAOM,None,None)\n",
    "task.StopTask()\n",
    "\n",
    "counts = laserscannerlogic._do_next_one_line()\n"
   ]
  },
  {
   "cell_type": "code",
   "execution_count": 353,
   "metadata": {
    "ExecuteTime": {
     "end_time": "2019-10-30T12:50:45.183046+01:00",
     "start_time": "2019-10-30T12:50:45.183046Z"
    },
    "hidden": true,
    "scrolled": true
   },
   "outputs": [
    {
     "data": {
      "image/png": "[encoded data removed]"
     },
     "metadata": {
      "image/png": {
       "height": 361,
       "width": 552
      }
     },
     "output_type": "display_data"
    }
   ],
   "source": [
    "plt.plot(np.linspace(v0,v1,len(counts)),counts,'-')\n",
    "# plt.savefig('nice PLE single scan.png')\n",
    "plt.show()"
   ]
  },
  {
   "cell_type": "code",
   "execution_count": 354,
   "metadata": {
    "ExecuteTime": {
     "end_time": "2019-10-30T12:50:50.128083+01:00",
     "start_time": "2019-10-30T12:50:50.128083Z"
    },
    "hidden": true
   },
   "outputs": [],
   "source": [
    "offFunc()\n",
    "\n",
    "resonance = np.linspace(v0,v1,len(counts))[np.argmax(counts)]\n"
   ]
  },
  {
   "cell_type": "code",
   "execution_count": 355,
   "metadata": {
    "ExecuteTime": {
     "end_time": "2019-10-30T12:50:53.919903+01:00",
     "start_time": "2019-10-30T12:50:53.919903Z"
    },
    "hidden": true
   },
   "outputs": [
    {
     "data": {
      "text/plain": [
       "-0.8828929765886288"
      ]
     },
     "execution_count": 355,
     "metadata": {},
     "output_type": "execute_result"
    }
   ],
   "source": [
    "resonance"
   ]
  },
  {
   "cell_type": "code",
   "execution_count": 356,
   "metadata": {
    "ExecuteTime": {
     "end_time": "2019-10-30T12:50:56.030469+01:00",
     "start_time": "2019-10-30T12:50:56.030469Z"
    },
    "hidden": true
   },
   "outputs": [
    {
     "data": {
      "text/plain": [
       "0"
      ]
     },
     "execution_count": 356,
     "metadata": {},
     "output_type": "execute_result"
    }
   ],
   "source": [
    "laserscannerlogic._goto_during_scan(resonance)"
   ]
  },
  {
   "cell_type": "code",
   "execution_count": 288,
   "metadata": {
    "ExecuteTime": {
     "end_time": "2019-10-30T12:33:08.213748+01:00",
     "start_time": "2019-10-30T12:33:08.213748Z"
    },
    "hidden": true
   },
   "outputs": [
    {
     "name": "stdout",
     "output_type": "stream",
     "text": [
      "cteset  265\n"
     ]
    }
   ],
   "source": [
    "cteset = readoutFunc(1e-1)\n",
    "print('cteset ',cteset)"
   ]
  },
  {
   "cell_type": "code",
   "execution_count": 358,
   "metadata": {
    "ExecuteTime": {
     "end_time": "2019-10-30T12:54:25.956322+01:00",
     "start_time": "2019-10-30T12:54:25.956322Z"
    },
    "hidden": true
   },
   "outputs": [
    {
     "name": "stdout",
     "output_type": "stream",
     "text": [
      "cteset  152\n",
      "cteset  229\n",
      "cteset  183\n",
      "cteset  111\n",
      "cteset  140\n",
      "cteset  168\n",
      "cteset  189\n",
      "cteset  143\n",
      "cteset  151\n",
      "cteset  172\n"
     ]
    }
   ],
   "source": [
    "for i in range(10):\n",
    "    cteset = readoutFunc(1e-1)\n",
    "    time.sleep(0.1)\n",
    "    print('cteset ',cteset)"
   ]
  },
  {
   "cell_type": "code",
   "execution_count": 362,
   "metadata": {
    "ExecuteTime": {
     "end_time": "2019-10-30T12:54:54.959442+01:00",
     "start_time": "2019-10-30T12:54:54.959442Z"
    },
    "hidden": true
   },
   "outputs": [
    {
     "name": "stdout",
     "output_type": "stream",
     "text": [
      "cteset  20\n",
      "cteset  229\n",
      "cteset  63\n",
      "cteset  6\n",
      "cteset  17\n",
      "cteset  12\n",
      "cteset  5\n",
      "cteset  0\n",
      "cteset  0\n",
      "cteset  83\n",
      "cteset  63\n",
      "cteset  79\n",
      "cteset  64\n",
      "cteset  53\n",
      "cteset  54\n",
      "cteset  54\n",
      "cteset  64\n",
      "cteset  45\n",
      "cteset  47\n",
      "cteset  45\n"
     ]
    }
   ],
   "source": [
    "for i in range(20):\n",
    "    cteset = readoutFunc(1e-1)\n",
    "    time.sleep(0.1)\n",
    "    print('cteset ',cteset)"
   ]
  },
  {
   "cell_type": "code",
   "execution_count": 361,
   "metadata": {
    "ExecuteTime": {
     "end_time": "2019-10-30T12:54:46.582273+01:00",
     "start_time": "2019-10-30T12:54:46.582273Z"
    },
    "hidden": true
   },
   "outputs": [
    {
     "name": "stdout",
     "output_type": "stream",
     "text": [
      "cteset  0\n",
      "cteset  0\n",
      "cteset  25\n",
      "cteset  0\n",
      "cteset  0\n",
      "cteset  0\n",
      "cteset  0\n",
      "cteset  0\n",
      "cteset  0\n",
      "cteset  0\n"
     ]
    }
   ],
   "source": [
    "for i in range(10):\n",
    "    cteset = readoutFunc(1e-2)\n",
    "#     time.sleep(0.1)\n",
    "    print('cteset ',cteset)"
   ]
  },
  {
   "cell_type": "code",
   "execution_count": 217,
   "metadata": {
    "ExecuteTime": {
     "end_time": "2019-10-30T12:28:57.990808+01:00",
     "start_time": "2019-10-30T12:28:57.990808Z"
    },
    "hidden": true
   },
   "outputs": [],
   "source": [
    "redFunc()"
   ]
  },
  {
   "cell_type": "code",
   "execution_count": 291,
   "metadata": {
    "ExecuteTime": {
     "end_time": "2019-10-30T12:35:46.033792+01:00",
     "start_time": "2019-10-30T12:35:46.033792Z"
    },
    "hidden": true
   },
   "outputs": [],
   "source": [
    "greenFunc()"
   ]
  },
  {
   "cell_type": "code",
   "execution_count": 29,
   "metadata": {
    "ExecuteTime": {
     "end_time": "2019-10-30T10:31:09.043003+01:00",
     "start_time": "2019-10-30T10:31:09.043003Z"
    },
    "hidden": true
   },
   "outputs": [
    {
     "data": {
      "image/png": "[encoded data removed]"
     },
     "metadata": {
      "image/png": {
       "height": 361,
       "width": 564
      }
     },
     "output_type": "display_data"
    }
   ],
   "source": [
    "plt.plot(np.linspace(v0,v1,len(counts)),counts,'-')\n",
    "# plt.savefig('nice PLE single scan.png')\n",
    "plt.show()"
   ]
  },
  {
   "cell_type": "code",
   "execution_count": 54,
   "metadata": {
    "ExecuteTime": {
     "end_time": "2019-10-29T18:42:32.755975+01:00",
     "start_time": "2019-10-29T18:42:32.755975Z"
    },
    "hidden": true
   },
   "outputs": [
    {
     "data": {
      "text/plain": [
       "17.56637168141593"
      ]
     },
     "execution_count": 54,
     "metadata": {},
     "output_type": "execute_result"
    }
   ],
   "source": [
    "max(counts)/min(counts)"
   ]
  },
  {
   "cell_type": "code",
   "execution_count": 55,
   "metadata": {
    "ExecuteTime": {
     "end_time": "2019-10-29T18:42:40.787152+01:00",
     "start_time": "2019-10-29T18:42:40.787152Z"
    },
    "hidden": true
   },
   "outputs": [
    {
     "name": "stdout",
     "output_type": "stream",
     "text": [
      "resonance=  -0.87225\n"
     ]
    },
    {
     "data": {
      "text/plain": [
       "0"
      ]
     },
     "execution_count": 55,
     "metadata": {},
     "output_type": "execute_result"
    }
   ],
   "source": [
    "\n",
    "resonance = np.linspace(v0,v1,len(counts))[np.argmax(counts)]\n",
    "print('resonance= ',resonance)\n",
    "laserscannerlogic._goto_during_scan(resonance)\n"
   ]
  },
  {
   "cell_type": "code",
   "execution_count": 56,
   "metadata": {
    "ExecuteTime": {
     "end_time": "2019-10-29T18:43:02.703470+01:00",
     "start_time": "2019-10-29T18:43:02.703470Z"
    },
    "hidden": true
   },
   "outputs": [
    {
     "name": "stdout",
     "output_type": "stream",
     "text": [
      "-0.87225\n"
     ]
    },
    {
     "data": {
      "text/plain": [
       "0"
      ]
     },
     "execution_count": 56,
     "metadata": {},
     "output_type": "execute_result"
    }
   ],
   "source": [
    "\n",
    "resonance = np.linspace(v0,v1,len(counts))[np.argmax(counts)]\n",
    "print(resonance)\n",
    "laserscannerlogic._goto_speed = 1.0\n",
    "# laserscannerlogic._static_v = resonance\n",
    "laserscannerlogic._goto_during_scan(resonance)\n"
   ]
  },
  {
   "cell_type": "code",
   "execution_count": 8,
   "metadata": {
    "ExecuteTime": {
     "end_time": "2019-10-29T16:42:43.969097+01:00",
     "start_time": "2019-10-29T16:42:43.969097Z"
    },
    "hidden": true
   },
   "outputs": [
    {
     "data": {
      "text/plain": [
       "0.05"
      ]
     },
     "execution_count": 8,
     "metadata": {},
     "output_type": "execute_result"
    }
   ],
   "source": [
    "laserscannerlogic._goto_speed\n"
   ]
  },
  {
   "cell_type": "code",
   "execution_count": 22,
   "metadata": {
    "ExecuteTime": {
     "end_time": "2019-10-29T17:00:15.545442+01:00",
     "start_time": "2019-10-29T17:00:15.545442Z"
    },
    "hidden": true
   },
   "outputs": [
    {
     "data": {
      "text/plain": [
       "-0.7114743162108073"
      ]
     },
     "execution_count": 22,
     "metadata": {},
     "output_type": "execute_result"
    }
   ],
   "source": [
    "resonance = np.linspace(v0,v1,len(counts))[np.argmax(counts)]\n",
    "resonance"
   ]
  },
  {
   "cell_type": "code",
   "execution_count": 11,
   "metadata": {
    "ExecuteTime": {
     "end_time": "2019-10-29T17:23:09.657424+01:00",
     "start_time": "2019-10-29T17:23:09.657424Z"
    },
    "hidden": true
   },
   "outputs": [
    {
     "data": {
      "text/plain": [
       "-0.8975983989326217"
      ]
     },
     "execution_count": 11,
     "metadata": {},
     "output_type": "execute_result"
    }
   ],
   "source": [
    "laserscannerlogic._static_v "
   ]
  },
  {
   "cell_type": "code",
   "execution_count": 455,
   "metadata": {
    "ExecuteTime": {
     "end_time": "2019-10-29T15:48:45.934659+01:00",
     "start_time": "2019-10-29T15:48:45.934659Z"
    },
    "hidden": true
   },
   "outputs": [
    {
     "data": {
      "text/plain": [
       "array([-0.83934426,  2.        ])"
      ]
     },
     "execution_count": 455,
     "metadata": {},
     "output_type": "execute_result"
    }
   ],
   "source": [
    "np.array([resonance,2])"
   ]
  },
  {
   "cell_type": "code",
   "execution_count": 12,
   "metadata": {
    "ExecuteTime": {
     "end_time": "2019-10-29T17:23:13.442356+01:00",
     "start_time": "2019-10-29T17:23:13.442356Z"
    },
    "hidden": true
   },
   "outputs": [
    {
     "data": {
      "text/plain": [
       "array([-0.9,  0. ])"
      ]
     },
     "execution_count": 12,
     "metadata": {},
     "output_type": "execute_result"
    }
   ],
   "source": [
    "laserscannerlogic._scanning_device._current_position_laser "
   ]
  },
  {
   "cell_type": "code",
   "execution_count": null,
   "metadata": {
    "hidden": true
   },
   "outputs": [],
   "source": []
  },
  {
   "cell_type": "code",
   "execution_count": 67,
   "metadata": {
    "ExecuteTime": {
     "end_time": "2019-10-29T18:43:51.788737+01:00",
     "start_time": "2019-10-29T18:43:51.788737Z"
    },
    "hidden": true
   },
   "outputs": [],
   "source": [
    "\n",
    "greenFunc()\n",
    "\n",
    "\n"
   ]
  },
  {
   "cell_type": "code",
   "execution_count": 70,
   "metadata": {
    "ExecuteTime": {
     "end_time": "2019-10-29T18:44:00.932269+01:00",
     "start_time": "2019-10-29T18:44:00.932269Z"
    },
    "hidden": true
   },
   "outputs": [],
   "source": [
    "offFunc()"
   ]
  },
  {
   "cell_type": "code",
   "execution_count": 69,
   "metadata": {
    "ExecuteTime": {
     "end_time": "2019-10-29T18:43:58.372968+01:00",
     "start_time": "2019-10-29T18:43:58.372968Z"
    },
    "hidden": true
   },
   "outputs": [],
   "source": [
    "redFunc()"
   ]
  },
  {
   "cell_type": "code",
   "execution_count": 364,
   "metadata": {
    "ExecuteTime": {
     "end_time": "2019-10-29T15:12:14.511968+01:00",
     "start_time": "2019-10-29T15:12:14.511968Z"
    },
    "hidden": true
   },
   "outputs": [
    {
     "name": "stdout",
     "output_type": "stream",
     "text": [
      "38218.75\n"
     ]
    }
   ],
   "source": [
    "s=0\n",
    "for t in range(len(counts)):\n",
    "    if (np.linspace(v0,v1,len(counts))[t]>-0.775):\n",
    "        s+=counts[t]\n",
    "print(s)"
   ]
  },
  {
   "cell_type": "code",
   "execution_count": 154,
   "metadata": {
    "ExecuteTime": {
     "end_time": "2019-10-29T17:49:31.012316+01:00",
     "start_time": "2019-10-29T17:49:31.012316Z"
    },
    "hidden": true
   },
   "outputs": [
    {
     "name": "stdout",
     "output_type": "stream",
     "text": [
      "0\n"
     ]
    }
   ],
   "source": [
    "for j in range(10):\n",
    "    print(j)\n",
    "    break;"
   ]
  },
  {
   "cell_type": "code",
   "execution_count": 91,
   "metadata": {
    "ExecuteTime": {
     "end_time": "2019-10-30T10:45:17.356984+01:00",
     "start_time": "2019-10-30T10:45:17.356984Z"
    },
    "hidden": true
   },
   "outputs": [
    {
     "data": {
      "text/plain": [
       "[1, 2]"
      ]
     },
     "execution_count": 91,
     "metadata": {},
     "output_type": "execute_result"
    }
   ],
   "source": [
    "test = np.array([0,1,0,0,2])\n",
    "test = [ee for ee in test if ee!=0]\n",
    "\n",
    "test"
   ]
  },
  {
   "cell_type": "code",
   "execution_count": 2,
   "metadata": {
    "ExecuteTime": {
     "end_time": "2019-10-31T12:26:47.781708+01:00",
     "start_time": "2019-10-31T12:26:47.781708Z"
    },
    "hidden": true
   },
   "outputs": [
    {
     "data": {
      "text/plain": [
       "array([0., 0.])"
      ]
     },
     "execution_count": 2,
     "metadata": {},
     "output_type": "execute_result"
    }
   ],
   "source": [
    "laserscannerlogic._scanning_device._current_position_laser"
   ]
  },
  {
   "cell_type": "code",
   "execution_count": 5,
   "metadata": {
    "ExecuteTime": {
     "end_time": "2019-10-31T12:18:48.350261+01:00",
     "start_time": "2019-10-31T12:18:48.350261Z"
    },
    "hidden": true
   },
   "outputs": [],
   "source": [
    "r_max = np.clip(laserscannerlogic.scan_range[1], laserscannerlogic.a_range[laserscannerlogic.laser_number][0], laserscannerlogic.a_range[laserscannerlogic.laser_number][1])\n",
    "r_min = np.clip(laserscannerlogic.scan_range[0], laserscannerlogic.a_range[laserscannerlogic.laser_number][0], r_max)\n",
    "# self.scan_range = [r_min, r_max]"
   ]
  },
  {
   "cell_type": "code",
   "execution_count": 7,
   "metadata": {
    "ExecuteTime": {
     "end_time": "2019-10-31T12:18:59.109481+01:00",
     "start_time": "2019-10-31T12:18:59.109481Z"
    },
    "hidden": true
   },
   "outputs": [
    {
     "data": {
      "text/plain": [
       "-0.88"
      ]
     },
     "execution_count": 7,
     "metadata": {},
     "output_type": "execute_result"
    }
   ],
   "source": [
    "r_max\n",
    "r_min"
   ]
  },
  {
   "cell_type": "code",
   "execution_count": 5,
   "metadata": {
    "ExecuteTime": {
     "end_time": "2019-10-31T12:28:17.079317+01:00",
     "start_time": "2019-10-31T12:28:17.079317Z"
    },
    "hidden": true
   },
   "outputs": [
    {
     "data": {
      "text/plain": [
       "array([1., 1., 1., 1., 1.])"
      ]
     },
     "execution_count": 5,
     "metadata": {},
     "output_type": "execute_result"
    }
   ],
   "source": [
    "import numpy as np\n",
    "np.ones((5,)) * 1"
   ]
  },
  {
   "cell_type": "markdown",
   "metadata": {},
   "source": [
    "# OLD CODES"
   ]
  },
  {
   "cell_type": "code",
   "execution_count": null,
   "metadata": {},
   "outputs": [],
   "source": [
    "\n",
    "\n",
    "\n",
    "# def singleshot():\n",
    "#     global counts,readouttime\n",
    "#     offFunc()\n",
    "    \n",
    "#     resonance = np.linspace(_v_min,_v_max,len(counts))[np.argmax(counts)]\n",
    "#     laserscannerlogic._goto_during_scan(resonance)\n",
    "    \n",
    "    \n",
    "#     #!!!!!!!!!!!! CHANGE IT\n",
    "#     counts = readoutFunc(readouttime)\n",
    "#     #!!!!!!!!!!!!\n",
    "#     if counts is None:\n",
    "#         print('COUNTS are NONE in single shot!!!')\n",
    "#     else:\n",
    "#         ssr.append(counts)\n",
    "    \n",
    "    \n",
    "    \n"
   ]
  },
  {
   "cell_type": "code",
   "execution_count": null,
   "metadata": {},
   "outputs": [],
   "source": []
  },
  {
   "cell_type": "code",
   "execution_count": null,
   "metadata": {},
   "outputs": [],
   "source": []
  },
  {
   "cell_type": "code",
   "execution_count": null,
   "metadata": {},
   "outputs": [],
   "source": [
    "laserscannerlogic.set_scan_lines(1e6)\n",
    "\n",
    "start = 0.5e-6\n",
    "stop = 9.5e-6\n",
    "n = 3 # amount of points\n",
    "step = (stop-start) / n\n",
    "m = 2001# how much times should code measure every point\n",
    "# data = np.zeros((n,m))\n",
    "data = []\n",
    "\n",
    "offFunc()\n",
    "times = np.linspace(start,stop,n)\n",
    "\n",
    "    \n",
    "countBM = tt.CountBetweenMarkers(\n",
    "    tagger=fastcounter._tagger,\n",
    "    click_channel=1,\n",
    "    begin_channel=4,\n",
    "    n_values=1)\n",
    "\n",
    "_v_min = -0.8\n",
    "_v_max = -0.75\n",
    "speed = 0.02\n",
    "\n",
    "start_scanning(v_min = _v_min,v_max = _v_max,speed= speed)\n",
    "greenFunc()\n",
    "time.sleep(0.1)\n",
    "\n",
    "\n",
    "for t in range(len(times)):\n",
    "    \n",
    "    mw_pleA1()\n",
    "    counts = PLE_A1(laser_number = 0, v_min = _v_min,v_max = _v_max,speed= speed)\n",
    "    \n",
    "    if len(counts)==1:\n",
    "        if counts == -1:\n",
    "            print('counts are None')\n",
    "            break;\n",
    "        if counts ==0:\n",
    "            print('cant find PLE line')\n",
    "            break;\n",
    "\n",
    "    offFunc()\n",
    "    resonance = np.linspace(_v_min,_v_max,len(counts))[np.argmax(counts)]\n",
    "    laserscannerlogic._goto_during_scan(resonance)\n",
    "#     _v_min = resonance -0.01\n",
    "#     _v_max = resonance + 0.01\n",
    "    \n",
    "    \n",
    "    \n",
    "    main_temp_data=[]\n",
    "    temp_data = []\n",
    "    \n",
    "    for i in range(m):    \n",
    "        \n",
    "        # ======================= check PLE after 100 scans=======================\n",
    "        if i%1000==0 and i>0:\n",
    "            \n",
    "            mw_pleA1() # 1 PLE check\n",
    "            counts = laserscannerlogic._do_next_one_line()             \n",
    "\n",
    "            \n",
    "            if counts is None:\n",
    "                print('COUNTS are NONE in scan!!!')\n",
    "                offFunc()\n",
    "                break;\n",
    "            else:\n",
    "                tempcounts = [ee for ee in counts if ee!=0]\n",
    "                ratio = max(tempcounts)/min(tempcounts)\n",
    "                if ratio>40:\n",
    "                    main_temp_data.append(temp_data)   \n",
    "                    offFunc()\n",
    "                else:\n",
    "                    mw_pleA1()\n",
    "                    counts = PLE_A1(laser_number = 0, v_min = _v_min,v_max = _v_max,speed= speed)\n",
    "                    \n",
    "            resonance = np.linspace(_v_min,_v_max,len(counts))[np.argmax(counts)]\n",
    "#             _v_min = resonance -0.01\n",
    "#             _v_max = resonance + 0.01\n",
    "            offFunc()\n",
    "            laserscannerlogic._goto_during_scan(resonance)\n",
    "            temp_data = []\n",
    "            \n",
    "        # ======================= check PLE =======================\n",
    "        \n",
    "        # ======================== experiment======================\n",
    "        \n",
    "        mw_on()  #     MW to create random mixture\n",
    "        time.sleep(10e-6)\n",
    "        offFunc()\n",
    "\n",
    "#         time.sleep(0.001)\n",
    "\n",
    "        task.StartTask()\n",
    "        countBM.clear()\n",
    "        \n",
    "        task.WriteDigitalLines(1,1,10.0,PyDAQmx.DAQmx_Val_GroupByChannel, redAOM2 + markers ,None,None)\n",
    "        time.sleep(times[t])  \n",
    "        task.StopTask()\n",
    "        offFunc()\n",
    "        # ======================== experiment======================\n",
    "        temp_data.append(countBM.getData()[0])\n",
    "    \n",
    "    data.append(main_temp_data)\n"
   ]
  },
  {
   "cell_type": "code",
   "execution_count": null,
   "metadata": {},
   "outputs": [],
   "source": []
  },
  {
   "cell_type": "code",
   "execution_count": null,
   "metadata": {},
   "outputs": [],
   "source": []
  },
  {
   "cell_type": "code",
   "execution_count": null,
   "metadata": {},
   "outputs": [],
   "source": []
  }
 ],
 "metadata": {
  "kernelspec": {
   "display_name": "Qudi",
   "language": "python",
   "name": "qudi"
  },
  "language_info": {
   "codemirror_mode": {
    "name": "ipython",
    "version": "3.6.5"
   },
   "file_extension": ".py",
   "mimetype": "text/x-python",
   "name": "python",
   "nbconvert_exporter": "python",
   "pygments_lexer": "ipython3",
   "version": "3.6.5"
  }
 },
 "nbformat": 4,
 "nbformat_minor": 2
}
