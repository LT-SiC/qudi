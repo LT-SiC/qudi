{
 "cells": [
  {
   "cell_type": "code",
   "execution_count": 11,
   "metadata": {
    "collapsed": true
   },
   "outputs": [],
   "source": [
    "awg = AWG_M8190A_qudi\n",
    "import hardware.awg.multi_channel_awg_seq as mcas\n",
    "\n",
    "awg.awg._ch[1].sample_marker_low = 0\n",
    "awg.awg._ch[1].sample_marker_high = 1.5\n",
    "AWG_M8190A_qudi.awg._ch[1].output_amplitude = 0.5"
   ]
  },
  {
   "cell_type": "code",
   "execution_count": 12,
   "metadata": {
    "collapsed": true
   },
   "outputs": [],
   "source": [
    "awg.awg._ch[1].sync_marker_high=1.5"
   ]
  },
  {
   "cell_type": "code",
   "execution_count": 13,
   "metadata": {
    "collapsed": false
   },
   "outputs": [
    {
     "name": "stdout",
     "output_type": "stream",
     "text": [
      "0     Laser             1010.000000\n",
      "   0     Starting segment  1010.000000\n",
      "      0                       10.000000wait    1       0       \n",
      "      1                       1000.000000sine    [1000.] [0.9]   [0.]    1       0       \n",
      "      2     _missing_smpls_   0.000000wait    0       0       \n"
     ]
    }
   ],
   "source": [
    "awg.awg._ch[1].sample_marker_low = 0\n",
    "awg.awg._ch[1].sample_marker_high = 1.5\n",
    "AWG_M8190A_qudi.awg._ch[1].output_amplitude = 0.5\n",
    "\n",
    "\n",
    "seq = mcas.MultiChSeq('Laser', ch_dict = {'awg':[1,2]})\n",
    "\n",
    "seq.awg =awg\n",
    "seq.start_new_segment('Starting segment')\n",
    "\n",
    "seq.asc(pdawg1=dict(type='sine', frequencies=[100.], amplitudes=[0.9]),\n",
    "        length_mus=1e4)\n",
    "\n",
    "seq.sequences['awg'][1].print_info()\n"
   ]
  },
  {
   "cell_type": "code",
   "execution_count": 14,
   "metadata": {
    "collapsed": false
   },
   "outputs": [
    {
     "name": "stdout",
     "output_type": "stream",
     "text": [
      "MCAS 'Laser' has been generated.\n"
     ]
    }
   ],
   "source": [
    "seq.write_seq()"
   ]
  },
  {
   "cell_type": "code",
   "execution_count": 17,
   "metadata": {
    "collapsed": false
   },
   "outputs": [
    {
     "name": "stdout",
     "output_type": "stream",
     "text": [
      "writing sequence Laser on AWG_M8190A_qudi ch 1 took 1.7929 seconds\n",
      "writing sequence Laser on AWG_M8190A_qudi ch 2 took 1.5910 seconds\n"
     ]
    }
   ],
   "source": [
    "seq.run_sequence()"
   ]
  },
  {
   "cell_type": "code",
   "execution_count": 16,
   "metadata": {
    "collapsed": false
   },
   "outputs": [
    {
     "name": "stdout",
     "output_type": "stream",
     "text": [
      "writing sequence wait on AWG_M8190A_qudi ch 1 took 0.0200 seconds\n",
      "writing sequence wait on AWG_M8190A_qudi ch 2 took 0.0190 seconds\n"
     ]
    }
   ],
   "source": [
    "seq.stop_awgs()"
   ]
  },
  {
   "cell_type": "code",
   "execution_count": null,
   "metadata": {
    "collapsed": true
   },
   "outputs": [],
   "source": []
  }
 ],
 "metadata": {
  "kernelspec": {
   "display_name": "Qudi",
   "language": "python",
   "name": "qudi"
  },
  "language_info": {
   "codemirror_mode": {
    "name": "ipython",
    "version": "3.6.5"
   },
   "file_extension": ".py",
   "mimetype": "text/x-python",
   "name": "python",
   "nbconvert_exporter": "python",
   "pygments_lexer": "ipython3",
   "version": "3.6.5"
  }
 },
 "nbformat": 4,
 "nbformat_minor": 2
}
