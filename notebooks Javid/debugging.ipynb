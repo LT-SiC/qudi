{
 "cells": [
  {
   "cell_type": "code",
   "execution_count": 8,
   "metadata": {
    "ExecuteTime": {
     "end_time": "2020-03-06T10:30:26.405229+01:00",
     "start_time": "2020-03-06T10:30:26.405229Z"
    }
   },
   "outputs": [],
   "source": [
    "from core.statusvariable import StatusVar\n",
    "import scipy.interpolate\n"
   ]
  },
  {
   "cell_type": "code",
   "execution_count": 9,
   "metadata": {
    "ExecuteTime": {
     "end_time": "2020-03-05T10:07:36.001142+01:00",
     "start_time": "2020-03-05T10:07:36.001142Z"
    }
   },
   "outputs": [],
   "source": [
    "testtest = StatusVar(default=3.0e-6)"
   ]
  },
  {
   "cell_type": "code",
   "execution_count": 18,
   "metadata": {
    "ExecuteTime": {
     "end_time": "2020-03-05T10:08:54.065185+01:00",
     "start_time": "2020-03-05T10:08:54.065185Z"
    }
   },
   "outputs": [
    {
     "name": "stderr",
     "output_type": "stream",
     "text": [
      "Traceback (most recent call last):\n",
      "  File \"C:\\Program Files (x86)\\Qudi\\logic\\jupyterkernel\\qzmqkernel.py\", line 795, in run_code\n",
      "    exec(code_obj, self.user_global_ns, self.user_ns)\n",
      "  File \"<ipython-input-18-2a69728c6734>\", line 1, in <module>\n",
      "    float(testtest)\n",
      "TypeError: float() argument must be a string or a number, not 'StatusVar'\n"
     ]
    }
   ],
   "source": [
    "float(testtest)"
   ]
  },
  {
   "cell_type": "code",
   "execution_count": null,
   "metadata": {},
   "outputs": [],
   "source": [
    "from core.configoption import ConfigOption\n",
    "from core.statusvariable import StatusVar\n",
    "from core.connector import Connector\n",
    "from core.meta import InterfaceMetaclass\n"
   ]
  },
  {
   "cell_type": "code",
   "execution_count": 10,
   "metadata": {
    "ExecuteTime": {
     "end_time": "2020-03-06T10:30:56.509703+01:00",
     "start_time": "2020-03-06T10:30:56.509703Z"
    }
   },
   "outputs": [
    {
     "data": {
      "text/plain": [
       "5"
      ]
     },
     "execution_count": 10,
     "metadata": {},
     "output_type": "execute_result"
    }
   ],
   "source": []
  },
  {
   "cell_type": "code",
   "execution_count": 26,
   "metadata": {
    "ExecuteTime": {
     "end_time": "2020-03-06T11:08:18.020848+01:00",
     "start_time": "2020-03-06T11:08:18.020848Z"
    }
   },
   "outputs": [
    {
     "data": {
      "text/plain": [
       "array([-8192, -6552,     0,  1636,  3272,  4912,  6548,  8188],\n",
       "      dtype=int16)"
      ]
     },
     "execution_count": 26,
     "metadata": {},
     "output_type": "execute_result"
    }
   ],
   "source": [
    "val = np.array([-5,-4,0,1,2,3,4,5])\n",
    "max(np.abs(val))\n",
    "bitsize = int(2**12)\n",
    "shiftbits = 16-12   # 2 for marker, dac: 12 -> 2, dac: 14 -> 4\n",
    "min_intval = -bitsize/2\n",
    "max_intval =  bitsize/2 -1\n",
    "\n",
    "max_u_samples = 1     # data should be normalized in (-1..1)\n",
    "\n",
    "if max(abs(val)) > 1:\n",
    "#     self.log.warning(\"Samples from sequencegenerator out of range. Normalizing to -1..1\")\n",
    "    # biggest_val = max([abs(np.min(val)), max(np.val)])\n",
    "    biggest_val = max(np.abs(val))\n",
    "    max_u_samples = biggest_val\n",
    "# manual 8.22.4 Waveform Data Format in Direct Mode\n",
    "# 2 bits LSB reserved for markers\n",
    "\n",
    "mapper = scipy.interpolate.interp1d([-max_u_samples,max_u_samples],[min_intval, max_intval])\n",
    "mapper(val).astype('int16') << 2"
   ]
  },
  {
   "cell_type": "code",
   "execution_count": 13,
   "metadata": {
    "ExecuteTime": {
     "end_time": "2020-03-06T10:34:40.694957+01:00",
     "start_time": "2020-03-06T10:34:40.694957Z"
    }
   },
   "outputs": [
    {
     "data": {
      "text/plain": [
       "array([-2048.,   409.])"
      ]
     },
     "execution_count": 13,
     "metadata": {},
     "output_type": "execute_result"
    }
   ],
   "source": [
    "mapper(val)"
   ]
  },
  {
   "cell_type": "code",
   "execution_count": 21,
   "metadata": {
    "ExecuteTime": {
     "end_time": "2020-03-06T11:07:06.396002+01:00",
     "start_time": "2020-03-06T11:07:06.396002Z"
    }
   },
   "outputs": [
    {
     "data": {
      "text/plain": [
       "2047.0"
      ]
     },
     "execution_count": 21,
     "metadata": {},
     "output_type": "execute_result"
    }
   ],
   "source": [
    "max_intval"
   ]
  },
  {
   "cell_type": "code",
   "execution_count": 28,
   "metadata": {
    "ExecuteTime": {
     "end_time": "2020-03-06T11:08:34.925307+01:00",
     "start_time": "2020-03-06T11:08:34.925307Z"
    }
   },
   "outputs": [
    {
     "name": "stdout",
     "output_type": "stream",
     "text": [
      "[-8192 -6552     0  1636  3272  4912  6548  8188]\n",
      "[-32768 -26208      0   6544  13088  19648  26192  32752]\n"
     ]
    }
   ],
   "source": [
    "print(mapper(val).astype('int16') << 2)\n",
    "print(mapper(val).astype('int16') << 4)"
   ]
  },
  {
   "cell_type": "code",
   "execution_count": 1,
   "metadata": {
    "ExecuteTime": {
     "end_time": "2020-03-06T14:31:56.221172+01:00",
     "start_time": "2020-03-06T14:31:56.221172Z"
    }
   },
   "outputs": [
    {
     "data": {
      "text/plain": [
       "'1.9.1'"
      ]
     },
     "execution_count": 1,
     "metadata": {},
     "output_type": "execute_result"
    }
   ],
   "source": [
    "import visa\n",
    "visa.__version__"
   ]
  },
  {
   "cell_type": "code",
   "execution_count": 3,
   "metadata": {
    "ExecuteTime": {
     "end_time": "2020-03-06T15:26:46.080106+01:00",
     "start_time": "2020-03-06T15:26:46.080106Z"
    }
   },
   "outputs": [
    {
     "data": {
      "text/plain": [
       "5"
      ]
     },
     "execution_count": 3,
     "metadata": {},
     "output_type": "execute_result"
    }
   ],
   "source": [
    "\n",
    "keysight_M8195A.awg.query_delay = 5\n",
    "\n",
    "keysight_M8195A.awg.query_delay"
   ]
  },
  {
   "cell_type": "code",
   "execution_count": 3,
   "metadata": {
    "ExecuteTime": {
     "end_time": "2020-03-06T16:54:40.443579+01:00",
     "start_time": "2020-03-06T16:54:40.443579Z"
    }
   },
   "outputs": [],
   "source": [
    "\n",
    "keysight_M8195A.awg.timeout = float('+inf') \n"
   ]
  },
  {
   "cell_type": "code",
   "execution_count": 18,
   "metadata": {
    "ExecuteTime": {
     "end_time": "2020-03-06T16:25:36.210502+01:00",
     "start_time": "2020-03-06T16:25:36.210502Z"
    }
   },
   "outputs": [
    {
     "name": "stdout",
     "output_type": "stream",
     "text": [
      "Time taken: 0.035982370376586914\n"
     ]
    }
   ],
   "source": [
    "import time\n",
    "start_time=time.time()\n",
    "keysight_M8195A.query_bin(':MMEM:DATA? \"C:\\Program Files (x86)\\Qudi\\saved_pulsed_assets\\sine_ch2.bin\"')\n",
    "end_time=time.time()\n",
    "print(\"Time taken: {}\".format(end_time-start_time))"
   ]
  },
  {
   "cell_type": "code",
   "execution_count": 19,
   "metadata": {
    "ExecuteTime": {
     "end_time": "2020-03-06T16:26:26.271668+01:00",
     "start_time": "2020-03-06T16:26:26.271668Z"
    }
   },
   "outputs": [
    {
     "name": "stdout",
     "output_type": "stream",
     "text": [
      "Time taken: 40.000715255737305\n"
     ]
    },
    {
     "name": "stderr",
     "output_type": "stream",
     "text": [
      "Traceback (most recent call last):\n",
      "  File \"C:\\Program Files (x86)\\Qudi\\logic\\jupyterkernel\\qzmqkernel.py\", line 795, in run_code\n",
      "    exec(code_obj, self.user_global_ns, self.user_ns)\n",
      "  File \"<ipython-input-19-b2089878d563>\", line 10, in <module>\n",
      "    raise err\n",
      "  File \"<ipython-input-19-b2089878d563>\", line 4, in <module>\n",
      "    keysight_M8195A.query_bin(':MMEM:DATA? \"C:\\Program Files (x86)\\Qudi\\saved_pulsed_assets\\rabi_ch2.bin\"')\n",
      "  File \"C:\\Program Files (x86)\\Qudi\\hardware\\awg\\keysight_M8190A.py\", line 1420, in query_bin\n",
      "    return self.awg.query_binary_values(question, datatype='h', is_big_endian=False)\n",
      "  File \"C:\\Program Files (x86)\\Anaconda\\envs\\qudi\\lib\\site-packages\\pyvisa\\resources\\messagebased.py\", line 663, in query_binary_values\n",
      "    header_fmt, expect_termination)\n",
      "  File \"C:\\Program Files (x86)\\Anaconda\\envs\\qudi\\lib\\site-packages\\pyvisa\\resources\\messagebased.py\", line 472, in read_binary_values\n",
      "    block = self._read_raw()\n",
      "  File \"C:\\Program Files (x86)\\Anaconda\\envs\\qudi\\lib\\site-packages\\pyvisa\\resources\\messagebased.py\", line 386, in _read_raw\n",
      "    chunk, status = self.visalib.read(self.session, size)\n",
      "  File \"C:\\Program Files (x86)\\Anaconda\\envs\\qudi\\lib\\site-packages\\pyvisa\\ctwrapper\\functions.py\", line 1584, in read\n",
      "    ret = library.viRead(session, buffer, count, byref(return_count))\n",
      "  File \"C:\\Program Files (x86)\\Anaconda\\envs\\qudi\\lib\\site-packages\\pyvisa\\ctwrapper\\highlevel.py\", line 188, in _return_handler\n",
      "    raise errors.VisaIOError(ret_value)\n",
      "pyvisa.errors.VisaIOError: VI_ERROR_TMO (-1073807339): Timeout expired before operation completed.\n"
     ]
    }
   ],
   "source": [
    "try:\n",
    "    import time\n",
    "    start_time=time.time()\n",
    "    keysight_M8195A.query_bin(':MMEM:DATA? \"C:\\Program Files (x86)\\Qudi\\saved_pulsed_assets\\rabi_ch2.bin\"')\n",
    "    end_time=time.time()\n",
    "    print(\"Time taken: {}\".format(end_time-start_time))\n",
    "except Exception as err:\n",
    "    end_time=time.time()\n",
    "    print(\"Time taken: {}\".format(end_time-start_time))    \n",
    "    raise err"
   ]
  },
  {
   "cell_type": "code",
   "execution_count": 1,
   "metadata": {
    "ExecuteTime": {
     "end_time": "2020-03-06T17:43:36.809015+01:00",
     "start_time": "2020-03-06T17:43:36.809015Z"
    }
   },
   "outputs": [
    {
     "data": {
      "text/plain": [
       "(ResourceInfo(interface_type=<InterfaceType.tcpip: 6>, interface_board_number=0, resource_class='INSTR', resource_name='TCPIP0::localhost::hislip0::INSTR', alias=None), <StatusCode.success: 0>)"
      ]
     },
     "execution_count": 1,
     "metadata": {},
     "output_type": "execute_result"
    }
   ],
   "source": [
    "keysight_M8195A.awg.resource_info"
   ]
  },
  {
   "cell_type": "code",
   "execution_count": 2,
   "metadata": {
    "ExecuteTime": {
     "end_time": "2020-03-08T16:31:16.722695+01:00",
     "start_time": "2020-03-08T16:31:16.722695Z"
    }
   },
   "outputs": [
    {
     "data": {
      "text/plain": [
       "1024000"
      ]
     },
     "execution_count": 2,
     "metadata": {},
     "output_type": "execute_result"
    }
   ],
   "source": [
    "keysight_M8195A.awg.chunk_size"
   ]
  },
  {
   "cell_type": "code",
   "execution_count": 5,
   "metadata": {
    "ExecuteTime": {
     "end_time": "2020-03-06T17:48:18.783534+01:00",
     "start_time": "2020-03-06T17:48:18.783534Z"
    }
   },
   "outputs": [],
   "source": [
    "keysight_M8195A.awg.chunk_size  = 20480"
   ]
  },
  {
   "cell_type": "code",
   "execution_count": 3,
   "metadata": {
    "ExecuteTime": {
     "end_time": "2020-03-08T16:31:23.795612+01:00",
     "start_time": "2020-03-08T16:31:23.795612Z"
    }
   },
   "outputs": [],
   "source": [
    "keysight_M8195A.awg.chunk_size  = 2048000"
   ]
  },
  {
   "cell_type": "code",
   "execution_count": 3,
   "metadata": {
    "ExecuteTime": {
     "end_time": "2020-03-06T17:43:42.871416+01:00",
     "start_time": "2020-03-06T17:43:42.871416Z"
    }
   },
   "outputs": [],
   "source": [
    "keysight_M8195A.awg.timeout=40000"
   ]
  },
  {
   "cell_type": "code",
   "execution_count": 1,
   "metadata": {
    "ExecuteTime": {
     "end_time": "2020-03-09T12:08:52.675907+01:00",
     "start_time": "2020-03-09T12:08:52.675907Z"
    }
   },
   "outputs": [
    {
     "data": {
      "text/plain": [
       "20.48"
      ]
     },
     "execution_count": 1,
     "metadata": {},
     "output_type": "execute_result"
    }
   ],
   "source": [
    "1024000*20e3 /1e9"
   ]
  },
  {
   "cell_type": "code",
   "execution_count": 2,
   "metadata": {
    "ExecuteTime": {
     "end_time": "2020-03-09T12:09:02.819118+01:00",
     "start_time": "2020-03-09T12:09:02.819118Z"
    }
   },
   "outputs": [
    {
     "data": {
      "text/plain": [
       "True"
      ]
     },
     "execution_count": 2,
     "metadata": {},
     "output_type": "execute_result"
    }
   ],
   "source": [
    "keysight_M8195A._sequence_mode"
   ]
  },
  {
   "cell_type": "code",
   "execution_count": null,
   "metadata": {},
   "outputs": [],
   "source": []
  }
 ],
 "metadata": {
  "kernelspec": {
   "display_name": "Qudi",
   "language": "python",
   "name": "qudi"
  },
  "language_info": {
   "codemirror_mode": {
    "name": "ipython",
    "version": "3.6.5"
   },
   "file_extension": ".py",
   "mimetype": "text/x-python",
   "name": "python",
   "nbconvert_exporter": "python",
   "pygments_lexer": "ipython3",
   "version": "3.6.5"
  }
 },
 "nbformat": 4,
 "nbformat_minor": 2
}
