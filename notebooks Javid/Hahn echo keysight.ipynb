{
 "cells": [
  {
   "cell_type": "code",
   "execution_count": 2,
   "metadata": {
    "ExecuteTime": {
     "end_time": "2020-04-03T12:04:31.679925+02:00",
     "start_time": "2020-04-03T12:04:31.679925Z"
    },
    "collapsed": false,
    "deletable": true,
    "editable": true
   },
   "outputs": [
    {
     "name": "stderr",
     "output_type": "stream",
     "text": [
      "Traceback (most recent call last):\n",
      "  File \"C:\\src\\qudi\\logic\\jupyterkernel\\qzmqkernel.py\", line 679, in run_code\n",
      "    exec(code_obj, self.user_global_ns, self.user_ns)\n",
      "  File \"<ipython-input-2-c2346d4d5c63>\", line 5, in <module>\n",
      "    awg.awg._ch[1].sample_marker_low = 0\n",
      "AttributeError: module 'hardware.awg.AWG_M8190A_qudi' has no attribute 'awg'\n"
     ]
    }
   ],
   "source": [
    "import hardware.awg.AWG_M8190A_qudi as awg\n",
    "#awg = AWG_M8190A_qudi\n",
    "import hardware.awg.multi_channel_awg_seq as mcas\n",
    "\n",
    "awg.awg._ch[1].sample_marker_low = 0\n",
    "awg.awg._ch[1].sample_marker_high = 1.5\n",
    "awg.awg._ch[1].output_amplitude = 0.5"
   ]
  },
  {
   "cell_type": "code",
   "execution_count": 63,
   "metadata": {
    "ExecuteTime": {
     "end_time": "2020-04-03T12:04:31.966464+02:00",
     "start_time": "2020-04-03T12:04:31.966464Z"
    },
    "collapsed": true,
    "deletable": true,
    "editable": true
   },
   "outputs": [],
   "source": [
    "awg.awg._ch[1].sync_marker_high=1.5"
   ]
  },
  {
   "cell_type": "code",
   "execution_count": 64,
   "metadata": {
    "ExecuteTime": {
     "end_time": "2020-04-03T12:04:32.410131+02:00",
     "start_time": "2020-04-03T12:04:32.410131Z"
    },
    "collapsed": false,
    "deletable": true,
    "editable": true
   },
   "outputs": [
    {
     "name": "stdout",
     "output_type": "stream",
     "text": [
      "0     Laser             10.000000\n",
      "   0     Starting segment  10.000000\n",
      "      0                       10.000000wait    1       0       \n",
      "      1     _missing_smpls_   0.000000wait    0       0       \n"
     ]
    }
   ],
   "source": [
    "awg.awg._ch[1].sample_marker_low = 0\n",
    "awg.awg._ch[1].sample_marker_high = 1.5\n",
    "AWG_M8190A_qudi.awg._ch[1].output_amplitude = 0.5\n",
    "\n",
    "\n",
    "seq = mcas.MultiChSeq('Laser', ch_dict = {'awg':[1,2]})\n",
    "seq.awg =awg\n",
    "seq.start_new_segment('Starting segment')\n",
    "\n",
    "\n",
    "seq.asc(length_mus = 10, green=True, orange = True)\n",
    "\n",
    "\n",
    "seq.sequences['awg'][1].print_info()"
   ]
  },
  {
   "cell_type": "code",
   "execution_count": 65,
   "metadata": {
    "ExecuteTime": {
     "end_time": "2020-04-03T12:04:33.524651+02:00",
     "start_time": "2020-04-03T12:04:33.524651Z"
    },
    "collapsed": false,
    "deletable": true,
    "editable": true
   },
   "outputs": [
    {
     "name": "stdout",
     "output_type": "stream",
     "text": [
      "writing sequence wait on AWG_M8190A_qudi ch 1 took 0.0130 seconds\n",
      "writing sequence wait on AWG_M8190A_qudi ch 2 took 0.0100 seconds\n",
      "MCAS 'Laser' has been generated.\n"
     ]
    }
   ],
   "source": [
    "seq.write_seq()"
   ]
  },
  {
   "cell_type": "code",
   "execution_count": 93,
   "metadata": {
    "ExecuteTime": {
     "end_time": "2020-04-07T09:52:24.527566+02:00",
     "start_time": "2020-04-07T09:52:24.527566Z"
    },
    "collapsed": false,
    "deletable": true,
    "editable": true
   },
   "outputs": [
    {
     "name": "stdout",
     "output_type": "stream",
     "text": [
      "writing sequence Laser on AWG_M8190A_qudi ch 1 took 0.0260 seconds\n",
      "writing sequence Laser on AWG_M8190A_qudi ch 2 took 0.0140 seconds\n"
     ]
    }
   ],
   "source": [
    "seq.run_sequence()"
   ]
  },
  {
   "cell_type": "code",
   "execution_count": 69,
   "metadata": {
    "ExecuteTime": {
     "end_time": "2020-04-03T12:04:42.535311+02:00",
     "start_time": "2020-04-03T12:04:42.535311Z"
    },
    "collapsed": false,
    "deletable": true,
    "editable": true
   },
   "outputs": [
    {
     "name": "stdout",
     "output_type": "stream",
     "text": [
      "writing sequence wait on AWG_M8190A_qudi ch 1 took 0.0100 seconds\n",
      "writing sequence wait on AWG_M8190A_qudi ch 2 took 0.0120 seconds\n"
     ]
    }
   ],
   "source": [
    "seq.stop_awgs()"
   ]
  },
  {
   "cell_type": "markdown",
   "metadata": {
    "deletable": true,
    "editable": true
   },
   "source": [
    "## Hahn echo"
   ]
  },
  {
   "cell_type": "code",
   "execution_count": 108,
   "metadata": {
    "ExecuteTime": {
     "end_time": "2020-04-07T13:18:06.139606+02:00",
     "start_time": "2020-04-07T13:18:06.139606Z"
    },
    "collapsed": false,
    "deletable": true,
    "editable": true
   },
   "outputs": [
    {
     "data": {
      "text/plain": [
       "(0.5, 0.2)"
      ]
     },
     "execution_count": 108,
     "metadata": {},
     "output_type": "execute_result"
    }
   ],
   "source": [
    "[1,400e-3]\n",
    "0.5,200e-3"
   ]
  },
  {
   "cell_type": "code",
   "execution_count": 109,
   "metadata": {
    "ExecuteTime": {
     "end_time": "2020-04-07T13:18:07.274907+02:00",
     "start_time": "2020-04-07T13:18:07.274907Z"
    },
    "collapsed": false,
    "deletable": true,
    "editable": true
   },
   "outputs": [
    {
     "data": {
      "text/plain": [
       "0.5"
      ]
     },
     "execution_count": 109,
     "metadata": {},
     "output_type": "execute_result"
    }
   ],
   "source": [
    "AWG_M8190A_qudi.awg._ch[1].output_amplitude"
   ]
  },
  {
   "cell_type": "code",
   "execution_count": 110,
   "metadata": {
    "ExecuteTime": {
     "end_time": "2020-04-07T13:18:10.117085+02:00",
     "start_time": "2020-04-07T13:18:10.117085Z"
    },
    "collapsed": true,
    "deletable": true,
    "editable": true
   },
   "outputs": [],
   "source": [
    "awg = AWG_M8190A_qudi\n",
    "import hardware.awg.multi_channel_awg_seq as mcas\n",
    "\n",
    "awg.awg._ch[1].sample_marker_low = 0\n",
    "awg.awg._ch[1].sample_marker_high = 1.5\n",
    "AWG_M8190A_qudi.awg._ch[1].output_amplitude = 0.5\n",
    "\n",
    "def awg_hahn_echo(taus):\n",
    "    seq = mcas.MultiChSeq('hahn_echo', ch_dict={'awg': [1, 2]})\n",
    "    phases = [0.,180.]\n",
    "    awg_freq = 2206.54 # in MHz\n",
    "    electron_amp = 0.2 # AU 300mV peak to peak\n",
    "    electron_pi = 1.352/2 # us\n",
    "    oscReadoutPhaseFreq = 0\n",
    "    nitrogen_transition = 14.0733\n",
    "    rf_safety = 1\n",
    "    \n",
    "    for tau in taus:\n",
    "        for phase in phases:\n",
    "\n",
    "            seq.start_new_segment('hahn')\n",
    "            seq.asc(pdawg1=dict(type='sine', frequencies=[awg_freq], amplitudes=[electron_amp]),\n",
    "                    length_mus=electron_pi / 2.)\n",
    "            seq = awg_AddWait(seq, tau / 2.)\n",
    "            seq.asc(pdawg1=dict(type='sine', frequencies=[awg_freq], amplitudes=[electron_amp]),\n",
    "                    length_mus=electron_pi)\n",
    "            seq = awg_AddWait(seq, tau / 2.)\n",
    "            seq.asc(pdawg1=dict(type='sine', frequencies=[awg_freq], amplitudes=[electron_amp],\n",
    "                                phases=[phase]),\n",
    "                    length_mus=electron_pi / 2.)\n",
    "            seq.asc(length_mus=0.1)\n",
    "            \n",
    "#             seq = AddRfSafety(seq)\n",
    "            seq = awg_AddReadout(seq)\n",
    "    return seq\n",
    "\n",
    "# def awg_AddReadout(seq):\n",
    "#     length_laserreadout_ns = 3000\n",
    "#     length_lasersafety_ns = 1000\n",
    "#     length_laserreadout_smpl = length_laserreadout_ns / 1e3 * 12e3\n",
    "    \n",
    "#     while length_laserreadout_smpl % 64 != 0:\n",
    "#         length_laserreadout_smpl += 1\n",
    "        \n",
    "#     seq.asc(length_mus=0.5)  # 2nd step\n",
    "#     seq.asc(timetagger=True,green=True,orange=True, length_smpl=length_laserreadout_smpl)\n",
    "    \n",
    "#     seq.asc(length_mus= length_lasersafety_ns / 1e3)\n",
    "#     return seq\n",
    "\n",
    "def awg_AddReadout(seq):\n",
    "    length_laserreadout_ns = 3000\n",
    "    length_lasersafety_ns = 4000\n",
    "    AOMdelay_ns = 600\n",
    "    length_laserreadout_smpl = length_laserreadout_ns / 1e3 * 12e3\n",
    "    AOMdelay_sample = AOMdelay_ns  / 1e3 * 12e3\n",
    "    \n",
    "    while length_laserreadout_smpl % 64 != 0:\n",
    "        length_laserreadout_smpl += 1\n",
    "        \n",
    "    seq.asc(length_mus=0.5)  # 2nd step\n",
    "#     seq.asc(length_mus = 10, green=False, orange = True) #green on, AOM off\n",
    "\n",
    "    seq.asc(timetagger=False,green=True,orange=False, length_smpl=AOMdelay_sample)\n",
    "    seq.asc(timetagger=True,green=True,orange=True, length_smpl=length_laserreadout_smpl)    \n",
    "    seq.asc(timetagger=True,green=False,orange=True, length_smpl=AOMdelay_sample)\n",
    "\n",
    "    seq.asc(length_mus= length_lasersafety_ns / 1e3)\n",
    "    return seq\n",
    "\n",
    "\n",
    "\n",
    "\n",
    "\n",
    "def awg_AddWait(seq, time, orange=False, green=False):\n",
    "    enable_reuse_segments = False\n",
    "    if time < 0.:\n",
    "        for i in range(3): \n",
    "            print ('Negative time for sequence in AWG!!!')\n",
    "    elif time > 10.:\n",
    "        if int(time / (32 / 12.)) >= 1:\n",
    "            seq.start_new_segment('wait_loop', reuse_segment=enable_reuse_segments,\n",
    "                                  loop_count=int(time / (32 / 12.)))\n",
    "            seq.asc(length_smpl=32000, orange=orange, green=green)\n",
    "        seq.start_new_segment('wait_additional')\n",
    "        seq.asc(length_mus=time % (32 / 12.), orange=orange, green=green)\n",
    "    else:\n",
    "        seq.asc(length_mus=time, orange=orange, green=green)\n",
    "    return seq\n",
    "\n",
    "def AddRfSafety(seq):\n",
    "    rf_safety = 1\n",
    "    seq.asc(length_mus=rf_safety)\n",
    "    return seq\n",
    "\n",
    "# taus = np.linspace(100,1000,91)\n",
    "# taus = np.arange(0.01,130,1.)\n",
    "taus = np.arange(1., 50, .4)\n",
    "\n",
    "\n",
    "seqEcho = awg_hahn_echo(taus)\n",
    "seqEcho.awg = awg\n",
    "\n",
    "\n",
    "\n",
    "\n",
    "# pulsedmasterlogic.set_measurement_settings(invoke_settings=False, \n",
    "#                                            controlled_variable= taus,\n",
    "#                                            number_of_lasers=2*len(taus), \n",
    "#                                            laser_ignore_list=[], \n",
    "#                                            alternating=True, \n",
    "#                                            units=('s', 'arb. u.'))\n",
    "\n",
    "\n"
   ]
  },
  {
   "cell_type": "code",
   "execution_count": 102,
   "metadata": {
    "ExecuteTime": {
     "end_time": "2020-04-07T10:42:40.237872+02:00",
     "start_time": "2020-04-07T10:42:40.237872Z"
    },
    "collapsed": true,
    "deletable": true,
    "editable": true
   },
   "outputs": [],
   "source": [
    "\n",
    "pulsedmasterlogic.set_measurement_settings(invoke_settings=False, \n",
    "                                           controlled_variable= taus*1e-6,\n",
    "                                           number_of_lasers=2*len(taus), \n",
    "                                           laser_ignore_list=[], \n",
    "                                           alternating=True, \n",
    "                                           units=('s', 'arb. u.'))"
   ]
  },
  {
   "cell_type": "code",
   "execution_count": 103,
   "metadata": {
    "ExecuteTime": {
     "end_time": "2020-04-07T10:42:40.975305+02:00",
     "start_time": "2020-04-07T10:42:40.975305Z"
    },
    "collapsed": false,
    "deletable": true,
    "editable": true
   },
   "outputs": [
    {
     "data": {
      "text/plain": [
       "123"
      ]
     },
     "execution_count": 103,
     "metadata": {},
     "output_type": "execute_result"
    }
   ],
   "source": [
    "len(taus)"
   ]
  },
  {
   "cell_type": "code",
   "execution_count": 104,
   "metadata": {
    "ExecuteTime": {
     "end_time": "2020-04-07T10:42:41.680542+02:00",
     "start_time": "2020-04-07T10:42:41.680542Z"
    },
    "collapsed": true,
    "deletable": true,
    "editable": true
   },
   "outputs": [],
   "source": [
    "# seqEcho.sequences['awg'][1].print_info()"
   ]
  },
  {
   "cell_type": "code",
   "execution_count": 105,
   "metadata": {
    "ExecuteTime": {
     "end_time": "2020-04-07T10:42:42.288756+02:00",
     "start_time": "2020-04-07T10:42:42.288756Z"
    },
    "collapsed": false,
    "deletable": true,
    "editable": true
   },
   "outputs": [
    {
     "name": "stdout",
     "output_type": "stream",
     "text": [
      "MCAS 'hahn_echo' has been generated.\n"
     ]
    }
   ],
   "source": [
    "seqEcho.write_seq()"
   ]
  },
  {
   "cell_type": "code",
   "execution_count": 106,
   "metadata": {
    "ExecuteTime": {
     "end_time": "2020-04-07T10:42:56.745811+02:00",
     "start_time": "2020-04-07T10:42:56.745811Z"
    },
    "collapsed": false,
    "deletable": true,
    "editable": true
   },
   "outputs": [
    {
     "name": "stdout",
     "output_type": "stream",
     "text": [
      "writing sequence hahn_echo on AWG_M8190A_qudi ch 1 took 6.7611 seconds\n",
      "writing sequence hahn_echo on AWG_M8190A_qudi ch 2 took 6.7900 seconds\n"
     ]
    }
   ],
   "source": [
    "seqEcho.run_sequence()"
   ]
  },
  {
   "cell_type": "code",
   "execution_count": 107,
   "metadata": {
    "ExecuteTime": {
     "end_time": "2020-04-07T12:49:56.770634+02:00",
     "start_time": "2020-04-07T12:49:56.770634Z"
    },
    "collapsed": false,
    "deletable": true,
    "editable": true
   },
   "outputs": [
    {
     "name": "stdout",
     "output_type": "stream",
     "text": [
      "writing sequence wait on AWG_M8190A_qudi ch 1 took 0.0170 seconds\n",
      "writing sequence wait on AWG_M8190A_qudi ch 2 took 0.0180 seconds\n"
     ]
    }
   ],
   "source": [
    "seqEcho.stop_awgs()"
   ]
  },
  {
   "cell_type": "code",
   "execution_count": 61,
   "metadata": {
    "ExecuteTime": {
     "end_time": "2020-03-20T13:35:21.648315+01:00",
     "start_time": "2020-03-20T13:35:21.648315Z"
    },
    "collapsed": false,
    "deletable": true,
    "editable": true
   },
   "outputs": [
    {
     "data": {
      "text/plain": [
       "33.333333333333336"
      ]
     },
     "execution_count": 61,
     "metadata": {},
     "output_type": "execute_result"
    }
   ],
   "source": []
  },
  {
   "cell_type": "code",
   "execution_count": 16,
   "metadata": {
    "ExecuteTime": {
     "end_time": "2020-03-11T18:57:46.889532+01:00",
     "start_time": "2020-03-11T18:57:46.889532Z"
    },
    "collapsed": true,
    "deletable": true,
    "editable": true
   },
   "outputs": [],
   "source": []
  }
 ],
 "metadata": {
  "kernelspec": {
   "display_name": "Qudi",
   "language": "python",
   "name": "qudi"
  },
  "language_info": {
   "codemirror_mode": {
    "name": "ipython",
    "version": "3.6.5"
   },
   "file_extension": ".py",
   "mimetype": "text/x-python",
   "name": "python",
   "nbconvert_exporter": "python",
   "pygments_lexer": "ipython3",
   "version": "3.6.5"
  }
 },
 "nbformat": 4,
 "nbformat_minor": 2
}
