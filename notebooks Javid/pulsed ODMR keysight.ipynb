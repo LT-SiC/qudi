{
 "cells": [
  {
   "cell_type": "code",
   "execution_count": 23,
   "metadata": {
    "ExecuteTime": {
     "end_time": "2020-05-07T13:03:47.813146+02:00",
     "start_time": "2020-05-07T13:03:47.813146Z"
    }
   },
   "outputs": [],
   "source": [
    "awg = AWG_M8190A_qudi\n",
    "import hardware.awg.multi_channel_awg_seq as mcas\n",
    "\n",
    "awg.awg._ch[1].sample_marker_low = 0\n",
    "awg.awg._ch[1].sample_marker_high = 1.5\n",
    "AWG_M8190A_qudi.awg._ch[1].output_amplitude = 0.5"
   ]
  },
  {
   "cell_type": "code",
   "execution_count": 24,
   "metadata": {
    "ExecuteTime": {
     "end_time": "2020-05-07T13:03:48.070303+02:00",
     "start_time": "2020-05-07T13:03:48.070303Z"
    }
   },
   "outputs": [],
   "source": [
    "awg.awg._ch[1].sync_marker_high=1.5"
   ]
  },
  {
   "cell_type": "code",
   "execution_count": 33,
   "metadata": {
    "ExecuteTime": {
     "end_time": "2020-05-07T13:06:27.811465+02:00",
     "start_time": "2020-05-07T13:06:27.811465Z"
    }
   },
   "outputs": [
    {
     "name": "stdout",
     "output_type": "stream",
     "text": [
      "0     Laser             10.000000\n",
      "   0     Starting segment  10.000000\n",
      "      0                       10.000000wait    1       0       \n",
      "      1     _missing_smpls_   0.000000wait    0       0       \n"
     ]
    }
   ],
   "source": [
    "awg.awg._ch[1].sample_marker_low = 0\n",
    "awg.awg._ch[1].sample_marker_high = 1.5\n",
    "AWG_M8190A_qudi.awg._ch[1].output_amplitude = 0.5\n",
    "\n",
    "\n",
    "seq = mcas.MultiChSeq('Laser', ch_dict = {'awg':[1,2]})\n",
    "\n",
    "seq.awg =awg\n",
    "seq.start_new_segment('Starting segment')\n",
    "\n",
    "seq.asc(length_mus = 10, green=True, orange = True)\n",
    "\n",
    "# seq.asc(pdawg1=dict(type='sine', frequencies=[1750.], amplitudes=[0.9]),\n",
    "#         length_mus=10, green=True, orange = True)\n",
    "\n",
    "seq.sequences['awg'][1].print_info()"
   ]
  },
  {
   "cell_type": "code",
   "execution_count": 34,
   "metadata": {
    "ExecuteTime": {
     "end_time": "2020-05-07T13:06:28.311226+02:00",
     "start_time": "2020-05-07T13:06:28.311226Z"
    }
   },
   "outputs": [
    {
     "name": "stdout",
     "output_type": "stream",
     "text": [
      "MCAS 'Laser' has been generated.\n"
     ]
    }
   ],
   "source": [
    "seq.write_seq()"
   ]
  },
  {
   "cell_type": "code",
   "execution_count": 35,
   "metadata": {
    "ExecuteTime": {
     "end_time": "2020-05-07T13:06:29.126838+02:00",
     "start_time": "2020-05-07T13:06:29.126838Z"
    }
   },
   "outputs": [
    {
     "name": "stdout",
     "output_type": "stream",
     "text": [
      "writing sequence Laser on AWG_M8190A_qudi ch 1 took 0.0180 seconds\n",
      "writing sequence Laser on AWG_M8190A_qudi ch 2 took 0.0230 seconds\n"
     ]
    }
   ],
   "source": [
    "seq.run_sequence()"
   ]
  },
  {
   "cell_type": "code",
   "execution_count": 29,
   "metadata": {
    "ExecuteTime": {
     "end_time": "2020-05-07T13:06:13.342033+02:00",
     "start_time": "2020-05-07T13:06:13.342033Z"
    }
   },
   "outputs": [
    {
     "name": "stdout",
     "output_type": "stream",
     "text": [
      "writing sequence wait on AWG_M8190A_qudi ch 1 took 0.0150 seconds\n",
      "writing sequence wait on AWG_M8190A_qudi ch 2 took 0.0110 seconds\n"
     ]
    }
   ],
   "source": [
    "seq.stop_awgs()"
   ]
  },
  {
   "cell_type": "markdown",
   "metadata": {},
   "source": [
    "## pODMR"
   ]
  },
  {
   "cell_type": "code",
   "execution_count": 1,
   "metadata": {
    "ExecuteTime": {
     "end_time": "2020-05-07T11:38:28.469239+02:00",
     "start_time": "2020-05-07T11:38:28.469239Z"
    }
   },
   "outputs": [
    {
     "data": {
      "text/plain": [
       "3.8400000000000003"
      ]
     },
     "execution_count": 1,
     "metadata": {},
     "output_type": "execute_result"
    }
   ],
   "source": [
    "2.87 + 2.87- 1.9"
   ]
  },
  {
   "cell_type": "code",
   "execution_count": 30,
   "metadata": {
    "ExecuteTime": {
     "end_time": "2020-05-07T13:06:17.569123+02:00",
     "start_time": "2020-05-07T13:06:17.569123Z"
    }
   },
   "outputs": [
    {
     "data": {
      "text/plain": [
       "0.5"
      ]
     },
     "execution_count": 30,
     "metadata": {},
     "output_type": "execute_result"
    }
   ],
   "source": [
    "AWG_M8190A_qudi.awg._ch[1].output_amplitude"
   ]
  },
  {
   "cell_type": "code",
   "execution_count": 14,
   "metadata": {
    "ExecuteTime": {
     "end_time": "2020-05-20T12:29:24.050269+02:00",
     "start_time": "2020-05-20T12:29:24.050269Z"
    }
   },
   "outputs": [],
   "source": [
    "awg = AWG_M8190A_qudi\n",
    "import hardware.awg.multi_channel_awg_seq as mcas\n",
    "\n",
    "awg.awg._ch[1].sample_marker_low = 0\n",
    "awg.awg._ch[1].sample_marker_high = 1.5\n",
    "AWG_M8190A_qudi.awg._ch[1].output_amplitude = 0.7\n",
    "\n",
    "def awg_pODMR(freqs):\n",
    "    seq = mcas.MultiChSeq('hahn_echo', ch_dict={'awg': [1, 2]})\n",
    "#     phases = [0.]\n",
    "    electron_amp = 0.03 # AU 300mV peak to peak\n",
    "    electron_pi = 1.550/2 # us\n",
    "    oscReadoutPhaseFreq = 0\n",
    "    nitrogen_transition = 14.0733\n",
    "    rf_safety = 1\n",
    "    \n",
    "    for freq in freqs:\n",
    "        seq.start_new_segment('hahn')\n",
    "        seq.asc(pdawg1=dict(type='sine', frequencies=[freq], amplitudes=[electron_amp]),\n",
    "                length_mus=electron_pi)\n",
    "        seq.asc(length_mus=0.1)\n",
    "        seq = awg_AddReadout(seq)\n",
    "        seq.asc(length_mus=40)\n",
    "\n",
    "        \n",
    "    return seq\n",
    "\n",
    "# def awg_AddReadout(seq):\n",
    "#     length_laserreadout_ns = 3000\n",
    "#     length_lasersafety_ns = 1000\n",
    "#     length_laserreadout_smpl = length_laserreadout_ns / 1e3 * 12e3\n",
    "    \n",
    "#     while length_laserreadout_smpl % 64 != 0:\n",
    "#         length_laserreadout_smpl += 1\n",
    "        \n",
    "#     seq.asc(length_mus=0.5)  # 2nd step\n",
    "#     seq.asc(timetagger=True,green=True,orange=True, length_smpl=length_laserreadout_smpl)\n",
    "    \n",
    "#     seq.asc(length_mus= length_lasersafety_ns / 1e3)\n",
    "#     return seq\n",
    "\n",
    "\n",
    "def awg_AddReadout(seq):\n",
    "    length_laserreadout_ns = 3000\n",
    "    length_lasersafety_ns = 500\n",
    "    AOMdelay_ns = 400\n",
    "    length_laserreadout_smpl = length_laserreadout_ns / 1e3 * 12e3\n",
    "    AOMdelay_sample = AOMdelay_ns  / 1e3 * 12e3\n",
    "    \n",
    "    while length_laserreadout_smpl % 64 != 0:\n",
    "        length_laserreadout_smpl += 1\n",
    "        \n",
    "    seq.asc(length_mus=0.5)  # 2nd step\n",
    "#     seq.asc(length_mus = 10, green=False, orange = True) #green on, AOM off\n",
    "\n",
    "    seq.asc(timetagger=False,green=True,orange=False, length_smpl=AOMdelay_sample)\n",
    "    seq.asc(timetagger=True,green=True,orange=True, length_smpl=length_laserreadout_smpl)    \n",
    "    seq.asc(timetagger=True,green=False,orange=True, length_smpl=AOMdelay_sample)\n",
    "\n",
    "    seq.asc(length_mus= length_lasersafety_ns / 1e3)\n",
    "    return seq\n",
    "\n",
    "\n",
    "\n",
    "\n",
    "def awg_AddWait(seq, time, orange=False, green=False):\n",
    "    enable_reuse_segments = False\n",
    "    if time < 0.:\n",
    "        for i in range(3): \n",
    "            print ('Negative time for sequence in AWG!!!')\n",
    "    elif time > 10.:\n",
    "        if int(time / (32 / 12.)) >= 1:\n",
    "            seq.start_new_segment('wait_loop', reuse_segment=enable_reuse_segments,\n",
    "                                  loop_count=int(time / (32 / 12.)))\n",
    "            seq.asc(length_smpl=32000, orange=orange, green=green)\n",
    "        seq.start_new_segment('wait_additional')\n",
    "        seq.asc(length_mus=time % (32 / 12.), orange=orange, green=green)\n",
    "    else:\n",
    "        seq.asc(length_mus=time, orange=orange, green=green)\n",
    "    return seq\n",
    "\n",
    "def AddRfSafety(seq):\n",
    "    rf_safety = 1\n",
    "    seq.asc(length_mus=rf_safety)\n",
    "    return seq\n",
    "\n",
    "freqs = np.arange(1825., 1855, .05)\n",
    "\n",
    "\n",
    "seq_pODMR = awg_pODMR(freqs)\n",
    "seq_pODMR.awg = awg\n",
    "\n",
    "\n",
    "\n",
    "\n",
    "# pulsedmasterlogic.set_measurement_settings(invoke_settings=False, \n",
    "#                                            controlled_variable= taus,\n",
    "#                                            number_of_lasers=2*len(taus), \n",
    "#                                            laser_ignore_list=[], \n",
    "#                                            alternating=True, \n",
    "#                                            units=('s', 'arb. u.'))\n",
    "\n",
    "\n"
   ]
  },
  {
   "cell_type": "code",
   "execution_count": 15,
   "metadata": {
    "ExecuteTime": {
     "end_time": "2020-05-20T12:29:24.138239+02:00",
     "start_time": "2020-05-20T12:29:24.138239Z"
    }
   },
   "outputs": [
    {
     "data": {
      "text/plain": [
       "600"
      ]
     },
     "execution_count": 15,
     "metadata": {},
     "output_type": "execute_result"
    }
   ],
   "source": [
    "len(freqs)\n"
   ]
  },
  {
   "cell_type": "code",
   "execution_count": 16,
   "metadata": {
    "ExecuteTime": {
     "end_time": "2020-05-20T12:29:24.893946+02:00",
     "start_time": "2020-05-20T12:29:24.893946Z"
    }
   },
   "outputs": [],
   "source": [
    "\n",
    "pulsedmasterlogic.set_measurement_settings(invoke_settings=False, \n",
    "                                           controlled_variable= freqs,\n",
    "                                           number_of_lasers=len(freqs), \n",
    "                                           laser_ignore_list=[], \n",
    "                                           alternating=False, \n",
    "                                           units=('MHz', 'arb. u.'))"
   ]
  },
  {
   "cell_type": "code",
   "execution_count": 17,
   "metadata": {
    "ExecuteTime": {
     "end_time": "2020-05-20T12:29:25.760079+02:00",
     "start_time": "2020-05-20T12:29:25.760079Z"
    }
   },
   "outputs": [],
   "source": [
    "# seqEcho.sequences['awg'][1].print_info()"
   ]
  },
  {
   "cell_type": "code",
   "execution_count": 18,
   "metadata": {
    "ExecuteTime": {
     "end_time": "2020-05-20T12:29:26.217479+02:00",
     "start_time": "2020-05-20T12:29:26.217479Z"
    }
   },
   "outputs": [
    {
     "name": "stdout",
     "output_type": "stream",
     "text": [
      "MCAS 'hahn_echo' has been generated.\n"
     ]
    }
   ],
   "source": [
    "seq_pODMR.write_seq()"
   ]
  },
  {
   "cell_type": "code",
   "execution_count": 19,
   "metadata": {
    "ExecuteTime": {
     "end_time": "2020-05-20T12:29:58.853562+02:00",
     "start_time": "2020-05-20T12:29:58.853562Z"
    }
   },
   "outputs": [
    {
     "name": "stdout",
     "output_type": "stream",
     "text": [
      "writing sequence hahn_echo on AWG_M8190A_qudi ch 1 took 16.1493 seconds\n",
      "writing sequence hahn_echo on AWG_M8190A_qudi ch 2 took 15.9432 seconds\n"
     ]
    }
   ],
   "source": [
    "seq_pODMR.run_sequence()"
   ]
  },
  {
   "cell_type": "code",
   "execution_count": 22,
   "metadata": {
    "ExecuteTime": {
     "end_time": "2020-05-07T11:46:57.047837+02:00",
     "start_time": "2020-05-07T11:46:57.047837Z"
    }
   },
   "outputs": [
    {
     "name": "stdout",
     "output_type": "stream",
     "text": [
      "writing sequence wait on AWG_M8190A_qudi ch 1 took 0.0130 seconds\n",
      "writing sequence wait on AWG_M8190A_qudi ch 2 took 0.0120 seconds\n"
     ]
    }
   ],
   "source": [
    "seq_pODMR.stop_awgs()"
   ]
  },
  {
   "cell_type": "code",
   "execution_count": 61,
   "metadata": {
    "ExecuteTime": {
     "end_time": "2020-03-20T13:35:21.648315+01:00",
     "start_time": "2020-03-20T13:35:21.648315Z"
    }
   },
   "outputs": [
    {
     "data": {
      "text/plain": [
       "33.333333333333336"
      ]
     },
     "execution_count": 61,
     "metadata": {},
     "output_type": "execute_result"
    }
   ],
   "source": []
  },
  {
   "cell_type": "code",
   "execution_count": 16,
   "metadata": {
    "ExecuteTime": {
     "end_time": "2020-03-11T18:57:46.889532+01:00",
     "start_time": "2020-03-11T18:57:46.889532Z"
    }
   },
   "outputs": [],
   "source": []
  }
 ],
 "metadata": {
  "kernelspec": {
   "display_name": "Qudi",
   "language": "python",
   "name": "qudi"
  },
  "language_info": {
   "codemirror_mode": {
    "name": "ipython",
    "version": "3.6.5"
   },
   "file_extension": ".py",
   "mimetype": "text/x-python",
   "name": "python",
   "nbconvert_exporter": "python",
   "pygments_lexer": "ipython3",
   "version": "3.6.5"
  }
 },
 "nbformat": 4,
 "nbformat_minor": 2
}
