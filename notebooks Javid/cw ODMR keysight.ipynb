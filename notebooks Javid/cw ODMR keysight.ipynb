{
 "cells": [
  {
   "cell_type": "code",
   "execution_count": 34,
   "metadata": {
    "collapsed": false,
    "deletable": true,
    "editable": true
   },
   "outputs": [
    {
     "name": "stdout",
     "output_type": "stream",
     "text": [
      "wait, {'2g': [1, 2]}\n",
      "test, {'2g': [1, 2]}\n"
     ]
    }
   ],
   "source": [
    "awg = mcas_dict_awg.mcas_dict\n",
    "awg.print_info()"
   ]
  },
  {
   "cell_type": "code",
   "execution_count": 31,
   "metadata": {
    "ExecuteTime": {
     "start_time": "2020-04-24T17:25:19.352Z"
    },
    "collapsed": false,
    "deletable": true,
    "editable": true
   },
   "outputs": [],
   "source": [
    "seq = mcas_dict_awg.mcas(seq_name='test_2', ch_dict={'2g': [1,2]})\n",
    "seq.start_new_segment(\"mw pi/2\")\n",
    "seq.awg =awg\n",
    "seq.asc(type=\"sine\", frequencies=[70], amplitudes=[0.005], length_mus=10)"
   ]
  },
  {
   "cell_type": "code",
   "execution_count": 33,
   "metadata": {
    "collapsed": false,
    "deletable": true,
    "editable": true
   },
   "outputs": [],
   "source": [
    "seq.write_seq()"
   ]
  },
  {
   "cell_type": "code",
   "execution_count": 27,
   "metadata": {
    "collapsed": false
   },
   "outputs": [],
   "source": [
    "awg.stop_awgs()"
   ]
  },
  {
   "cell_type": "code",
   "execution_count": 36,
   "metadata": {
    "collapsed": false
   },
   "outputs": [
    {
     "name": "stderr",
     "output_type": "stream",
     "text": [
      "Traceback (most recent call last):\n",
      "  File \"C:\\src\\qudi\\logic\\jupyterkernel\\qzmqkernel.py\", line 679, in run_code\n",
      "    exec(code_obj, self.user_global_ns, self.user_ns)\n",
      "  File \"<ipython-input-36-f039c0ef1b67>\", line 1, in <module>\n",
      "    seq.run()\n",
      "  File \"C:\\src\\qudi\\hardware\\Keysight_AWG_M8190\\pym8190a.py\", line 435, in run\n",
      "    self.initialize()\n",
      "  File \"C:\\src\\qudi\\hardware\\Keysight_AWG_M8190\\pym8190a.py\", line 429, in initialize\n",
      "    self.mcas_dict.awgs[awg_str].ch[ch].initialize_sequence(sequence)\n",
      "AttributeError: 'MultiChSeq' object has no attribute 'mcas_dict'\n"
     ]
    }
   ],
   "source": [
    "seq.run()"
   ]
  },
  {
   "cell_type": "code",
   "execution_count": 1,
   "metadata": {
    "ExecuteTime": {
     "end_time": "2020-04-24T18:32:13.572498+02:00",
     "start_time": "2020-04-24T18:32:13.572498Z"
    },
    "collapsed": false,
    "deletable": true,
    "editable": true
   },
   "outputs": [],
   "source": [
    "awg = AWG_M8190A_qudi\n",
    "import hardware.awg.multi_channel_awg_seq as mcas\n",
    "\n",
    "awg.awg._ch[1].sample_marker_low = 0\n",
    "awg.awg._ch[1].sample_marker_high = 1.5\n",
    "AWG_M8190A_qudi.awg._ch[1].output_amplitude = 0.5"
   ]
  },
  {
   "cell_type": "code",
   "execution_count": 2,
   "metadata": {
    "ExecuteTime": {
     "end_time": "2020-04-24T18:32:13.874355+02:00",
     "start_time": "2020-04-24T18:32:13.874355Z"
    },
    "collapsed": false,
    "deletable": true,
    "editable": true
   },
   "outputs": [],
   "source": [
    "awg.awg._ch[1].sync_marker_high=1.5"
   ]
  },
  {
   "cell_type": "code",
   "execution_count": 7,
   "metadata": {
    "collapsed": false,
    "deletable": true,
    "editable": true
   },
   "outputs": [],
   "source": [
    "seq = mcas.MultiChSeq(\"T2\", ch_dict={\"awg\": [1]})\n",
    "seq.start_new_segment(\"mw pi/2\")\n",
    "seq.awg =awg\n",
    "seq.asc(type=\"sine\", frequencies=[70], amplitudes=[0.005], length_mus=10)\n"
   ]
  },
  {
   "cell_type": "code",
   "execution_count": 32,
   "metadata": {
    "ExecuteTime": {
     "end_time": "2020-04-24T18:32:14.253062+02:00",
     "start_time": "2020-04-24T18:32:14.253062Z"
    },
    "collapsed": false,
    "deletable": true,
    "editable": true
   },
   "outputs": [
    {
     "name": "stderr",
     "output_type": "stream",
     "text": [
      "Traceback (most recent call last):\n",
      "  File \"C:\\src\\qudi\\logic\\jupyterkernel\\qzmqkernel.py\", line 679, in run_code\n",
      "    exec(code_obj, self.user_global_ns, self.user_ns)\n",
      "  File \"<ipython-input-32-3613344d98e0>\", line 1, in <module>\n",
      "    seq.write_seq()\n",
      "  File \"C:\\src\\qudi\\hardware\\Keysight_AWG_M8190\\pym8190a.py\", line 378, in write_seq\n",
      "    self.finalize(notify=notify)\n",
      "  File \"C:\\src\\qudi\\hardware\\Keysight_AWG_M8190\\pym8190a.py\", line 329, in finalize\n",
      "    self.set_slave_trigger_settings()\n",
      "  File \"C:\\src\\qudi\\hardware\\Keysight_AWG_M8190\\pym8190a.py\", line 302, in set_slave_trigger_settings\n",
      "    self.mcas_dict.awgs[awg_str].proxy.setTrigger('HARDWARE_RISING')\n",
      "AttributeError: 'MultiChSeq' object has no attribute 'mcas_dict'\n"
     ]
    }
   ],
   "source": [
    "seq.write_seq()"
   ]
  },
  {
   "cell_type": "code",
   "execution_count": 9,
   "metadata": {
    "ExecuteTime": {
     "end_time": "2020-04-24T18:32:15.002251+02:00",
     "start_time": "2020-04-24T18:32:15.002251Z"
    },
    "collapsed": false,
    "deletable": true,
    "editable": true
   },
   "outputs": [
    {
     "name": "stdout",
     "output_type": "stream",
     "text": [
      "writing sequence T2 on AWG_M8190A_qudi ch 1 took 0.0470 seconds\n"
     ]
    }
   ],
   "source": [
    "seq.run_sequence()"
   ]
  },
  {
   "cell_type": "code",
   "execution_count": 6,
   "metadata": {
    "ExecuteTime": {
     "end_time": "2020-04-24T18:32:15.724204+02:00",
     "start_time": "2020-04-24T18:32:15.724204Z"
    },
    "collapsed": false,
    "deletable": true,
    "editable": true
   },
   "outputs": [
    {
     "name": "stdout",
     "output_type": "stream",
     "text": [
      "writing sequence wait on AWG_M8190A_qudi ch 1 took 0.0260 seconds\n"
     ]
    }
   ],
   "source": [
    "seq.stop_awgs()\n"
   ]
  },
  {
   "cell_type": "code",
   "execution_count": 10,
   "metadata": {
    "ExecuteTime": {
     "end_time": "2020-04-24T18:32:07.266511+02:00",
     "start_time": "2020-04-24T18:32:07.266511Z"
    },
    "collapsed": false,
    "deletable": true,
    "editable": true,
    "scrolled": true
   },
   "outputs": [
    {
     "name": "stdout",
     "output_type": "stream",
     "text": [
      "writing sequence wait on AWG_M8190A_qudi ch 1 took 2.9267 seconds\n"
     ]
    }
   ],
   "source": []
  },
  {
   "cell_type": "markdown",
   "metadata": {
    "deletable": true,
    "editable": true
   },
   "source": [
    "## cw ODMR"
   ]
  },
  {
   "cell_type": "code",
   "execution_count": 57,
   "metadata": {
    "ExecuteTime": {
     "end_time": "2020-04-24T18:16:18.971379+02:00",
     "start_time": "2020-04-24T18:16:18.971379Z"
    },
    "collapsed": false,
    "deletable": true,
    "editable": true
   },
   "outputs": [
    {
     "name": "stderr",
     "output_type": "stream",
     "text": [
      "Traceback (most recent call last):\n",
      "  File \"C:\\src\\qudi\\logic\\jupyterkernel\\qzmqkernel.py\", line 679, in run_code\n",
      "    exec(code_obj, self.user_global_ns, self.user_ns)\n",
      "  File \"<ipython-input-57-c23642e955dd>\", line 4, in <module>\n",
      "    data= np.fromfile(\"D:\\Data\\2022\\03\\20220324\\SpectrumV1-60s-900muW-MicrowaveOn01\",sep=\"\\t\")\n",
      "OSError: [Errno 22] Invalid argument: 'D:\\\\Data\\x822\\x03\\x8220324\\\\SpectrumV1-60s-900muW-MicrowaveOn01'\n"
     ]
    }
   ],
   "source": [
    "import matplotlib.pylab as plt\n",
    "import numpy as np\n",
    "\n",
    "data= np.fromfile(\"D:\\Data\\2022\\03\\20220324\\SpectrumV1-60s-900muW-MicrowaveOn01\",sep=\"\\t\")"
   ]
  },
  {
   "cell_type": "code",
   "execution_count": null,
   "metadata": {
    "ExecuteTime": {
     "end_time": "2020-04-24T17:15:50.369480+02:00",
     "start_time": "2020-04-24T17:15:50.369480Z"
    },
    "collapsed": false,
    "deletable": true,
    "editable": true
   },
   "outputs": [],
   "source": []
  },
  {
   "cell_type": "code",
   "execution_count": null,
   "metadata": {
    "ExecuteTime": {
     "end_time": "2020-04-24T17:34:52.112837+02:00",
     "start_time": "2020-04-24T17:34:52.112837Z"
    },
    "collapsed": true,
    "deletable": true,
    "editable": true
   },
   "outputs": [],
   "source": []
  },
  {
   "cell_type": "code",
   "execution_count": null,
   "metadata": {
    "ExecuteTime": {
     "end_time": "2020-04-24T17:34:52.116836+02:00",
     "start_time": "2020-04-24T17:34:52.116836Z"
    },
    "collapsed": false,
    "deletable": true,
    "editable": true
   },
   "outputs": [],
   "source": []
  },
  {
   "cell_type": "code",
   "execution_count": null,
   "metadata": {
    "ExecuteTime": {
     "end_time": "2020-04-24T17:34:52.177806+02:00",
     "start_time": "2020-04-24T17:34:52.176808Z"
    },
    "collapsed": true,
    "deletable": true,
    "editable": true
   },
   "outputs": [],
   "source": []
  },
  {
   "cell_type": "code",
   "execution_count": null,
   "metadata": {
    "ExecuteTime": {
     "end_time": "2020-04-24T17:34:52.714738+02:00",
     "start_time": "2020-04-24T17:34:52.714738Z"
    },
    "collapsed": true,
    "deletable": true,
    "editable": true
   },
   "outputs": [],
   "source": []
  },
  {
   "cell_type": "code",
   "execution_count": null,
   "metadata": {
    "ExecuteTime": {
     "end_time": "2020-04-24T17:34:53.196925+02:00",
     "start_time": "2020-04-24T17:34:53.196925Z"
    },
    "collapsed": false,
    "deletable": true,
    "editable": true
   },
   "outputs": [],
   "source": []
  },
  {
   "cell_type": "code",
   "execution_count": null,
   "metadata": {
    "ExecuteTime": {
     "end_time": "2020-04-24T17:36:24.063321+02:00",
     "start_time": "2020-04-24T17:36:24.063321Z"
    },
    "collapsed": false,
    "deletable": true,
    "editable": true
   },
   "outputs": [],
   "source": []
  },
  {
   "cell_type": "code",
   "execution_count": null,
   "metadata": {
    "ExecuteTime": {
     "end_time": "2020-04-24T18:04:44.417025+02:00",
     "start_time": "2020-04-24T18:04:44.417025Z"
    },
    "collapsed": false,
    "deletable": true,
    "editable": true
   },
   "outputs": [],
   "source": []
  },
  {
   "cell_type": "code",
   "execution_count": null,
   "metadata": {
    "ExecuteTime": {
     "end_time": "2020-03-20T13:35:21.648315+01:00",
     "start_time": "2020-03-20T13:35:21.648315Z"
    },
    "collapsed": false,
    "deletable": true,
    "editable": true
   },
   "outputs": [],
   "source": []
  },
  {
   "cell_type": "code",
   "execution_count": null,
   "metadata": {
    "ExecuteTime": {
     "end_time": "2020-03-11T18:57:46.889532+01:00",
     "start_time": "2020-03-11T18:57:46.889532Z"
    },
    "collapsed": true,
    "deletable": true,
    "editable": true
   },
   "outputs": [],
   "source": []
  }
 ],
 "metadata": {
  "kernelspec": {
   "display_name": "Qudi",
   "language": "python",
   "name": "qudi"
  },
  "language_info": {
   "codemirror_mode": {
    "name": "ipython",
    "version": "3.6.5"
   },
   "file_extension": ".py",
   "mimetype": "text/x-python",
   "name": "python",
   "nbconvert_exporter": "python",
   "pygments_lexer": "ipython3",
   "version": "3.6.5"
  }
 },
 "nbformat": 4,
 "nbformat_minor": 2
}
