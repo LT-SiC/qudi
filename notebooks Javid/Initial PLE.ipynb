{
 "cells": [
  {
   "cell_type": "code",
   "execution_count": 1,
   "metadata": {
    "ExecuteTime": {
     "end_time": "2020-03-04T18:09:08.232855+01:00",
     "start_time": "2020-03-04T18:09:08.232855Z"
    }
   },
   "outputs": [],
   "source": [
    "from collections import OrderedDict\n",
    "import time\n",
    "import matplotlib.pyplot as plt\n",
    "import numpy as np\n",
    "import time\n",
    "import traceback\n",
    "from core.module import Connector, StatusVar\n",
    "from core.util.mutex import Mutex\n",
    "from logic.generic_logic import GenericLogic\n",
    "from qtpy import QtCore\n",
    "from TimeTagger import GatedChannel,CountBetweenMarkers\n",
    "\n",
    "from PyDAQmx import Task\n",
    "import TimeTagger as tt\n",
    "import PyDAQmx\n",
    "import datetime\n",
    "import PyDAQmx as daq\n"
   ]
  },
  {
   "cell_type": "code",
   "execution_count": null,
   "metadata": {
    "ExecuteTime": {
     "end_time": "2020-02-28T10:24:52.767192+01:00",
     "start_time": "2020-02-28T10:24:52.767192Z"
    }
   },
   "outputs": [],
   "source": []
  },
  {
   "cell_type": "code",
   "execution_count": 2,
   "metadata": {
    "ExecuteTime": {
     "end_time": "2020-03-04T18:09:10.644628+01:00",
     "start_time": "2020-03-04T18:09:10.644628Z"
    }
   },
   "outputs": [],
   "source": [
    "import telegram\n",
    "bot = telegram.Bot(token='968560013:AAGSzyvq3SEnHpo-o4WPeXM8_sywoKDYZH0')\n",
    "# print(bot.get_me())\n",
    "# chat_id = bot.get_updates()[-1].message.chat_id\n",
    "chat_id = 111963322\n",
    "# bot.sendMessage(chat_id=chat_id, text=\"Hi, Javid. I am initialised and ready to serve you\")"
   ]
  },
  {
   "cell_type": "code",
   "execution_count": 3,
   "metadata": {
    "ExecuteTime": {
     "end_time": "2020-03-04T18:09:11.976939+01:00",
     "start_time": "2020-03-04T18:09:11.976939Z"
    }
   },
   "outputs": [],
   "source": [
    "\"\"\" Simple example of digital output\n",
    "\n",
    "    This example outputs the values of data on line 0 to 7\n",
    "\"\"\"\n",
    "\n",
    "off = np.array([0,0,0,0,0,0,0,0], dtype=np.uint8)\n",
    "green = np.array([0,0,1,0,0,0,0,0], dtype=np.uint8)\n",
    "markers = np.array([1,0,0,0,0,0,0,0], dtype=np.uint8)\n",
    "markers2 = np.array([0,0,0,0,0,1,0,0], dtype=np.uint8)\n",
    "redAOM = np.array([0,0,0,1,0,0,0,0], dtype=np.uint8)\n",
    "redAOM2 = np.array([0,0,0,0,1,0,0,0], dtype=np.uint8)\n",
    "mw_trig = np.array([0,1,0,0,0,0,0,0], dtype=np.uint8)\n",
    "\n",
    "task = Task()\n",
    "task.CreateDOChan(\"/Dev4/port0/line0:7\",\"\",PyDAQmx.DAQmx_Val_ChanForAllLines)\n",
    "\n",
    "\n",
    "def greenFunc():\n",
    "    task.StartTask()\n",
    "    task.WriteDigitalLines(1,1,10.0,PyDAQmx.DAQmx_Val_GroupByChannel,green,None,None)\n",
    "    task.StopTask()\n",
    "    \n",
    "def redExFunc():\n",
    "    task.StartTask()\n",
    "    task.WriteDigitalLines(1,1,10.0,PyDAQmx.DAQmx_Val_GroupByChannel,redAOM,None,None)\n",
    "    task.StopTask()\n",
    "    \n",
    "def redA1Func():\n",
    "    task.StartTask()\n",
    "    task.WriteDigitalLines(1,1,10.0,PyDAQmx.DAQmx_Val_GroupByChannel,redAOM2,None,None)\n",
    "    task.StopTask()\n",
    "\n",
    "def offFunc():\n",
    "    task.StartTask()\n",
    "    task.WriteDigitalLines(1,1,10.0,PyDAQmx.DAQmx_Val_GroupByChannel,off,None,None)\n",
    "    task.StopTask()\n",
    "\n",
    "    \n",
    "def mw_odmr():\n",
    "    task.StartTask()\n",
    "    task.WriteDigitalLines(1,1,10.0,PyDAQmx.DAQmx_Val_GroupByChannel,mw_trig+green,None,None)\n",
    "    task.StopTask()\n",
    "    \n",
    "def mw_on():\n",
    "    task.StartTask()\n",
    "    task.WriteDigitalLines(1,1,10.0,PyDAQmx.DAQmx_Val_GroupByChannel,mw_trig,None,None)\n",
    "    task.StopTask()\n",
    "    \n",
    "\n",
    "def mw_pleEx():\n",
    "    task.StartTask()\n",
    "    task.WriteDigitalLines(1,1,10.0,PyDAQmx.DAQmx_Val_GroupByChannel,mw_trig+redAOM,None,None)\n",
    "    task.StopTask()\n",
    "    \n",
    "\n",
    "def mw_pleA1():\n",
    "    task.StartTask()\n",
    "    task.WriteDigitalLines(1,1,10.0,PyDAQmx.DAQmx_Val_GroupByChannel,mw_trig+redAOM2,None,None)\n",
    "    task.StopTask()\n",
    "        \n",
    "    \n",
    "def readoutFunc(readouttime):\n",
    "    countBM.clear() # Clear the buffer\n",
    "    task.StartTask()\n",
    "    task.WriteDigitalLines(1,1,10.0,PyDAQmx.DAQmx_Val_GroupByChannel,markers,None,None)\n",
    "    time.sleep(readouttime)\n",
    "    task.StopTask()\n",
    "    offFunc()\n",
    "    \n",
    "    return countBM.getData()[0]\n",
    "    \n",
    "def readoutEx(readouttime):\n",
    "    countBM.clear() # Clear the buffer\n",
    "    task.StartTask()\n",
    "    task.WriteDigitalLines(1,1,10.0,PyDAQmx.DAQmx_Val_GroupByChannel,markers+redAOM,None,None)\n",
    "    time.sleep(readouttime)\n",
    "    task.StopTask()\n",
    "    offFunc()\n",
    "    \n",
    "    return countBM.getData()[0]\n"
   ]
  },
  {
   "cell_type": "code",
   "execution_count": 4,
   "metadata": {
    "ExecuteTime": {
     "end_time": "2020-03-04T18:09:13.125617+01:00",
     "start_time": "2020-03-04T18:09:13.125617Z"
    }
   },
   "outputs": [],
   "source": [
    "def start_scanning(v_min=None, v_max=None, speed = None):\n",
    "\n",
    "    if speed is not None:\n",
    "        laserscannerlogic.set_scan_speed(speed)    \n",
    "    else:\n",
    "        laserscannerlogic.set_scan_speed(0.1)\n",
    "\n",
    "    try:\n",
    "#         if laserscannerlogic._pulse_generator_device.get_loaded_assets()[0][1]=='PLE':\n",
    "#             laserscannerlogic._pulse_generator_device.set_active_channels({'a_ch1': True, 'a_ch2': True})\n",
    "#             time.sleep(0.5)\n",
    "# #             laserscannerlogic._pulse_generator_device.pulser_on()\n",
    "# #             laserscannerlogic.odmrlogic().mw_cw_on()\n",
    "#         else:\n",
    "#             laserscannerlogic.log.error('load PLE sequence on AWG')\n",
    "#             laserscannerlogic._pulse_generator_device.pulser_off()\n",
    "#             laserscannerlogic._pulse_generator_device.set_active_channels({'a_ch1': False, 'a_ch2': False})\n",
    "#             laserscannerlogic.odmrlogic().mw_off()\n",
    "#             laserscannerlogic.stop_scanning()\n",
    "#     #         return -1\n",
    "\n",
    "\n",
    "#         if v_min is not None:\n",
    "#             laserscannerlogic.scan_range[0] = v_min\n",
    "#         else:\n",
    "#             v_min = laserscannerlogic.scan_range[0]\n",
    "#         if v_max is not None:\n",
    "#             laserscannerlogic.scan_range[1] = v_max\n",
    "#         else:\n",
    "#             v_max = laserscannerlogic.scan_range[1]\n",
    "\n",
    "#         laserscannerlogic._scan_counter_up = 0\n",
    "#         laserscannerlogic._scan_counter_down = 0\n",
    "#         laserscannerlogic.upwards_scan = [True,True]\n",
    "\n",
    "#         # TODO: Generate Ramps\n",
    "#         laserscannerlogic._upwards_ramp = laserscannerlogic._generate_ramp(v_min, v_max, laserscannerlogic._scan_speed)\n",
    "#         laserscannerlogic._downwards_ramp = laserscannerlogic._generate_ramp(v_max, v_min, laserscannerlogic._scan_speed)\n",
    "\n",
    "        \n",
    "#         laserscannerlogic._initialise_data_matrix(len(laserscannerlogic._upwards_ramp))\n",
    "\n",
    "        # Lock and set up scanner\n",
    "        returnvalue = laserscannerlogic._initialise_scanner()\n",
    "#         print('1scan init')\n",
    "\n",
    "        if returnvalue < 0:\n",
    "            print('error in scanner init')\n",
    "            # TODO: error message\n",
    "            return -1\n",
    "#         print('2scan init')\n",
    "        laserscannerlogic.sigScanStarted.emit()\n",
    "#         print('3scan init')\n",
    "\n",
    "    except Exception as e:\n",
    "        laserscannerlogic.log.error('The scan went wrong, killing the scanner.')\n",
    "        laserscannerlogic.stop_scanning()\n",
    "        raise e\n",
    "\n",
    "def kill_scanner():\n",
    "    laserscannerlogic.stop_scanning()\n",
    "#     laserscannerlogic._close_scanner()\n",
    "    \n",
    "    with laserscannerlogic.threadlock:\n",
    "#         self._pulse_generator_device.pulser_off()\n",
    "#         self._pulse_generator_device.set_active_channels({'a_ch1': False, 'a_ch2': False})\n",
    "#         self.odmrlogic().mw_off()\n",
    "        laserscannerlogic.kill_scanner()\n",
    "        laserscannerlogic.stopRequested = False\n",
    "        if laserscannerlogic.module_state.can('unlock'):\n",
    "            laserscannerlogic.module_state.unlock()\n",
    "\n",
    "    \n",
    "    \n",
    "    \n",
    "    \n",
    "    laserscannerlogic.sigScanFinished.emit()"
   ]
  },
  {
   "cell_type": "code",
   "execution_count": 5,
   "metadata": {
    "ExecuteTime": {
     "end_time": "2020-03-04T18:09:14.333699+01:00",
     "start_time": "2020-03-04T18:09:14.333699Z"
    }
   },
   "outputs": [],
   "source": [
    "def PLE(laser_number, v_min, v_max, speed):\n",
    "    #   same function for both lasers\n",
    "    #  Should keep in memory 4 scanning ramps and call the one, which corresponds to particular laser\n",
    "    \n",
    "    laserscannerlogic.set_laser_number(laser_number)\n",
    "    \n",
    "    laserscannerlogic._upwards_ramp = laserscannerlogic._generate_ramp(v_min, v_max, speed)\n",
    "    laserscannerlogic._downwards_ramp = laserscannerlogic._generate_ramp(v_max, v_min, speed)\n",
    "    \n",
    "    counts = laserscannerlogic._do_next_one_line()\n",
    "    return counts\n",
    "\n",
    "\n",
    "def PLE_A1(laser_number, v_min, v_max, speed):\n",
    "\n",
    "    laserscannerlogic.set_laser_number(0)\n",
    "    laserscannerlogic._upwards_ramp = laserscannerlogic._generate_ramp(v_min, v_max, speed)\n",
    "    laserscannerlogic._downwards_ramp = laserscannerlogic._generate_ramp(v_max, v_min, speed)\n",
    "    mw_pleA1()\n",
    "    repumpTime = 0.1\n",
    "    for j in range(5):\n",
    "        greenFunc()\n",
    "        \n",
    "        time.sleep(repumpTime)\n",
    "        \n",
    "        mw_pleA1()\n",
    "        counts = laserscannerlogic._do_next_one_line()\n",
    "        if counts is None:\n",
    "            print('COUNTS are NONE in scan!!!')\n",
    "            offFunc()\n",
    "            return -1\n",
    "        else:\n",
    "            tempcounts = [ee for ee in counts if ee!=0]\n",
    "            ratio = max(tempcounts)/min(tempcounts)\n",
    "#             print(ratio)\n",
    "            if ratio<50:\n",
    "                greenFunc()\n",
    "                time.sleep(repumpTime)\n",
    "                pass\n",
    "            else:\n",
    "                offFunc()\n",
    "                return counts\n",
    "    \n",
    "    #     return counts -> everything is good \n",
    "    #     return 0 -> didn't find PLE line\n",
    "    #     return -1 ->counts were equal None\n",
    "    \n",
    "    offFunc()\n",
    "    return 0\n",
    "    \n",
    "\n",
    "\n",
    "def PLE_Ex(laser_number, v_min, v_max, speed):\n",
    "\n",
    "    \n",
    "    laserscannerlogic.set_laser_number(1)\n",
    "    laserscannerlogic._upwards_ramp = laserscannerlogic._generate_ramp(v_min, v_max, speed)\n",
    "    laserscannerlogic._downwards_ramp = laserscannerlogic._generate_ramp(v_max, v_min, speed)\n",
    "    mw_pleEx()\n",
    "    repumpTime = 0.1\n",
    "    for j in range(5):\n",
    "        greenFunc()\n",
    "        \n",
    "        time.sleep(repumpTime)\n",
    "        \n",
    "        mw_pleEx()\n",
    "        counts = laserscannerlogic._do_next_one_line()\n",
    "        if counts is None:\n",
    "            print('COUNTS are NONE in scan!!!')\n",
    "            offFunc()\n",
    "            return -1\n",
    "        else:\n",
    "            tempcounts = [ee for ee in counts if ee!=0]\n",
    "            ratio = max(tempcounts)/min(tempcounts)\n",
    "            if ratio<30:\n",
    "                greenFunc()\n",
    "                time.sleep(repumpTime)\n",
    "            else:\n",
    "                offFunc()\n",
    "                return counts\n",
    "    \n",
    "    #     return counts -> everything is good \n",
    "    #     return 0 -> didn't find PLE line\n",
    "    #     return -1 ->counts were equal None\n",
    "    \n",
    "    offFunc()\n",
    "    return 0\n",
    "    \n",
    "\n"
   ]
  },
  {
   "cell_type": "code",
   "execution_count": 6,
   "metadata": {
    "ExecuteTime": {
     "end_time": "2020-03-04T18:09:15.189740+01:00",
     "start_time": "2020-03-04T18:09:15.189740Z"
    }
   },
   "outputs": [],
   "source": [
    "def PLE_A1(laser_number, v_min, v_max, speed):\n",
    "\n",
    "    laserscannerlogic.set_laser_number(0)\n",
    "    laserscannerlogic._upwards_ramp = laserscannerlogic._generate_ramp(v_min, v_max, speed)\n",
    "    laserscannerlogic._downwards_ramp = laserscannerlogic._generate_ramp(v_max, v_min, speed)\n",
    "    mw_pleA1()\n",
    "    repumpTime = 0.1\n",
    "    for j in range(1):\n",
    "        greenFunc()\n",
    "        \n",
    "        time.sleep(repumpTime)\n",
    "        \n",
    "        mw_pleA1()\n",
    "#         task.StartTask()\n",
    "#         task.WriteDigitalLines(1,1,10.0,PyDAQmx.DAQmx_Val_GroupByChannel,mw_trig+redAOM2+green,None,None)\n",
    "#         task.StopTask()\n",
    "        counts = laserscannerlogic._do_next_one_line()\n",
    "        return counts\n",
    "\n",
    "        if counts is None:\n",
    "            print('COUNTS are NONE in scan!!!')\n",
    "            offFunc()\n",
    "            return -1\n",
    "        else:\n",
    "            tempcounts = [ee for ee in counts if ee!=0]\n",
    "            ratio = max(tempcounts)/min(tempcounts)\n",
    "#             print(ratio)\n",
    "            if ratio<50:\n",
    "#                 greenFunc()\n",
    "#                 time.sleep(repumpTime)\n",
    "                pass\n",
    "            else:\n",
    "                offFunc()\n",
    "                return counts\n",
    "    \n",
    "    #     return counts -> everything is good \n",
    "    #     return 0 -> didn't find PLE line\n",
    "    #     return -1 ->counts were equal None\n",
    "    \n",
    "    offFunc()\n",
    "    return 0"
   ]
  },
  {
   "cell_type": "code",
   "execution_count": 7,
   "metadata": {
    "ExecuteTime": {
     "end_time": "2020-03-04T18:09:15.972831+01:00",
     "start_time": "2020-03-04T18:09:15.972831Z"
    }
   },
   "outputs": [],
   "source": [
    "\n",
    "\n",
    "def PLE_Ex(laser_number, v_min, v_max, speed):\n",
    "\n",
    "    \n",
    "    laserscannerlogic.set_laser_number(1)\n",
    "    laserscannerlogic._upwards_ramp = laserscannerlogic._generate_ramp(v_min, v_max, speed)\n",
    "    laserscannerlogic._downwards_ramp = laserscannerlogic._generate_ramp(v_max, v_min, speed)\n",
    "    mw_pleEx()\n",
    "    repumpTime = 0.1\n",
    "    for j in range(1):\n",
    "        greenFunc()\n",
    "        \n",
    "        time.sleep(repumpTime)\n",
    "        \n",
    "        mw_pleEx()\n",
    "        counts = laserscannerlogic._do_next_one_line()\n",
    "        return counts\n",
    "\n",
    "    \n",
    "        if counts is None:\n",
    "            print('COUNTS are NONE in scan!!!')\n",
    "            offFunc()\n",
    "            return -1\n",
    "        else:\n",
    "            tempcounts = [ee for ee in counts if ee!=0]\n",
    "            ratio = max(tempcounts)/min(tempcounts)\n",
    "            if ratio<30:\n",
    "                greenFunc()\n",
    "                time.sleep(repumpTime)\n",
    "            else:\n",
    "                offFunc()\n",
    "                return counts\n",
    "    \n",
    "    #     return counts -> everything is good \n",
    "    #     return 0 -> didn't find PLE line\n",
    "    #     return -1 ->counts were equal None\n",
    "    \n",
    "    offFunc()\n",
    "    return 0\n",
    "    "
   ]
  },
  {
   "cell_type": "code",
   "execution_count": null,
   "metadata": {},
   "outputs": [],
   "source": []
  },
  {
   "cell_type": "code",
   "execution_count": null,
   "metadata": {},
   "outputs": [],
   "source": []
  },
  {
   "cell_type": "code",
   "execution_count": null,
   "metadata": {},
   "outputs": [],
   "source": []
  },
  {
   "cell_type": "code",
   "execution_count": 10,
   "metadata": {
    "ExecuteTime": {
     "end_time": "2020-02-29T18:01:36.475671+01:00",
     "start_time": "2020-02-29T18:01:36.475671Z"
    }
   },
   "outputs": [
    {
     "data": {
      "text/plain": [
       "(0, {-1: 'Failed Request or Communication', 0: 'Device has stopped, but can receive commands', 1: 'Device is active and running', 2: 'Device is waiting for trigger.'})"
      ]
     },
     "execution_count": 10,
     "metadata": {},
     "output_type": "execute_result"
    }
   ],
   "source": [
    "laserscannerlogic.odmrlogic().mw_off()\n",
    "laserscannerlogic._pulse_generator_device.pulser_off()"
   ]
  },
  {
   "cell_type": "code",
   "execution_count": 93,
   "metadata": {
    "ExecuteTime": {
     "end_time": "2020-02-27T14:27:28.735777+01:00",
     "start_time": "2020-02-27T14:27:28.735777Z"
    }
   },
   "outputs": [
    {
     "name": "stdout",
     "output_type": "stream",
     "text": [
      "alles gut\n"
     ]
    }
   ],
   "source": [
    "try:\n",
    "    if laserscannerlogic._pulse_generator_device.get_loaded_assets()[0][1]=='PLE':\n",
    "        laserscannerlogic._pulse_generator_device.set_active_channels({'a_ch1': True, 'a_ch2': True})\n",
    "        time.sleep(0.5)\n",
    "        laserscannerlogic._pulse_generator_device.pulser_on()\n",
    "        laserscannerlogic.odmrlogic().mw_cw_on()\n",
    "        print('alles gut')\n",
    "    else:\n",
    "        laserscannerlogic.log.error('load PLE sequence on AWG')\n",
    "        laserscannerlogic._pulse_generator_device.pulser_off()\n",
    "        laserscannerlogic._pulse_generator_device.set_active_channels({'a_ch1': False, 'a_ch2': False})\n",
    "        laserscannerlogic.odmrlogic().mw_off()\n",
    "        laserscannerlogic.stop_scanning()\n",
    "        print('load PLE sequence on AWG')\n",
    "\n",
    "except:\n",
    "    print('error')"
   ]
  },
  {
   "cell_type": "code",
   "execution_count": 83,
   "metadata": {
    "ExecuteTime": {
     "end_time": "2020-02-27T14:25:58.231747+01:00",
     "start_time": "2020-02-27T14:25:58.231747Z"
    }
   },
   "outputs": [],
   "source": [
    "frequency =2877470000.0\n",
    "power = - 16\n",
    "laserscannerlogic.set_MW_params(frequency = frequency ,power = power)\n",
    "laserscannerlogic.cw_mw_frequency = frequency\n",
    "laserscannerlogic.cw_mw_power = power"
   ]
  },
  {
   "cell_type": "code",
   "execution_count": 8,
   "metadata": {
    "ExecuteTime": {
     "end_time": "2020-03-04T18:09:24.150626+01:00",
     "start_time": "2020-03-04T18:09:24.150626Z"
    }
   },
   "outputs": [
    {
     "name": "stdout",
     "output_type": "stream",
     "text": [
      "-30\n",
      "-15.0\n",
      "2680000000.0\n",
      "2870000000.0\n"
     ]
    }
   ],
   "source": [
    "print(laserscannerlogic.cw_mw_power)\n",
    "print(laserscannerlogic.odmrlogic().cw_mw_power)\n",
    "print(laserscannerlogic.odmrlogic().cw_mw_frequency)\n",
    "print(laserscannerlogic.cw_mw_frequency)\n"
   ]
  },
  {
   "cell_type": "code",
   "execution_count": 9,
   "metadata": {
    "ExecuteTime": {
     "end_time": "2020-03-04T18:09:26.901880+01:00",
     "start_time": "2020-03-04T18:09:26.901880Z"
    }
   },
   "outputs": [
    {
     "data": {
      "text/plain": [
       "0"
      ]
     },
     "execution_count": 9,
     "metadata": {},
     "output_type": "execute_result"
    }
   ],
   "source": [
    "laserscannerlogic.set_clock_frequency(250)"
   ]
  },
  {
   "cell_type": "code",
   "execution_count": 10,
   "metadata": {
    "ExecuteTime": {
     "end_time": "2020-03-04T18:09:27.875901+01:00",
     "start_time": "2020-03-04T18:09:27.875901Z"
    }
   },
   "outputs": [],
   "source": [
    "start_scanning()"
   ]
  },
  {
   "cell_type": "code",
   "execution_count": 11,
   "metadata": {
    "ExecuteTime": {
     "end_time": "2020-03-04T18:09:28.629855+01:00",
     "start_time": "2020-03-04T18:09:28.629855Z"
    }
   },
   "outputs": [
    {
     "data": {
      "text/plain": [
       "0.005899999999996908"
      ]
     },
     "execution_count": 11,
     "metadata": {},
     "output_type": "execute_result"
    }
   ],
   "source": [
    "470.51330 - 470.50740 "
   ]
  },
  {
   "cell_type": "code",
   "execution_count": 19,
   "metadata": {
    "ExecuteTime": {
     "end_time": "2020-03-04T18:11:45.131668+01:00",
     "start_time": "2020-03-04T18:11:45.131668Z"
    }
   },
   "outputs": [],
   "source": [
    "_v_min_A1 = -2\n",
    "_v_max_A1 = 2\n",
    "speed_A1 = 0.2\n",
    "\n",
    "greenFunc()\n",
    "time.sleep(0.01)\n",
    "mw_pleA1()\n",
    "\n",
    "\n",
    "time.sleep(1e-2)\n",
    "c = PLE_A1(laser_number = 0, v_min = _v_min_A1,v_max = _v_max_A1,speed= speed_A1)\n",
    "if isinstance(c,int):\n",
    "    print (c)"
   ]
  },
  {
   "cell_type": "code",
   "execution_count": 20,
   "metadata": {
    "ExecuteTime": {
     "end_time": "2020-03-04T18:11:45.380432+01:00",
     "start_time": "2020-03-04T18:11:45.380432Z"
    }
   },
   "outputs": [
    {
     "name": "stdout",
     "output_type": "stream",
     "text": [
      "24.0\n",
      "[False, True]\n"
     ]
    },
    {
     "data": {
      "image/png": "[encoded data removed]"
     },
     "metadata": {
      "image/png": {
       "height": 380,
       "width": 571
      }
     },
     "output_type": "display_data"
    }
   ],
   "source": [
    "if not isinstance(c,int):\n",
    "    tempcounts = [ee for ee in c if ee!=0]\n",
    "    print( max(tempcounts)/min(tempcounts))\n",
    "\n",
    "    plt.plot(np.linspace(_v_min_A1,_v_max_A1,len(c)),c,'-',color = 'black')\n",
    "    plt.xlabel('Laser Voltage', fontsize = 15)\n",
    "    plt.ylabel('counts/sec', fontsize = 15)\n",
    "    plt.show()\n",
    "else:\n",
    "    print('something is wrong with counts')\n",
    "print(laserscannerlogic.upwards_scan)"
   ]
  },
  {
   "cell_type": "code",
   "execution_count": null,
   "metadata": {},
   "outputs": [],
   "source": []
  },
  {
   "cell_type": "code",
   "execution_count": 28,
   "metadata": {
    "ExecuteTime": {
     "end_time": "2020-02-29T18:16:09.416288+01:00",
     "start_time": "2020-02-29T18:16:09.416288Z"
    }
   },
   "outputs": [
    {
     "name": "stdout",
     "output_type": "stream",
     "text": [
      "911.0\n",
      "[False, False]\n"
     ]
    },
    {
     "data": {
      "image/png": "[encoded data removed]"
     },
     "metadata": {
      "image/png": {
       "height": 380,
       "width": 583
      }
     },
     "output_type": "display_data"
    }
   ],
   "source": [
    "if not isinstance(c,int):\n",
    "    tempcounts = [ee for ee in c if ee!=0]\n",
    "    print( max(tempcounts)/min(tempcounts))\n",
    "\n",
    "    plt.plot(np.linspace(_v_min_A1,_v_max_A1,len(c)),c,'-',color = 'black')\n",
    "    plt.xlabel('Laser Voltage', fontsize = 15)\n",
    "    plt.ylabel('counts/sec', fontsize = 15)\n",
    "    plt.show()\n",
    "else:\n",
    "    print('something is wrong with counts')\n",
    "print(laserscannerlogic.upwards_scan)"
   ]
  },
  {
   "cell_type": "code",
   "execution_count": null,
   "metadata": {
    "ExecuteTime": {
     "end_time": "2020-02-27T14:22:06.441510+01:00",
     "start_time": "2020-02-27T14:22:06.441510Z"
    }
   },
   "outputs": [],
   "source": []
  },
  {
   "cell_type": "code",
   "execution_count": 238,
   "metadata": {
    "ExecuteTime": {
     "end_time": "2020-02-27T14:44:27.348452+01:00",
     "start_time": "2020-02-27T14:44:27.348452Z"
    }
   },
   "outputs": [
    {
     "name": "stdout",
     "output_type": "stream",
     "text": [
      "47.6\n",
      "[False, False]\n"
     ]
    },
    {
     "data": {
      "image/png": "[encoded data removed]"
     },
     "metadata": {
      "image/png": {
       "height": 380,
       "width": 577
      }
     },
     "output_type": "display_data"
    }
   ],
   "source": [
    "if not isinstance(c,int):\n",
    "    tempcounts = [ee for ee in c if ee!=0]\n",
    "    print( max(tempcounts)/min(tempcounts))\n",
    "\n",
    "    plt.plot(np.linspace(_v_min_A1,_v_max_A1,len(c)),c,'-',color = 'black')\n",
    "    plt.xlabel('Laser Voltage', fontsize = 15)\n",
    "    plt.ylabel('counts/sec', fontsize = 15)\n",
    "    plt.show()\n",
    "else:\n",
    "    print('something is wrong with counts')\n",
    "print(laserscannerlogic.upwards_scan)"
   ]
  },
  {
   "cell_type": "code",
   "execution_count": 58,
   "metadata": {
    "ExecuteTime": {
     "end_time": "2020-02-29T19:50:37.938345+01:00",
     "start_time": "2020-02-29T19:50:37.938345Z"
    }
   },
   "outputs": [],
   "source": [
    "kill_scanner()"
   ]
  },
  {
   "cell_type": "code",
   "execution_count": 59,
   "metadata": {
    "ExecuteTime": {
     "end_time": "2020-03-02T10:14:42.101022+01:00",
     "start_time": "2020-03-02T10:14:42.101022Z"
    }
   },
   "outputs": [],
   "source": [
    "greenFunc()"
   ]
  },
  {
   "cell_type": "code",
   "execution_count": 36,
   "metadata": {
    "ExecuteTime": {
     "end_time": "2020-02-27T14:20:24.237427+01:00",
     "start_time": "2020-02-27T14:20:24.237427Z"
    }
   },
   "outputs": [],
   "source": [
    "offFunc()"
   ]
  },
  {
   "cell_type": "code",
   "execution_count": null,
   "metadata": {},
   "outputs": [],
   "source": []
  },
  {
   "cell_type": "code",
   "execution_count": 341,
   "metadata": {
    "ExecuteTime": {
     "end_time": "2020-02-27T17:39:57.230715+01:00",
     "start_time": "2020-02-27T17:39:57.230715Z"
    }
   },
   "outputs": [
    {
     "data": {
      "text/plain": [
       "1200"
      ]
     },
     "execution_count": 341,
     "metadata": {},
     "output_type": "execute_result"
    }
   ],
   "source": [
    "len(laserscannerlogic._upwards_ramp[1])"
   ]
  },
  {
   "cell_type": "code",
   "execution_count": 328,
   "metadata": {
    "ExecuteTime": {
     "end_time": "2020-02-27T17:26:56.824495+01:00",
     "start_time": "2020-02-27T17:26:56.824495Z"
    }
   },
   "outputs": [
    {
     "data": {
      "text/plain": [
       "array([[-2.00000000e-01, -2.00000000e-01, -2.00000000e-01, ...,\n",
       "        -2.00000000e-01, -2.00000000e-01, -2.00000000e-01],\n",
       "       [ 0.00000000e+00, -1.33422282e-03, -2.66844563e-03, ...,\n",
       "        -1.99733155e+00, -1.99866578e+00, -2.00000000e+00]])"
      ]
     },
     "execution_count": 328,
     "metadata": {},
     "output_type": "execute_result"
    }
   ],
   "source": [
    "\n",
    "laserscannerlogic._downwards_ramp"
   ]
  },
  {
   "cell_type": "code",
   "execution_count": null,
   "metadata": {},
   "outputs": [],
   "source": []
  },
  {
   "cell_type": "markdown",
   "metadata": {},
   "source": [
    "# Ex"
   ]
  },
  {
   "cell_type": "code",
   "execution_count": null,
   "metadata": {},
   "outputs": [],
   "source": []
  },
  {
   "cell_type": "code",
   "execution_count": 28,
   "metadata": {
    "ExecuteTime": {
     "end_time": "2020-03-04T18:14:19.434879+01:00",
     "start_time": "2020-03-04T18:14:19.434879Z"
    }
   },
   "outputs": [],
   "source": [
    "\n",
    "\n",
    "laserscannerlogic.set_laser_number(1)\n",
    "start_scanning()\n",
    "# start_scanning(v_min = _v_min,v_max = _v_max,speed= speed)"
   ]
  },
  {
   "cell_type": "code",
   "execution_count": 29,
   "metadata": {
    "ExecuteTime": {
     "end_time": "2020-03-04T18:14:21.580134+01:00",
     "start_time": "2020-03-04T18:14:21.580134Z"
    }
   },
   "outputs": [
    {
     "name": "stdout",
     "output_type": "stream",
     "text": [
      "0.1\n",
      "5000\n"
     ]
    }
   ],
   "source": [
    "print(laserscannerlogic._scan_speed)\n",
    "print(len(laserscannerlogic._upwards_ramp[1]))"
   ]
  },
  {
   "cell_type": "code",
   "execution_count": 30,
   "metadata": {
    "ExecuteTime": {
     "end_time": "2020-03-04T18:14:44.747789+01:00",
     "start_time": "2020-03-04T18:14:44.747789Z"
    }
   },
   "outputs": [],
   "source": [
    "_v_min_Ex = -2\n",
    "_v_max_Ex = 2\n",
    "speed_Ex = 0.2\n",
    "laserscannerlogic.set_scan_speed(speed_Ex)\n",
    "\n",
    "greenFunc()\n",
    "time.sleep(0.1)\n",
    "mw_pleEx()\n",
    "c = PLE_Ex(laser_number = 0, v_min = _v_min_Ex,v_max = _v_max_Ex,speed= speed_Ex)\n",
    "\n"
   ]
  },
  {
   "cell_type": "code",
   "execution_count": 31,
   "metadata": {
    "ExecuteTime": {
     "end_time": "2020-03-04T18:14:44.985674+01:00",
     "start_time": "2020-03-04T18:14:44.984675Z"
    }
   },
   "outputs": [
    {
     "name": "stdout",
     "output_type": "stream",
     "text": [
      "25.0\n",
      "[False, False]\n"
     ]
    },
    {
     "data": {
      "image/png": "[encoded data removed]"
     },
     "metadata": {
      "image/png": {
       "height": 380,
       "width": 571
      }
     },
     "output_type": "display_data"
    }
   ],
   "source": [
    "if not isinstance(c,int):\n",
    "    tempcounts = [ee for ee in c if ee!=0]\n",
    "    print( max(tempcounts)/min(tempcounts))\n",
    "\n",
    "    plt.plot(np.linspace(_v_min_Ex,_v_max_Ex,len(c)),c,'-',color = 'black')\n",
    "    plt.xlabel('Laser Voltage', fontsize = 15)\n",
    "    plt.ylabel('counts/sec', fontsize = 15)\n",
    "    plt.show()\n",
    "else:\n",
    "    print('something is wrong with counts')\n",
    "print(laserscannerlogic.upwards_scan)"
   ]
  },
  {
   "cell_type": "code",
   "execution_count": 68,
   "metadata": {
    "ExecuteTime": {
     "end_time": "2020-03-02T10:16:13.906104+01:00",
     "start_time": "2020-03-02T10:16:13.906104Z"
    }
   },
   "outputs": [],
   "source": [
    "# begin = time.time()\n",
    "# laserscannerlogic._goto_speed = 0.2\n",
    "# laserscannerlogic._goto_during_scan(-2)\n",
    "# print(time.time()-begin)"
   ]
  },
  {
   "cell_type": "code",
   "execution_count": null,
   "metadata": {},
   "outputs": [],
   "source": []
  },
  {
   "cell_type": "code",
   "execution_count": 32,
   "metadata": {
    "ExecuteTime": {
     "end_time": "2020-03-04T18:14:54.088112+01:00",
     "start_time": "2020-03-04T18:14:54.088112Z"
    }
   },
   "outputs": [],
   "source": [
    "kill_scanner()"
   ]
  },
  {
   "cell_type": "code",
   "execution_count": 370,
   "metadata": {
    "ExecuteTime": {
     "end_time": "2020-02-28T09:24:57.271033+01:00",
     "start_time": "2020-02-28T09:24:57.271033Z"
    }
   },
   "outputs": [
    {
     "name": "stdout",
     "output_type": "stream",
     "text": [
      "0.2\n",
      "3187\n"
     ]
    }
   ],
   "source": [
    "print(laserscannerlogic._scan_speed)\n",
    "print(len(laserscannerlogic._upwards_ramp[1]))"
   ]
  },
  {
   "cell_type": "code",
   "execution_count": 371,
   "metadata": {
    "ExecuteTime": {
     "end_time": "2020-02-28T09:25:00.069697+01:00",
     "start_time": "2020-02-28T09:25:00.069697Z"
    }
   },
   "outputs": [
    {
     "data": {
      "text/plain": [
       "array([-2.        , -1.99866604, -1.99733208, ...,  2.24733208,\n",
       "        2.24866604,  2.25      ])"
      ]
     },
     "execution_count": 371,
     "metadata": {},
     "output_type": "execute_result"
    }
   ],
   "source": [
    "laserscannerlogic._upwards_ramp[1]"
   ]
  },
  {
   "cell_type": "code",
   "execution_count": 26,
   "metadata": {
    "ExecuteTime": {
     "end_time": "2020-03-04T18:13:57.667021+01:00",
     "start_time": "2020-03-04T18:13:57.667021Z"
    }
   },
   "outputs": [],
   "source": [
    "_v_min_Ex = -2\n",
    "_v_max_Ex =-1\n",
    "speed_Ex = 0.2\n",
    "\n",
    "laserscannerlogic.set_laser_number(1)\n",
    "start_scanning(v_min = _v_min_Ex,v_max = _v_max_Ex,speed= speed_Ex)\n",
    "# start_scanning(v_min = _v_min,v_max = _v_max,speed= speed)"
   ]
  },
  {
   "cell_type": "code",
   "execution_count": 488,
   "metadata": {
    "ExecuteTime": {
     "end_time": "2020-02-28T15:15:30.628906+01:00",
     "start_time": "2020-02-28T15:15:30.628906Z"
    }
   },
   "outputs": [],
   "source": [
    "_v_min_Ex = -2\n",
    "_v_max_Ex =-1\n",
    "speed_Ex = 0.2\n",
    "\n",
    "\n",
    "greenFunc()\n",
    "time.sleep(0.1)\n",
    "mw_pleEx()\n",
    "c = PLE_Ex(laser_number = 0, v_min = _v_min_Ex,v_max = _v_max_Ex,speed= speed_Ex)\n",
    "\n"
   ]
  },
  {
   "cell_type": "code",
   "execution_count": 489,
   "metadata": {
    "ExecuteTime": {
     "end_time": "2020-02-28T15:15:31.074463+01:00",
     "start_time": "2020-02-28T15:15:31.074463Z"
    }
   },
   "outputs": [
    {
     "name": "stdout",
     "output_type": "stream",
     "text": [
      "36.15384615384615\n"
     ]
    },
    {
     "data": {
      "image/png": "[encoded data removed]"
     },
     "metadata": {
      "image/png": {
       "height": 906,
       "width": 1842
      }
     },
     "output_type": "display_data"
    }
   ],
   "source": [
    "\n",
    "tempcounts = [ee for ee in c if ee!=0]\n",
    "print( max(tempcounts)/min(tempcounts))\n",
    "      \n",
    "plt.plot(np.linspace(_v_min_Ex,_v_max_Ex,len(c)),c,'-')\n",
    "# plt.savefig('nice PLE single scan.png')\n",
    "plt.show()\n"
   ]
  },
  {
   "cell_type": "code",
   "execution_count": 364,
   "metadata": {
    "ExecuteTime": {
     "end_time": "2020-02-27T18:26:39.034525+01:00",
     "start_time": "2020-02-27T18:26:39.034525Z"
    }
   },
   "outputs": [
    {
     "data": {
      "text/plain": [
       "0.0018500000000000183"
      ]
     },
     "execution_count": 364,
     "metadata": {},
     "output_type": "execute_result"
    }
   ],
   "source": [
    ".5096-.50775"
   ]
  },
  {
   "cell_type": "code",
   "execution_count": 25,
   "metadata": {
    "ExecuteTime": {
     "end_time": "2020-03-04T18:13:22.430438+01:00",
     "start_time": "2020-03-04T18:13:22.430438Z"
    }
   },
   "outputs": [],
   "source": [
    "kill_scanner()"
   ]
  },
  {
   "cell_type": "code",
   "execution_count": null,
   "metadata": {},
   "outputs": [],
   "source": []
  },
  {
   "cell_type": "code",
   "execution_count": null,
   "metadata": {},
   "outputs": [],
   "source": []
  },
  {
   "cell_type": "code",
   "execution_count": null,
   "metadata": {},
   "outputs": [],
   "source": []
  },
  {
   "cell_type": "code",
   "execution_count": null,
   "metadata": {},
   "outputs": [],
   "source": []
  },
  {
   "cell_type": "code",
   "execution_count": 574,
   "metadata": {
    "ExecuteTime": {
     "end_time": "2020-02-29T12:51:47.684153+01:00",
     "start_time": "2020-02-29T12:51:47.684153Z"
    }
   },
   "outputs": [
    {
     "data": {
      "text/plain": [
       "7.43097048470552e-06"
      ]
     },
     "execution_count": 574,
     "metadata": {},
     "output_type": "execute_result"
    }
   ],
   "source": [
    "scannerlogic.xy_image[scannerlogic._scan_counter-1,-1,1]\n"
   ]
  },
  {
   "cell_type": "code",
   "execution_count": 2,
   "metadata": {
    "ExecuteTime": {
     "end_time": "2020-02-29T14:00:11.588407+01:00",
     "start_time": "2020-02-29T14:00:11.588407Z"
    }
   },
   "outputs": [
    {
     "data": {
      "text/plain": [
       "2.6456420678982377e-06"
      ]
     },
     "execution_count": 2,
     "metadata": {},
     "output_type": "execute_result"
    }
   ],
   "source": [
    "scannerlogic._current_y"
   ]
  },
  {
   "cell_type": "code",
   "execution_count": 567,
   "metadata": {
    "ExecuteTime": {
     "end_time": "2020-02-29T12:43:34.459944+01:00",
     "start_time": "2020-02-29T12:43:34.459944Z"
    }
   },
   "outputs": [
    {
     "data": {
      "text/plain": [
       "23"
      ]
     },
     "execution_count": 567,
     "metadata": {},
     "output_type": "execute_result"
    }
   ],
   "source": [
    "scannerlogic._scan_counter"
   ]
  },
  {
   "cell_type": "code",
   "execution_count": 70,
   "metadata": {
    "ExecuteTime": {
     "end_time": "2020-03-02T10:38:28.427905+01:00",
     "start_time": "2020-03-02T10:38:28.427905Z"
    }
   },
   "outputs": [
    {
     "data": {
      "text/plain": [
       "2.035591562500394e-05"
      ]
     },
     "execution_count": 70,
     "metadata": {},
     "output_type": "execute_result"
    }
   ],
   "source": [
    "optimizer.xy_refocus_image[0,-1,0]"
   ]
  },
  {
   "cell_type": "code",
   "execution_count": 8,
   "metadata": {
    "ExecuteTime": {
     "end_time": "2020-02-29T15:15:00.826338+01:00",
     "start_time": "2020-02-29T15:15:00.826338Z"
    }
   },
   "outputs": [],
   "source": [
    "a = 'optimizer'\n",
    "if not (a is 'optimizer'):\n",
    "    print(\"ss\")"
   ]
  },
  {
   "cell_type": "code",
   "execution_count": 74,
   "metadata": {
    "ExecuteTime": {
     "end_time": "2020-03-02T12:52:36.411496+01:00",
     "start_time": "2020-03-02T12:52:36.411496Z"
    }
   },
   "outputs": [
    {
     "data": {
      "text/plain": [
       "2.9549356644865307e-05"
      ]
     },
     "execution_count": 74,
     "metadata": {},
     "output_type": "execute_result"
    }
   ],
   "source": [
    "optimizer.optim_pos_x-2.6e-6"
   ]
  },
  {
   "cell_type": "code",
   "execution_count": 2,
   "metadata": {
    "ExecuteTime": {
     "end_time": "2020-03-02T15:40:04.433190+01:00",
     "start_time": "2020-03-02T15:40:04.433190Z"
    }
   },
   "outputs": [
    {
     "data": {
      "text/plain": [
       "1.912160897270181e-05"
      ]
     },
     "execution_count": 2,
     "metadata": {},
     "output_type": "execute_result"
    }
   ],
   "source": [
    "optimizer._initial_pos_x"
   ]
  },
  {
   "cell_type": "code",
   "execution_count": null,
   "metadata": {
    "ExecuteTime": {
     "start_time": "2020-03-02T14:37:32.254Z"
    }
   },
   "outputs": [],
   "source": [
    "# scannerlogic.xy_image[::-1][-1]"
   ]
  },
  {
   "cell_type": "code",
   "execution_count": null,
   "metadata": {
    "ExecuteTime": {
     "start_time": "2020-03-02T14:37:28.990Z"
    }
   },
   "outputs": [],
   "source": [
    "# scannerlogic.xy_image[0]"
   ]
  },
  {
   "cell_type": "code",
   "execution_count": null,
   "metadata": {
    "ExecuteTime": {
     "start_time": "2020-03-02T14:37:25.584Z"
    }
   },
   "outputs": [],
   "source": [
    "# scannerlogic.xy_image[0][::-1]"
   ]
  },
  {
   "cell_type": "code",
   "execution_count": 104,
   "metadata": {
    "ExecuteTime": {
     "end_time": "2020-03-02T15:13:47.887740+01:00",
     "start_time": "2020-03-02T15:13:47.887740Z"
    }
   },
   "outputs": [
    {
     "data": {
      "text/plain": [
       "array([2.09449936e-05, 1.07208609e-05, 5.06500000e-06, 3.36000000e+04])"
      ]
     },
     "execution_count": 104,
     "metadata": {},
     "output_type": "execute_result"
    }
   ],
   "source": [
    "scannerlogic.xy_image[0][-1]"
   ]
  },
  {
   "cell_type": "code",
   "execution_count": null,
   "metadata": {},
   "outputs": [],
   "source": [
    "scannerlogic.xy_image[-1::]"
   ]
  },
  {
   "cell_type": "code",
   "execution_count": 10,
   "metadata": {
    "ExecuteTime": {
     "end_time": "2020-03-02T15:41:50.904431+01:00",
     "start_time": "2020-03-02T15:41:50.904431Z"
    }
   },
   "outputs": [
    {
     "name": "stdout",
     "output_type": "stream",
     "text": [
      "3e-07\n"
     ]
    }
   ],
   "source": [
    "print(optimizer._x_shift)"
   ]
  },
  {
   "cell_type": "code",
   "execution_count": 11,
   "metadata": {
    "ExecuteTime": {
     "end_time": "2020-03-02T15:46:29.633055+01:00",
     "start_time": "2020-03-02T15:46:29.633055Z"
    }
   },
   "outputs": [],
   "source": [
    "\n",
    "optimizer._x_shift = 0\n",
    "optimizer._y_shift = 0"
   ]
  },
  {
   "cell_type": "code",
   "execution_count": null,
   "metadata": {},
   "outputs": [],
   "source": []
  }
 ],
 "metadata": {
  "kernelspec": {
   "display_name": "Qudi",
   "language": "python",
   "name": "qudi"
  },
  "language_info": {
   "codemirror_mode": {
    "name": "ipython",
    "version": "3.6.5"
   },
   "file_extension": ".py",
   "mimetype": "text/x-python",
   "name": "python",
   "nbconvert_exporter": "python",
   "pygments_lexer": "ipython3",
   "version": "3.6.5"
  }
 },
 "nbformat": 4,
 "nbformat_minor": 2
}
