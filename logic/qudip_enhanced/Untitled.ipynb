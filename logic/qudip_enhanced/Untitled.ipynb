{
 "cells": [
  {
   "cell_type": "code",
   "execution_count": null,
   "metadata": {},
   "outputs": [],
   "source": []
  },
  {
   "cell_type": "code",
   "execution_count": null,
   "metadata": {},
   "outputs": [],
   "source": [
    "import pandas as pd\n",
    "df = pd.read_hdf(\"C:/Data/NuclearOps/electron_t2/electron_rabi_calibration/20221117-h15m38s16_electron_rabi_calibration/data.hdf\")\n",
    "df = df[['sweeps', 'average_counts', 'amp', 'mw_duration']]\n",
    "df.rename(columns = {'amp':'amp0'}, inplace = True)"
   ]
  },
  {
   "cell_type": "code",
   "execution_count": null,
   "metadata": {},
   "outputs": [],
   "source": [
    "import lmfit_models\n",
    "import datetime"
   ]
  },
  {
   "cell_type": "code",
   "execution_count": null,
   "metadata": {},
   "outputs": [],
   "source": [
    "# temp_df = pd.DataFrame(columns=['amp0', 'omega', 'average_counts', 'mw_duration'])\n",
    "temp_df = pd.DataFrame(columns=['amp0', 'transition', 'omega','date'])"
   ]
  },
  {
   "cell_type": "code",
   "execution_count": null,
   "metadata": {},
   "outputs": [],
   "source": [
    "for amp in df['amp0'].unique():\n",
    "    print('Ampl ', amp)\n",
    "    sub_df = df[(df['amp0'] == amp)]\n",
    "\n",
    "\n",
    "\n",
    "    # sub_pld = pld[(pld['amp0'] == amp)]\n",
    "    x = sub_df['mw_duration'].unique()\n",
    "    y = sub_df.groupby(by=['mw_duration']).agg({'average_counts': np.mean}).values.ravel()\n",
    "\n",
    "    m = lmfit_models.CosineModel()\n",
    "    p = m.guess(data=y, x=x)\n",
    "    r = m.fit(data=y, params=p, x=x)\n",
    "\n",
    "\n",
    "    temp_df = pd.concat([temp_df, pd.DataFrame({\n",
    "        'amp0': [amp],\n",
    "        # 'omega': 1.0 / sub_pld['T'].mean(),\n",
    "        'transition': [0],\n",
    "\n",
    "        'omega': [1.0 / r.params['T'].value],\n",
    "        # 'average_counts': [y],\n",
    "        # 'mw_duration': [x],\n",
    "\n",
    "        'date': [str(datetime.datetime.now())]\n",
    "    })])\n",
    "\n",
    "f = 'e_rabi_ou350deg-90'\n",
    "temp_df = temp_df[['amp0', 'transition', 'omega', 'date']]\n",
    "\n",
    "print(temp_df)\n",
    "queuelogic.tt.rabi_parameters[f].update_file(temp_df)\n",
    "------------------------------------------------------\n",
    "\n"
   ]
  },
  {
   "cell_type": "code",
   "execution_count": null,
   "metadata": {},
   "outputs": [],
   "source": [
    "x = queuelogic.cun.data.df['mw_duration'].unique()\n",
    "y = queuelogic.cun.data.df.groupby(by = ['mw_duration']).agg({'average_counts': np.mean}).values\n",
    "\n",
    "T = queuelogic.cun.pld.fit_result_table.data['T'] #RabiPeriod\n",
    "queuelogic.tt.rabi_parameters[f].update_file(sub)  ## where sub is dataframe\n",
    "queuelogic.cun.pld.data_fit_results.df\n",
    "data_dict={\n",
    "    'mw_durations' : x,\n",
    "    'average_counts':y,\n",
    "    'omega' : 1.0/T,\n",
    "    # amp0    transition    omega    date\n",
    "\n",
    "}\n",
    "print('-----------')\n",
    "print('x: ')\n",
    "print(x)\n",
    "print('y: ')\n",
    "print(y)\n",
    "print('-----------')\n",
    "\n",
    "    df = nuclear.data.df\n",
    "pld = nuclear.pld.data_fit_results.df\n",
    "df = df[['sweeps', 'average_counts', 'amp', 'mw_duration']]\n",
    "\n",
    "temp_df = pd.DataFrame(columns=['amp0', 'omega', 'average_counts', 'mw_duration'])\n",
    "temp_df = pd.DataFrame(columns=['amp', 'omega', 'transition','date'])\n",
    "for amp in df['amp'].unique():\n",
    "   print('Ampl ', amp)\n",
    "   sub_df = df[(df['amp'] == amp)]\n",
    "   # sub_pld = pld[(pld['amp0'] == amp)]\n",
    "   x = sub_df['mw_duration'].unique()\n",
    "   y = sub_df.groupby(by=['mw_duration']).agg({'average_counts': np.mean}).values.ravel()\n",
    "   m = lmfit_models.CosineModel()\n",
    "   p = m.guess(data=y, x=x)\n",
    "   r = m.fit(data=y, params=p, x=x)\n",
    "   temp_df = pd.concat([temp_df, pd.DataFrame({\n",
    "       'amp0': [amp],\n",
    "        'omega': 1.0 / sub_pld['T'].mean(),\n",
    "       'transition': [0],\n",
    "       'omega': [1.0 / r.params['T'].value],\n",
    "        'average_counts': [y],\n",
    "        'mw_duration': [x],\n",
    "       'date': [str(datetime.datetime.now())]\n",
    "   })])\n",
    "\n",
    "f = 'e_rabi_ou350deg-90'\n",
    "temp_df = temp_df[['amp0', 'transition', 'omega', 'date']]"
   ]
  },
  {
   "cell_type": "code",
   "execution_count": null,
   "metadata": {},
   "outputs": [],
   "source": []
  }
 ],
 "metadata": {
  "kernelspec": {
   "display_name": "Qudi",
   "language": "python",
   "name": "qudi"
  },
  "language_info": {
   "codemirror_mode": {
    "name": "ipython",
    "version": "3.6.5"
   },
   "file_extension": ".py",
   "mimetype": "text/x-python",
   "name": "python",
   "nbconvert_exporter": "python",
   "pygments_lexer": "ipython3",
   "version": "3.6.5"
  }
 },
 "nbformat": 4,
 "nbformat_minor": 2
}
